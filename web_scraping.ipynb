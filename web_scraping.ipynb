{
 "metadata": {
  "language_info": {
   "codemirror_mode": {
    "name": "ipython",
    "version": 3
   },
   "file_extension": ".py",
   "mimetype": "text/x-python",
   "name": "python",
   "nbconvert_exporter": "python",
   "pygments_lexer": "ipython3",
   "version": "3.8.5-final"
  },
  "orig_nbformat": 2,
  "kernelspec": {
   "name": "Python 3.8.5 64-bit",
   "display_name": "Python 3.8.5 64-bit",
   "metadata": {
    "interpreter": {
     "hash": "31f2aee4e71d21fbe5cf8b01ff0e069b9275f58929596ceb00d14d90e3e16cd6"
    }
   }
  }
 },
 "nbformat": 4,
 "nbformat_minor": 2,
 "cells": [
  {
   "cell_type": "code",
   "execution_count": 13,
   "metadata": {
    "tags": []
   },
   "outputs": [],
   "source": [
    "from bs4 import BeautifulSoup\n",
    "import requests\n",
    "import json\n",
    "import cv2\n",
    "import numpy as np\n",
    "import os"
   ]
  },
  {
   "cell_type": "code",
   "execution_count": 2,
   "metadata": {},
   "outputs": [],
   "source": [
    "with open('Word_Segmentation/files/Dictionary.json') as d_file:\n",
    "    dict_ = json.load(d_file)"
   ]
  },
  {
   "cell_type": "code",
   "execution_count": 68,
   "metadata": {},
   "outputs": [
    {
     "output_type": "stream",
     "name": "stdout",
     "text": [
      "https://pubchem.ncbi.nlm.nih.gov/image/imgsrv.fcgi?cid=687061&t=l\n"
     ]
    }
   ],
   "source": [
    "url = 'https://pubchem.ncbi.nlm.nih.gov/compound/(3S)-2,3-dihydro-1,4-benzodioxine-3-carboxylic%20acid#section=2D-Structure&fullscreen=true'\n",
    "\n",
    "with requests.Session() as req:\n",
    "    resp = req.get(url)\n",
    "    html = BeautifulSoup(resp.text, 'html.parser')\n",
    "\n",
    "#print(html.prettify()[:2000])\n",
    "img_tag = html.find('meta', {'property': \"og:image\"})\n",
    "print(img_tag['content'])"
   ]
  },
  {
   "cell_type": "code",
   "execution_count": 99,
   "metadata": {},
   "outputs": [],
   "source": []
  },
  {
   "cell_type": "code",
   "execution_count": 100,
   "metadata": {},
   "outputs": [
    {
     "output_type": "execute_result",
     "data": {
      "text/plain": [
       "<matplotlib.image.AxesImage at 0x7f6001bbc940>"
      ]
     },
     "metadata": {},
     "execution_count": 100
    },
    {
     "output_type": "display_data",
     "data": {
      "text/plain": "<Figure size 432x288 with 1 Axes>",
      "image/svg+xml": "<?xml version=\"1.0\" encoding=\"utf-8\" standalone=\"no\"?>\n<!DOCTYPE svg PUBLIC \"-//W3C//DTD SVG 1.1//EN\"\n  \"http://www.w3.org/Graphics/SVG/1.1/DTD/svg11.dtd\">\n<!-- Created with matplotlib (https://matplotlib.org/) -->\n<svg height=\"251.831987pt\" version=\"1.1\" viewBox=\"0 0 257.9275 251.831987\" width=\"257.9275pt\" xmlns=\"http://www.w3.org/2000/svg\" xmlns:xlink=\"http://www.w3.org/1999/xlink\">\n <metadata>\n  <rdf:RDF xmlns:cc=\"http://creativecommons.org/ns#\" xmlns:dc=\"http://purl.org/dc/elements/1.1/\" xmlns:rdf=\"http://www.w3.org/1999/02/22-rdf-syntax-ns#\">\n   <cc:Work>\n    <dc:type rdf:resource=\"http://purl.org/dc/dcmitype/StillImage\"/>\n    <dc:date>2020-10-18T22:42:42.736188</dc:date>\n    <dc:format>image/svg+xml</dc:format>\n    <dc:creator>\n     <cc:Agent>\n      <dc:title>Matplotlib v3.3.2, https://matplotlib.org/</dc:title>\n     </cc:Agent>\n    </dc:creator>\n   </cc:Work>\n  </rdf:RDF>\n </metadata>\n <defs>\n  <style type=\"text/css\">*{stroke-linecap:butt;stroke-linejoin:round;}</style>\n </defs>\n <g id=\"figure_1\">\n  <g id=\"patch_1\">\n   <path d=\"M 0 251.831987 \nL 257.9275 251.831987 \nL 257.9275 0 \nL 0 0 \nz\n\" style=\"fill:none;\"/>\n  </g>\n  <g id=\"axes_1\">\n   <g id=\"patch_2\">\n    <path d=\"M 33.2875 227.953862 \nL 250.7275 227.953862 \nL 250.7275 10.513862 \nL 33.2875 10.513862 \nz\n\" style=\"fill:#ffffff;\"/>\n   </g>\n   <g clip-path=\"url(#p517b520297)\">\n    <image height=\"218\" id=\"image69bd2f5e79\" transform=\"scale(1 -1)translate(0 -218)\" width=\"218\" x=\"33.2875\" xlink:href=\"data:image/png;base64,\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\" y=\"-9.953862\"/>\n   </g>\n   <g id=\"matplotlib.axis_1\">\n    <g id=\"xtick_1\">\n     <g id=\"line2d_1\">\n      <defs>\n       <path d=\"M 0 0 \nL 0 3.5 \n\" id=\"m6148cdb22d\" style=\"stroke:#000000;stroke-width:0.8;\"/>\n      </defs>\n      <g>\n       <use style=\"stroke:#000000;stroke-width:0.8;\" x=\"33.772857\" xlink:href=\"#m6148cdb22d\" y=\"227.953862\"/>\n      </g>\n     </g>\n     <g id=\"text_1\">\n      <!-- 0 -->\n      <g transform=\"translate(30.591607 242.552299)scale(0.1 -0.1)\">\n       <defs>\n        <path d=\"M 31.78125 66.40625 \nQ 24.171875 66.40625 20.328125 58.90625 \nQ 16.5 51.421875 16.5 36.375 \nQ 16.5 21.390625 20.328125 13.890625 \nQ 24.171875 6.390625 31.78125 6.390625 \nQ 39.453125 6.390625 43.28125 13.890625 \nQ 47.125 21.390625 47.125 36.375 \nQ 47.125 51.421875 43.28125 58.90625 \nQ 39.453125 66.40625 31.78125 66.40625 \nz\nM 31.78125 74.21875 \nQ 44.046875 74.21875 50.515625 64.515625 \nQ 56.984375 54.828125 56.984375 36.375 \nQ 56.984375 17.96875 50.515625 8.265625 \nQ 44.046875 -1.421875 31.78125 -1.421875 \nQ 19.53125 -1.421875 13.0625 8.265625 \nQ 6.59375 17.96875 6.59375 36.375 \nQ 6.59375 54.828125 13.0625 64.515625 \nQ 19.53125 74.21875 31.78125 74.21875 \nz\n\" id=\"DejaVuSans-48\"/>\n       </defs>\n       <use xlink:href=\"#DejaVuSans-48\"/>\n      </g>\n     </g>\n    </g>\n    <g id=\"xtick_2\">\n     <g id=\"line2d_2\">\n      <g>\n       <use style=\"stroke:#000000;stroke-width:0.8;\" x=\"82.308571\" xlink:href=\"#m6148cdb22d\" y=\"227.953862\"/>\n      </g>\n     </g>\n     <g id=\"text_2\">\n      <!-- 50 -->\n      <g transform=\"translate(75.946071 242.552299)scale(0.1 -0.1)\">\n       <defs>\n        <path d=\"M 10.796875 72.90625 \nL 49.515625 72.90625 \nL 49.515625 64.59375 \nL 19.828125 64.59375 \nL 19.828125 46.734375 \nQ 21.96875 47.46875 24.109375 47.828125 \nQ 26.265625 48.1875 28.421875 48.1875 \nQ 40.625 48.1875 47.75 41.5 \nQ 54.890625 34.8125 54.890625 23.390625 \nQ 54.890625 11.625 47.5625 5.09375 \nQ 40.234375 -1.421875 26.90625 -1.421875 \nQ 22.3125 -1.421875 17.546875 -0.640625 \nQ 12.796875 0.140625 7.71875 1.703125 \nL 7.71875 11.625 \nQ 12.109375 9.234375 16.796875 8.0625 \nQ 21.484375 6.890625 26.703125 6.890625 \nQ 35.15625 6.890625 40.078125 11.328125 \nQ 45.015625 15.765625 45.015625 23.390625 \nQ 45.015625 31 40.078125 35.4375 \nQ 35.15625 39.890625 26.703125 39.890625 \nQ 22.75 39.890625 18.8125 39.015625 \nQ 14.890625 38.140625 10.796875 36.28125 \nz\n\" id=\"DejaVuSans-53\"/>\n       </defs>\n       <use xlink:href=\"#DejaVuSans-53\"/>\n       <use x=\"63.623047\" xlink:href=\"#DejaVuSans-48\"/>\n      </g>\n     </g>\n    </g>\n    <g id=\"xtick_3\">\n     <g id=\"line2d_3\">\n      <g>\n       <use style=\"stroke:#000000;stroke-width:0.8;\" x=\"130.844286\" xlink:href=\"#m6148cdb22d\" y=\"227.953862\"/>\n      </g>\n     </g>\n     <g id=\"text_3\">\n      <!-- 100 -->\n      <g transform=\"translate(121.300536 242.552299)scale(0.1 -0.1)\">\n       <defs>\n        <path d=\"M 12.40625 8.296875 \nL 28.515625 8.296875 \nL 28.515625 63.921875 \nL 10.984375 60.40625 \nL 10.984375 69.390625 \nL 28.421875 72.90625 \nL 38.28125 72.90625 \nL 38.28125 8.296875 \nL 54.390625 8.296875 \nL 54.390625 0 \nL 12.40625 0 \nz\n\" id=\"DejaVuSans-49\"/>\n       </defs>\n       <use xlink:href=\"#DejaVuSans-49\"/>\n       <use x=\"63.623047\" xlink:href=\"#DejaVuSans-48\"/>\n       <use x=\"127.246094\" xlink:href=\"#DejaVuSans-48\"/>\n      </g>\n     </g>\n    </g>\n    <g id=\"xtick_4\">\n     <g id=\"line2d_4\">\n      <g>\n       <use style=\"stroke:#000000;stroke-width:0.8;\" x=\"179.38\" xlink:href=\"#m6148cdb22d\" y=\"227.953862\"/>\n      </g>\n     </g>\n     <g id=\"text_4\">\n      <!-- 150 -->\n      <g transform=\"translate(169.83625 242.552299)scale(0.1 -0.1)\">\n       <use xlink:href=\"#DejaVuSans-49\"/>\n       <use x=\"63.623047\" xlink:href=\"#DejaVuSans-53\"/>\n       <use x=\"127.246094\" xlink:href=\"#DejaVuSans-48\"/>\n      </g>\n     </g>\n    </g>\n    <g id=\"xtick_5\">\n     <g id=\"line2d_5\">\n      <g>\n       <use style=\"stroke:#000000;stroke-width:0.8;\" x=\"227.915714\" xlink:href=\"#m6148cdb22d\" y=\"227.953862\"/>\n      </g>\n     </g>\n     <g id=\"text_5\">\n      <!-- 200 -->\n      <g transform=\"translate(218.371964 242.552299)scale(0.1 -0.1)\">\n       <defs>\n        <path d=\"M 19.1875 8.296875 \nL 53.609375 8.296875 \nL 53.609375 0 \nL 7.328125 0 \nL 7.328125 8.296875 \nQ 12.9375 14.109375 22.625 23.890625 \nQ 32.328125 33.6875 34.8125 36.53125 \nQ 39.546875 41.84375 41.421875 45.53125 \nQ 43.3125 49.21875 43.3125 52.78125 \nQ 43.3125 58.59375 39.234375 62.25 \nQ 35.15625 65.921875 28.609375 65.921875 \nQ 23.96875 65.921875 18.8125 64.3125 \nQ 13.671875 62.703125 7.8125 59.421875 \nL 7.8125 69.390625 \nQ 13.765625 71.78125 18.9375 73 \nQ 24.125 74.21875 28.421875 74.21875 \nQ 39.75 74.21875 46.484375 68.546875 \nQ 53.21875 62.890625 53.21875 53.421875 \nQ 53.21875 48.921875 51.53125 44.890625 \nQ 49.859375 40.875 45.40625 35.40625 \nQ 44.1875 33.984375 37.640625 27.21875 \nQ 31.109375 20.453125 19.1875 8.296875 \nz\n\" id=\"DejaVuSans-50\"/>\n       </defs>\n       <use xlink:href=\"#DejaVuSans-50\"/>\n       <use x=\"63.623047\" xlink:href=\"#DejaVuSans-48\"/>\n       <use x=\"127.246094\" xlink:href=\"#DejaVuSans-48\"/>\n      </g>\n     </g>\n    </g>\n   </g>\n   <g id=\"matplotlib.axis_2\">\n    <g id=\"ytick_1\">\n     <g id=\"line2d_6\">\n      <defs>\n       <path d=\"M 0 0 \nL -3.5 0 \n\" id=\"maf37fb31b5\" style=\"stroke:#000000;stroke-width:0.8;\"/>\n      </defs>\n      <g>\n       <use style=\"stroke:#000000;stroke-width:0.8;\" x=\"33.2875\" xlink:href=\"#maf37fb31b5\" y=\"10.999219\"/>\n      </g>\n     </g>\n     <g id=\"text_6\">\n      <!-- 0 -->\n      <g transform=\"translate(19.925 14.798437)scale(0.1 -0.1)\">\n       <use xlink:href=\"#DejaVuSans-48\"/>\n      </g>\n     </g>\n    </g>\n    <g id=\"ytick_2\">\n     <g id=\"line2d_7\">\n      <g>\n       <use style=\"stroke:#000000;stroke-width:0.8;\" x=\"33.2875\" xlink:href=\"#maf37fb31b5\" y=\"35.267076\"/>\n      </g>\n     </g>\n     <g id=\"text_7\">\n      <!-- 25 -->\n      <g transform=\"translate(13.5625 39.066295)scale(0.1 -0.1)\">\n       <use xlink:href=\"#DejaVuSans-50\"/>\n       <use x=\"63.623047\" xlink:href=\"#DejaVuSans-53\"/>\n      </g>\n     </g>\n    </g>\n    <g id=\"ytick_3\">\n     <g id=\"line2d_8\">\n      <g>\n       <use style=\"stroke:#000000;stroke-width:0.8;\" x=\"33.2875\" xlink:href=\"#maf37fb31b5\" y=\"59.534933\"/>\n      </g>\n     </g>\n     <g id=\"text_8\">\n      <!-- 50 -->\n      <g transform=\"translate(13.5625 63.334152)scale(0.1 -0.1)\">\n       <use xlink:href=\"#DejaVuSans-53\"/>\n       <use x=\"63.623047\" xlink:href=\"#DejaVuSans-48\"/>\n      </g>\n     </g>\n    </g>\n    <g id=\"ytick_4\">\n     <g id=\"line2d_9\">\n      <g>\n       <use style=\"stroke:#000000;stroke-width:0.8;\" x=\"33.2875\" xlink:href=\"#maf37fb31b5\" y=\"83.80279\"/>\n      </g>\n     </g>\n     <g id=\"text_9\">\n      <!-- 75 -->\n      <g transform=\"translate(13.5625 87.602009)scale(0.1 -0.1)\">\n       <defs>\n        <path d=\"M 8.203125 72.90625 \nL 55.078125 72.90625 \nL 55.078125 68.703125 \nL 28.609375 0 \nL 18.3125 0 \nL 43.21875 64.59375 \nL 8.203125 64.59375 \nz\n\" id=\"DejaVuSans-55\"/>\n       </defs>\n       <use xlink:href=\"#DejaVuSans-55\"/>\n       <use x=\"63.623047\" xlink:href=\"#DejaVuSans-53\"/>\n      </g>\n     </g>\n    </g>\n    <g id=\"ytick_5\">\n     <g id=\"line2d_10\">\n      <g>\n       <use style=\"stroke:#000000;stroke-width:0.8;\" x=\"33.2875\" xlink:href=\"#maf37fb31b5\" y=\"108.070647\"/>\n      </g>\n     </g>\n     <g id=\"text_10\">\n      <!-- 100 -->\n      <g transform=\"translate(7.2 111.869866)scale(0.1 -0.1)\">\n       <use xlink:href=\"#DejaVuSans-49\"/>\n       <use x=\"63.623047\" xlink:href=\"#DejaVuSans-48\"/>\n       <use x=\"127.246094\" xlink:href=\"#DejaVuSans-48\"/>\n      </g>\n     </g>\n    </g>\n    <g id=\"ytick_6\">\n     <g id=\"line2d_11\">\n      <g>\n       <use style=\"stroke:#000000;stroke-width:0.8;\" x=\"33.2875\" xlink:href=\"#maf37fb31b5\" y=\"132.338504\"/>\n      </g>\n     </g>\n     <g id=\"text_11\">\n      <!-- 125 -->\n      <g transform=\"translate(7.2 136.137723)scale(0.1 -0.1)\">\n       <use xlink:href=\"#DejaVuSans-49\"/>\n       <use x=\"63.623047\" xlink:href=\"#DejaVuSans-50\"/>\n       <use x=\"127.246094\" xlink:href=\"#DejaVuSans-53\"/>\n      </g>\n     </g>\n    </g>\n    <g id=\"ytick_7\">\n     <g id=\"line2d_12\">\n      <g>\n       <use style=\"stroke:#000000;stroke-width:0.8;\" x=\"33.2875\" xlink:href=\"#maf37fb31b5\" y=\"156.606362\"/>\n      </g>\n     </g>\n     <g id=\"text_12\">\n      <!-- 150 -->\n      <g transform=\"translate(7.2 160.40558)scale(0.1 -0.1)\">\n       <use xlink:href=\"#DejaVuSans-49\"/>\n       <use x=\"63.623047\" xlink:href=\"#DejaVuSans-53\"/>\n       <use x=\"127.246094\" xlink:href=\"#DejaVuSans-48\"/>\n      </g>\n     </g>\n    </g>\n    <g id=\"ytick_8\">\n     <g id=\"line2d_13\">\n      <g>\n       <use style=\"stroke:#000000;stroke-width:0.8;\" x=\"33.2875\" xlink:href=\"#maf37fb31b5\" y=\"180.874219\"/>\n      </g>\n     </g>\n     <g id=\"text_13\">\n      <!-- 175 -->\n      <g transform=\"translate(7.2 184.673437)scale(0.1 -0.1)\">\n       <use xlink:href=\"#DejaVuSans-49\"/>\n       <use x=\"63.623047\" xlink:href=\"#DejaVuSans-55\"/>\n       <use x=\"127.246094\" xlink:href=\"#DejaVuSans-53\"/>\n      </g>\n     </g>\n    </g>\n    <g id=\"ytick_9\">\n     <g id=\"line2d_14\">\n      <g>\n       <use style=\"stroke:#000000;stroke-width:0.8;\" x=\"33.2875\" xlink:href=\"#maf37fb31b5\" y=\"205.142076\"/>\n      </g>\n     </g>\n     <g id=\"text_14\">\n      <!-- 200 -->\n      <g transform=\"translate(7.2 208.941295)scale(0.1 -0.1)\">\n       <use xlink:href=\"#DejaVuSans-50\"/>\n       <use x=\"63.623047\" xlink:href=\"#DejaVuSans-48\"/>\n       <use x=\"127.246094\" xlink:href=\"#DejaVuSans-48\"/>\n      </g>\n     </g>\n    </g>\n   </g>\n   <g id=\"patch_3\">\n    <path d=\"M 33.2875 227.953862 \nL 33.2875 10.513862 \n\" style=\"fill:none;stroke:#000000;stroke-linecap:square;stroke-linejoin:miter;stroke-width:0.8;\"/>\n   </g>\n   <g id=\"patch_4\">\n    <path d=\"M 250.7275 227.953862 \nL 250.7275 10.513862 \n\" style=\"fill:none;stroke:#000000;stroke-linecap:square;stroke-linejoin:miter;stroke-width:0.8;\"/>\n   </g>\n   <g id=\"patch_5\">\n    <path d=\"M 33.2875 227.953862 \nL 250.7275 227.953862 \n\" style=\"fill:none;stroke:#000000;stroke-linecap:square;stroke-linejoin:miter;stroke-width:0.8;\"/>\n   </g>\n   <g id=\"patch_6\">\n    <path d=\"M 33.2875 10.513862 \nL 250.7275 10.513862 \n\" style=\"fill:none;stroke:#000000;stroke-linecap:square;stroke-linejoin:miter;stroke-width:0.8;\"/>\n   </g>\n  </g>\n </g>\n <defs>\n  <clipPath id=\"p517b520297\">\n   <rect height=\"217.44\" width=\"217.44\" x=\"33.2875\" y=\"10.513862\"/>\n  </clipPath>\n </defs>\n</svg>\n",
      "image/png": "[encoded data removed]"
     },
     "metadata": {
      "needs_background": "light"
     }
    }
   ],
   "source": [
    "plt.imshow(image)"
   ]
  },
  {
   "cell_type": "code",
   "execution_count": 1,
   "metadata": {},
   "outputs": [],
   "source": [
    "def add_img(path, compound):\n",
    "    compound = compound.replace(' ', '%20')\n",
    "    while True:\n",
    "        try:\n",
    "            with requests.Session() as html_req:\n",
    "                html_resp = html_req.get('https://pubchem.ncbi.nlm.nih.gov/compound/compound#section=2D-Structure&fullscreen=true')\n",
    "                html = BeautifulSoup(html_resp.text, 'html.parser')\n",
    "            img_tag = html.find(\"meta\", {\"preperty\": \"og:url\"})\n",
    "            \n",
    "            with requests.Session() as pic_req:\n",
    "                pic_resp = pic_req.get(img_tag['content'])\n",
    "                \n",
    "                image = np.asarray(bytearray(pic_resp.content), dtype='uint8')\n",
    "            image = cv2.imdecode(image, cv2.IMREAD_COLOR)\n",
    "            image = cv2.resize(image, dsize=(224, 224), interpolation=cv2.INTER_LANCZOS4)\n",
    "\n",
    "        except Exception as e:\n",
    "            print(compound)\n",
    "            print(e)\n",
    "            continue\n",
    "        break\n",
    "        "
   ]
  },
  {
   "cell_type": "code",
   "execution_count": 4,
   "metadata": {},
   "outputs": [
    {
     "output_type": "stream",
     "name": "stdout",
     "text": [
      "methane\n",
      "HTTPSConnectionPool(host='pubchem.ncbi.nlm.nih.gov', port=443): Max retries exceeded with url: /compound/compound (Caused by NewConnectionError('<urllib3.connection.VerifiedHTTPSConnection object at 0x7f952468e280>: Failed to establish a new connection: [Errno 101] Network is unreachable'))\n",
      "1.120854\n",
      "1.054167\n",
      "1.335043\n",
      "1.100261\n",
      "1.169349\n",
      "hexane\n",
      "HTTPSConnectionPool(host='pubchem.ncbi.nlm.nih.gov', port=443): Max retries exceeded with url: /compound/compound (Caused by NewConnectionError('<urllib3.connection.VerifiedHTTPSConnection object at 0x7f952468e3d0>: Failed to establish a new connection: [Errno -3] Temporary failure in name resolution'))\n",
      "3.915405\n",
      "heptane\n",
      "HTTPSConnectionPool(host='pubchem.ncbi.nlm.nih.gov', port=443): Max retries exceeded with url: /compound/compound (Caused by NewConnectionError('<urllib3.connection.VerifiedHTTPSConnection object at 0x7f952468e580>: Failed to establish a new connection: [Errno -3] Temporary failure in name resolution'))\n",
      "2.262373\n",
      "octane\n",
      "HTTPSConnectionPool(host='pubchem.ncbi.nlm.nih.gov', port=443): Max retries exceeded with url: /compound/compound (Caused by NewConnectionError('<urllib3.connection.VerifiedHTTPSConnection object at 0x7f952468e7c0>: Failed to establish a new connection: [Errno -3] Temporary failure in name resolution'))\n",
      "1.495771\n",
      "nonane\n",
      "HTTPSConnectionPool(host='pubchem.ncbi.nlm.nih.gov', port=443): Max retries exceeded with url: /compound/compound (Caused by NewConnectionError('<urllib3.connection.VerifiedHTTPSConnection object at 0x7f952468e670>: Failed to establish a new connection: [Errno -3] Temporary failure in name resolution'))\n",
      "7.848163\n",
      "1.09401\n",
      "1.058551\n",
      "1.162039\n",
      "1.097716\n",
      "1.095327\n",
      "1.061991\n",
      "1.09103\n",
      "1.15283\n",
      "1.225696\n",
      "1.071535\n",
      "1.059868\n",
      "1.112733\n",
      "1.054501\n",
      "1.255568\n",
      "1.078473\n",
      "1.060969\n",
      "1.079579\n",
      "1.062146\n",
      "1.07063\n",
      "1.063483\n",
      "1.101028\n",
      "1.071179\n",
      "1.078389\n",
      "1.075085\n",
      "1.095657\n",
      "1.05333\n",
      "1.155467\n",
      "1.119195\n",
      "1.143316\n",
      "1.102247\n",
      "1.0883\n",
      "1.115673\n",
      "1.14215\n",
      "1.088096\n",
      "1.102741\n",
      "1.055527\n",
      "1.151094\n",
      "1.068058\n",
      "1.096797\n",
      "1.141487\n",
      "1.096218\n",
      "1.121382\n",
      "1.061747\n",
      "1.056704\n",
      "1.088937\n",
      "1.062471\n",
      "1.06419\n",
      "1.085306\n",
      "1.066036\n",
      "1.098764\n",
      "1.098074\n",
      "1.088241\n",
      "1.395848\n",
      "1.143261\n",
      "1.061063\n",
      "1.15069\n",
      "1.091656\n",
      "1.148676\n",
      "1.060162\n",
      "1.089416\n",
      "1.109541\n",
      "1.054027\n",
      "1.063628\n",
      "1.063871\n",
      "6.929332\n",
      "1.107837\n",
      "1.145843\n",
      "1.063113\n",
      "1.098268\n",
      "1.066966\n",
      "1.126533\n",
      "1.056708\n"
     ]
    }
   ],
   "source": [
    "folder_path = 'kme_datasets/'\n",
    "for key, value in dict_.items():\n",
    "    if not os.path.exists(folder_path+key):\n",
    "        os.makedirs(folder_path+key)\n",
    "    for compound in value:\n",
    "        add_img(folder_path+key, compound)"
   ]
  }
 ]
}