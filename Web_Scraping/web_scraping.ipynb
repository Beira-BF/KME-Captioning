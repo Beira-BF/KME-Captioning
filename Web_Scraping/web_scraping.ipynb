{
  "nbformat": 4,
  "nbformat_minor": 0,
  "metadata": {
    "accelerator": "GPU",
    "colab": {
      "name": "Web_scraping.ipynb",
      "provenance": [],
      "collapsed_sections": [],
      "machine_shape": "hm"
    },
    "kernelspec": {
      "display_name": "Python 3",
      "name": "python3"
    }
  },
  "cells": [
    {
      "cell_type": "code",
      "metadata": {
        "id": "7JaEijj2soZf"
      },
      "source": [
        "from bs4 import BeautifulSoup\n",
        "import requests\n",
        "import json\n",
        "import cv2\n",
        "import numpy as np\n",
        "import os\n",
        "from PIL import Image\n",
        "import matplotlib.pyplot as plt"
      ],
      "execution_count": null,
      "outputs": []
    },
    {
      "cell_type": "code",
      "metadata": {
        "id": "PgDmYwHKl7lG",
        "outputId": "1e109fcc-736b-4d8f-eb2a-bf4808c5cfc8",
        "colab": {
          "base_uri": "https://localhost:8080/",
          "height": 84
        }
      },
      "source": [
        "!pip install cupy-cuda101\n",
        "import cupy as cp"
      ],
      "execution_count": null,
      "outputs": [
        {
          "output_type": "stream",
          "text": [
            "Requirement already satisfied: cupy-cuda101 in /usr/local/lib/python3.6/dist-packages (7.4.0)\n",
            "Requirement already satisfied: fastrlock>=0.3 in /usr/local/lib/python3.6/dist-packages (from cupy-cuda101) (0.5)\n",
            "Requirement already satisfied: six>=1.9.0 in /usr/local/lib/python3.6/dist-packages (from cupy-cuda101) (1.15.0)\n",
            "Requirement already satisfied: numpy>=1.9.0 in /usr/local/lib/python3.6/dist-packages (from cupy-cuda101) (1.18.5)\n"
          ],
          "name": "stdout"
        }
      ]
    },
    {
      "cell_type": "markdown",
      "metadata": {
        "id": "hCfakesFPAwz"
      },
      "source": [
        "# Load dict"
      ]
    },
    {
      "cell_type": "code",
      "metadata": {
        "id": "9P6LkhPiUiXh"
      },
      "source": [
        "dict_url = 'https://firebasestorage.googleapis.com/v0/b/ysc-kme-25095.appspot.com/o/Dict_segment.json?alt=media&token=65014357-fe20-4d0b-8e81-cd0ca5be04ca'\n",
        "dict_cut_url = 'https://firebasestorage.googleapis.com/v0/b/ysc-kme-25095.appspot.com/o/Dict_segment_cut.json?alt=media&token=f0fe1898-76df-4708-a7c1-ca41397b4152'\n",
        "dict_ciid_url = 'https://firebasestorage.googleapis.com/v0/b/ysc-kme-25095.appspot.com/o/Dict_segment_ciid.json?alt=media&token=830017dd-28af-4d85-9545-c00f8ac3d3f6'\n",
        "\n",
        "with requests.Session() as req:\n",
        "  resp = req.get(dict_url)\n",
        "  dict_ = resp.json()\n",
        "\n",
        "with requests.Session() as req:\n",
        "  resp = req.get(dict_cut_url)\n",
        "  dict_cut = resp.json()\n",
        "\n",
        "with requests.Session() as req:\n",
        "  resp = req.get(dict_ciid_url)\n",
        "  dict_ciid = resp.json()"
      ],
      "execution_count": null,
      "outputs": []
    },
    {
      "cell_type": "markdown",
      "metadata": {
        "id": "MbI5pKcYLNBh"
      },
      "source": [
        "# Main"
      ]
    },
    {
      "cell_type": "code",
      "metadata": {
        "id": "SKGLfjAXde7u"
      },
      "source": [
        "def write_log(compound):\n",
        "  with open('log.txt','a') as text_file:\n",
        "    text_file.write(compound+'\\n')"
      ],
      "execution_count": null,
      "outputs": []
    },
    {
      "cell_type": "code",
      "metadata": {
        "id": "Pbohstgo2MI4"
      },
      "source": [
        "def concat_dataset(dataset, compound):\n",
        "  if dataset.shape[0] == 0:\n",
        "    return compound\n",
        "  else:\n",
        "    return cp.concatenate((dataset, compound), axis=0)"
      ],
      "execution_count": null,
      "outputs": []
    },
    {
      "cell_type": "markdown",
      "metadata": {
        "id": "THMSwf60LH0C"
      },
      "source": [
        "## Add img (request url & image)"
      ]
    },
    {
      "cell_type": "code",
      "metadata": {
        "id": "TCfLudGKSsWR"
      },
      "source": [
        "def add_img(dataset, path, key, ciid, compound, compound_cut, save_img = False):\n",
        "  compound_name = compound.replace(' ', '%20')\n",
        "\n",
        "  html_page = 'https://pubchem.ncbi.nlm.nih.gov/compound/'+ciid+'#section=2D-Structure&fullscreen=true'\n",
        "  while True:\n",
        "    try:\n",
        "      with requests.Session() as html_req:\n",
        "        html_resp = html_req.get(html_page)\n",
        "        if html_resp.status_code == 404:\n",
        "          print(compound, compound_cut,'not found')\n",
        "          return 1, dataset\n",
        "        html = BeautifulSoup(html_resp.text, 'html.parser')\n",
        "                  \n",
        "        img_tag = html.find(\"meta\", attrs={'property': \"og:image\"})['content']\n",
        "        \n",
        "        with requests.Session() as pic_req:\n",
        "          pic_resp = pic_req.get(img_tag)\n",
        "          image = np.asarray(bytearray(pic_resp.content), dtype='uint8')\n",
        "        image = cv2.imdecode(image, cv2.IMREAD_COLOR)\n",
        "        \n",
        "        image = cv2.resize(image, dsize=(224, 224), interpolation=cv2.INTER_LANCZOS4)\n",
        "        \n",
        "        if save_img:\n",
        "          Image.fromarray(image).save(path+key+'/'+compound.replace(' ','_')+'.jpg')\n",
        "            \n",
        "        dataset = concat_dataset(dataset, cp.array(image.reshape(1, 224, 224, 3)))\n",
        "        return 0, dataset\n",
        "    except Exception as e:\n",
        "      print(compound, compound_cut)\n",
        "      print(e)\n",
        "      continue\n",
        "    break"
      ],
      "execution_count": null,
      "outputs": []
    },
    {
      "cell_type": "markdown",
      "metadata": {
        "id": "qvVBSOSSLPx1"
      },
      "source": [
        "## Run function"
      ]
    },
    {
      "cell_type": "code",
      "metadata": {
        "id": "LOyBhrfTvOD1",
        "outputId": "c4176207-7794-4fc7-8123-aaa1f0676085",
        "colab": {
          "base_uri": "https://localhost:8080/",
          "height": 1000
        }
      },
      "source": [
        "folder_path = 'kme_datasets/'\n",
        "count = 0\n",
        "total = 0\n",
        "total_loss = 0\n",
        "dataset = cp.array([])\n",
        "\n",
        "for key in dict_.keys():\n",
        "  if not os.path.exists(folder_path+key):\n",
        "    os.makedirs(folder_path+key)\n",
        "  for i in range(len(dict_[key])):\n",
        "    plus, dataset = add_img(dataset, folder_path, key, dict_ciid[key][i], dict_[key][i], dict_cut[key][i])\n",
        "    count += plus\n",
        "\n",
        "  print(dataset.shape)\n",
        "  print('-'*25)\n",
        "  print(key,'loss:',plus,'from:',len(dict_[key]))\n",
        "  print('-'*25)\n",
        "  total_loss += count\n",
        "  total += len(dict_[key])\n",
        "  count -= count\n",
        "\n",
        "print(\"Total loss\",total_loss,\"from\",total)"
      ],
      "execution_count": null,
      "outputs": [
        {
          "output_type": "stream",
          "text": [
            "(10, 224, 224, 3)\n",
            "-------------------------\n",
            "alkane loss: 0 from: 10\n",
            "-------------------------\n",
            "(38, 224, 224, 3)\n",
            "-------------------------\n",
            "alkane_alkyl loss: 0 from: 28\n",
            "-------------------------\n",
            "(46, 224, 224, 3)\n",
            "-------------------------\n",
            "cyclo_alkane loss: 0 from: 8\n",
            "-------------------------\n",
            "(61, 224, 224, 3)\n",
            "-------------------------\n",
            "cyclo_alkane_alkyl loss: 0 from: 15\n",
            "-------------------------\n",
            "(86, 224, 224, 3)\n",
            "-------------------------\n",
            "alkene loss: 0 from: 25\n",
            "-------------------------\n",
            "(96, 224, 224, 3)\n",
            "-------------------------\n",
            "alkene_alkyl loss: 0 from: 10\n",
            "-------------------------\n",
            "(165, 224, 224, 3)\n",
            "-------------------------\n",
            "dialkene loss: 0 from: 69\n",
            "-------------------------\n",
            "(173, 224, 224, 3)\n",
            "-------------------------\n",
            "cyclo_alkene loss: 0 from: 8\n",
            "-------------------------\n",
            "(175, 224, 224, 3)\n",
            "-------------------------\n",
            "cyclo_alkene_alkyl loss: 0 from: 2\n",
            "-------------------------\n",
            "(184, 224, 224, 3)\n",
            "-------------------------\n",
            "alkyne loss: 0 from: 9\n",
            "-------------------------\n",
            "(188, 224, 224, 3)\n",
            "-------------------------\n",
            "alkyne_alkyl loss: 0 from: 4\n",
            "-------------------------\n",
            "(232, 224, 224, 3)\n",
            "-------------------------\n",
            "dialkyne loss: 0 from: 44\n",
            "-------------------------\n",
            "(240, 224, 224, 3)\n",
            "-------------------------\n",
            "cyclo_alkyne loss: 0 from: 8\n",
            "-------------------------\n",
            "(250, 224, 224, 3)\n",
            "-------------------------\n",
            "benzene loss: 0 from: 10\n",
            "-------------------------\n",
            "(285, 224, 224, 3)\n",
            "-------------------------\n",
            "benzene_alkyl loss: 0 from: 35\n",
            "-------------------------\n",
            "(321, 224, 224, 3)\n",
            "-------------------------\n",
            "alcohol loss: 0 from: 36\n",
            "-------------------------\n",
            "(359, 224, 224, 3)\n",
            "-------------------------\n",
            "ether loss: 0 from: 38\n",
            "-------------------------\n",
            "(388, 224, 224, 3)\n",
            "-------------------------\n",
            "aldehyde loss: 0 from: 29\n",
            "-------------------------\n",
            "(410, 224, 224, 3)\n",
            "-------------------------\n",
            "ketone loss: 0 from: 22\n",
            "-------------------------\n",
            "(449, 224, 224, 3)\n",
            "-------------------------\n",
            "carboxylic_acid loss: 0 from: 39\n",
            "-------------------------\n",
            "(493, 224, 224, 3)\n",
            "-------------------------\n",
            "ester loss: 0 from: 44\n",
            "-------------------------\n",
            "(535, 224, 224, 3)\n",
            "-------------------------\n",
            "amide loss: 0 from: 42\n",
            "-------------------------\n",
            "(553, 224, 224, 3)\n",
            "-------------------------\n",
            "amine loss: 0 from: 18\n",
            "-------------------------\n",
            "(577, 224, 224, 3)\n",
            "-------------------------\n",
            "benzodioxole loss: 0 from: 24\n",
            "-------------------------\n",
            "(635, 224, 224, 3)\n",
            "-------------------------\n",
            "mixed loss: 0 from: 58\n",
            "-------------------------\n",
            "Total loss 0 from 635\n"
          ],
          "name": "stdout"
        }
      ]
    },
    {
      "cell_type": "code",
      "metadata": {
        "id": "0-pVbc8ecmG4"
      },
      "source": [
        "cp.save(\"kme_dataset.npy\", dataset)\n",
        "\n",
        "# Uncomment if you use colab and mount google drive\n",
        "#cp.save(\"/content/drive/My Drive/kme_dataset.npy\", dataset)"
      ],
      "execution_count": null,
      "outputs": []
    },
    {
      "cell_type": "code",
      "metadata": {
        "id": "losmA5LG7gw-",
        "outputId": "0066d4a1-8f0a-40a8-cf1b-6f90a837cba6",
        "colab": {
          "base_uri": "https://localhost:8080/"
        }
      },
      "source": [
        "import matplotlib.pyplot as plt\n",
        "\n",
        "dataset_import = np.load('/content/drive/My Drive/kme_dataset.npy')\n",
        "plt.imshow(dataset_import[0]);"
      ],
      "execution_count": null,
      "outputs": [
        {
          "output_type": "display_data",
          "data": {
            "image/png": "[encoded data removed]",
            "text/plain": [
              "<Figure size 432x288 with 1 Axes>"
            ]
          },
          "metadata": {
            "tags": [],
            "needs_background": "light"
          }
        }
      ]
    }
  ]
}