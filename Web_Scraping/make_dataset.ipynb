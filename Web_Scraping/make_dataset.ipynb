{
 "cells": [
  {
   "cell_type": "code",
   "execution_count": 1,
   "metadata": {},
   "outputs": [],
   "source": [
    "import pandas as pd\n",
    "import numpy as np\n",
    "import json"
   ]
  },
  {
   "cell_type": "code",
   "execution_count": 2,
   "metadata": {},
   "outputs": [],
   "source": [
    "dict_path = \"database/Dict_segment.json\"\n",
    "dict_cid_path = \"database/Dict_segment_cid.json\"\n",
    "\n",
    "with open(dict_path, 'r') as f1, open(dict_cid_path, 'r') as f3:\n",
    "  dict_ = json.load(f1)\n",
    "  dict_cid = json.load(f3)\n",
    "\n",
    "dict_1_path = \"database/Dict_segment_12-7-20.json\"\n",
    "dict_1_cid_path = \"database/Dict_segment_cid_12-7-20.json\"\n",
    "\n",
    "dict_2_path = \"database/Dict_segment_12-2-20_hex.json\"\n",
    "dict_2_cid_path = \"database/Dict_segment_cid_12-2-20_hex.json\"\n",
    "\n",
    "with open(dict_1_path, 'r') as f1,  open(dict_1_cid_path, 'r') as f3:\n",
    "    dict_1 = json.load(f1)\n",
    "    dict_1_cid = json.load(f3)\n",
    "\n",
    "with open(dict_2_path, 'r') as f1, open(dict_2_cid_path, 'r') as f3:\n",
    "    dict_2 = json.load(f1)\n",
    "    dict_2_cid = json.load(f3)"
   ]
  },
  {
   "cell_type": "code",
   "execution_count": 3,
   "metadata": {},
   "outputs": [],
   "source": [
    "name_arr = []\n",
    "cid_arr = []\n",
    "\n",
    "for key in dict_.keys():\n",
    "    if name_arr == []:\n",
    "        name_arr = dict_[key]\n",
    "        cid_arr = dict_cid[key]\n",
    "\n",
    "    else:\n",
    "        name_arr = np.concatenate((name_arr, dict_[key]))\n",
    "        cid_arr = np.concatenate((cid_arr, dict_cid[key]))"
   ]
  },
  {
   "cell_type": "code",
   "execution_count": 4,
   "metadata": {},
   "outputs": [],
   "source": [
    "name_arr = np.concatenate((name_arr, dict_1['mixed_12-6-20']))\n",
    "name_arr = np.concatenate((name_arr, dict_2['mixed_12-6-20']))\n",
    "\n",
    "cid_arr = np.concatenate((cid_arr, dict_1_cid['mixed_12-6-20']))\n",
    "cid_arr = np.concatenate((cid_arr, dict_2_cid['mixed_12-6-20']))"
   ]
  },
  {
   "cell_type": "code",
   "execution_count": 5,
   "metadata": {},
   "outputs": [],
   "source": [
    "df = pd.DataFrame(list(zip(cid_arr, name_arr)), columns=['cid', 'iupacname'])"
   ]
  },
  {
   "cell_type": "code",
   "execution_count": 6,
   "metadata": {},
   "outputs": [
    {
     "name": "stdout",
     "output_type": "stream",
     "text": [
      "<class 'pandas.core.frame.DataFrame'>\n",
      "RangeIndex: 8200 entries, 0 to 8199\n",
      "Data columns (total 2 columns):\n",
      " #   Column     Non-Null Count  Dtype \n",
      "---  ------     --------------  ----- \n",
      " 0   cid        8200 non-null   object\n",
      " 1   iupacname  8200 non-null   object\n",
      "dtypes: object(2)\n",
      "memory usage: 128.2+ KB\n"
     ]
    }
   ],
   "source": [
    "df.info()"
   ]
  },
  {
   "cell_type": "code",
   "execution_count": 7,
   "metadata": {},
   "outputs": [],
   "source": [
    "df.to_csv('dataframe.csv')"
   ]
  },
  {
   "cell_type": "code",
   "execution_count": 8,
   "metadata": {},
   "outputs": [],
   "source": [
    " np.savetxt(\"cid.txt\", cid_arr, fmt=\"%s\")"
   ]
  }
 ],
 "metadata": {
  "kernelspec": {
   "display_name": "Python 3",
   "name": "python3"
  },
  "language_info": {
   "codemirror_mode": {
    "name": "ipython",
    "version": 3
   },
   "file_extension": ".py",
   "mimetype": "text/x-python",
   "name": "python",
   "nbconvert_exporter": "python",
   "pygments_lexer": "ipython3",
   "version": "3.8.5-final"
  },
  "orig_nbformat": 2
 },
 "nbformat": 4,
 "nbformat_minor": 2
}