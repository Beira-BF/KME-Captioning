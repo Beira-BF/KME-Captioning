{
 "cells": [
  {
   "cell_type": "code",
   "execution_count": 1,
   "metadata": {},
   "outputs": [],
   "source": [
    "import pandas as pd\n",
    "import numpy as np\n",
    "import json"
   ]
  },
  {
   "cell_type": "code",
   "execution_count": 2,
   "metadata": {},
   "outputs": [],
   "source": [
    "arr_iupac_name = []\n",
    "with open('database/Dict_segment.json') as f1:\n",
    "  d = json.load(f1)\n",
    "  for key in d.keys():\n",
    "    arr_iupac_name = np.concatenate((arr_iupac_name, d[key]))\n",
    "\n",
    "arr_cid = []\n",
    "with open('database/Dict_segment_cid.json') as f1:\n",
    "  d = json.load(f1)\n",
    "  for key in d.keys():\n",
    "    arr_cid = np.concatenate((arr_cid, d[key]))\n",
    "  arr_cid = arr_cid.astype(np.uint8)\n",
    "\n",
    "arr_iupac_cut = []\n",
    "with open('database/Dict_segment_cut.json') as f1:\n",
    "  d = json.load(f1)\n",
    "  for key in d.keys():\n",
    "    arr_iupac_cut = np.concatenate((arr_iupac_cut, d[key]))"
   ]
  },
  {
   "cell_type": "code",
   "execution_count": 3,
   "metadata": {},
   "outputs": [
    {
     "name": "stdout",
     "output_type": "stream",
     "text": [
      "(8200,) ['(2S)-2-[(4-hydroxyphenyl)methyl]-3-methylidenepent-4-enoic acid'\n",
      " '[4-(carboxymethyl)phenyl]oxidanium']\n",
      "(8200,) ['(|2|S)|-|2|-|[|(|4|-|hydroxy|phen|yl|)|meth|yl|]|-|3|-|meth|yl|idene|pent|-|4|-|en|oic acid'\n",
      " '[|4|-|(|carboxy|meth|yl|)|phen|yl|]|oxidanium']\n",
      "(8200,) [154546822 154550731]\n"
     ]
    }
   ],
   "source": [
    "import os\n",
    "dir_iupac_name = 'database/iupac_name/'\n",
    "dir_iupac_cut = 'database/iupac_cut/'\n",
    "dir_cid = 'database/cid/'\n",
    "\n",
    "for file in os.listdir(dir_iupac_name):\n",
    "  with open(dir_iupac_name+file, 'r') as f:\n",
    "    d = json.load(f)\n",
    "  arr_iupac_name = np.concatenate((arr_iupac_name, d['values']))\n",
    "print(arr_iupac_name.shape, arr_iupac_name[-2:])\n",
    "\n",
    "for file in os.listdir(dir_iupac_cut):\n",
    "  with open(dir_iupac_cut+file, 'r') as f:\n",
    "    d = json.load(f)\n",
    "  arr_iupac_cut = np.concatenate((arr_iupac_cut, d['values']))\n",
    "print(arr_iupac_cut.shape, arr_iupac_cut[-2:])\n",
    "\n",
    "for file in os.listdir(dir_cid):\n",
    "  with open(dir_cid+file, 'r') as f:\n",
    "    d = json.load(f)\n",
    "  arr_cid = np.concatenate((arr_cid, d['values']))\n",
    "print(arr_cid.shape, arr_cid[-2:])"
   ]
  },
  {
   "cell_type": "code",
   "execution_count": 14,
   "metadata": {},
   "outputs": [],
   "source": [
    "df = pd.DataFrame(list(zip(arr_cid, arr_iupac_name, arr_iupac_cut)), columns=['cid', 'iupacname', 'label'])"
   ]
  },
  {
   "cell_type": "code",
   "execution_count": 15,
   "metadata": {},
   "outputs": [
    {
     "name": "stdout",
     "output_type": "stream",
     "text": [
      "<class 'pandas.core.frame.DataFrame'>\n",
      "RangeIndex: 8200 entries, 0 to 8199\n",
      "Data columns (total 3 columns):\n",
      " #   Column     Non-Null Count  Dtype \n",
      "---  ------     --------------  ----- \n",
      " 0   cid        8200 non-null   int64 \n",
      " 1   iupacname  8200 non-null   object\n",
      " 2   label      8200 non-null   object\n",
      "dtypes: int64(1), object(2)\n",
      "memory usage: 192.3+ KB\n"
     ]
    }
   ],
   "source": [
    "df.info()"
   ]
  },
  {
   "cell_type": "code",
   "execution_count": 16,
   "metadata": {},
   "outputs": [
    {
     "data": {
      "text/html": "<div>\n<style scoped>\n    .dataframe tbody tr th:only-of-type {\n        vertical-align: middle;\n    }\n\n    .dataframe tbody tr th {\n        vertical-align: top;\n    }\n\n    .dataframe thead th {\n        text-align: right;\n    }\n</style>\n<table border=\"1\" class=\"dataframe\">\n  <thead>\n    <tr style=\"text-align: right;\">\n      <th></th>\n      <th>cid</th>\n      <th>iupacname</th>\n      <th>label</th>\n    </tr>\n  </thead>\n  <tbody>\n    <tr>\n      <th>8195</th>\n      <td>154262256</td>\n      <td>1-(4-hydroxyphenyl)heptan-3-one</td>\n      <td>1|-|(|4|-|hydroxy|phen|yl|)|hept|an|-|3|-|one</td>\n    </tr>\n    <tr>\n      <th>8196</th>\n      <td>154265009</td>\n      <td>3-(4-hydroxyphenyl)-2-silyloxypropanoate</td>\n      <td>3|-|(|4|-|hydroxy|phen|yl|)|-|2|-|silyloxy|pro...</td>\n    </tr>\n    <tr>\n      <th>8197</th>\n      <td>154364721</td>\n      <td>8-(4-hydroxyphenyl)octanoate</td>\n      <td>8|-|(|4|-|hydroxy|phen|yl|)|oct|an|oate</td>\n    </tr>\n    <tr>\n      <th>8198</th>\n      <td>154546822</td>\n      <td>(2S)-2-[(4-hydroxyphenyl)methyl]-3-methylidene...</td>\n      <td>(|2|S)|-|2|-|[|(|4|-|hydroxy|phen|yl|)|meth|yl...</td>\n    </tr>\n    <tr>\n      <th>8199</th>\n      <td>154550731</td>\n      <td>[4-(carboxymethyl)phenyl]oxidanium</td>\n      <td>[|4|-|(|carboxy|meth|yl|)|phen|yl|]|oxidanium</td>\n    </tr>\n  </tbody>\n</table>\n</div>",
      "text/plain": "            cid                                          iupacname  \\\n8195  154262256                    1-(4-hydroxyphenyl)heptan-3-one   \n8196  154265009           3-(4-hydroxyphenyl)-2-silyloxypropanoate   \n8197  154364721                       8-(4-hydroxyphenyl)octanoate   \n8198  154546822  (2S)-2-[(4-hydroxyphenyl)methyl]-3-methylidene...   \n8199  154550731                 [4-(carboxymethyl)phenyl]oxidanium   \n\n                                                  label  \n8195      1|-|(|4|-|hydroxy|phen|yl|)|hept|an|-|3|-|one  \n8196  3|-|(|4|-|hydroxy|phen|yl|)|-|2|-|silyloxy|pro...  \n8197            8|-|(|4|-|hydroxy|phen|yl|)|oct|an|oate  \n8198  (|2|S)|-|2|-|[|(|4|-|hydroxy|phen|yl|)|meth|yl...  \n8199      [|4|-|(|carboxy|meth|yl|)|phen|yl|]|oxidanium  "
     },
     "execution_count": 16,
     "metadata": {},
     "output_type": "execute_result"
    }
   ],
   "source": [
    "df.tail()"
   ]
  },
  {
   "cell_type": "code",
   "execution_count": 20,
   "metadata": {},
   "outputs": [],
   "source": [
    "from sklearn.model_selection import train_test_split\n",
    "\n",
    "train, all_val = train_test_split(df, test_size = 0.3, shuffle = True)\n",
    "train_df = train.reset_index()\n",
    "all_val_df = all_val.reset_index()\n",
    "\n",
    "val, test = train_test_split(all_val_df, test_size = 0.5, shuffle = True)\n",
    "val_df = val.reset_index()\n",
    "test_df = test.reset_index()"
   ]
  },
  {
   "cell_type": "code",
   "execution_count": 21,
   "metadata": {},
   "outputs": [
    {
     "name": "stdout",
     "output_type": "stream",
     "text": [
      "5740 1230 1230\n"
     ]
    }
   ],
   "source": [
    "print(len(train_df), len(val_df), len(test_df))"
   ]
  },
  {
   "cell_type": "code",
   "execution_count": 22,
   "metadata": {},
   "outputs": [
    {
     "data": {
      "text/html": "<div>\n<style scoped>\n    .dataframe tbody tr th:only-of-type {\n        vertical-align: middle;\n    }\n\n    .dataframe tbody tr th {\n        vertical-align: top;\n    }\n\n    .dataframe thead th {\n        text-align: right;\n    }\n</style>\n<table border=\"1\" class=\"dataframe\">\n  <thead>\n    <tr style=\"text-align: right;\">\n      <th></th>\n      <th>index</th>\n      <th>cid</th>\n      <th>iupacname</th>\n      <th>label</th>\n    </tr>\n  </thead>\n  <tbody>\n    <tr>\n      <th>0</th>\n      <td>4714</td>\n      <td>22593528</td>\n      <td>(E)-3-methoxy-2-phenoxyprop-2-enoic acid</td>\n      <td>(|E|)|-|3|-|meth|oxy|-|2|-|phen|oxy|prop|-|2|-...</td>\n    </tr>\n    <tr>\n      <th>1</th>\n      <td>3555</td>\n      <td>6177639</td>\n      <td>(Z)-3-(3-chlorophenyl)-2-sulfanylprop-2-enoic ...</td>\n      <td>(|Z|)|-|3|-|(|3|-|chloro|phen|yl|)|-|2|-|sulfa...</td>\n    </tr>\n    <tr>\n      <th>2</th>\n      <td>6424</td>\n      <td>93495420</td>\n      <td>(2R)-1-phenylaziridine-2-carboxylic acid</td>\n      <td>(|2|R|)|-|1|-|phen|yl|aziridine|-|2|-|carboxyl...</td>\n    </tr>\n    <tr>\n      <th>3</th>\n      <td>7525</td>\n      <td>140991096</td>\n      <td>tricyclo[5.2.1.01,6]decane-4-carboxylic acid</td>\n      <td>tricyclo|[|5.2|.1|.|01|,|6|]|dec|ane|-|4|-|car...</td>\n    </tr>\n    <tr>\n      <th>4</th>\n      <td>7297</td>\n      <td>139668931</td>\n      <td>[methyl(phenyl)phosphoryl] hydrogen carbonate</td>\n      <td>[|meth|yl|(|phen|yl|)|pho|s|phoryl|]| |hydroge...</td>\n    </tr>\n  </tbody>\n</table>\n</div>",
      "text/plain": "   index        cid                                          iupacname  \\\n0   4714   22593528           (E)-3-methoxy-2-phenoxyprop-2-enoic acid   \n1   3555    6177639  (Z)-3-(3-chlorophenyl)-2-sulfanylprop-2-enoic ...   \n2   6424   93495420           (2R)-1-phenylaziridine-2-carboxylic acid   \n3   7525  140991096       tricyclo[5.2.1.01,6]decane-4-carboxylic acid   \n4   7297  139668931      [methyl(phenyl)phosphoryl] hydrogen carbonate   \n\n                                               label  \n0  (|E|)|-|3|-|meth|oxy|-|2|-|phen|oxy|prop|-|2|-...  \n1  (|Z|)|-|3|-|(|3|-|chloro|phen|yl|)|-|2|-|sulfa...  \n2  (|2|R|)|-|1|-|phen|yl|aziridine|-|2|-|carboxyl...  \n3  tricyclo|[|5.2|.1|.|01|,|6|]|dec|ane|-|4|-|car...  \n4  [|meth|yl|(|phen|yl|)|pho|s|phoryl|]| |hydroge...  "
     },
     "execution_count": 22,
     "metadata": {},
     "output_type": "execute_result"
    }
   ],
   "source": [
    "train_df.head()"
   ]
  },
  {
   "cell_type": "code",
   "execution_count": 7,
   "metadata": {},
   "outputs": [],
   "source": [
    "train_df.to_csv('dataframe_test.csv')"
   ]
  },
  {
   "cell_type": "code",
   "execution_count": 8,
   "metadata": {},
   "outputs": [
    {
     "ename": "NameError",
     "evalue": "name 'cid_arr' is not defined",
     "output_type": "error",
     "traceback": [
      "\u001b[0;31m---------------------------------------------------------------------------\u001b[0m",
      "\u001b[0;31mNameError\u001b[0m                                 Traceback (most recent call last)",
      "\u001b[0;32m<ipython-input-8-1607dcb71c88>\u001b[0m in \u001b[0;36m<module>\u001b[0;34m\u001b[0m\n\u001b[0;32m----> 1\u001b[0;31m \u001b[0mnp\u001b[0m\u001b[0;34m.\u001b[0m\u001b[0msavetxt\u001b[0m\u001b[0;34m(\u001b[0m\u001b[0;34m\"cid.txt\"\u001b[0m\u001b[0;34m,\u001b[0m \u001b[0mcid_arr\u001b[0m\u001b[0;34m,\u001b[0m \u001b[0mfmt\u001b[0m\u001b[0;34m=\u001b[0m\u001b[0;34m\"%s\"\u001b[0m\u001b[0;34m)\u001b[0m\u001b[0;34m\u001b[0m\u001b[0;34m\u001b[0m\u001b[0m\n\u001b[0m",
      "\u001b[0;31mNameError\u001b[0m: name 'cid_arr' is not defined"
     ]
    }
   ],
   "source": [
    " np.savetxt(\"cid.txt\", cid_arr, fmt=\"%s\")"
   ]
  }
 ],
 "metadata": {
  "kernelspec": {
   "display_name": "Python 3",
   "language": "python",
   "name": "python3"
  },
  "language_info": {
   "codemirror_mode": {
    "name": "ipython",
    "version": 3
   },
   "file_extension": ".py",
   "mimetype": "text/x-python",
   "name": "python",
   "nbconvert_exporter": "python",
   "pygments_lexer": "ipython3",
   "version": "3.8.5"
  },
  "orig_nbformat": 2
 },
 "nbformat": 4,
 "nbformat_minor": 2
}