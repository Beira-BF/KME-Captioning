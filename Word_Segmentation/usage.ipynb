{
 "metadata": {
  "language_info": {
   "codemirror_mode": {
    "name": "ipython",
    "version": 3
   },
   "file_extension": ".py",
   "mimetype": "text/x-python",
   "name": "python",
   "nbconvert_exporter": "python",
   "pygments_lexer": "ipython3",
   "version": "3.8.5-final"
  },
  "orig_nbformat": 2,
  "kernelspec": {
   "name": "Python 3.8.5 64-bit",
   "display_name": "Python 3.8.5 64-bit",
   "metadata": {
    "interpreter": {
     "hash": "767d51c1340bd893661ea55ea3124f6de3c7a262a8b4abca0554b478b1e2ff90"
    }
   }
  }
 },
 "nbformat": 4,
 "nbformat_minor": 2,
 "cells": [
  {
   "cell_type": "code",
   "execution_count": 1,
   "metadata": {
    "tags": []
   },
   "outputs": [],
   "source": [
    "import tensorflow\n",
    "import kme_tokenize"
   ]
  },
  {
   "cell_type": "code",
   "execution_count": 2,
   "metadata": {
    "tags": []
   },
   "outputs": [],
   "source": [
    "text = '2-hydroxy-7-methyl-3-oxocyclohepta-1,4-diene-1-carboxylic acid'\n",
    "x_test = kme_tokenize.preprocessing_text(text)"
   ]
  },
  {
   "cell_type": "code",
   "execution_count": 3,
   "metadata": {
    "tags": []
   },
   "outputs": [
    {
     "output_type": "stream",
     "name": "stdout",
     "text": "[1 1 1 0 0 0 0 0 0 1 1 1 1 0 0 0 1 0 1 1 1 1 0 0 1 0 0 0 0 1 0 0 0 1 1 1 1\n 1 1 1 0 1 0 0 1 1 1 1 0 0 0 0 0 0 0 0 0 0 0 0 0 0]\n['2', '-', 'hydroxy', '-', '7', '-', 'meth', 'yl', '-', '3', '-', 'oxo', 'cyclo', 'hept', 'a', '-', '1', ',', '4', '-', 'di', 'ene', '-', '1', '-', 'carboxylic acid']\n2|-|hydroxy|-|7|-|meth|yl|-|3|-|oxo|cyclo|hept|a|-|1|,|4|-|di|ene|-|1|-|carboxylic acid\n"
    }
   ],
   "source": [
    "predict = kme_tokenize.predict(x_test)\n",
    "\n",
    "pred_text, pred_text_join = kme_tokenize.word_tokenize(text)\n",
    "\n",
    "print(predict)\n",
    "print(pred_text)\n",
    "print(pred_text_join)"
   ]
  }
 ]
}