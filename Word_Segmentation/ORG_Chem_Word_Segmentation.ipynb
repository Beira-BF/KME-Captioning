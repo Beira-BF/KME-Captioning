{
  "nbformat": 4,
  "nbformat_minor": 0,
  "metadata": {
    "colab": {
      "name": "ORG_Chem_Word_Segmentation.ipynb",
      "provenance": [],
      "collapsed_sections": [],
      "machine_shape": "hm"
    },
    "kernelspec": {
      "name": "Python 3.8.5 64-bit",
      "display_name": "Python 3.8.5 64-bit",
      "metadata": {
        "interpreter": {
          "hash": "767d51c1340bd893661ea55ea3124f6de3c7a262a8b4abca0554b478b1e2ff90"
        }
      }
    }
  },
  "cells": [
    {
      "cell_type": "markdown",
      "metadata": {
        "id": "B3OfNRQA3Gt8",
        "colab_type": "text"
      },
      "source": [
        "# Import Character Vocab\n"
      ]
    },
    {
      "cell_type": "code",
      "metadata": {
        "id": "WOlG2SQfrlOw",
        "colab_type": "code",
        "colab": {}
      },
      "source": [
        "import numpy as np\n",
        "import json\n",
        "import tensorflow as tf"
      ],
      "execution_count": 51,
      "outputs": []
    },
    {
      "cell_type": "code",
      "metadata": {
        "id": "Yq7h6WJTs89M",
        "colab_type": "code",
        "colab": {}
      },
      "source": [
        "with open('files/vocab.json', 'r') as f:\n",
        "  CHAR_INDICES = json.load(f)"
      ],
      "execution_count": 52,
      "outputs": []
    },
    {
      "cell_type": "code",
      "metadata": {
        "id": "iKdOILCutjVM",
        "colab_type": "code",
        "colab": {
          "base_uri": "https://localhost:8080/",
          "height": 54
        },
        "outputId": "ec10e396-e3e8-486a-dd5b-1b6f070919c5",
        "tags": []
      },
      "source": [
        "print(CHAR_INDICES)"
      ],
      "execution_count": 53,
      "outputs": [
        {
          "output_type": "stream",
          "name": "stdout",
          "text": "{' ': 0, '(': 1, ')': 2, ',': 3, '-': 4, '0': 5, '1': 6, '2': 7, '3': 8, '4': 9, '5': 10, '6': 11, '7': 12, '8': 13, '9': 14, 'A': 15, 'B': 16, 'C': 17, 'D': 18, 'E': 19, 'F': 20, 'G': 21, 'H': 22, 'I': 23, 'J': 24, 'K': 25, 'L': 26, 'M': 27, 'N': 28, 'O': 29, 'P': 30, 'Q': 31, 'R': 32, 'S': 33, 'T': 34, 'U': 35, 'V': 36, 'W': 37, 'X': 38, 'Y': 39, 'Z': 40, 'a': 41, 'b': 42, 'c': 43, 'd': 44, 'e': 45, 'f': 46, 'g': 47, 'h': 48, 'i': 49, 'j': 50, 'k': 51, 'l': 52, 'm': 53, 'n': 54, 'o': 55, 'p': 56, 'q': 57, 'r': 58, 's': 59, 't': 60, 'u': 61, 'v': 62, 'w': 63, 'x': 64, 'y': 65, 'z': 66, '<pad>': 67, '<unk>': 68}\n"
        }
      ]
    },
    {
      "cell_type": "markdown",
      "metadata": {
        "id": "iGUQS25OVJIJ",
        "colab_type": "text"
      },
      "source": [
        "# Preprocessing text data"
      ]
    },
    {
      "cell_type": "code",
      "metadata": {
        "id": "IN2uPnKJdr0h",
        "colab_type": "code",
        "colab": {}
      },
      "source": [
        "look_back = 10"
      ],
      "execution_count": 54,
      "outputs": []
    },
    {
      "cell_type": "code",
      "metadata": {
        "id": "wYP03g3TrMXb",
        "colab_type": "code",
        "colab": {}
      },
      "source": [
        "def create_dataset(text, look_back = look_back):\n",
        "  \"\"\"\n",
        "  take text with label (text that being defined where to cut ('|')) \n",
        "  and encode text and make label\n",
        "  return preprocessed text & preprocessed label\n",
        "  \"\"\"\n",
        "  X, y = [], []\n",
        "  text = '|' + text\n",
        "  data = [CHAR_INDICES['<pad>']] * look_back\n",
        "  for i in range(1, len(text)):\n",
        "    current_char = text[i]\n",
        "    before_char = text[i-1]\n",
        "\n",
        "    if current_char == '|':\n",
        "      continue\n",
        "    data = data[1:] + [CHAR_INDICES[current_char]]  # X data\n",
        "\n",
        "    target = 1 if before_char == '|' else 0  # y data\n",
        "    X.append(data)\n",
        "    y.append(target)\n",
        "  \n",
        "  return np.array(X), tf.one_hot(y, 2)"
      ],
      "execution_count": 55,
      "outputs": []
    },
    {
      "cell_type": "code",
      "metadata": {
        "id": "LhL81QrDazGn",
        "colab_type": "code",
        "colab": {}
      },
      "source": [
        "def text_pred_preprocessing(text, sequence_len=look_back):\n",
        "  \"\"\"\n",
        "    take unseen (testing) text and encode it with CHAR_DICT\n",
        "    //It's like create_dataset() but not return label\n",
        "    return preprocessed text\n",
        "  \"\"\"\n",
        "  X = []\n",
        "  data = [CHAR_INDICES['<pad>']] * sequence_len\n",
        "  for char in text:\n",
        "    char = char if char in CHAR_INDICES else '<unk>'  # check char in dictionary\n",
        "    data = data[1:] + [CHAR_INDICES[char]]  # X data\n",
        "    X.append(data)\n",
        "  return np.array(X)"
      ],
      "execution_count": 56,
      "outputs": []
    },
    {
      "cell_type": "code",
      "metadata": {
        "id": "98YuegoQyZvQ",
        "colab_type": "code",
        "colab": {}
      },
      "source": [
        "def word_tokenize(text, class_):\n",
        "    cut_indexs = []\n",
        "    words = []\n",
        "\n",
        "    # boolean index of each word 1 if cut before\n",
        "    class_ = np.append(class_, 1)\n",
        "\n",
        "    # if y_label at i is 1 so add i (index) to cut_indexs\n",
        "    for i, value in enumerate(class_):\n",
        "      if value == 1:\n",
        "        cut_indexs.append(i)\n",
        "\n",
        "    # add word after cutting till before ext cutting\n",
        "    for i in range(len(cut_indexs)-1):\n",
        "      words.append(text[cut_indexs[i]:cut_indexs[i+1]])\n",
        "    \n",
        "    return words"
      ],
      "execution_count": 57,
      "outputs": []
    },
    {
      "cell_type": "code",
      "execution_count": 58,
      "metadata": {},
      "outputs": [],
      "source": [
        "def decode_label(y):\n",
        "  return tf.argmax(y, axis=-1).numpy()"
      ]
    },
    {
      "cell_type": "code",
      "metadata": {
        "id": "zHyGGAJyz7FM",
        "colab_type": "code",
        "colab": {}
      },
      "source": [
        "with open('files/Dictionary.json', 'r') as f1, open('files/Dictionary_cut.json', 'r') as f2:\n",
        "    Dict = json.load(f1)\n",
        "    Dict_cut = json.load(f2)"
      ],
      "execution_count": 59,
      "outputs": []
    },
    {
      "cell_type": "code",
      "metadata": {
        "id": "rRbRE5NFtfcE",
        "colab_type": "code",
        "colab": {
          "base_uri": "https://localhost:8080/",
          "height": 302
        },
        "outputId": "3bc9cf04-0bc1-41d6-f428-33d77152ef66",
        "tags": []
      },
      "source": [
        "total_text = 0\n",
        "\n",
        "for key, value in Dict.items():\n",
        "    print(key, len(value))\n",
        "    total_text += len(value)\n",
        "print('-'*15)\n",
        "for key, value in Dict_cut.items():\n",
        "    print(key, len(value))\n"
      ],
      "execution_count": 60,
      "outputs": [
        {
          "output_type": "stream",
          "name": "stdout",
          "text": "alkane 10\nalkane_alkyl 30\ncyclo_alkane 8\ncyclo_alkane_alkyl 17\nalkene 25\nalkene_alkyl 15\ndialkene 69\ncyclo_alkene 8\ncyclo_alkene_alkyl 3\nalkyne 9\nalkyne_alkyl 9\ndialkyne 49\ncyclo_alkyne 8\nbenzene 12\nbenzene_alkyl 18\nbenzyl_phenyl 4\nalcohol 36\nether 21\naldehyde 33\nketone 23\ncarboxylic_acid 46\nester 17\namide 25\namine 22\nmixed 87\n---------------\nalkane 10\nalkane_alkyl 30\ncyclo_alkane 8\ncyclo_alkane_alkyl 17\nalkene 25\nalkene_alkyl 15\ndialkene 69\ncyclo_alkene 8\ncyclo_alkene_alkyl 3\nalkyne 9\nalkyne_alkyl 9\ndialkyne 49\ncyclo_alkyne 8\nbenz|ene 12\nbenzene_alkyl 18\nbenzyl_phenyl 4\nalcohol 36\nether 21\naldehyde 33\nketone 23\ncarboxylic_acid 46\nester 17\namide 25\namine 22\nmixed 87\n"
        }
      ]
    },
    {
      "cell_type": "code",
      "execution_count": 61,
      "metadata": {
        "tags": []
      },
      "outputs": [
        {
          "output_type": "stream",
          "name": "stdout",
          "text": "key Dict: 25\nket Dict_cut: 25\nThere are 604 chemical in dataset\n"
        }
      ],
      "source": [
        "print('key Dict:',len(Dict.keys()))\n",
        "print('ket Dict_cut:',len(Dict_cut.keys()))\n",
        "print(f\"There are {total_text} chemical in dataset\")"
      ]
    },
    {
      "cell_type": "markdown",
      "metadata": {
        "id": "1YStOZHdVPt1",
        "colab_type": "text"
      },
      "source": [
        "# Create Dataset"
      ]
    },
    {
      "cell_type": "code",
      "execution_count": 62,
      "metadata": {
        "tags": []
      },
      "outputs": [
        {
          "output_type": "stream",
          "name": "stdout",
          "text": "meth|ane| |eth|ane| |prop|ane| |but|ane| |pent|ane| |hex|ane| |hept|ane| |oct|ane| |non|ane| |dec|ane\n12183\n"
        }
      ],
      "source": [
        "dataset_cut_arr = []\n",
        "for _, value in Dict_cut.items():\n",
        "    dataset_cut_arr = np.append(dataset_cut_arr, value, axis=-1)\n",
        "\n",
        "print('| |'.join(dataset_cut_arr)[:101])\n",
        "print(len(' '.join(dataset_cut_arr).replace('|','')))"
      ]
    },
    {
      "cell_type": "code",
      "execution_count": 63,
      "metadata": {
        "tags": []
      },
      "outputs": [
        {
          "output_type": "stream",
          "name": "stdout",
          "text": "methane ethane propane butane pentane hexane heptane octane nonane decane\n12185\n"
        }
      ],
      "source": [
        "dataset_arr = []\n",
        "for _, value in Dict.items():\n",
        "    dataset_arr = np.append(dataset_arr, value, axis=-1)\n",
        "\n",
        "print(' '.join(dataset_arr)[:73])\n",
        "print(len(' '.join(dataset_arr)))"
      ]
    },
    {
      "cell_type": "code",
      "execution_count": 64,
      "metadata": {
        "tags": []
      },
      "outputs": [
        {
          "output_type": "stream",
          "name": "stdout",
          "text": "(513,)\n--------------------\nmeta-dimethylbenzene ortho-dimethylbenzene 2,2-dimethyl-3-propyloct\nmeta|-|di|meth|yl|benz|ene| |ortho|-|di|meth|yl|benz|ene| |2|,|2|-|di|meth|yl|-|3|-|prop|yl|oct|ane\n--------------------\nbuta-1,3-diene 2-methoxycarbonylbenzoic acid 4-methoxybenzenecarboxylic ac\nbut|a|-|1|,|3|-|di|ene| |2|-|meth|oxy|carbonyl|benz|oic acid| |4|-|meth|oxy|benz|ene|carboxylic acid| |4|-|meth|o\n"
        }
      ],
      "source": [
        "from sklearn.model_selection import train_test_split\n",
        "dataset_train_arr, dataset_val_arr, dataset_cut_train_arr, dataset_cut_val_arr = train_test_split(dataset_arr, dataset_cut_arr, test_size = 0.15, random_state = 3)\n",
        "\n",
        "dataset_train_text = ' '.join(dataset_train_arr)\n",
        "dataset_val_text = ' '.join(dataset_val_arr)\n",
        "dataset_cut_train_text = '| |'.join(dataset_cut_train_arr)\n",
        "dataset_cut_val_text = '| |'.join(dataset_cut_val_arr)\n",
        "\n",
        "print(dataset_train_arr.shape)\n",
        "print('-'*20)\n",
        "print(dataset_train_text[:67])\n",
        "print(dataset_cut_train_text[:99])\n",
        "print('-'*20)\n",
        "print(dataset_val_text[:74])\n",
        "print(dataset_cut_val_text[:113])"
      ]
    },
    {
      "cell_type": "code",
      "metadata": {
        "id": "u2afRpduVvog",
        "colab_type": "code",
        "colab": {
          "base_uri": "https://localhost:8080/",
          "height": 50
        },
        "outputId": "99dde2e2-2f18-41f8-99dc-61b82193a5cf",
        "tags": []
      },
      "source": [
        "X_train ,y_train = create_dataset(dataset_cut_train_text)\n",
        "X_val, y_val = create_dataset(dataset_cut_val_text)\n",
        "\n",
        "print(X_train.shape, y_train.shape)\n",
        "print(X_val.shape, y_val.shape)"
      ],
      "execution_count": 65,
      "outputs": [
        {
          "output_type": "stream",
          "name": "stdout",
          "text": "(10320, 10) (10320, 2)\n(1862, 10) (1862, 2)\n"
        }
      ]
    },
    {
      "cell_type": "code",
      "metadata": {
        "id": "ZLZO-FPGlzz_",
        "colab_type": "code",
        "colab": {}
      },
      "source": [
        "training_data = tf.data.Dataset.from_tensor_slices((X_train,y_train))\n",
        "training_data = training_data.batch(128)\n",
        "\n",
        "validation_data = tf.data.Dataset.from_tensor_slices((X_val, y_val))\n",
        "validation_data = validation_data.batch(128)"
      ],
      "execution_count": 66,
      "outputs": []
    },
    {
      "cell_type": "markdown",
      "metadata": {
        "id": "4SxmThNeVVg4",
        "colab_type": "text"
      },
      "source": [
        "# Create Model"
      ]
    },
    {
      "cell_type": "markdown",
      "metadata": {
        "id": "1GK3s02l336w",
        "colab_type": "text"
      },
      "source": [
        "## Model Architecture"
      ]
    },
    {
      "cell_type": "code",
      "metadata": {
        "id": "yecuD8XIVXVn",
        "colab_type": "code",
        "colab": {}
      },
      "source": [
        "from tensorflow.keras.layers import Bidirectional, LSTM, Dense, Embedding, Dropout\n",
        "from tensorflow.keras.losses import BinaryCrossentropy\n",
        "from tensorflow.keras.optimizers import Adam\n",
        "from tensorflow.keras.models import Sequential"
      ],
      "execution_count": 67,
      "outputs": []
    },
    {
      "cell_type": "code",
      "metadata": {
        "id": "ZLVuON-cdnSQ",
        "colab_type": "code",
        "colab": {
          "base_uri": "https://localhost:8080/",
          "height": 34
        },
        "outputId": "89e1a22c-8454-4195-a0cc-7f63d5cd6cc4",
        "tags": []
      },
      "source": [
        "_input_shape = (look_back, len(CHAR_INDICES))\n",
        "print(_input_shape[1])"
      ],
      "execution_count": 68,
      "outputs": [
        {
          "output_type": "stream",
          "name": "stdout",
          "text": "69\n"
        }
      ]
    },
    {
      "cell_type": "code",
      "metadata": {
        "id": "A0jAOIBzdDYJ",
        "colab_type": "code",
        "colab": {}
      },
      "source": [
        "Model = Sequential(\n",
        "    [\n",
        "     Embedding(_input_shape[1], len(CHAR_INDICES)),\n",
        "     Bidirectional(LSTM(_input_shape[1]//2, return_sequences=False),\n",
        "                      merge_mode='sum',\n",
        "                      weights=None),\n",
        "     Dense(_input_shape[1]//4),\n",
        "     Dense(2, activation='softmax')\n",
        "    ],\n",
        "    name='model'\n",
        ")"
      ],
      "execution_count": 69,
      "outputs": []
    },
    {
      "cell_type": "code",
      "metadata": {
        "id": "WifMOz_Kextr",
        "colab_type": "code",
        "colab": {
          "base_uri": "https://localhost:8080/",
          "height": 415
        },
        "outputId": "ac120972-913b-4f31-9938-c6620c1bbf68",
        "tags": []
      },
      "source": [
        "Model.summary()"
      ],
      "execution_count": 70,
      "outputs": [
        {
          "output_type": "stream",
          "name": "stdout",
          "text": "Model: \"model\"\n_________________________________________________________________\nLayer (type)                 Output Shape              Param #   \n=================================================================\nembedding_1 (Embedding)      (None, None, 69)          4761      \n_________________________________________________________________\nbidirectional_1 (Bidirection (None, 34)                28288     \n_________________________________________________________________\ndense_2 (Dense)              (None, 17)                595       \n_________________________________________________________________\ndense_3 (Dense)              (None, 2)                 36        \n=================================================================\nTotal params: 33,680\nTrainable params: 33,680\nNon-trainable params: 0\n_________________________________________________________________\n"
        }
      ]
    },
    {
      "cell_type": "markdown",
      "metadata": {
        "id": "QNzpxjEb38LI",
        "colab_type": "text"
      },
      "source": [
        "## Training Model"
      ]
    },
    {
      "cell_type": "code",
      "metadata": {
        "id": "uXJ10S4MfBgN",
        "colab_type": "code",
        "colab": {
          "base_uri": "https://localhost:8080/",
          "height": 370
        },
        "outputId": "33d88c5d-4351-4787-8f96-a291631be310",
        "tags": []
      },
      "source": [
        "Model.compile(optimizer=tf.keras.optimizers.Adam(learning_rate=0.0009), loss='categorical_crossentropy', metrics=['accuracy'])\n",
        "\n",
        "checkpoint_path = 'save_models/best_model.hdf5'\n",
        "model_checkpoint_callback = tf.keras.callbacks.ModelCheckpoint(\n",
        "    filepath=checkpoint_path,\n",
        "    monitor='val_loss',\n",
        "    mode='min',\n",
        "    verbose=0,\n",
        "    save_best_only=True\n",
        ")\n",
        "\n",
        "model_earlystop_callback = tf.keras.callbacks.EarlyStopping(\n",
        "    monitor='val_loss',\n",
        "    verbose=1,\n",
        "    \n",
        ")\n",
        "callback_list = [model_checkpoint_callback, model_earlystop_callback]\n",
        "history = Model.fit(training_data, validation_data=validation_data, epochs=30, callbacks=callback_list)"
      ],
      "execution_count": 71,
      "outputs": [
        {
          "output_type": "stream",
          "name": "stdout",
          "text": "Epoch 1/30\n81/81 [==============================] - 1s 16ms/step - loss: 0.5479 - accuracy: 0.7281 - val_loss: 0.3415 - val_accuracy: 0.8593\nEpoch 2/30\n81/81 [==============================] - 1s 10ms/step - loss: 0.2631 - accuracy: 0.8964 - val_loss: 0.1997 - val_accuracy: 0.9227\nEpoch 3/30\n81/81 [==============================] - 1s 10ms/step - loss: 0.1707 - accuracy: 0.9376 - val_loss: 0.1267 - val_accuracy: 0.9511\nEpoch 4/30\n81/81 [==============================] - 1s 9ms/step - loss: 0.1235 - accuracy: 0.9589 - val_loss: 0.0921 - val_accuracy: 0.9715\nEpoch 5/30\n81/81 [==============================] - 1s 10ms/step - loss: 0.0895 - accuracy: 0.9730 - val_loss: 0.0689 - val_accuracy: 0.9801\nEpoch 6/30\n81/81 [==============================] - 1s 10ms/step - loss: 0.0688 - accuracy: 0.9804 - val_loss: 0.0529 - val_accuracy: 0.9876\nEpoch 7/30\n81/81 [==============================] - 1s 9ms/step - loss: 0.0561 - accuracy: 0.9843 - val_loss: 0.0450 - val_accuracy: 0.9898\nEpoch 8/30\n81/81 [==============================] - 1s 10ms/step - loss: 0.0462 - accuracy: 0.9880 - val_loss: 0.0374 - val_accuracy: 0.9919\nEpoch 9/30\n81/81 [==============================] - 1s 10ms/step - loss: 0.0386 - accuracy: 0.9902 - val_loss: 0.0326 - val_accuracy: 0.9930\nEpoch 10/30\n81/81 [==============================] - 1s 9ms/step - loss: 0.0332 - accuracy: 0.9922 - val_loss: 0.0296 - val_accuracy: 0.9952\nEpoch 11/30\n81/81 [==============================] - 1s 10ms/step - loss: 0.0291 - accuracy: 0.9933 - val_loss: 0.0278 - val_accuracy: 0.9952\nEpoch 12/30\n81/81 [==============================] - 1s 10ms/step - loss: 0.0261 - accuracy: 0.9940 - val_loss: 0.0265 - val_accuracy: 0.9957\nEpoch 13/30\n81/81 [==============================] - 1s 10ms/step - loss: 0.0236 - accuracy: 0.9949 - val_loss: 0.0256 - val_accuracy: 0.9957\nEpoch 14/30\n81/81 [==============================] - 1s 13ms/step - loss: 0.0215 - accuracy: 0.9948 - val_loss: 0.0250 - val_accuracy: 0.9962\nEpoch 15/30\n81/81 [==============================] - 1s 10ms/step - loss: 0.0197 - accuracy: 0.9952 - val_loss: 0.0247 - val_accuracy: 0.9973\nEpoch 16/30\n81/81 [==============================] - 1s 10ms/step - loss: 0.0180 - accuracy: 0.9958 - val_loss: 0.0245 - val_accuracy: 0.9973\nEpoch 17/30\n81/81 [==============================] - 1s 12ms/step - loss: 0.0165 - accuracy: 0.9960 - val_loss: 0.0245 - val_accuracy: 0.9973\nEpoch 18/30\n81/81 [==============================] - 1s 10ms/step - loss: 0.0150 - accuracy: 0.9966 - val_loss: 0.0246 - val_accuracy: 0.9973\nEpoch 00018: early stopping\n"
        }
      ]
    },
    {
      "cell_type": "code",
      "execution_count": 72,
      "metadata": {
        "tags": []
      },
      "outputs": [
        {
          "output_type": "stream",
          "name": "stdout",
          "text": "<class 'dict'>\ndict_keys(['loss', 'accuracy', 'val_loss', 'val_accuracy'])\n"
        },
        {
          "output_type": "display_data",
          "data": {
            "text/plain": "<Figure size 648x648 with 2 Axes>",
            "image/svg+xml": "<?xml version=\"1.0\" encoding=\"utf-8\" standalone=\"no\"?>\n<!DOCTYPE svg PUBLIC \"-//W3C//DTD SVG 1.1//EN\"\n  \"http://www.w3.org/Graphics/SVG/1.1/DTD/svg11.dtd\">\n<!-- Created with matplotlib (https://matplotlib.org/) -->\n<svg height=\"520.318125pt\" version=\"1.1\" viewBox=\"0 0 547.598972 520.318125\" width=\"547.598972pt\" xmlns=\"http://www.w3.org/2000/svg\" xmlns:xlink=\"http://www.w3.org/1999/xlink\">\n <metadata>\n  <rdf:RDF xmlns:cc=\"http://creativecommons.org/ns#\" xmlns:dc=\"http://purl.org/dc/elements/1.1/\" xmlns:rdf=\"http://www.w3.org/1999/02/22-rdf-syntax-ns#\">\n   <cc:Work>\n    <dc:type rdf:resource=\"http://purl.org/dc/dcmitype/StillImage\"/>\n    <dc:date>2020-10-04T13:24:20.144239</dc:date>\n    <dc:format>image/svg+xml</dc:format>\n    <dc:creator>\n     <cc:Agent>\n      <dc:title>Matplotlib v3.3.2, https://matplotlib.org/</dc:title>\n     </cc:Agent>\n    </dc:creator>\n   </cc:Work>\n  </rdf:RDF>\n </metadata>\n <defs>\n  <style type=\"text/css\">*{stroke-linecap:butt;stroke-linejoin:round;}</style>\n </defs>\n <g id=\"figure_1\">\n  <g id=\"patch_1\">\n   <path d=\"M 0 520.318125 \nL 547.598972 520.318125 \nL 547.598972 0 \nL 0 0 \nz\n\" style=\"fill:none;\"/>\n  </g>\n  <g id=\"axes_1\">\n   <g id=\"patch_2\">\n    <path d=\"M 36.465625 229.581818 \nL 538.665625 229.581818 \nL 538.665625 7.2 \nL 36.465625 7.2 \nz\n\" style=\"fill:#ffffff;\"/>\n   </g>\n   <g id=\"matplotlib.axis_1\">\n    <g id=\"xtick_1\">\n     <g id=\"line2d_1\">\n      <defs>\n       <path d=\"M 0 0 \nL 0 3.5 \n\" id=\"m5e817be74a\" style=\"stroke:#000000;stroke-width:0.8;\"/>\n      </defs>\n      <g>\n       <use style=\"stroke:#000000;stroke-width:0.8;\" x=\"59.292898\" xlink:href=\"#m5e817be74a\" y=\"229.581818\"/>\n      </g>\n     </g>\n     <g id=\"text_1\">\n      <!-- 0.0 -->\n      <g transform=\"translate(51.341335 244.180256)scale(0.1 -0.1)\">\n       <defs>\n        <path d=\"M 31.78125 66.40625 \nQ 24.171875 66.40625 20.328125 58.90625 \nQ 16.5 51.421875 16.5 36.375 \nQ 16.5 21.390625 20.328125 13.890625 \nQ 24.171875 6.390625 31.78125 6.390625 \nQ 39.453125 6.390625 43.28125 13.890625 \nQ 47.125 21.390625 47.125 36.375 \nQ 47.125 51.421875 43.28125 58.90625 \nQ 39.453125 66.40625 31.78125 66.40625 \nz\nM 31.78125 74.21875 \nQ 44.046875 74.21875 50.515625 64.515625 \nQ 56.984375 54.828125 56.984375 36.375 \nQ 56.984375 17.96875 50.515625 8.265625 \nQ 44.046875 -1.421875 31.78125 -1.421875 \nQ 19.53125 -1.421875 13.0625 8.265625 \nQ 6.59375 17.96875 6.59375 36.375 \nQ 6.59375 54.828125 13.0625 64.515625 \nQ 19.53125 74.21875 31.78125 74.21875 \nz\n\" id=\"DejaVuSans-48\"/>\n        <path d=\"M 10.6875 12.40625 \nL 21 12.40625 \nL 21 0 \nL 10.6875 0 \nz\n\" id=\"DejaVuSans-46\"/>\n       </defs>\n       <use xlink:href=\"#DejaVuSans-48\"/>\n       <use x=\"63.623047\" xlink:href=\"#DejaVuSans-46\"/>\n       <use x=\"95.410156\" xlink:href=\"#DejaVuSans-48\"/>\n      </g>\n     </g>\n    </g>\n    <g id=\"xtick_2\">\n     <g id=\"line2d_2\">\n      <g>\n       <use style=\"stroke:#000000;stroke-width:0.8;\" x=\"126.431935\" xlink:href=\"#m5e817be74a\" y=\"229.581818\"/>\n      </g>\n     </g>\n     <g id=\"text_2\">\n      <!-- 2.5 -->\n      <g transform=\"translate(118.480373 244.180256)scale(0.1 -0.1)\">\n       <defs>\n        <path d=\"M 19.1875 8.296875 \nL 53.609375 8.296875 \nL 53.609375 0 \nL 7.328125 0 \nL 7.328125 8.296875 \nQ 12.9375 14.109375 22.625 23.890625 \nQ 32.328125 33.6875 34.8125 36.53125 \nQ 39.546875 41.84375 41.421875 45.53125 \nQ 43.3125 49.21875 43.3125 52.78125 \nQ 43.3125 58.59375 39.234375 62.25 \nQ 35.15625 65.921875 28.609375 65.921875 \nQ 23.96875 65.921875 18.8125 64.3125 \nQ 13.671875 62.703125 7.8125 59.421875 \nL 7.8125 69.390625 \nQ 13.765625 71.78125 18.9375 73 \nQ 24.125 74.21875 28.421875 74.21875 \nQ 39.75 74.21875 46.484375 68.546875 \nQ 53.21875 62.890625 53.21875 53.421875 \nQ 53.21875 48.921875 51.53125 44.890625 \nQ 49.859375 40.875 45.40625 35.40625 \nQ 44.1875 33.984375 37.640625 27.21875 \nQ 31.109375 20.453125 19.1875 8.296875 \nz\n\" id=\"DejaVuSans-50\"/>\n        <path d=\"M 10.796875 72.90625 \nL 49.515625 72.90625 \nL 49.515625 64.59375 \nL 19.828125 64.59375 \nL 19.828125 46.734375 \nQ 21.96875 47.46875 24.109375 47.828125 \nQ 26.265625 48.1875 28.421875 48.1875 \nQ 40.625 48.1875 47.75 41.5 \nQ 54.890625 34.8125 54.890625 23.390625 \nQ 54.890625 11.625 47.5625 5.09375 \nQ 40.234375 -1.421875 26.90625 -1.421875 \nQ 22.3125 -1.421875 17.546875 -0.640625 \nQ 12.796875 0.140625 7.71875 1.703125 \nL 7.71875 11.625 \nQ 12.109375 9.234375 16.796875 8.0625 \nQ 21.484375 6.890625 26.703125 6.890625 \nQ 35.15625 6.890625 40.078125 11.328125 \nQ 45.015625 15.765625 45.015625 23.390625 \nQ 45.015625 31 40.078125 35.4375 \nQ 35.15625 39.890625 26.703125 39.890625 \nQ 22.75 39.890625 18.8125 39.015625 \nQ 14.890625 38.140625 10.796875 36.28125 \nz\n\" id=\"DejaVuSans-53\"/>\n       </defs>\n       <use xlink:href=\"#DejaVuSans-50\"/>\n       <use x=\"63.623047\" xlink:href=\"#DejaVuSans-46\"/>\n       <use x=\"95.410156\" xlink:href=\"#DejaVuSans-53\"/>\n      </g>\n     </g>\n    </g>\n    <g id=\"xtick_3\">\n     <g id=\"line2d_3\">\n      <g>\n       <use style=\"stroke:#000000;stroke-width:0.8;\" x=\"193.570973\" xlink:href=\"#m5e817be74a\" y=\"229.581818\"/>\n      </g>\n     </g>\n     <g id=\"text_3\">\n      <!-- 5.0 -->\n      <g transform=\"translate(185.61941 244.180256)scale(0.1 -0.1)\">\n       <use xlink:href=\"#DejaVuSans-53\"/>\n       <use x=\"63.623047\" xlink:href=\"#DejaVuSans-46\"/>\n       <use x=\"95.410156\" xlink:href=\"#DejaVuSans-48\"/>\n      </g>\n     </g>\n    </g>\n    <g id=\"xtick_4\">\n     <g id=\"line2d_4\">\n      <g>\n       <use style=\"stroke:#000000;stroke-width:0.8;\" x=\"260.71001\" xlink:href=\"#m5e817be74a\" y=\"229.581818\"/>\n      </g>\n     </g>\n     <g id=\"text_4\">\n      <!-- 7.5 -->\n      <g transform=\"translate(252.758448 244.180256)scale(0.1 -0.1)\">\n       <defs>\n        <path d=\"M 8.203125 72.90625 \nL 55.078125 72.90625 \nL 55.078125 68.703125 \nL 28.609375 0 \nL 18.3125 0 \nL 43.21875 64.59375 \nL 8.203125 64.59375 \nz\n\" id=\"DejaVuSans-55\"/>\n       </defs>\n       <use xlink:href=\"#DejaVuSans-55\"/>\n       <use x=\"63.623047\" xlink:href=\"#DejaVuSans-46\"/>\n       <use x=\"95.410156\" xlink:href=\"#DejaVuSans-53\"/>\n      </g>\n     </g>\n    </g>\n    <g id=\"xtick_5\">\n     <g id=\"line2d_5\">\n      <g>\n       <use style=\"stroke:#000000;stroke-width:0.8;\" x=\"327.849047\" xlink:href=\"#m5e817be74a\" y=\"229.581818\"/>\n      </g>\n     </g>\n     <g id=\"text_5\">\n      <!-- 10.0 -->\n      <g transform=\"translate(316.716235 244.180256)scale(0.1 -0.1)\">\n       <defs>\n        <path d=\"M 12.40625 8.296875 \nL 28.515625 8.296875 \nL 28.515625 63.921875 \nL 10.984375 60.40625 \nL 10.984375 69.390625 \nL 28.421875 72.90625 \nL 38.28125 72.90625 \nL 38.28125 8.296875 \nL 54.390625 8.296875 \nL 54.390625 0 \nL 12.40625 0 \nz\n\" id=\"DejaVuSans-49\"/>\n       </defs>\n       <use xlink:href=\"#DejaVuSans-49\"/>\n       <use x=\"63.623047\" xlink:href=\"#DejaVuSans-48\"/>\n       <use x=\"127.246094\" xlink:href=\"#DejaVuSans-46\"/>\n       <use x=\"159.033203\" xlink:href=\"#DejaVuSans-48\"/>\n      </g>\n     </g>\n    </g>\n    <g id=\"xtick_6\">\n     <g id=\"line2d_6\">\n      <g>\n       <use style=\"stroke:#000000;stroke-width:0.8;\" x=\"394.988085\" xlink:href=\"#m5e817be74a\" y=\"229.581818\"/>\n      </g>\n     </g>\n     <g id=\"text_6\">\n      <!-- 12.5 -->\n      <g transform=\"translate(383.855272 244.180256)scale(0.1 -0.1)\">\n       <use xlink:href=\"#DejaVuSans-49\"/>\n       <use x=\"63.623047\" xlink:href=\"#DejaVuSans-50\"/>\n       <use x=\"127.246094\" xlink:href=\"#DejaVuSans-46\"/>\n       <use x=\"159.033203\" xlink:href=\"#DejaVuSans-53\"/>\n      </g>\n     </g>\n    </g>\n    <g id=\"xtick_7\">\n     <g id=\"line2d_7\">\n      <g>\n       <use style=\"stroke:#000000;stroke-width:0.8;\" x=\"462.127122\" xlink:href=\"#m5e817be74a\" y=\"229.581818\"/>\n      </g>\n     </g>\n     <g id=\"text_7\">\n      <!-- 15.0 -->\n      <g transform=\"translate(450.99431 244.180256)scale(0.1 -0.1)\">\n       <use xlink:href=\"#DejaVuSans-49\"/>\n       <use x=\"63.623047\" xlink:href=\"#DejaVuSans-53\"/>\n       <use x=\"127.246094\" xlink:href=\"#DejaVuSans-46\"/>\n       <use x=\"159.033203\" xlink:href=\"#DejaVuSans-48\"/>\n      </g>\n     </g>\n    </g>\n    <g id=\"xtick_8\">\n     <g id=\"line2d_8\">\n      <g>\n       <use style=\"stroke:#000000;stroke-width:0.8;\" x=\"529.26616\" xlink:href=\"#m5e817be74a\" y=\"229.581818\"/>\n      </g>\n     </g>\n     <g id=\"text_8\">\n      <!-- 17.5 -->\n      <g transform=\"translate(518.133347 244.180256)scale(0.1 -0.1)\">\n       <use xlink:href=\"#DejaVuSans-49\"/>\n       <use x=\"63.623047\" xlink:href=\"#DejaVuSans-55\"/>\n       <use x=\"127.246094\" xlink:href=\"#DejaVuSans-46\"/>\n       <use x=\"159.033203\" xlink:href=\"#DejaVuSans-53\"/>\n      </g>\n     </g>\n    </g>\n   </g>\n   <g id=\"matplotlib.axis_2\">\n    <g id=\"ytick_1\">\n     <g id=\"line2d_9\">\n      <defs>\n       <path d=\"M 0 0 \nL -3.5 0 \n\" id=\"m17e4edf85d\" style=\"stroke:#000000;stroke-width:0.8;\"/>\n      </defs>\n      <g>\n       <use style=\"stroke:#000000;stroke-width:0.8;\" x=\"36.465625\" xlink:href=\"#m17e4edf85d\" y=\"225.178949\"/>\n      </g>\n     </g>\n     <g id=\"text_9\">\n      <!-- 0.0 -->\n      <g transform=\"translate(13.5625 228.978168)scale(0.1 -0.1)\">\n       <use xlink:href=\"#DejaVuSans-48\"/>\n       <use x=\"63.623047\" xlink:href=\"#DejaVuSans-46\"/>\n       <use x=\"95.410156\" xlink:href=\"#DejaVuSans-48\"/>\n      </g>\n     </g>\n    </g>\n    <g id=\"ytick_2\">\n     <g id=\"line2d_10\">\n      <g>\n       <use style=\"stroke:#000000;stroke-width:0.8;\" x=\"36.465625\" xlink:href=\"#m17e4edf85d\" y=\"187.241262\"/>\n      </g>\n     </g>\n     <g id=\"text_10\">\n      <!-- 0.1 -->\n      <g transform=\"translate(13.5625 191.04048)scale(0.1 -0.1)\">\n       <use xlink:href=\"#DejaVuSans-48\"/>\n       <use x=\"63.623047\" xlink:href=\"#DejaVuSans-46\"/>\n       <use x=\"95.410156\" xlink:href=\"#DejaVuSans-49\"/>\n      </g>\n     </g>\n    </g>\n    <g id=\"ytick_3\">\n     <g id=\"line2d_11\">\n      <g>\n       <use style=\"stroke:#000000;stroke-width:0.8;\" x=\"36.465625\" xlink:href=\"#m17e4edf85d\" y=\"149.303574\"/>\n      </g>\n     </g>\n     <g id=\"text_11\">\n      <!-- 0.2 -->\n      <g transform=\"translate(13.5625 153.102793)scale(0.1 -0.1)\">\n       <use xlink:href=\"#DejaVuSans-48\"/>\n       <use x=\"63.623047\" xlink:href=\"#DejaVuSans-46\"/>\n       <use x=\"95.410156\" xlink:href=\"#DejaVuSans-50\"/>\n      </g>\n     </g>\n    </g>\n    <g id=\"ytick_4\">\n     <g id=\"line2d_12\">\n      <g>\n       <use style=\"stroke:#000000;stroke-width:0.8;\" x=\"36.465625\" xlink:href=\"#m17e4edf85d\" y=\"111.365886\"/>\n      </g>\n     </g>\n     <g id=\"text_12\">\n      <!-- 0.3 -->\n      <g transform=\"translate(13.5625 115.165105)scale(0.1 -0.1)\">\n       <defs>\n        <path d=\"M 40.578125 39.3125 \nQ 47.65625 37.796875 51.625 33 \nQ 55.609375 28.21875 55.609375 21.1875 \nQ 55.609375 10.40625 48.1875 4.484375 \nQ 40.765625 -1.421875 27.09375 -1.421875 \nQ 22.515625 -1.421875 17.65625 -0.515625 \nQ 12.796875 0.390625 7.625 2.203125 \nL 7.625 11.71875 \nQ 11.71875 9.328125 16.59375 8.109375 \nQ 21.484375 6.890625 26.8125 6.890625 \nQ 36.078125 6.890625 40.9375 10.546875 \nQ 45.796875 14.203125 45.796875 21.1875 \nQ 45.796875 27.640625 41.28125 31.265625 \nQ 36.765625 34.90625 28.71875 34.90625 \nL 20.21875 34.90625 \nL 20.21875 43.015625 \nL 29.109375 43.015625 \nQ 36.375 43.015625 40.234375 45.921875 \nQ 44.09375 48.828125 44.09375 54.296875 \nQ 44.09375 59.90625 40.109375 62.90625 \nQ 36.140625 65.921875 28.71875 65.921875 \nQ 24.65625 65.921875 20.015625 65.03125 \nQ 15.375 64.15625 9.8125 62.3125 \nL 9.8125 71.09375 \nQ 15.4375 72.65625 20.34375 73.4375 \nQ 25.25 74.21875 29.59375 74.21875 \nQ 40.828125 74.21875 47.359375 69.109375 \nQ 53.90625 64.015625 53.90625 55.328125 \nQ 53.90625 49.265625 50.4375 45.09375 \nQ 46.96875 40.921875 40.578125 39.3125 \nz\n\" id=\"DejaVuSans-51\"/>\n       </defs>\n       <use xlink:href=\"#DejaVuSans-48\"/>\n       <use x=\"63.623047\" xlink:href=\"#DejaVuSans-46\"/>\n       <use x=\"95.410156\" xlink:href=\"#DejaVuSans-51\"/>\n      </g>\n     </g>\n    </g>\n    <g id=\"ytick_5\">\n     <g id=\"line2d_13\">\n      <g>\n       <use style=\"stroke:#000000;stroke-width:0.8;\" x=\"36.465625\" xlink:href=\"#m17e4edf85d\" y=\"73.428198\"/>\n      </g>\n     </g>\n     <g id=\"text_13\">\n      <!-- 0.4 -->\n      <g transform=\"translate(13.5625 77.227417)scale(0.1 -0.1)\">\n       <defs>\n        <path d=\"M 37.796875 64.3125 \nL 12.890625 25.390625 \nL 37.796875 25.390625 \nz\nM 35.203125 72.90625 \nL 47.609375 72.90625 \nL 47.609375 25.390625 \nL 58.015625 25.390625 \nL 58.015625 17.1875 \nL 47.609375 17.1875 \nL 47.609375 0 \nL 37.796875 0 \nL 37.796875 17.1875 \nL 4.890625 17.1875 \nL 4.890625 26.703125 \nz\n\" id=\"DejaVuSans-52\"/>\n       </defs>\n       <use xlink:href=\"#DejaVuSans-48\"/>\n       <use x=\"63.623047\" xlink:href=\"#DejaVuSans-46\"/>\n       <use x=\"95.410156\" xlink:href=\"#DejaVuSans-52\"/>\n      </g>\n     </g>\n    </g>\n    <g id=\"ytick_6\">\n     <g id=\"line2d_14\">\n      <g>\n       <use style=\"stroke:#000000;stroke-width:0.8;\" x=\"36.465625\" xlink:href=\"#m17e4edf85d\" y=\"35.49051\"/>\n      </g>\n     </g>\n     <g id=\"text_14\">\n      <!-- 0.5 -->\n      <g transform=\"translate(13.5625 39.289729)scale(0.1 -0.1)\">\n       <use xlink:href=\"#DejaVuSans-48\"/>\n       <use x=\"63.623047\" xlink:href=\"#DejaVuSans-46\"/>\n       <use x=\"95.410156\" xlink:href=\"#DejaVuSans-53\"/>\n      </g>\n     </g>\n    </g>\n   </g>\n   <g id=\"line2d_15\">\n    <path clip-path=\"url(#p7dca81948b)\" d=\"M 59.292898 17.308264 \nL 86.148513 125.350998 \nL 113.004128 160.421736 \nL 139.859743 178.320267 \nL 166.715358 191.237989 \nL 193.570973 199.082514 \nL 220.426588 203.898598 \nL 247.282203 207.646714 \nL 274.137818 210.545668 \nL 300.993432 212.589986 \nL 327.849047 214.126823 \nL 354.704662 215.293534 \nL 381.560277 216.222912 \nL 408.415892 217.009626 \nL 435.271507 217.709263 \nL 462.127122 218.346778 \nL 488.982737 218.929572 \nL 515.838352 219.473554 \n\" style=\"fill:none;stroke:#1f77b4;stroke-linecap:square;stroke-width:1.5;\"/>\n   </g>\n   <g id=\"line2d_16\">\n    <path clip-path=\"url(#p7dca81948b)\" d=\"M 59.292898 95.622294 \nL 86.148513 149.401723 \nL 113.004128 177.125625 \nL 139.859743 190.248633 \nL 166.715358 199.051029 \nL 193.570973 205.105657 \nL 220.426588 208.110342 \nL 247.282203 210.992394 \nL 274.137818 212.812494 \nL 300.993432 213.939357 \nL 327.849047 214.650429 \nL 354.704662 215.129336 \nL 381.560277 215.462556 \nL 408.415892 215.680697 \nL 435.271507 215.822516 \nL 462.127122 215.879846 \nL 488.982737 215.897339 \nL 515.838352 215.840911 \n\" style=\"fill:none;stroke:#ff7f0e;stroke-linecap:square;stroke-width:1.5;\"/>\n   </g>\n   <g id=\"patch_3\">\n    <path d=\"M 36.465625 229.581818 \nL 36.465625 7.2 \n\" style=\"fill:none;stroke:#000000;stroke-linecap:square;stroke-linejoin:miter;stroke-width:0.8;\"/>\n   </g>\n   <g id=\"patch_4\">\n    <path d=\"M 538.665625 229.581818 \nL 538.665625 7.2 \n\" style=\"fill:none;stroke:#000000;stroke-linecap:square;stroke-linejoin:miter;stroke-width:0.8;\"/>\n   </g>\n   <g id=\"patch_5\">\n    <path d=\"M 36.465625 229.581818 \nL 538.665625 229.581818 \n\" style=\"fill:none;stroke:#000000;stroke-linecap:square;stroke-linejoin:miter;stroke-width:0.8;\"/>\n   </g>\n   <g id=\"patch_6\">\n    <path d=\"M 36.465625 7.2 \nL 538.665625 7.2 \n\" style=\"fill:none;stroke:#000000;stroke-linecap:square;stroke-linejoin:miter;stroke-width:0.8;\"/>\n   </g>\n   <g id=\"legend_1\">\n    <g id=\"patch_7\">\n     <path d=\"M 426.115625 45.1125 \nL 531.665625 45.1125 \nQ 533.665625 45.1125 533.665625 43.1125 \nL 533.665625 14.2 \nQ 533.665625 12.2 531.665625 12.2 \nL 426.115625 12.2 \nQ 424.115625 12.2 424.115625 14.2 \nL 424.115625 43.1125 \nQ 424.115625 45.1125 426.115625 45.1125 \nz\n\" style=\"fill:#ffffff;opacity:0.8;stroke:#cccccc;stroke-linejoin:miter;\"/>\n    </g>\n    <g id=\"line2d_17\">\n     <path d=\"M 428.115625 20.298437 \nL 448.115625 20.298437 \n\" style=\"fill:none;stroke:#1f77b4;stroke-linecap:square;stroke-width:1.5;\"/>\n    </g>\n    <g id=\"line2d_18\"/>\n    <g id=\"text_15\">\n     <!-- training_loss -->\n     <g transform=\"translate(456.115625 23.798437)scale(0.1 -0.1)\">\n      <defs>\n       <path d=\"M 18.3125 70.21875 \nL 18.3125 54.6875 \nL 36.8125 54.6875 \nL 36.8125 47.703125 \nL 18.3125 47.703125 \nL 18.3125 18.015625 \nQ 18.3125 11.328125 20.140625 9.421875 \nQ 21.96875 7.515625 27.59375 7.515625 \nL 36.8125 7.515625 \nL 36.8125 0 \nL 27.59375 0 \nQ 17.1875 0 13.234375 3.875 \nQ 9.28125 7.765625 9.28125 18.015625 \nL 9.28125 47.703125 \nL 2.6875 47.703125 \nL 2.6875 54.6875 \nL 9.28125 54.6875 \nL 9.28125 70.21875 \nz\n\" id=\"DejaVuSans-116\"/>\n       <path d=\"M 41.109375 46.296875 \nQ 39.59375 47.171875 37.8125 47.578125 \nQ 36.03125 48 33.890625 48 \nQ 26.265625 48 22.1875 43.046875 \nQ 18.109375 38.09375 18.109375 28.8125 \nL 18.109375 0 \nL 9.078125 0 \nL 9.078125 54.6875 \nL 18.109375 54.6875 \nL 18.109375 46.1875 \nQ 20.953125 51.171875 25.484375 53.578125 \nQ 30.03125 56 36.53125 56 \nQ 37.453125 56 38.578125 55.875 \nQ 39.703125 55.765625 41.0625 55.515625 \nz\n\" id=\"DejaVuSans-114\"/>\n       <path d=\"M 34.28125 27.484375 \nQ 23.390625 27.484375 19.1875 25 \nQ 14.984375 22.515625 14.984375 16.5 \nQ 14.984375 11.71875 18.140625 8.90625 \nQ 21.296875 6.109375 26.703125 6.109375 \nQ 34.1875 6.109375 38.703125 11.40625 \nQ 43.21875 16.703125 43.21875 25.484375 \nL 43.21875 27.484375 \nz\nM 52.203125 31.203125 \nL 52.203125 0 \nL 43.21875 0 \nL 43.21875 8.296875 \nQ 40.140625 3.328125 35.546875 0.953125 \nQ 30.953125 -1.421875 24.3125 -1.421875 \nQ 15.921875 -1.421875 10.953125 3.296875 \nQ 6 8.015625 6 15.921875 \nQ 6 25.140625 12.171875 29.828125 \nQ 18.359375 34.515625 30.609375 34.515625 \nL 43.21875 34.515625 \nL 43.21875 35.40625 \nQ 43.21875 41.609375 39.140625 45 \nQ 35.0625 48.390625 27.6875 48.390625 \nQ 23 48.390625 18.546875 47.265625 \nQ 14.109375 46.140625 10.015625 43.890625 \nL 10.015625 52.203125 \nQ 14.9375 54.109375 19.578125 55.046875 \nQ 24.21875 56 28.609375 56 \nQ 40.484375 56 46.34375 49.84375 \nQ 52.203125 43.703125 52.203125 31.203125 \nz\n\" id=\"DejaVuSans-97\"/>\n       <path d=\"M 9.421875 54.6875 \nL 18.40625 54.6875 \nL 18.40625 0 \nL 9.421875 0 \nz\nM 9.421875 75.984375 \nL 18.40625 75.984375 \nL 18.40625 64.59375 \nL 9.421875 64.59375 \nz\n\" id=\"DejaVuSans-105\"/>\n       <path d=\"M 54.890625 33.015625 \nL 54.890625 0 \nL 45.90625 0 \nL 45.90625 32.71875 \nQ 45.90625 40.484375 42.875 44.328125 \nQ 39.84375 48.1875 33.796875 48.1875 \nQ 26.515625 48.1875 22.3125 43.546875 \nQ 18.109375 38.921875 18.109375 30.90625 \nL 18.109375 0 \nL 9.078125 0 \nL 9.078125 54.6875 \nL 18.109375 54.6875 \nL 18.109375 46.1875 \nQ 21.34375 51.125 25.703125 53.5625 \nQ 30.078125 56 35.796875 56 \nQ 45.21875 56 50.046875 50.171875 \nQ 54.890625 44.34375 54.890625 33.015625 \nz\n\" id=\"DejaVuSans-110\"/>\n       <path d=\"M 45.40625 27.984375 \nQ 45.40625 37.75 41.375 43.109375 \nQ 37.359375 48.484375 30.078125 48.484375 \nQ 22.859375 48.484375 18.828125 43.109375 \nQ 14.796875 37.75 14.796875 27.984375 \nQ 14.796875 18.265625 18.828125 12.890625 \nQ 22.859375 7.515625 30.078125 7.515625 \nQ 37.359375 7.515625 41.375 12.890625 \nQ 45.40625 18.265625 45.40625 27.984375 \nz\nM 54.390625 6.78125 \nQ 54.390625 -7.171875 48.1875 -13.984375 \nQ 42 -20.796875 29.203125 -20.796875 \nQ 24.46875 -20.796875 20.265625 -20.09375 \nQ 16.0625 -19.390625 12.109375 -17.921875 \nL 12.109375 -9.1875 \nQ 16.0625 -11.328125 19.921875 -12.34375 \nQ 23.78125 -13.375 27.78125 -13.375 \nQ 36.625 -13.375 41.015625 -8.765625 \nQ 45.40625 -4.15625 45.40625 5.171875 \nL 45.40625 9.625 \nQ 42.625 4.78125 38.28125 2.390625 \nQ 33.9375 0 27.875 0 \nQ 17.828125 0 11.671875 7.65625 \nQ 5.515625 15.328125 5.515625 27.984375 \nQ 5.515625 40.671875 11.671875 48.328125 \nQ 17.828125 56 27.875 56 \nQ 33.9375 56 38.28125 53.609375 \nQ 42.625 51.21875 45.40625 46.390625 \nL 45.40625 54.6875 \nL 54.390625 54.6875 \nz\n\" id=\"DejaVuSans-103\"/>\n       <path d=\"M 50.984375 -16.609375 \nL 50.984375 -23.578125 \nL -0.984375 -23.578125 \nL -0.984375 -16.609375 \nz\n\" id=\"DejaVuSans-95\"/>\n       <path d=\"M 9.421875 75.984375 \nL 18.40625 75.984375 \nL 18.40625 0 \nL 9.421875 0 \nz\n\" id=\"DejaVuSans-108\"/>\n       <path d=\"M 30.609375 48.390625 \nQ 23.390625 48.390625 19.1875 42.75 \nQ 14.984375 37.109375 14.984375 27.296875 \nQ 14.984375 17.484375 19.15625 11.84375 \nQ 23.34375 6.203125 30.609375 6.203125 \nQ 37.796875 6.203125 41.984375 11.859375 \nQ 46.1875 17.53125 46.1875 27.296875 \nQ 46.1875 37.015625 41.984375 42.703125 \nQ 37.796875 48.390625 30.609375 48.390625 \nz\nM 30.609375 56 \nQ 42.328125 56 49.015625 48.375 \nQ 55.71875 40.765625 55.71875 27.296875 \nQ 55.71875 13.875 49.015625 6.21875 \nQ 42.328125 -1.421875 30.609375 -1.421875 \nQ 18.84375 -1.421875 12.171875 6.21875 \nQ 5.515625 13.875 5.515625 27.296875 \nQ 5.515625 40.765625 12.171875 48.375 \nQ 18.84375 56 30.609375 56 \nz\n\" id=\"DejaVuSans-111\"/>\n       <path d=\"M 44.28125 53.078125 \nL 44.28125 44.578125 \nQ 40.484375 46.53125 36.375 47.5 \nQ 32.28125 48.484375 27.875 48.484375 \nQ 21.1875 48.484375 17.84375 46.4375 \nQ 14.5 44.390625 14.5 40.28125 \nQ 14.5 37.15625 16.890625 35.375 \nQ 19.28125 33.59375 26.515625 31.984375 \nL 29.59375 31.296875 \nQ 39.15625 29.25 43.1875 25.515625 \nQ 47.21875 21.78125 47.21875 15.09375 \nQ 47.21875 7.46875 41.1875 3.015625 \nQ 35.15625 -1.421875 24.609375 -1.421875 \nQ 20.21875 -1.421875 15.453125 -0.5625 \nQ 10.6875 0.296875 5.421875 2 \nL 5.421875 11.28125 \nQ 10.40625 8.6875 15.234375 7.390625 \nQ 20.0625 6.109375 24.8125 6.109375 \nQ 31.15625 6.109375 34.5625 8.28125 \nQ 37.984375 10.453125 37.984375 14.40625 \nQ 37.984375 18.0625 35.515625 20.015625 \nQ 33.0625 21.96875 24.703125 23.78125 \nL 21.578125 24.515625 \nQ 13.234375 26.265625 9.515625 29.90625 \nQ 5.8125 33.546875 5.8125 39.890625 \nQ 5.8125 47.609375 11.28125 51.796875 \nQ 16.75 56 26.8125 56 \nQ 31.78125 56 36.171875 55.265625 \nQ 40.578125 54.546875 44.28125 53.078125 \nz\n\" id=\"DejaVuSans-115\"/>\n      </defs>\n      <use xlink:href=\"#DejaVuSans-116\"/>\n      <use x=\"39.208984\" xlink:href=\"#DejaVuSans-114\"/>\n      <use x=\"80.322266\" xlink:href=\"#DejaVuSans-97\"/>\n      <use x=\"141.601562\" xlink:href=\"#DejaVuSans-105\"/>\n      <use x=\"169.384766\" xlink:href=\"#DejaVuSans-110\"/>\n      <use x=\"232.763672\" xlink:href=\"#DejaVuSans-105\"/>\n      <use x=\"260.546875\" xlink:href=\"#DejaVuSans-110\"/>\n      <use x=\"323.925781\" xlink:href=\"#DejaVuSans-103\"/>\n      <use x=\"387.402344\" xlink:href=\"#DejaVuSans-95\"/>\n      <use x=\"437.402344\" xlink:href=\"#DejaVuSans-108\"/>\n      <use x=\"465.185547\" xlink:href=\"#DejaVuSans-111\"/>\n      <use x=\"526.367188\" xlink:href=\"#DejaVuSans-115\"/>\n      <use x=\"578.466797\" xlink:href=\"#DejaVuSans-115\"/>\n     </g>\n    </g>\n    <g id=\"line2d_19\">\n     <path d=\"M 428.115625 35.254687 \nL 448.115625 35.254687 \n\" style=\"fill:none;stroke:#ff7f0e;stroke-linecap:square;stroke-width:1.5;\"/>\n    </g>\n    <g id=\"line2d_20\"/>\n    <g id=\"text_16\">\n     <!-- validation_loss -->\n     <g transform=\"translate(456.115625 38.754687)scale(0.1 -0.1)\">\n      <defs>\n       <path d=\"M 2.984375 54.6875 \nL 12.5 54.6875 \nL 29.59375 8.796875 \nL 46.6875 54.6875 \nL 56.203125 54.6875 \nL 35.6875 0 \nL 23.484375 0 \nz\n\" id=\"DejaVuSans-118\"/>\n       <path d=\"M 45.40625 46.390625 \nL 45.40625 75.984375 \nL 54.390625 75.984375 \nL 54.390625 0 \nL 45.40625 0 \nL 45.40625 8.203125 \nQ 42.578125 3.328125 38.25 0.953125 \nQ 33.9375 -1.421875 27.875 -1.421875 \nQ 17.96875 -1.421875 11.734375 6.484375 \nQ 5.515625 14.40625 5.515625 27.296875 \nQ 5.515625 40.1875 11.734375 48.09375 \nQ 17.96875 56 27.875 56 \nQ 33.9375 56 38.25 53.625 \nQ 42.578125 51.265625 45.40625 46.390625 \nz\nM 14.796875 27.296875 \nQ 14.796875 17.390625 18.875 11.75 \nQ 22.953125 6.109375 30.078125 6.109375 \nQ 37.203125 6.109375 41.296875 11.75 \nQ 45.40625 17.390625 45.40625 27.296875 \nQ 45.40625 37.203125 41.296875 42.84375 \nQ 37.203125 48.484375 30.078125 48.484375 \nQ 22.953125 48.484375 18.875 42.84375 \nQ 14.796875 37.203125 14.796875 27.296875 \nz\n\" id=\"DejaVuSans-100\"/>\n      </defs>\n      <use xlink:href=\"#DejaVuSans-118\"/>\n      <use x=\"59.179688\" xlink:href=\"#DejaVuSans-97\"/>\n      <use x=\"120.458984\" xlink:href=\"#DejaVuSans-108\"/>\n      <use x=\"148.242188\" xlink:href=\"#DejaVuSans-105\"/>\n      <use x=\"176.025391\" xlink:href=\"#DejaVuSans-100\"/>\n      <use x=\"239.501953\" xlink:href=\"#DejaVuSans-97\"/>\n      <use x=\"300.78125\" xlink:href=\"#DejaVuSans-116\"/>\n      <use x=\"339.990234\" xlink:href=\"#DejaVuSans-105\"/>\n      <use x=\"367.773438\" xlink:href=\"#DejaVuSans-111\"/>\n      <use x=\"428.955078\" xlink:href=\"#DejaVuSans-110\"/>\n      <use x=\"492.333984\" xlink:href=\"#DejaVuSans-95\"/>\n      <use x=\"542.333984\" xlink:href=\"#DejaVuSans-108\"/>\n      <use x=\"570.117188\" xlink:href=\"#DejaVuSans-111\"/>\n      <use x=\"631.298828\" xlink:href=\"#DejaVuSans-115\"/>\n      <use x=\"683.398438\" xlink:href=\"#DejaVuSans-115\"/>\n     </g>\n    </g>\n   </g>\n  </g>\n  <g id=\"axes_2\">\n   <g id=\"patch_8\">\n    <path d=\"M 36.465625 496.44 \nL 538.665625 496.44 \nL 538.665625 274.058182 \nL 36.465625 274.058182 \nz\n\" style=\"fill:#ffffff;\"/>\n   </g>\n   <g id=\"matplotlib.axis_3\">\n    <g id=\"xtick_9\">\n     <g id=\"line2d_21\">\n      <g>\n       <use style=\"stroke:#000000;stroke-width:0.8;\" x=\"59.292898\" xlink:href=\"#m5e817be74a\" y=\"496.44\"/>\n      </g>\n     </g>\n     <g id=\"text_17\">\n      <!-- 0.0 -->\n      <g transform=\"translate(51.341335 511.038437)scale(0.1 -0.1)\">\n       <use xlink:href=\"#DejaVuSans-48\"/>\n       <use x=\"63.623047\" xlink:href=\"#DejaVuSans-46\"/>\n       <use x=\"95.410156\" xlink:href=\"#DejaVuSans-48\"/>\n      </g>\n     </g>\n    </g>\n    <g id=\"xtick_10\">\n     <g id=\"line2d_22\">\n      <g>\n       <use style=\"stroke:#000000;stroke-width:0.8;\" x=\"126.431935\" xlink:href=\"#m5e817be74a\" y=\"496.44\"/>\n      </g>\n     </g>\n     <g id=\"text_18\">\n      <!-- 2.5 -->\n      <g transform=\"translate(118.480373 511.038437)scale(0.1 -0.1)\">\n       <use xlink:href=\"#DejaVuSans-50\"/>\n       <use x=\"63.623047\" xlink:href=\"#DejaVuSans-46\"/>\n       <use x=\"95.410156\" xlink:href=\"#DejaVuSans-53\"/>\n      </g>\n     </g>\n    </g>\n    <g id=\"xtick_11\">\n     <g id=\"line2d_23\">\n      <g>\n       <use style=\"stroke:#000000;stroke-width:0.8;\" x=\"193.570973\" xlink:href=\"#m5e817be74a\" y=\"496.44\"/>\n      </g>\n     </g>\n     <g id=\"text_19\">\n      <!-- 5.0 -->\n      <g transform=\"translate(185.61941 511.038437)scale(0.1 -0.1)\">\n       <use xlink:href=\"#DejaVuSans-53\"/>\n       <use x=\"63.623047\" xlink:href=\"#DejaVuSans-46\"/>\n       <use x=\"95.410156\" xlink:href=\"#DejaVuSans-48\"/>\n      </g>\n     </g>\n    </g>\n    <g id=\"xtick_12\">\n     <g id=\"line2d_24\">\n      <g>\n       <use style=\"stroke:#000000;stroke-width:0.8;\" x=\"260.71001\" xlink:href=\"#m5e817be74a\" y=\"496.44\"/>\n      </g>\n     </g>\n     <g id=\"text_20\">\n      <!-- 7.5 -->\n      <g transform=\"translate(252.758448 511.038437)scale(0.1 -0.1)\">\n       <use xlink:href=\"#DejaVuSans-55\"/>\n       <use x=\"63.623047\" xlink:href=\"#DejaVuSans-46\"/>\n       <use x=\"95.410156\" xlink:href=\"#DejaVuSans-53\"/>\n      </g>\n     </g>\n    </g>\n    <g id=\"xtick_13\">\n     <g id=\"line2d_25\">\n      <g>\n       <use style=\"stroke:#000000;stroke-width:0.8;\" x=\"327.849047\" xlink:href=\"#m5e817be74a\" y=\"496.44\"/>\n      </g>\n     </g>\n     <g id=\"text_21\">\n      <!-- 10.0 -->\n      <g transform=\"translate(316.716235 511.038437)scale(0.1 -0.1)\">\n       <use xlink:href=\"#DejaVuSans-49\"/>\n       <use x=\"63.623047\" xlink:href=\"#DejaVuSans-48\"/>\n       <use x=\"127.246094\" xlink:href=\"#DejaVuSans-46\"/>\n       <use x=\"159.033203\" xlink:href=\"#DejaVuSans-48\"/>\n      </g>\n     </g>\n    </g>\n    <g id=\"xtick_14\">\n     <g id=\"line2d_26\">\n      <g>\n       <use style=\"stroke:#000000;stroke-width:0.8;\" x=\"394.988085\" xlink:href=\"#m5e817be74a\" y=\"496.44\"/>\n      </g>\n     </g>\n     <g id=\"text_22\">\n      <!-- 12.5 -->\n      <g transform=\"translate(383.855272 511.038437)scale(0.1 -0.1)\">\n       <use xlink:href=\"#DejaVuSans-49\"/>\n       <use x=\"63.623047\" xlink:href=\"#DejaVuSans-50\"/>\n       <use x=\"127.246094\" xlink:href=\"#DejaVuSans-46\"/>\n       <use x=\"159.033203\" xlink:href=\"#DejaVuSans-53\"/>\n      </g>\n     </g>\n    </g>\n    <g id=\"xtick_15\">\n     <g id=\"line2d_27\">\n      <g>\n       <use style=\"stroke:#000000;stroke-width:0.8;\" x=\"462.127122\" xlink:href=\"#m5e817be74a\" y=\"496.44\"/>\n      </g>\n     </g>\n     <g id=\"text_23\">\n      <!-- 15.0 -->\n      <g transform=\"translate(450.99431 511.038437)scale(0.1 -0.1)\">\n       <use xlink:href=\"#DejaVuSans-49\"/>\n       <use x=\"63.623047\" xlink:href=\"#DejaVuSans-53\"/>\n       <use x=\"127.246094\" xlink:href=\"#DejaVuSans-46\"/>\n       <use x=\"159.033203\" xlink:href=\"#DejaVuSans-48\"/>\n      </g>\n     </g>\n    </g>\n    <g id=\"xtick_16\">\n     <g id=\"line2d_28\">\n      <g>\n       <use style=\"stroke:#000000;stroke-width:0.8;\" x=\"529.26616\" xlink:href=\"#m5e817be74a\" y=\"496.44\"/>\n      </g>\n     </g>\n     <g id=\"text_24\">\n      <!-- 17.5 -->\n      <g transform=\"translate(518.133347 511.038437)scale(0.1 -0.1)\">\n       <use xlink:href=\"#DejaVuSans-49\"/>\n       <use x=\"63.623047\" xlink:href=\"#DejaVuSans-55\"/>\n       <use x=\"127.246094\" xlink:href=\"#DejaVuSans-46\"/>\n       <use x=\"159.033203\" xlink:href=\"#DejaVuSans-53\"/>\n      </g>\n     </g>\n    </g>\n   </g>\n   <g id=\"matplotlib.axis_4\">\n    <g id=\"ytick_7\">\n     <g id=\"line2d_29\">\n      <g>\n       <use style=\"stroke:#000000;stroke-width:0.8;\" x=\"36.465625\" xlink:href=\"#m17e4edf85d\" y=\"469.886587\"/>\n      </g>\n     </g>\n     <g id=\"text_25\">\n      <!-- 0.75 -->\n      <g transform=\"translate(7.2 473.685806)scale(0.1 -0.1)\">\n       <use xlink:href=\"#DejaVuSans-48\"/>\n       <use x=\"63.623047\" xlink:href=\"#DejaVuSans-46\"/>\n       <use x=\"95.410156\" xlink:href=\"#DejaVuSans-55\"/>\n       <use x=\"159.033203\" xlink:href=\"#DejaVuSans-53\"/>\n      </g>\n     </g>\n    </g>\n    <g id=\"ytick_8\">\n     <g id=\"line2d_30\">\n      <g>\n       <use style=\"stroke:#000000;stroke-width:0.8;\" x=\"36.465625\" xlink:href=\"#m17e4edf85d\" y=\"432.339254\"/>\n      </g>\n     </g>\n     <g id=\"text_26\">\n      <!-- 0.80 -->\n      <g transform=\"translate(7.2 436.138473)scale(0.1 -0.1)\">\n       <defs>\n        <path d=\"M 31.78125 34.625 \nQ 24.75 34.625 20.71875 30.859375 \nQ 16.703125 27.09375 16.703125 20.515625 \nQ 16.703125 13.921875 20.71875 10.15625 \nQ 24.75 6.390625 31.78125 6.390625 \nQ 38.8125 6.390625 42.859375 10.171875 \nQ 46.921875 13.96875 46.921875 20.515625 \nQ 46.921875 27.09375 42.890625 30.859375 \nQ 38.875 34.625 31.78125 34.625 \nz\nM 21.921875 38.8125 \nQ 15.578125 40.375 12.03125 44.71875 \nQ 8.5 49.078125 8.5 55.328125 \nQ 8.5 64.0625 14.71875 69.140625 \nQ 20.953125 74.21875 31.78125 74.21875 \nQ 42.671875 74.21875 48.875 69.140625 \nQ 55.078125 64.0625 55.078125 55.328125 \nQ 55.078125 49.078125 51.53125 44.71875 \nQ 48 40.375 41.703125 38.8125 \nQ 48.828125 37.15625 52.796875 32.3125 \nQ 56.78125 27.484375 56.78125 20.515625 \nQ 56.78125 9.90625 50.3125 4.234375 \nQ 43.84375 -1.421875 31.78125 -1.421875 \nQ 19.734375 -1.421875 13.25 4.234375 \nQ 6.78125 9.90625 6.78125 20.515625 \nQ 6.78125 27.484375 10.78125 32.3125 \nQ 14.796875 37.15625 21.921875 38.8125 \nz\nM 18.3125 54.390625 \nQ 18.3125 48.734375 21.84375 45.5625 \nQ 25.390625 42.390625 31.78125 42.390625 \nQ 38.140625 42.390625 41.71875 45.5625 \nQ 45.3125 48.734375 45.3125 54.390625 \nQ 45.3125 60.0625 41.71875 63.234375 \nQ 38.140625 66.40625 31.78125 66.40625 \nQ 25.390625 66.40625 21.84375 63.234375 \nQ 18.3125 60.0625 18.3125 54.390625 \nz\n\" id=\"DejaVuSans-56\"/>\n       </defs>\n       <use xlink:href=\"#DejaVuSans-48\"/>\n       <use x=\"63.623047\" xlink:href=\"#DejaVuSans-46\"/>\n       <use x=\"95.410156\" xlink:href=\"#DejaVuSans-56\"/>\n       <use x=\"159.033203\" xlink:href=\"#DejaVuSans-48\"/>\n      </g>\n     </g>\n    </g>\n    <g id=\"ytick_9\">\n     <g id=\"line2d_31\">\n      <g>\n       <use style=\"stroke:#000000;stroke-width:0.8;\" x=\"36.465625\" xlink:href=\"#m17e4edf85d\" y=\"394.791921\"/>\n      </g>\n     </g>\n     <g id=\"text_27\">\n      <!-- 0.85 -->\n      <g transform=\"translate(7.2 398.59114)scale(0.1 -0.1)\">\n       <use xlink:href=\"#DejaVuSans-48\"/>\n       <use x=\"63.623047\" xlink:href=\"#DejaVuSans-46\"/>\n       <use x=\"95.410156\" xlink:href=\"#DejaVuSans-56\"/>\n       <use x=\"159.033203\" xlink:href=\"#DejaVuSans-53\"/>\n      </g>\n     </g>\n    </g>\n    <g id=\"ytick_10\">\n     <g id=\"line2d_32\">\n      <g>\n       <use style=\"stroke:#000000;stroke-width:0.8;\" x=\"36.465625\" xlink:href=\"#m17e4edf85d\" y=\"357.244589\"/>\n      </g>\n     </g>\n     <g id=\"text_28\">\n      <!-- 0.90 -->\n      <g transform=\"translate(7.2 361.043807)scale(0.1 -0.1)\">\n       <defs>\n        <path d=\"M 10.984375 1.515625 \nL 10.984375 10.5 \nQ 14.703125 8.734375 18.5 7.8125 \nQ 22.3125 6.890625 25.984375 6.890625 \nQ 35.75 6.890625 40.890625 13.453125 \nQ 46.046875 20.015625 46.78125 33.40625 \nQ 43.953125 29.203125 39.59375 26.953125 \nQ 35.25 24.703125 29.984375 24.703125 \nQ 19.046875 24.703125 12.671875 31.3125 \nQ 6.296875 37.9375 6.296875 49.421875 \nQ 6.296875 60.640625 12.9375 67.421875 \nQ 19.578125 74.21875 30.609375 74.21875 \nQ 43.265625 74.21875 49.921875 64.515625 \nQ 56.59375 54.828125 56.59375 36.375 \nQ 56.59375 19.140625 48.40625 8.859375 \nQ 40.234375 -1.421875 26.421875 -1.421875 \nQ 22.703125 -1.421875 18.890625 -0.6875 \nQ 15.09375 0.046875 10.984375 1.515625 \nz\nM 30.609375 32.421875 \nQ 37.25 32.421875 41.125 36.953125 \nQ 45.015625 41.5 45.015625 49.421875 \nQ 45.015625 57.28125 41.125 61.84375 \nQ 37.25 66.40625 30.609375 66.40625 \nQ 23.96875 66.40625 20.09375 61.84375 \nQ 16.21875 57.28125 16.21875 49.421875 \nQ 16.21875 41.5 20.09375 36.953125 \nQ 23.96875 32.421875 30.609375 32.421875 \nz\n\" id=\"DejaVuSans-57\"/>\n       </defs>\n       <use xlink:href=\"#DejaVuSans-48\"/>\n       <use x=\"63.623047\" xlink:href=\"#DejaVuSans-46\"/>\n       <use x=\"95.410156\" xlink:href=\"#DejaVuSans-57\"/>\n       <use x=\"159.033203\" xlink:href=\"#DejaVuSans-48\"/>\n      </g>\n     </g>\n    </g>\n    <g id=\"ytick_11\">\n     <g id=\"line2d_33\">\n      <g>\n       <use style=\"stroke:#000000;stroke-width:0.8;\" x=\"36.465625\" xlink:href=\"#m17e4edf85d\" y=\"319.697256\"/>\n      </g>\n     </g>\n     <g id=\"text_29\">\n      <!-- 0.95 -->\n      <g transform=\"translate(7.2 323.496474)scale(0.1 -0.1)\">\n       <use xlink:href=\"#DejaVuSans-48\"/>\n       <use x=\"63.623047\" xlink:href=\"#DejaVuSans-46\"/>\n       <use x=\"95.410156\" xlink:href=\"#DejaVuSans-57\"/>\n       <use x=\"159.033203\" xlink:href=\"#DejaVuSans-53\"/>\n      </g>\n     </g>\n    </g>\n    <g id=\"ytick_12\">\n     <g id=\"line2d_34\">\n      <g>\n       <use style=\"stroke:#000000;stroke-width:0.8;\" x=\"36.465625\" xlink:href=\"#m17e4edf85d\" y=\"282.149923\"/>\n      </g>\n     </g>\n     <g id=\"text_30\">\n      <!-- 1.00 -->\n      <g transform=\"translate(7.2 285.949142)scale(0.1 -0.1)\">\n       <use xlink:href=\"#DejaVuSans-49\"/>\n       <use x=\"63.623047\" xlink:href=\"#DejaVuSans-46\"/>\n       <use x=\"95.410156\" xlink:href=\"#DejaVuSans-48\"/>\n       <use x=\"159.033203\" xlink:href=\"#DejaVuSans-48\"/>\n      </g>\n     </g>\n    </g>\n   </g>\n   <g id=\"line2d_35\">\n    <path clip-path=\"url(#p6a8388bf23)\" d=\"M 59.292898 486.331736 \nL 86.148513 359.936915 \nL 113.004128 329.011309 \nL 139.859743 313.002749 \nL 166.715358 302.451675 \nL 193.570973 296.848674 \nL 220.426588 293.938027 \nL 247.282203 291.172939 \nL 274.137818 289.499321 \nL 300.993432 288.043997 \nL 327.849047 287.170776 \nL 354.704662 286.661408 \nL 381.560277 286.006526 \nL 408.415892 286.079306 \nL 435.271507 285.788232 \nL 462.127122 285.278864 \nL 488.982737 285.13335 \nL 515.838352 284.696717 \n\" style=\"fill:none;stroke:#1f77b4;stroke-linecap:square;stroke-width:1.5;\"/>\n   </g>\n   <g id=\"line2d_36\">\n    <path clip-path=\"url(#p6a8388bf23)\" d=\"M 59.292898 387.814818 \nL 86.148513 340.225278 \nL 113.004128 318.850318 \nL 139.859743 303.524883 \nL 166.715358 297.072071 \nL 193.570973 291.425832 \nL 220.426588 289.81264 \nL 247.282203 288.199448 \nL 274.137818 287.39283 \nL 300.993432 285.779638 \nL 327.849047 285.779638 \nL 354.704662 285.376351 \nL 381.560277 285.376351 \nL 408.415892 284.97302 \nL 435.271507 284.166446 \nL 462.127122 284.166446 \nL 488.982737 284.166446 \nL 515.838352 284.166446 \n\" style=\"fill:none;stroke:#ff7f0e;stroke-linecap:square;stroke-width:1.5;\"/>\n   </g>\n   <g id=\"patch_9\">\n    <path d=\"M 36.465625 496.44 \nL 36.465625 274.058182 \n\" style=\"fill:none;stroke:#000000;stroke-linecap:square;stroke-linejoin:miter;stroke-width:0.8;\"/>\n   </g>\n   <g id=\"patch_10\">\n    <path d=\"M 538.665625 496.44 \nL 538.665625 274.058182 \n\" style=\"fill:none;stroke:#000000;stroke-linecap:square;stroke-linejoin:miter;stroke-width:0.8;\"/>\n   </g>\n   <g id=\"patch_11\">\n    <path d=\"M 36.465625 496.44 \nL 538.665625 496.44 \n\" style=\"fill:none;stroke:#000000;stroke-linecap:square;stroke-linejoin:miter;stroke-width:0.8;\"/>\n   </g>\n   <g id=\"patch_12\">\n    <path d=\"M 36.465625 274.058182 \nL 538.665625 274.058182 \n\" style=\"fill:none;stroke:#000000;stroke-linecap:square;stroke-linejoin:miter;stroke-width:0.8;\"/>\n   </g>\n   <g id=\"legend_2\">\n    <g id=\"patch_13\">\n     <path d=\"M 428.30625 491.44 \nL 531.665625 491.44 \nQ 533.665625 491.44 533.665625 489.44 \nL 533.665625 460.5275 \nQ 533.665625 458.5275 531.665625 458.5275 \nL 428.30625 458.5275 \nQ 426.30625 458.5275 426.30625 460.5275 \nL 426.30625 489.44 \nQ 426.30625 491.44 428.30625 491.44 \nz\n\" style=\"fill:#ffffff;opacity:0.8;stroke:#cccccc;stroke-linejoin:miter;\"/>\n    </g>\n    <g id=\"line2d_37\">\n     <path d=\"M 430.30625 466.625937 \nL 450.30625 466.625937 \n\" style=\"fill:none;stroke:#1f77b4;stroke-linecap:square;stroke-width:1.5;\"/>\n    </g>\n    <g id=\"line2d_38\"/>\n    <g id=\"text_31\">\n     <!-- training_acc -->\n     <g transform=\"translate(458.30625 470.125937)scale(0.1 -0.1)\">\n      <defs>\n       <path d=\"M 48.78125 52.59375 \nL 48.78125 44.1875 \nQ 44.96875 46.296875 41.140625 47.34375 \nQ 37.3125 48.390625 33.40625 48.390625 \nQ 24.65625 48.390625 19.8125 42.84375 \nQ 14.984375 37.3125 14.984375 27.296875 \nQ 14.984375 17.28125 19.8125 11.734375 \nQ 24.65625 6.203125 33.40625 6.203125 \nQ 37.3125 6.203125 41.140625 7.25 \nQ 44.96875 8.296875 48.78125 10.40625 \nL 48.78125 2.09375 \nQ 45.015625 0.34375 40.984375 -0.53125 \nQ 36.96875 -1.421875 32.421875 -1.421875 \nQ 20.0625 -1.421875 12.78125 6.34375 \nQ 5.515625 14.109375 5.515625 27.296875 \nQ 5.515625 40.671875 12.859375 48.328125 \nQ 20.21875 56 33.015625 56 \nQ 37.15625 56 41.109375 55.140625 \nQ 45.0625 54.296875 48.78125 52.59375 \nz\n\" id=\"DejaVuSans-99\"/>\n      </defs>\n      <use xlink:href=\"#DejaVuSans-116\"/>\n      <use x=\"39.208984\" xlink:href=\"#DejaVuSans-114\"/>\n      <use x=\"80.322266\" xlink:href=\"#DejaVuSans-97\"/>\n      <use x=\"141.601562\" xlink:href=\"#DejaVuSans-105\"/>\n      <use x=\"169.384766\" xlink:href=\"#DejaVuSans-110\"/>\n      <use x=\"232.763672\" xlink:href=\"#DejaVuSans-105\"/>\n      <use x=\"260.546875\" xlink:href=\"#DejaVuSans-110\"/>\n      <use x=\"323.925781\" xlink:href=\"#DejaVuSans-103\"/>\n      <use x=\"387.402344\" xlink:href=\"#DejaVuSans-95\"/>\n      <use x=\"437.402344\" xlink:href=\"#DejaVuSans-97\"/>\n      <use x=\"498.681641\" xlink:href=\"#DejaVuSans-99\"/>\n      <use x=\"553.662109\" xlink:href=\"#DejaVuSans-99\"/>\n     </g>\n    </g>\n    <g id=\"line2d_39\">\n     <path d=\"M 430.30625 481.582187 \nL 450.30625 481.582187 \n\" style=\"fill:none;stroke:#ff7f0e;stroke-linecap:square;stroke-width:1.5;\"/>\n    </g>\n    <g id=\"line2d_40\"/>\n    <g id=\"text_32\">\n     <!-- validation_acc -->\n     <g transform=\"translate(458.30625 485.082187)scale(0.1 -0.1)\">\n      <use xlink:href=\"#DejaVuSans-118\"/>\n      <use x=\"59.179688\" xlink:href=\"#DejaVuSans-97\"/>\n      <use x=\"120.458984\" xlink:href=\"#DejaVuSans-108\"/>\n      <use x=\"148.242188\" xlink:href=\"#DejaVuSans-105\"/>\n      <use x=\"176.025391\" xlink:href=\"#DejaVuSans-100\"/>\n      <use x=\"239.501953\" xlink:href=\"#DejaVuSans-97\"/>\n      <use x=\"300.78125\" xlink:href=\"#DejaVuSans-116\"/>\n      <use x=\"339.990234\" xlink:href=\"#DejaVuSans-105\"/>\n      <use x=\"367.773438\" xlink:href=\"#DejaVuSans-111\"/>\n      <use x=\"428.955078\" xlink:href=\"#DejaVuSans-110\"/>\n      <use x=\"492.333984\" xlink:href=\"#DejaVuSans-95\"/>\n      <use x=\"542.333984\" xlink:href=\"#DejaVuSans-97\"/>\n      <use x=\"603.613281\" xlink:href=\"#DejaVuSans-99\"/>\n      <use x=\"658.59375\" xlink:href=\"#DejaVuSans-99\"/>\n     </g>\n    </g>\n   </g>\n  </g>\n </g>\n <defs>\n  <clipPath id=\"p7dca81948b\">\n   <rect height=\"222.381818\" width=\"502.2\" x=\"36.465625\" y=\"7.2\"/>\n  </clipPath>\n  <clipPath id=\"p6a8388bf23\">\n   <rect height=\"222.381818\" width=\"502.2\" x=\"36.465625\" y=\"274.058182\"/>\n  </clipPath>\n </defs>\n</svg>\n",
            "image/png": "[encoded data removed]"
          },
          "metadata": {
            "needs_background": "light"
          }
        }
      ],
      "source": [
        "print(type(history.history))\n",
        "print(history.history.keys())\n",
        "\n",
        "import matplotlib.pyplot as plt\n",
        "\n",
        "fig, ax = plt.subplots(2,1, figsize=(9,9))\n",
        "ax[0].plot(history.history['loss'], label='training_loss')\n",
        "ax[0].plot(history.history['val_loss'], label='validation_loss')\n",
        "ax[0].legend()\n",
        "\n",
        "ax[1].plot(history.history['accuracy'], label='training_acc')\n",
        "ax[1].plot(history.history['val_accuracy'], label='validation_acc')\n",
        "ax[1].legend()\n",
        "plt.show()"
      ]
    },
    {
      "cell_type": "markdown",
      "metadata": {
        "id": "KPG4YEdh4AiH",
        "colab_type": "text"
      },
      "source": [
        "## load model & test on unseen data"
      ]
    },
    {
      "cell_type": "code",
      "execution_count": 73,
      "metadata": {
        "tags": []
      },
      "outputs": [],
      "source": [
        "best_model = tf.keras.models.load_model('save_models/best_model.hdf5')"
      ]
    },
    {
      "cell_type": "code",
      "metadata": {
        "id": "6KsMjtRetqLL",
        "colab_type": "code",
        "colab": {},
        "tags": []
      },
      "source": [
        " myText = \"3-(3,4-dihydroxyphenyl)prop-2-enoic acid\"\n",
        " myText_cut = \"3|-|(|3|,|4|-|di|hydroxy|phen|yl|)|prop|-|2|-|enoic acid\"  "
      ],
      "execution_count": 74,
      "outputs": []
    },
    {
      "cell_type": "code",
      "metadata": {
        "id": "WWj1_5XS30p_",
        "colab_type": "code",
        "colab": {
          "base_uri": "https://localhost:8080/",
          "height": 151
        },
        "outputId": "29d2c419-abe0-40a5-f6d0-09c7a7d01fe3",
        "tags": []
      },
      "source": [
        "_, my_y = create_dataset(myText_cut)\n",
        "myText_test = text_pred_preprocessing(myText)\n",
        "\n",
        "pred_test_proba = best_model.predict(myText_test)\n",
        "\n",
        "pred_test = decode_label(pred_test_proba)\n",
        "my_y_decode = decode_label(my_y)\n",
        "\n",
        "print(pred_test)\n",
        "print(my_y_decode)\n",
        "\n",
        "# Count same item between y (label) and pred (prediction)\n",
        "elem_same = (pred_test == my_y_decode).sum()\n",
        "print(\"\\nSame =\",elem_same,\", Not Same =\",pred_test.shape[0]-elem_same)\n",
        "\n",
        "print(\"\\nConfusion Matrix:\")\n",
        "print(tf.math.confusion_matrix(my_y_decode, pred_test, num_classes=2).numpy())"
      ],
      "execution_count": 75,
      "outputs": [
        {
          "output_type": "stream",
          "name": "stdout",
          "text": "[1 0 0 1 0 1 0 0 0 0 0 0 0]\n[1 0 0 1 0 1 0 0 0 0 0 0 0]\n\nSame = 13 , Not Same = 0\n\nConfusion Matrix:\n[[10  0]\n [ 0  3]]\n"
        }
      ]
    },
    {
      "cell_type": "code",
      "metadata": {
        "id": "jiGlram741Ne",
        "colab_type": "code",
        "colab": {
          "base_uri": "https://localhost:8080/",
          "height": 50
        },
        "outputId": "207ecdc7-48d0-4237-c9ed-8037944b4424",
        "tags": []
      },
      "source": [
        "words = word_tokenize(myText, pred_test)\n",
        "print(words)\n",
        "print('|'.join(words))"
      ],
      "execution_count": 76,
      "outputs": [
        {
          "output_type": "stream",
          "name": "stdout",
          "text": "['oct', 'an', 'oic acid']\noct|an|oic acid\n"
        }
      ]
    },
    {
      "cell_type": "code",
      "execution_count": 77,
      "metadata": {},
      "outputs": [],
      "source": [
        "import nltk\n",
        "reference = [myText_cut.split('|')]\n",
        "score = nltk.translate.bleu_score.sentence_bleu(reference,words)"
      ]
    },
    {
      "cell_type": "code",
      "execution_count": 78,
      "metadata": {
        "tags": []
      },
      "outputs": [
        {
          "output_type": "stream",
          "name": "stdout",
          "text": "1.2213386697554703e-77\n"
        }
      ],
      "source": [
        "print(score)"
      ]
    }
  ]
}