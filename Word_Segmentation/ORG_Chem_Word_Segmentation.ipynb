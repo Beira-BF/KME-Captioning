{
  "cells": [
    {
      "cell_type": "markdown",
      "metadata": {
        "id": "B3OfNRQA3Gt8"
      },
      "source": [
        "# Import Character Vocab\n"
      ]
    },
    {
      "cell_type": "code",
      "execution_count": 2,
      "metadata": {
        "id": "WOlG2SQfrlOw"
      },
      "outputs": [],
      "source": [
        "import numpy as np\n",
        "import json\n",
        "import tensorflow as tf"
      ]
    },
    {
      "cell_type": "code",
      "execution_count": 3,
      "metadata": {},
      "outputs": [],
      "source": [
        "gpus = tf.config.experimental.list_physical_devices('GPU')\r\n",
        "tf.config.experimental.set_visible_devices(gpus[0], 'GPU')\r\n",
        "tf.config.experimental.set_memory_growth(gpus[0], True)"
      ]
    },
    {
      "cell_type": "code",
      "execution_count": 4,
      "metadata": {
        "colab": {
          "base_uri": "https://localhost:8080/",
          "height": 34
        },
        "id": "Yq7h6WJTs89M",
        "outputId": "1030b00a-bffd-4b49-d302-be9db7b202c8"
      },
      "outputs": [],
      "source": [
        "with open('files/vocab.json', 'r') as f:\r\n",
        "  CHAR_INDICES = json.load(f)"
      ]
    },
    {
      "cell_type": "code",
      "execution_count": 5,
      "metadata": {
        "colab": {
          "base_uri": "https://localhost:8080/",
          "height": 54
        },
        "id": "iKdOILCutjVM",
        "outputId": "b5739165-d224-43fd-a4e3-a313f95f8fa6"
      },
      "outputs": [
        {
          "name": "stdout",
          "output_type": "stream",
          "text": [
            "{' ': 0, '(': 1, ')': 2, ',': 3, '-': 4, '0': 5, '1': 6, '2': 7, '3': 8, '4': 9, '5': 10, '6': 11, '7': 12, '8': 13, '9': 14, 'A': 15, 'B': 16, 'C': 17, 'D': 18, 'E': 19, 'F': 20, 'G': 21, 'H': 22, 'I': 23, 'J': 24, 'K': 25, 'L': 26, 'M': 27, 'N': 28, 'O': 29, 'P': 30, 'Q': 31, 'R': 32, 'S': 33, 'T': 34, 'U': 35, 'V': 36, 'W': 37, 'X': 38, 'Y': 39, 'Z': 40, 'a': 41, 'b': 42, 'c': 43, 'd': 44, 'e': 45, 'f': 46, 'g': 47, 'h': 48, 'i': 49, 'j': 50, 'k': 51, 'l': 52, 'm': 53, 'n': 54, 'o': 55, 'p': 56, 'q': 57, 'r': 58, 's': 59, 't': 60, 'u': 61, 'v': 62, 'w': 63, 'x': 64, 'y': 65, 'z': 66, '[': 67, ']': 68, '<pad>': 69, '<unk>': 70, '.': 71, \"'\": 72}\n"
          ]
        }
      ],
      "source": [
        "print(CHAR_INDICES)"
      ]
    },
    {
      "cell_type": "markdown",
      "metadata": {
        "id": "iGUQS25OVJIJ"
      },
      "source": [
        "# Preprocessing text data"
      ]
    },
    {
      "cell_type": "markdown",
      "metadata": {
        "id": "CsUEAfwPiMj1"
      },
      "source": [
        "## look_back"
      ]
    },
    {
      "cell_type": "code",
      "execution_count": 6,
      "metadata": {
        "id": "IN2uPnKJdr0h"
      },
      "outputs": [],
      "source": [
        "look_back = 10"
      ]
    },
    {
      "cell_type": "code",
      "execution_count": 7,
      "metadata": {
        "id": "wYP03g3TrMXb"
      },
      "outputs": [],
      "source": [
        "def create_dataset(text, look_back = look_back):\n",
        "\n",
        "  \"\"\"\n",
        "  take text with label (text that being defined where to cut ('|')) \n",
        "  and encode text and make label\n",
        "  return preprocessed text & preprocessed label\n",
        "  \"\"\"\n",
        "  X, y = [], []\n",
        "  text = '|' + text\n",
        "  data = [CHAR_INDICES['<pad>']] * look_back\n",
        "  for i in range(1, len(text)):\n",
        "    current_char = text[i]\n",
        "    before_char = text[i-1]\n",
        "\n",
        "    if current_char == '|':\n",
        "      continue\n",
        "    data = data[1:] + [CHAR_INDICES[current_char]]  # X data\n",
        "\n",
        "    target = 1 if before_char == '|' else 0  # y data\n",
        "    X.append(data)\n",
        "    y.append(target)\n",
        "  \n",
        "  return np.array(X), tf.one_hot(y, 2)"
      ]
    },
    {
      "cell_type": "code",
      "execution_count": 8,
      "metadata": {
        "id": "LhL81QrDazGn"
      },
      "outputs": [],
      "source": [
        "def text_pred_preprocessing(text, sequence_len=look_back):\n",
        "  \"\"\"\n",
        "    take unseen (testing) text and encode it with CHAR_DICT\n",
        "    //It's like create_dataset() but not return label\n",
        "    return preprocessed text\n",
        "  \"\"\"\n",
        "  X = []\n",
        "  data = [CHAR_INDICES['<pad>']] * sequence_len\n",
        "  for char in text:\n",
        "    char = char if char in CHAR_INDICES else '<unk>'  # check char in dictionary\n",
        "    data = data[1:] + [CHAR_INDICES[char]]  # X data\n",
        "    X.append(data)\n",
        "  return np.array(X)"
      ]
    },
    {
      "cell_type": "code",
      "execution_count": 9,
      "metadata": {
        "id": "98YuegoQyZvQ"
      },
      "outputs": [],
      "source": [
        "def word_tokenize(text, class_):\n",
        "    cut_indexs = []\n",
        "    words = []\n",
        "\n",
        "    # boolean index of each word 1 if cut before\n",
        "    class_ = np.append(class_, 1)\n",
        "\n",
        "    # if y_label at i is 1 so add i (index) to cut_indexs\n",
        "    for i, value in enumerate(class_):\n",
        "      if value == 1:\n",
        "        cut_indexs.append(i)\n",
        "\n",
        "    # add word after cutting till before ext cutting\n",
        "    for i in range(len(cut_indexs)-1):\n",
        "      words.append(text[cut_indexs[i]:cut_indexs[i+1]])\n",
        "    \n",
        "    return words"
      ]
    },
    {
      "cell_type": "code",
      "execution_count": 10,
      "metadata": {
        "id": "uaKNlRBTNtwy"
      },
      "outputs": [],
      "source": [
        "def decode_label(y):\n",
        "  return tf.argmax(y, axis=-1).numpy()"
      ]
    },
    {
      "cell_type": "markdown",
      "metadata": {
        "id": "SqK1KQFO2SgX"
      },
      "source": [
        "## Import JSON"
      ]
    },
    {
      "cell_type": "code",
      "execution_count": 11,
      "metadata": {
        "colab": {
          "base_uri": "https://localhost:8080/",
          "height": 50
        },
        "id": "zHyGGAJyz7FM",
        "outputId": "9fb9ef34-8ad9-4f4c-aebd-aeaff5e0d351"
      },
      "outputs": [],
      "source": [
        "with open('../Web_Scraping/database/Dict_segment.json', 'r') as f1, open('../Web_Scraping/database/Dict_segment_cut.json', 'r') as f2:\n",
        "  Dict = json.load(f1)\n",
        "  Dict_cut = json.load(f2)\n",
        "\n",
        "with open('../Web_Scraping/database/Dict_segment_12-7-20.json', 'r') as f1, open('../Web_Scraping/database/Dict_segment_cut_12-7-20.json', 'r') as f2:\n",
        "  Dict_12_7_20 = json.load(f1)\n",
        "  Dict_cut_12_7_20 = json.load(f2)\n",
        "\n",
        "with open('../Web_Scraping/database/Dict_segment_12-2-20_hex.json', 'r') as f1, open('../Web_Scraping/database/Dict_segment_cut_12-2-20_hex.json', 'r') as f2:\n",
        "  Dict_hex_12_2_20 = json.load(f1)\n",
        "  Dict_hex_cut_12_2_20 = json.load(f2)"
      ]
    },
    {
      "cell_type": "code",
      "execution_count": 12,
      "metadata": {},
      "outputs": [
        {
          "data": {
            "text/plain": "['hex|yl|sti|bane',\n '1|,|2|-|di|deuterio|hex|ane',\n '1|,|4|-|di|deuterio|hex|ane',\n '1|,|5|-|di|deuterio|hex|ane',\n 'hex|ane',\n '1|,|3|-|di|deuterio|pent|ane',\n '1|,|5|-|di|deuterio|pent|ane',\n '2|,|4|-|di|deuterio|pent|ane',\n '1|,|4|-|di|deuterio|pent|ane',\n '(|1|,|2|,|3|,|4|,|5|-|1|3|C|5|)|pent|ane']"
          },
          "execution_count": 12,
          "metadata": {},
          "output_type": "execute_result"
        }
      ],
      "source": [
        "Dict_hex_cut_12_2_20['mixed_12-6-20'][:10]"
      ]
    },
    {
      "cell_type": "code",
      "execution_count": 13,
      "metadata": {
        "colab": {
          "base_uri": "https://localhost:8080/",
          "height": 874
        },
        "id": "rRbRE5NFtfcE",
        "outputId": "da7000b5-46b1-4e87-de33-f0df6ba4d780"
      },
      "outputs": [
        {
          "data": {
            "text/plain": "\"\\ntotal_text = 0\\n\\nfor key, value in Dict.items():\\n    print(key, len(value))\\n    total_text += len(value)\\nprint('-'*15)\\nfor key, value in Dict_cut.items():\\n    print(key, len(value))\\n\""
          },
          "execution_count": 13,
          "metadata": {},
          "output_type": "execute_result"
        }
      ],
      "source": [
        "\"\"\"\r\n",
        "total_text = 0\r\n",
        "\r\n",
        "for key, value in Dict.items():\r\n",
        "    print(key, len(value))\r\n",
        "    total_text += len(value)\r\n",
        "print('-'*15)\r\n",
        "for key, value in Dict_cut.items():\r\n",
        "    print(key, len(value))\r\n",
        "\"\"\""
      ]
    },
    {
      "cell_type": "code",
      "execution_count": 14,
      "metadata": {
        "colab": {
          "base_uri": "https://localhost:8080/",
          "height": 67
        },
        "id": "jCUEPJ1rsPRC",
        "outputId": "52e8082c-d696-4e9d-9b16-5b69bc17026f"
      },
      "outputs": [
        {
          "data": {
            "text/plain": "'print(\\'key Dict:\\',len(Dict.keys()))\\nprint(\\'ket Dict_cut:\\',len(Dict_cut.keys()))\\nprint(f\"There are {total_text} chemical in dataset\")'"
          },
          "execution_count": 14,
          "metadata": {},
          "output_type": "execute_result"
        }
      ],
      "source": [
        "\"\"\"print('key Dict:',len(Dict.keys()))\r\n",
        "print('ket Dict_cut:',len(Dict_cut.keys()))\r\n",
        "print(f\"There are {total_text} chemical in dataset\")\"\"\""
      ]
    },
    {
      "cell_type": "markdown",
      "metadata": {
        "id": "1YStOZHdVPt1"
      },
      "source": [
        "# Create Dataset"
      ]
    },
    {
      "cell_type": "code",
      "execution_count": 15,
      "metadata": {
        "id": "g7ObjkBwGAcG"
      },
      "outputs": [],
      "source": [
        "from sklearn.model_selection import train_test_split"
      ]
    },
    {
      "cell_type": "code",
      "execution_count": 16,
      "metadata": {
        "colab": {
          "base_uri": "https://localhost:8080/",
          "height": 101
        },
        "id": "2jUhDMYLT45h",
        "outputId": "e518ec4f-9b26-4715-9b7d-aacda2a7f4a3"
      },
      "outputs": [
        {
          "name": "stdout",
          "output_type": "stream",
          "text": [
            "octane hexane nonane butane ethane heptane decane propane 2,3,4,4-tetramethylhexane 3-ethyl-3-methylh\n",
            "261143\n",
            "-------------------------\n",
            "oct|ane hex|ane non|ane but|ane eth|ane hept|ane dec|ane prop|ane 2|,|3|,\n",
            "261142\n"
          ]
        }
      ],
      "source": [
        "dataset_train_arr = []\r\n",
        "dataset_val_arr = []\r\n",
        "\r\n",
        "dataset_cut_train_arr = []\r\n",
        "dataset_cut_val_arr = []\r\n",
        "\r\n",
        "for key in Dict.keys():\r\n",
        "    value_dict = Dict[key]\r\n",
        "    value_dict_cut = Dict_cut[key]\r\n",
        "    first_arr, second_arr, first_cut_arr, second_cut_arr = train_test_split(value_dict, value_dict_cut, test_size=0.2, random_state=123, shuffle=True)\r\n",
        "\r\n",
        "    dataset_train_arr = np.concatenate((dataset_train_arr, first_arr), axis=0)\r\n",
        "    dataset_val_arr = np.concatenate((dataset_val_arr, second_arr), axis=0)\r\n",
        "\r\n",
        "    dataset_cut_train_arr = np.concatenate((dataset_cut_train_arr, first_cut_arr), axis=0)\r\n",
        "    dataset_cut_val_arr = np.concatenate((dataset_cut_val_arr, second_cut_arr), axis=0)\r\n",
        "\r\n",
        "mixed_dataset = np.concatenate((Dict_12_7_20['mixed_12-6-20'], Dict_hex_12_2_20['mixed_12-6-20']))\r\n",
        "mixed_dataset_cut = np.concatenate((Dict_cut_12_7_20['mixed_12-6-20'], Dict_hex_cut_12_2_20['mixed_12-6-20']))\r\n",
        "\r\n",
        "mixed_dataset_train, mixed_dataset_val, mixed_dataset_cut_train, mixed_dataset_cut_val = train_test_split(\r\n",
        "    mixed_dataset, mixed_dataset_cut, test_size=0.2, random_state=123, shuffle=True\r\n",
        ")\r\n",
        "\r\n",
        "dataset_train_arr = np.concatenate((dataset_train_arr, mixed_dataset_train))\r\n",
        "dataset_val_arr = np.concatenate((dataset_val_arr, mixed_dataset_val))\r\n",
        "dataset_cut_train_arr = np.concatenate((dataset_cut_train_arr, mixed_dataset_cut_train))\r\n",
        "dataset_cut_train_val = np.concatenate((dataset_cut_val_arr, mixed_dataset_cut_val))\r\n",
        "\r\n",
        "print(' '.join(dataset_train_arr)[:101])\r\n",
        "print(len(' '.join(dataset_train_arr).replace('|','')))\r\n",
        "print('-'*25)\r\n",
        "print(' '.join(dataset_cut_train_arr)[:73])\r\n",
        "print(len(' '.join(dataset_cut_train_arr).replace('|','')))"
      ]
    },
    {
      "cell_type": "code",
      "execution_count": 17,
      "metadata": {
        "colab": {
          "base_uri": "https://localhost:8080/",
          "height": 168
        },
        "id": "-7XZX1LfsSY5",
        "outputId": "768d95bf-ec92-46fa-e199-36f25022c6aa"
      },
      "outputs": [
        {
          "name": "stdout",
          "output_type": "stream",
          "text": [
            "(6549,)\n",
            "octane hexane nonane butane ethane heptane decane propane 2,3,4,4-t\n",
            "(6549,)\n",
            "oct|ane| |hex|ane| |non|ane| |but|ane| |eth|ane| |hept|ane| |dec|ane| |prop|ane| |2|,|3|,|4|,|4|-|t\n",
            "--------------------\n",
            "(1651,)\n",
            "pentane methane 3-bromo-3-(bromomethyl)pentane 3-iodo-3-methylpentane 1,2,\n",
            "(199,)\n",
            "pent|ane| |meth|ane| |3|-|bromo|-|3|-|(|bromo|meth|yl|)|pent|ane| |3|-|iodo|-|3|-|meth|yl|pent|ane| |1|,|2|,|3|-|\n"
          ]
        }
      ],
      "source": [
        "dataset_train_text = ' '.join(dataset_train_arr)\n",
        "dataset_val_text = ' '.join(dataset_val_arr)\n",
        "dataset_cut_train_text = '| |'.join(dataset_cut_train_arr)\n",
        "dataset_cut_val_text = '| |'.join(dataset_cut_val_arr)\n",
        "\n",
        "print(dataset_train_arr.shape)\n",
        "print(dataset_train_text[:67])\n",
        "print(dataset_cut_train_arr.shape)\n",
        "print(dataset_cut_train_text[:99])\n",
        "print('-'*20)\n",
        "\n",
        "print(dataset_val_arr.shape)\n",
        "print(dataset_val_text[:74])\n",
        "print(dataset_cut_val_arr.shape)\n",
        "print(dataset_cut_val_text[:113])"
      ]
    },
    {
      "cell_type": "code",
      "execution_count": 18,
      "metadata": {
        "colab": {
          "base_uri": "https://localhost:8080/",
          "height": 50
        },
        "id": "u2afRpduVvog",
        "outputId": "8172ad0e-56d0-4238-80a0-f9bce2847802"
      },
      "outputs": [
        {
          "name": "stdout",
          "output_type": "stream",
          "text": [
            "(261142, 10) (261142, 2)\n",
            "(4734, 10) (4734, 2)\n"
          ]
        }
      ],
      "source": [
        "X_train ,y_train = create_dataset(dataset_cut_train_text)\n",
        "X_val, y_val = create_dataset(dataset_cut_val_text)\n",
        "\n",
        "print(X_train.shape, y_train.shape)\n",
        "print(X_val.shape, y_val.shape)"
      ]
    },
    {
      "cell_type": "code",
      "execution_count": 19,
      "metadata": {
        "id": "ZLZO-FPGlzz_"
      },
      "outputs": [],
      "source": [
        "training_data = tf.data.Dataset.from_tensor_slices((X_train,y_train))\r\n",
        "training_data = training_data.batch(512).cache().prefetch(tf.data.experimental.AUTOTUNE)\r\n",
        "\r\n",
        "validation_data = tf.data.Dataset.from_tensor_slices((X_val, y_val))\r\n",
        "validation_data = validation_data.batch(512).cache().prefetch(tf.data.experimental.AUTOTUNE)\r\n",
        "\r\n",
        "#print(tf.shape(training_data))"
      ]
    },
    {
      "cell_type": "markdown",
      "metadata": {
        "id": "4SxmThNeVVg4"
      },
      "source": [
        "# Create Model"
      ]
    },
    {
      "cell_type": "markdown",
      "metadata": {
        "id": "1GK3s02l336w"
      },
      "source": [
        "## Model Architecture"
      ]
    },
    {
      "cell_type": "code",
      "execution_count": 20,
      "metadata": {
        "id": "yecuD8XIVXVn"
      },
      "outputs": [],
      "source": [
        "from tensorflow.keras.layers import Bidirectional, LSTM, Dense, Embedding, GRU, Dropout\n",
        "from tensorflow.keras.losses import BinaryCrossentropy\n",
        "from tensorflow.keras.optimizers import Adam\n",
        "from tensorflow.keras.models import Sequential"
      ]
    },
    {
      "cell_type": "code",
      "execution_count": 21,
      "metadata": {
        "colab": {
          "base_uri": "https://localhost:8080/",
          "height": 34
        },
        "id": "ZLVuON-cdnSQ",
        "outputId": "b951da14-6d76-4c79-e349-13aa023e4b6f"
      },
      "outputs": [
        {
          "name": "stdout",
          "output_type": "stream",
          "text": [
            "73\n"
          ]
        }
      ],
      "source": [
        "_input_shape = (look_back, len(CHAR_INDICES))\n",
        "print(_input_shape[1])"
      ]
    },
    {
      "cell_type": "code",
      "execution_count": 22,
      "metadata": {
        "id": "A0jAOIBzdDYJ"
      },
      "outputs": [],
      "source": [
        "Model = Sequential(\r\n",
        "    [\r\n",
        "     Embedding(len(CHAR_INDICES), 64),\r\n",
        "     Bidirectional(LSTM(32, return_sequences=False), merge_mode='concat'),\r\n",
        "     Dense(32, activation='relu'),\r\n",
        "     Dense(2, activation='softmax')\r\n",
        "    ],\r\n",
        "    name='model'\r\n",
        ")"
      ]
    },
    {
      "cell_type": "code",
      "execution_count": 23,
      "metadata": {
        "colab": {
          "base_uri": "https://localhost:8080/",
          "height": 415
        },
        "id": "WifMOz_Kextr",
        "outputId": "d039b7a6-3db3-467e-cc2a-63cf6c79df72"
      },
      "outputs": [
        {
          "name": "stdout",
          "output_type": "stream",
          "text": [
            "Model: \"model\"\n",
            "_________________________________________________________________\n",
            "Layer (type)                 Output Shape              Param #   \n",
            "=================================================================\n",
            "embedding (Embedding)        (None, None, 64)          4672      \n",
            "_________________________________________________________________\n",
            "bidirectional (Bidirectional (None, 64)                24832     \n",
            "_________________________________________________________________\n",
            "dense (Dense)                (None, 32)                2080      \n",
            "_________________________________________________________________\n",
            "dense_1 (Dense)              (None, 2)                 66        \n",
            "=================================================================\n",
            "Total params: 31,650\n",
            "Trainable params: 31,650\n",
            "Non-trainable params: 0\n",
            "_________________________________________________________________\n"
          ]
        }
      ],
      "source": [
        "Model.summary()"
      ]
    },
    {
      "cell_type": "markdown",
      "metadata": {
        "id": "QNzpxjEb38LI"
      },
      "source": [
        "## Training Model (with callback)\n"
      ]
    },
    {
      "cell_type": "code",
      "execution_count": 24,
      "metadata": {
        "colab": {
          "base_uri": "https://localhost:8080/",
          "height": 1000
        },
        "id": "uXJ10S4MfBgN",
        "outputId": "57e4935d-f7a7-4829-e67f-bdd183ddae97"
      },
      "outputs": [
        {
          "name": "stdout",
          "output_type": "stream",
          "text": [
            "Epoch 1/500\n",
            "511/511 [==============================] - 7s 7ms/step - loss: 0.3180 - accuracy: 0.8695 - val_loss: 0.0897 - val_accuracy: 0.9742\n",
            "Epoch 2/500\n",
            "511/511 [==============================] - 4s 7ms/step - loss: 0.0539 - accuracy: 0.9835 - val_loss: 0.0487 - val_accuracy: 0.9861\n",
            "Epoch 3/500\n",
            "511/511 [==============================] - 3s 6ms/step - loss: 0.0309 - accuracy: 0.9906 - val_loss: 0.0379 - val_accuracy: 0.9918\n",
            "Epoch 4/500\n",
            "511/511 [==============================] - 3s 6ms/step - loss: 0.0230 - accuracy: 0.9935 - val_loss: 0.0338 - val_accuracy: 0.9932\n",
            "Epoch 5/500\n",
            "511/511 [==============================] - 3s 6ms/step - loss: 0.0191 - accuracy: 0.9945 - val_loss: 0.0316 - val_accuracy: 0.9941\n",
            "Epoch 6/500\n",
            "511/511 [==============================] - 3s 6ms/step - loss: 0.0166 - accuracy: 0.9953 - val_loss: 0.0303 - val_accuracy: 0.9943\n",
            "Epoch 7/500\n",
            "511/511 [==============================] - 3s 6ms/step - loss: 0.0148 - accuracy: 0.9958 - val_loss: 0.0280 - val_accuracy: 0.9943\n",
            "Epoch 8/500\n",
            "511/511 [==============================] - 3s 6ms/step - loss: 0.0130 - accuracy: 0.9963 - val_loss: 0.0272 - val_accuracy: 0.9941\n",
            "Epoch 9/500\n",
            "511/511 [==============================] - 3s 6ms/step - loss: 0.0116 - accuracy: 0.9967 - val_loss: 0.0262 - val_accuracy: 0.9935\n",
            "Epoch 10/500\n",
            "511/511 [==============================] - 3s 6ms/step - loss: 0.0105 - accuracy: 0.9968 - val_loss: 0.0259 - val_accuracy: 0.9930\n",
            "Epoch 11/500\n",
            "511/511 [==============================] - 3s 6ms/step - loss: 0.0094 - accuracy: 0.9972 - val_loss: 0.0252 - val_accuracy: 0.9941\n",
            "Epoch 12/500\n",
            "511/511 [==============================] - 3s 6ms/step - loss: 0.0086 - accuracy: 0.9974 - val_loss: 0.0253 - val_accuracy: 0.9941\n",
            "Epoch 13/500\n",
            "511/511 [==============================] - 3s 6ms/step - loss: 0.0082 - accuracy: 0.9975 - val_loss: 0.0267 - val_accuracy: 0.9939\n",
            "\n",
            "Epoch 00013: ReduceLROnPlateau reducing learning rate to 0.00020000000949949026.\n",
            "Epoch 14/500\n",
            "511/511 [==============================] - 3s 6ms/step - loss: 0.0070 - accuracy: 0.9979 - val_loss: 0.0220 - val_accuracy: 0.9973\n",
            "Epoch 15/500\n",
            "511/511 [==============================] - 3s 6ms/step - loss: 0.0059 - accuracy: 0.9983 - val_loss: 0.0223 - val_accuracy: 0.9970\n",
            "Epoch 16/500\n",
            "511/511 [==============================] - 3s 6ms/step - loss: 0.0057 - accuracy: 0.9984 - val_loss: 0.0225 - val_accuracy: 0.9970\n",
            "\n",
            "Epoch 00016: ReduceLROnPlateau reducing learning rate to 4.0000001899898055e-05.\n",
            "Epoch 17/500\n",
            "511/511 [==============================] - 3s 6ms/step - loss: 0.0054 - accuracy: 0.9985 - val_loss: 0.0222 - val_accuracy: 0.9968\n",
            "Epoch 18/500\n",
            "511/511 [==============================] - 3s 6ms/step - loss: 0.0052 - accuracy: 0.9986 - val_loss: 0.0223 - val_accuracy: 0.9968\n",
            "\n",
            "Epoch 00018: ReduceLROnPlateau reducing learning rate to 8.000000525498762e-06.\n",
            "Epoch 00018: early stopping\n"
          ]
        }
      ],
      "source": [
        "Model.compile(optimizer = tf.keras.optimizers.Adam(learning_rate=0.001), loss='categorical_crossentropy', metrics=['accuracy'])\n",
        "\n",
        "checkpoint_path = 'save_models/best_model.hdf5'\n",
        "checkpoint_callback = tf.keras.callbacks.ModelCheckpoint(\n",
        "    filepath=checkpoint_path,\n",
        "    monitor='val_accuracy',\n",
        "    mode='max',\n",
        "    verbose=0,\n",
        "    save_best_only=True\n",
        ")\n",
        "\n",
        "earlystop_callback = tf.keras.callbacks.EarlyStopping(\n",
        "    monitor='val_loss', patience=4,\n",
        "    verbose=1\n",
        ")\n",
        "\n",
        "reduce_lr = tf.keras.callbacks.ReduceLROnPlateau(monitor='val_loss', factor=0.2, patience=2, verbose=1)\n",
        "\n",
        "callback_list = [checkpoint_callback, earlystop_callback, reduce_lr]\n",
        "history = Model.fit(training_data, validation_data=validation_data, epochs=500, callbacks=callback_list)"
      ]
    },
    {
      "cell_type": "markdown",
      "metadata": {
        "id": "L8DssGfR2LKG"
      },
      "source": [
        "##  Plot loss function and accuracy"
      ]
    },
    {
      "cell_type": "code",
      "execution_count": 25,
      "metadata": {
        "colab": {
          "base_uri": "https://localhost:8080/",
          "height": 354
        },
        "id": "W5wd1CJWscCl",
        "outputId": "66842ba9-2cf2-4734-f849-0cb70a1d55a7"
      },
      "outputs": [
        {
          "name": "stdout",
          "output_type": "stream",
          "text": [
            "<class 'dict'>\n",
            "dict_keys(['loss', 'accuracy', 'val_loss', 'val_accuracy', 'lr'])\n"
          ]
        },
        {
          "data": {
            "image/png": "[encoded data removed]",
            "image/svg+xml": "<?xml version=\"1.0\" encoding=\"utf-8\" standalone=\"no\"?>\n<!DOCTYPE svg PUBLIC \"-//W3C//DTD SVG 1.1//EN\"\n  \"http://www.w3.org/Graphics/SVG/1.1/DTD/svg11.dtd\">\n<!-- Created with matplotlib (https://matplotlib.org/) -->\n<svg height=\"302.878125pt\" version=\"1.1\" viewBox=\"0 0 486.480857 302.878125\" width=\"486.480857pt\" xmlns=\"http://www.w3.org/2000/svg\" xmlns:xlink=\"http://www.w3.org/1999/xlink\">\n <metadata>\n  <rdf:RDF xmlns:cc=\"http://creativecommons.org/ns#\" xmlns:dc=\"http://purl.org/dc/elements/1.1/\" xmlns:rdf=\"http://www.w3.org/1999/02/22-rdf-syntax-ns#\">\n   <cc:Work>\n    <dc:type rdf:resource=\"http://purl.org/dc/dcmitype/StillImage\"/>\n    <dc:date>2020-12-09T19:12:53.974561</dc:date>\n    <dc:format>image/svg+xml</dc:format>\n    <dc:creator>\n     <cc:Agent>\n      <dc:title>Matplotlib v3.3.3, https://matplotlib.org/</dc:title>\n     </cc:Agent>\n    </dc:creator>\n   </cc:Work>\n  </rdf:RDF>\n </metadata>\n <defs>\n  <style type=\"text/css\">*{stroke-linecap:butt;stroke-linejoin:round;}</style>\n </defs>\n <g id=\"figure_1\">\n  <g id=\"patch_1\">\n   <path d=\"M 0 302.878125 \nL 486.480857 302.878125 \nL 486.480857 0 \nL 0 0 \nz\n\" style=\"fill:none;\"/>\n  </g>\n  <g id=\"axes_1\">\n   <g id=\"patch_2\">\n    <path d=\"M 30.103125 279 \nL 476.503125 279 \nL 476.503125 7.2 \nL 30.103125 7.2 \nz\n\" style=\"fill:#ffffff;\"/>\n   </g>\n   <g id=\"matplotlib.axis_1\">\n    <g id=\"xtick_1\">\n     <g id=\"line2d_1\">\n      <defs>\n       <path d=\"M 0 0 \nL 0 3.5 \n\" id=\"mbddf4f1c8a\" style=\"stroke:#000000;stroke-width:0.8;\"/>\n      </defs>\n      <g>\n       <use style=\"stroke:#000000;stroke-width:0.8;\" x=\"50.394034\" xlink:href=\"#mbddf4f1c8a\" y=\"279\"/>\n      </g>\n     </g>\n     <g id=\"text_1\">\n      <!-- 0.0 -->\n      <g transform=\"translate(42.442472 293.598437)scale(0.1 -0.1)\">\n       <defs>\n        <path d=\"M 31.78125 66.40625 \nQ 24.171875 66.40625 20.328125 58.90625 \nQ 16.5 51.421875 16.5 36.375 \nQ 16.5 21.390625 20.328125 13.890625 \nQ 24.171875 6.390625 31.78125 6.390625 \nQ 39.453125 6.390625 43.28125 13.890625 \nQ 47.125 21.390625 47.125 36.375 \nQ 47.125 51.421875 43.28125 58.90625 \nQ 39.453125 66.40625 31.78125 66.40625 \nz\nM 31.78125 74.21875 \nQ 44.046875 74.21875 50.515625 64.515625 \nQ 56.984375 54.828125 56.984375 36.375 \nQ 56.984375 17.96875 50.515625 8.265625 \nQ 44.046875 -1.421875 31.78125 -1.421875 \nQ 19.53125 -1.421875 13.0625 8.265625 \nQ 6.59375 17.96875 6.59375 36.375 \nQ 6.59375 54.828125 13.0625 64.515625 \nQ 19.53125 74.21875 31.78125 74.21875 \nz\n\" id=\"DejaVuSans-48\"/>\n        <path d=\"M 10.6875 12.40625 \nL 21 12.40625 \nL 21 0 \nL 10.6875 0 \nz\n\" id=\"DejaVuSans-46\"/>\n       </defs>\n       <use xlink:href=\"#DejaVuSans-48\"/>\n       <use x=\"63.623047\" xlink:href=\"#DejaVuSans-46\"/>\n       <use x=\"95.410156\" xlink:href=\"#DejaVuSans-48\"/>\n      </g>\n     </g>\n    </g>\n    <g id=\"xtick_2\">\n     <g id=\"line2d_2\">\n      <g>\n       <use style=\"stroke:#000000;stroke-width:0.8;\" x=\"110.073178\" xlink:href=\"#mbddf4f1c8a\" y=\"279\"/>\n      </g>\n     </g>\n     <g id=\"text_2\">\n      <!-- 2.5 -->\n      <g transform=\"translate(102.121616 293.598437)scale(0.1 -0.1)\">\n       <defs>\n        <path d=\"M 19.1875 8.296875 \nL 53.609375 8.296875 \nL 53.609375 0 \nL 7.328125 0 \nL 7.328125 8.296875 \nQ 12.9375 14.109375 22.625 23.890625 \nQ 32.328125 33.6875 34.8125 36.53125 \nQ 39.546875 41.84375 41.421875 45.53125 \nQ 43.3125 49.21875 43.3125 52.78125 \nQ 43.3125 58.59375 39.234375 62.25 \nQ 35.15625 65.921875 28.609375 65.921875 \nQ 23.96875 65.921875 18.8125 64.3125 \nQ 13.671875 62.703125 7.8125 59.421875 \nL 7.8125 69.390625 \nQ 13.765625 71.78125 18.9375 73 \nQ 24.125 74.21875 28.421875 74.21875 \nQ 39.75 74.21875 46.484375 68.546875 \nQ 53.21875 62.890625 53.21875 53.421875 \nQ 53.21875 48.921875 51.53125 44.890625 \nQ 49.859375 40.875 45.40625 35.40625 \nQ 44.1875 33.984375 37.640625 27.21875 \nQ 31.109375 20.453125 19.1875 8.296875 \nz\n\" id=\"DejaVuSans-50\"/>\n        <path d=\"M 10.796875 72.90625 \nL 49.515625 72.90625 \nL 49.515625 64.59375 \nL 19.828125 64.59375 \nL 19.828125 46.734375 \nQ 21.96875 47.46875 24.109375 47.828125 \nQ 26.265625 48.1875 28.421875 48.1875 \nQ 40.625 48.1875 47.75 41.5 \nQ 54.890625 34.8125 54.890625 23.390625 \nQ 54.890625 11.625 47.5625 5.09375 \nQ 40.234375 -1.421875 26.90625 -1.421875 \nQ 22.3125 -1.421875 17.546875 -0.640625 \nQ 12.796875 0.140625 7.71875 1.703125 \nL 7.71875 11.625 \nQ 12.109375 9.234375 16.796875 8.0625 \nQ 21.484375 6.890625 26.703125 6.890625 \nQ 35.15625 6.890625 40.078125 11.328125 \nQ 45.015625 15.765625 45.015625 23.390625 \nQ 45.015625 31 40.078125 35.4375 \nQ 35.15625 39.890625 26.703125 39.890625 \nQ 22.75 39.890625 18.8125 39.015625 \nQ 14.890625 38.140625 10.796875 36.28125 \nz\n\" id=\"DejaVuSans-53\"/>\n       </defs>\n       <use xlink:href=\"#DejaVuSans-50\"/>\n       <use x=\"63.623047\" xlink:href=\"#DejaVuSans-46\"/>\n       <use x=\"95.410156\" xlink:href=\"#DejaVuSans-53\"/>\n      </g>\n     </g>\n    </g>\n    <g id=\"xtick_3\">\n     <g id=\"line2d_3\">\n      <g>\n       <use style=\"stroke:#000000;stroke-width:0.8;\" x=\"169.752323\" xlink:href=\"#mbddf4f1c8a\" y=\"279\"/>\n      </g>\n     </g>\n     <g id=\"text_3\">\n      <!-- 5.0 -->\n      <g transform=\"translate(161.80076 293.598437)scale(0.1 -0.1)\">\n       <use xlink:href=\"#DejaVuSans-53\"/>\n       <use x=\"63.623047\" xlink:href=\"#DejaVuSans-46\"/>\n       <use x=\"95.410156\" xlink:href=\"#DejaVuSans-48\"/>\n      </g>\n     </g>\n    </g>\n    <g id=\"xtick_4\">\n     <g id=\"line2d_4\">\n      <g>\n       <use style=\"stroke:#000000;stroke-width:0.8;\" x=\"229.431467\" xlink:href=\"#mbddf4f1c8a\" y=\"279\"/>\n      </g>\n     </g>\n     <g id=\"text_4\">\n      <!-- 7.5 -->\n      <g transform=\"translate(221.479905 293.598437)scale(0.1 -0.1)\">\n       <defs>\n        <path d=\"M 8.203125 72.90625 \nL 55.078125 72.90625 \nL 55.078125 68.703125 \nL 28.609375 0 \nL 18.3125 0 \nL 43.21875 64.59375 \nL 8.203125 64.59375 \nz\n\" id=\"DejaVuSans-55\"/>\n       </defs>\n       <use xlink:href=\"#DejaVuSans-55\"/>\n       <use x=\"63.623047\" xlink:href=\"#DejaVuSans-46\"/>\n       <use x=\"95.410156\" xlink:href=\"#DejaVuSans-53\"/>\n      </g>\n     </g>\n    </g>\n    <g id=\"xtick_5\">\n     <g id=\"line2d_5\">\n      <g>\n       <use style=\"stroke:#000000;stroke-width:0.8;\" x=\"289.110612\" xlink:href=\"#mbddf4f1c8a\" y=\"279\"/>\n      </g>\n     </g>\n     <g id=\"text_5\">\n      <!-- 10.0 -->\n      <g transform=\"translate(277.977799 293.598437)scale(0.1 -0.1)\">\n       <defs>\n        <path d=\"M 12.40625 8.296875 \nL 28.515625 8.296875 \nL 28.515625 63.921875 \nL 10.984375 60.40625 \nL 10.984375 69.390625 \nL 28.421875 72.90625 \nL 38.28125 72.90625 \nL 38.28125 8.296875 \nL 54.390625 8.296875 \nL 54.390625 0 \nL 12.40625 0 \nz\n\" id=\"DejaVuSans-49\"/>\n       </defs>\n       <use xlink:href=\"#DejaVuSans-49\"/>\n       <use x=\"63.623047\" xlink:href=\"#DejaVuSans-48\"/>\n       <use x=\"127.246094\" xlink:href=\"#DejaVuSans-46\"/>\n       <use x=\"159.033203\" xlink:href=\"#DejaVuSans-48\"/>\n      </g>\n     </g>\n    </g>\n    <g id=\"xtick_6\">\n     <g id=\"line2d_6\">\n      <g>\n       <use style=\"stroke:#000000;stroke-width:0.8;\" x=\"348.789756\" xlink:href=\"#mbddf4f1c8a\" y=\"279\"/>\n      </g>\n     </g>\n     <g id=\"text_6\">\n      <!-- 12.5 -->\n      <g transform=\"translate(337.656944 293.598437)scale(0.1 -0.1)\">\n       <use xlink:href=\"#DejaVuSans-49\"/>\n       <use x=\"63.623047\" xlink:href=\"#DejaVuSans-50\"/>\n       <use x=\"127.246094\" xlink:href=\"#DejaVuSans-46\"/>\n       <use x=\"159.033203\" xlink:href=\"#DejaVuSans-53\"/>\n      </g>\n     </g>\n    </g>\n    <g id=\"xtick_7\">\n     <g id=\"line2d_7\">\n      <g>\n       <use style=\"stroke:#000000;stroke-width:0.8;\" x=\"408.4689\" xlink:href=\"#mbddf4f1c8a\" y=\"279\"/>\n      </g>\n     </g>\n     <g id=\"text_7\">\n      <!-- 15.0 -->\n      <g transform=\"translate(397.336088 293.598437)scale(0.1 -0.1)\">\n       <use xlink:href=\"#DejaVuSans-49\"/>\n       <use x=\"63.623047\" xlink:href=\"#DejaVuSans-53\"/>\n       <use x=\"127.246094\" xlink:href=\"#DejaVuSans-46\"/>\n       <use x=\"159.033203\" xlink:href=\"#DejaVuSans-48\"/>\n      </g>\n     </g>\n    </g>\n    <g id=\"xtick_8\">\n     <g id=\"line2d_8\">\n      <g>\n       <use style=\"stroke:#000000;stroke-width:0.8;\" x=\"468.148045\" xlink:href=\"#mbddf4f1c8a\" y=\"279\"/>\n      </g>\n     </g>\n     <g id=\"text_8\">\n      <!-- 17.5 -->\n      <g transform=\"translate(457.015232 293.598437)scale(0.1 -0.1)\">\n       <use xlink:href=\"#DejaVuSans-49\"/>\n       <use x=\"63.623047\" xlink:href=\"#DejaVuSans-55\"/>\n       <use x=\"127.246094\" xlink:href=\"#DejaVuSans-46\"/>\n       <use x=\"159.033203\" xlink:href=\"#DejaVuSans-53\"/>\n      </g>\n     </g>\n    </g>\n   </g>\n   <g id=\"matplotlib.axis_2\">\n    <g id=\"ytick_1\">\n     <g id=\"line2d_9\">\n      <defs>\n       <path d=\"M 0 0 \nL -3.5 0 \n\" id=\"m036c93da8a\" style=\"stroke:#000000;stroke-width:0.8;\"/>\n      </defs>\n      <g>\n       <use style=\"stroke:#000000;stroke-width:0.8;\" x=\"30.103125\" xlink:href=\"#m036c93da8a\" y=\"267.704693\"/>\n      </g>\n     </g>\n     <g id=\"text_9\">\n      <!-- 0.0 -->\n      <g transform=\"translate(7.2 271.503912)scale(0.1 -0.1)\">\n       <use xlink:href=\"#DejaVuSans-48\"/>\n       <use x=\"63.623047\" xlink:href=\"#DejaVuSans-46\"/>\n       <use x=\"95.410156\" xlink:href=\"#DejaVuSans-48\"/>\n      </g>\n     </g>\n    </g>\n    <g id=\"ytick_2\">\n     <g id=\"line2d_10\">\n      <g>\n       <use style=\"stroke:#000000;stroke-width:0.8;\" x=\"30.103125\" xlink:href=\"#m036c93da8a\" y=\"218.010916\"/>\n      </g>\n     </g>\n     <g id=\"text_10\">\n      <!-- 0.2 -->\n      <g transform=\"translate(7.2 221.810135)scale(0.1 -0.1)\">\n       <use xlink:href=\"#DejaVuSans-48\"/>\n       <use x=\"63.623047\" xlink:href=\"#DejaVuSans-46\"/>\n       <use x=\"95.410156\" xlink:href=\"#DejaVuSans-50\"/>\n      </g>\n     </g>\n    </g>\n    <g id=\"ytick_3\">\n     <g id=\"line2d_11\">\n      <g>\n       <use style=\"stroke:#000000;stroke-width:0.8;\" x=\"30.103125\" xlink:href=\"#m036c93da8a\" y=\"168.317139\"/>\n      </g>\n     </g>\n     <g id=\"text_11\">\n      <!-- 0.4 -->\n      <g transform=\"translate(7.2 172.116358)scale(0.1 -0.1)\">\n       <defs>\n        <path d=\"M 37.796875 64.3125 \nL 12.890625 25.390625 \nL 37.796875 25.390625 \nz\nM 35.203125 72.90625 \nL 47.609375 72.90625 \nL 47.609375 25.390625 \nL 58.015625 25.390625 \nL 58.015625 17.1875 \nL 47.609375 17.1875 \nL 47.609375 0 \nL 37.796875 0 \nL 37.796875 17.1875 \nL 4.890625 17.1875 \nL 4.890625 26.703125 \nz\n\" id=\"DejaVuSans-52\"/>\n       </defs>\n       <use xlink:href=\"#DejaVuSans-48\"/>\n       <use x=\"63.623047\" xlink:href=\"#DejaVuSans-46\"/>\n       <use x=\"95.410156\" xlink:href=\"#DejaVuSans-52\"/>\n      </g>\n     </g>\n    </g>\n    <g id=\"ytick_4\">\n     <g id=\"line2d_12\">\n      <g>\n       <use style=\"stroke:#000000;stroke-width:0.8;\" x=\"30.103125\" xlink:href=\"#m036c93da8a\" y=\"118.623361\"/>\n      </g>\n     </g>\n     <g id=\"text_12\">\n      <!-- 0.6 -->\n      <g transform=\"translate(7.2 122.42258)scale(0.1 -0.1)\">\n       <defs>\n        <path d=\"M 33.015625 40.375 \nQ 26.375 40.375 22.484375 35.828125 \nQ 18.609375 31.296875 18.609375 23.390625 \nQ 18.609375 15.53125 22.484375 10.953125 \nQ 26.375 6.390625 33.015625 6.390625 \nQ 39.65625 6.390625 43.53125 10.953125 \nQ 47.40625 15.53125 47.40625 23.390625 \nQ 47.40625 31.296875 43.53125 35.828125 \nQ 39.65625 40.375 33.015625 40.375 \nz\nM 52.59375 71.296875 \nL 52.59375 62.3125 \nQ 48.875 64.0625 45.09375 64.984375 \nQ 41.3125 65.921875 37.59375 65.921875 \nQ 27.828125 65.921875 22.671875 59.328125 \nQ 17.53125 52.734375 16.796875 39.40625 \nQ 19.671875 43.65625 24.015625 45.921875 \nQ 28.375 48.1875 33.59375 48.1875 \nQ 44.578125 48.1875 50.953125 41.515625 \nQ 57.328125 34.859375 57.328125 23.390625 \nQ 57.328125 12.15625 50.6875 5.359375 \nQ 44.046875 -1.421875 33.015625 -1.421875 \nQ 20.359375 -1.421875 13.671875 8.265625 \nQ 6.984375 17.96875 6.984375 36.375 \nQ 6.984375 53.65625 15.1875 63.9375 \nQ 23.390625 74.21875 37.203125 74.21875 \nQ 40.921875 74.21875 44.703125 73.484375 \nQ 48.484375 72.75 52.59375 71.296875 \nz\n\" id=\"DejaVuSans-54\"/>\n       </defs>\n       <use xlink:href=\"#DejaVuSans-48\"/>\n       <use x=\"63.623047\" xlink:href=\"#DejaVuSans-46\"/>\n       <use x=\"95.410156\" xlink:href=\"#DejaVuSans-54\"/>\n      </g>\n     </g>\n    </g>\n    <g id=\"ytick_5\">\n     <g id=\"line2d_13\">\n      <g>\n       <use style=\"stroke:#000000;stroke-width:0.8;\" x=\"30.103125\" xlink:href=\"#m036c93da8a\" y=\"68.929584\"/>\n      </g>\n     </g>\n     <g id=\"text_13\">\n      <!-- 0.8 -->\n      <g transform=\"translate(7.2 72.728803)scale(0.1 -0.1)\">\n       <defs>\n        <path d=\"M 31.78125 34.625 \nQ 24.75 34.625 20.71875 30.859375 \nQ 16.703125 27.09375 16.703125 20.515625 \nQ 16.703125 13.921875 20.71875 10.15625 \nQ 24.75 6.390625 31.78125 6.390625 \nQ 38.8125 6.390625 42.859375 10.171875 \nQ 46.921875 13.96875 46.921875 20.515625 \nQ 46.921875 27.09375 42.890625 30.859375 \nQ 38.875 34.625 31.78125 34.625 \nz\nM 21.921875 38.8125 \nQ 15.578125 40.375 12.03125 44.71875 \nQ 8.5 49.078125 8.5 55.328125 \nQ 8.5 64.0625 14.71875 69.140625 \nQ 20.953125 74.21875 31.78125 74.21875 \nQ 42.671875 74.21875 48.875 69.140625 \nQ 55.078125 64.0625 55.078125 55.328125 \nQ 55.078125 49.078125 51.53125 44.71875 \nQ 48 40.375 41.703125 38.8125 \nQ 48.828125 37.15625 52.796875 32.3125 \nQ 56.78125 27.484375 56.78125 20.515625 \nQ 56.78125 9.90625 50.3125 4.234375 \nQ 43.84375 -1.421875 31.78125 -1.421875 \nQ 19.734375 -1.421875 13.25 4.234375 \nQ 6.78125 9.90625 6.78125 20.515625 \nQ 6.78125 27.484375 10.78125 32.3125 \nQ 14.796875 37.15625 21.921875 38.8125 \nz\nM 18.3125 54.390625 \nQ 18.3125 48.734375 21.84375 45.5625 \nQ 25.390625 42.390625 31.78125 42.390625 \nQ 38.140625 42.390625 41.71875 45.5625 \nQ 45.3125 48.734375 45.3125 54.390625 \nQ 45.3125 60.0625 41.71875 63.234375 \nQ 38.140625 66.40625 31.78125 66.40625 \nQ 25.390625 66.40625 21.84375 63.234375 \nQ 18.3125 60.0625 18.3125 54.390625 \nz\n\" id=\"DejaVuSans-56\"/>\n       </defs>\n       <use xlink:href=\"#DejaVuSans-48\"/>\n       <use x=\"63.623047\" xlink:href=\"#DejaVuSans-46\"/>\n       <use x=\"95.410156\" xlink:href=\"#DejaVuSans-56\"/>\n      </g>\n     </g>\n    </g>\n    <g id=\"ytick_6\">\n     <g id=\"line2d_14\">\n      <g>\n       <use style=\"stroke:#000000;stroke-width:0.8;\" x=\"30.103125\" xlink:href=\"#m036c93da8a\" y=\"19.235807\"/>\n      </g>\n     </g>\n     <g id=\"text_14\">\n      <!-- 1.0 -->\n      <g transform=\"translate(7.2 23.035026)scale(0.1 -0.1)\">\n       <use xlink:href=\"#DejaVuSans-49\"/>\n       <use x=\"63.623047\" xlink:href=\"#DejaVuSans-46\"/>\n       <use x=\"95.410156\" xlink:href=\"#DejaVuSans-48\"/>\n      </g>\n     </g>\n    </g>\n   </g>\n   <g id=\"line2d_15\">\n    <path clip-path=\"url(#pd180c3afa7)\" d=\"M 50.394034 227.359927 \nL 74.265692 258.397988 \nL 98.13735 261.54414 \nL 122.009007 262.893791 \nL 145.880665 263.68025 \nL 169.752323 264.20721 \nL 193.623981 264.60266 \nL 217.495638 264.977389 \nL 241.367296 265.261886 \nL 265.238954 265.486034 \nL 289.110612 265.696168 \nL 312.982269 265.858196 \nL 336.853927 265.970238 \nL 360.725585 266.370233 \nL 384.597243 266.491131 \nL 408.4689 266.532759 \nL 432.340558 266.616196 \nL 456.212216 266.645455 \n\" style=\"fill:none;stroke:#1f77b4;stroke-linecap:square;stroke-width:1.5;\"/>\n   </g>\n   <g id=\"line2d_16\">\n    <path clip-path=\"url(#pd180c3afa7)\" d=\"M 50.394034 245.424647 \nL 74.265692 255.595302 \nL 98.13735 258.289928 \nL 122.009007 259.313126 \nL 145.880665 259.848686 \nL 169.752323 260.186207 \nL 193.623981 260.744309 \nL 217.495638 260.939399 \nL 241.367296 261.206936 \nL 265.238954 261.276948 \nL 289.110612 261.443253 \nL 312.982269 261.419043 \nL 336.853927 261.074059 \nL 360.725585 262.226357 \nL 384.597243 262.167578 \nL 408.4689 262.11646 \nL 432.340558 262.181296 \nL 456.212216 262.168693 \n\" style=\"fill:none;stroke:#ff7f0e;stroke-linecap:square;stroke-width:1.5;\"/>\n   </g>\n   <g id=\"line2d_17\">\n    <path clip-path=\"url(#pd180c3afa7)\" d=\"M 50.394034 34.346111 \nL 74.265692 22.100678 \nL 98.13735 21.139693 \nL 122.009007 20.68965 \nL 145.880665 20.462259 \nL 169.752323 20.293841 \nL 193.623981 20.173007 \nL 217.495638 20.070241 \nL 241.367296 19.992222 \nL 265.238954 19.941795 \nL 289.110612 19.879001 \nL 312.982269 19.829521 \nL 336.853927 19.806684 \nL 360.725585 19.666819 \nL 384.597243 19.615444 \nL 408.4689 19.609742 \nL 432.340558 19.575487 \nL 456.212216 19.554545 \n\" style=\"fill:none;stroke:#2ca02c;stroke-linecap:square;stroke-width:1.5;\"/>\n   </g>\n   <g id=\"line2d_18\">\n    <path clip-path=\"url(#pd180c3afa7)\" d=\"M 50.394034 25.639104 \nL 74.265692 22.699887 \nL 98.13735 21.282757 \nL 122.009007 20.915353 \nL 145.880665 20.705423 \nL 169.752323 20.652936 \nL 193.623981 20.652936 \nL 217.495638 20.705423 \nL 241.367296 20.862867 \nL 265.238954 20.967839 \nL 289.110612 20.705423 \nL 312.982269 20.705423 \nL 336.853927 20.757909 \nL 360.725585 19.918128 \nL 384.597243 19.970615 \nL 408.4689 19.970615 \nL 432.340558 20.023101 \nL 456.212216 20.023101 \n\" style=\"fill:none;stroke:#d62728;stroke-linecap:square;stroke-width:1.5;\"/>\n   </g>\n   <g id=\"patch_3\">\n    <path d=\"M 30.103125 279 \nL 30.103125 7.2 \n\" style=\"fill:none;stroke:#000000;stroke-linecap:square;stroke-linejoin:miter;stroke-width:0.8;\"/>\n   </g>\n   <g id=\"patch_4\">\n    <path d=\"M 476.503125 279 \nL 476.503125 7.2 \n\" style=\"fill:none;stroke:#000000;stroke-linecap:square;stroke-linejoin:miter;stroke-width:0.8;\"/>\n   </g>\n   <g id=\"patch_5\">\n    <path d=\"M 30.103125 279 \nL 476.503125 279 \n\" style=\"fill:none;stroke:#000000;stroke-linecap:square;stroke-linejoin:miter;stroke-width:0.8;\"/>\n   </g>\n   <g id=\"patch_6\">\n    <path d=\"M 30.103125 7.2 \nL 476.503125 7.2 \n\" style=\"fill:none;stroke:#000000;stroke-linecap:square;stroke-linejoin:miter;stroke-width:0.8;\"/>\n   </g>\n   <g id=\"legend_1\">\n    <g id=\"patch_7\">\n     <path d=\"M 363.953125 174.5125 \nL 469.503125 174.5125 \nQ 471.503125 174.5125 471.503125 172.5125 \nL 471.503125 113.6875 \nQ 471.503125 111.6875 469.503125 111.6875 \nL 363.953125 111.6875 \nQ 361.953125 111.6875 361.953125 113.6875 \nL 361.953125 172.5125 \nQ 361.953125 174.5125 363.953125 174.5125 \nz\n\" style=\"fill:#ffffff;opacity:0.8;stroke:#cccccc;stroke-linejoin:miter;\"/>\n    </g>\n    <g id=\"line2d_19\">\n     <path d=\"M 365.953125 119.785937 \nL 385.953125 119.785937 \n\" style=\"fill:none;stroke:#1f77b4;stroke-linecap:square;stroke-width:1.5;\"/>\n    </g>\n    <g id=\"line2d_20\"/>\n    <g id=\"text_15\">\n     <!-- training_loss -->\n     <g transform=\"translate(393.953125 123.285937)scale(0.1 -0.1)\">\n      <defs>\n       <path d=\"M 18.3125 70.21875 \nL 18.3125 54.6875 \nL 36.8125 54.6875 \nL 36.8125 47.703125 \nL 18.3125 47.703125 \nL 18.3125 18.015625 \nQ 18.3125 11.328125 20.140625 9.421875 \nQ 21.96875 7.515625 27.59375 7.515625 \nL 36.8125 7.515625 \nL 36.8125 0 \nL 27.59375 0 \nQ 17.1875 0 13.234375 3.875 \nQ 9.28125 7.765625 9.28125 18.015625 \nL 9.28125 47.703125 \nL 2.6875 47.703125 \nL 2.6875 54.6875 \nL 9.28125 54.6875 \nL 9.28125 70.21875 \nz\n\" id=\"DejaVuSans-116\"/>\n       <path d=\"M 41.109375 46.296875 \nQ 39.59375 47.171875 37.8125 47.578125 \nQ 36.03125 48 33.890625 48 \nQ 26.265625 48 22.1875 43.046875 \nQ 18.109375 38.09375 18.109375 28.8125 \nL 18.109375 0 \nL 9.078125 0 \nL 9.078125 54.6875 \nL 18.109375 54.6875 \nL 18.109375 46.1875 \nQ 20.953125 51.171875 25.484375 53.578125 \nQ 30.03125 56 36.53125 56 \nQ 37.453125 56 38.578125 55.875 \nQ 39.703125 55.765625 41.0625 55.515625 \nz\n\" id=\"DejaVuSans-114\"/>\n       <path d=\"M 34.28125 27.484375 \nQ 23.390625 27.484375 19.1875 25 \nQ 14.984375 22.515625 14.984375 16.5 \nQ 14.984375 11.71875 18.140625 8.90625 \nQ 21.296875 6.109375 26.703125 6.109375 \nQ 34.1875 6.109375 38.703125 11.40625 \nQ 43.21875 16.703125 43.21875 25.484375 \nL 43.21875 27.484375 \nz\nM 52.203125 31.203125 \nL 52.203125 0 \nL 43.21875 0 \nL 43.21875 8.296875 \nQ 40.140625 3.328125 35.546875 0.953125 \nQ 30.953125 -1.421875 24.3125 -1.421875 \nQ 15.921875 -1.421875 10.953125 3.296875 \nQ 6 8.015625 6 15.921875 \nQ 6 25.140625 12.171875 29.828125 \nQ 18.359375 34.515625 30.609375 34.515625 \nL 43.21875 34.515625 \nL 43.21875 35.40625 \nQ 43.21875 41.609375 39.140625 45 \nQ 35.0625 48.390625 27.6875 48.390625 \nQ 23 48.390625 18.546875 47.265625 \nQ 14.109375 46.140625 10.015625 43.890625 \nL 10.015625 52.203125 \nQ 14.9375 54.109375 19.578125 55.046875 \nQ 24.21875 56 28.609375 56 \nQ 40.484375 56 46.34375 49.84375 \nQ 52.203125 43.703125 52.203125 31.203125 \nz\n\" id=\"DejaVuSans-97\"/>\n       <path d=\"M 9.421875 54.6875 \nL 18.40625 54.6875 \nL 18.40625 0 \nL 9.421875 0 \nz\nM 9.421875 75.984375 \nL 18.40625 75.984375 \nL 18.40625 64.59375 \nL 9.421875 64.59375 \nz\n\" id=\"DejaVuSans-105\"/>\n       <path d=\"M 54.890625 33.015625 \nL 54.890625 0 \nL 45.90625 0 \nL 45.90625 32.71875 \nQ 45.90625 40.484375 42.875 44.328125 \nQ 39.84375 48.1875 33.796875 48.1875 \nQ 26.515625 48.1875 22.3125 43.546875 \nQ 18.109375 38.921875 18.109375 30.90625 \nL 18.109375 0 \nL 9.078125 0 \nL 9.078125 54.6875 \nL 18.109375 54.6875 \nL 18.109375 46.1875 \nQ 21.34375 51.125 25.703125 53.5625 \nQ 30.078125 56 35.796875 56 \nQ 45.21875 56 50.046875 50.171875 \nQ 54.890625 44.34375 54.890625 33.015625 \nz\n\" id=\"DejaVuSans-110\"/>\n       <path d=\"M 45.40625 27.984375 \nQ 45.40625 37.75 41.375 43.109375 \nQ 37.359375 48.484375 30.078125 48.484375 \nQ 22.859375 48.484375 18.828125 43.109375 \nQ 14.796875 37.75 14.796875 27.984375 \nQ 14.796875 18.265625 18.828125 12.890625 \nQ 22.859375 7.515625 30.078125 7.515625 \nQ 37.359375 7.515625 41.375 12.890625 \nQ 45.40625 18.265625 45.40625 27.984375 \nz\nM 54.390625 6.78125 \nQ 54.390625 -7.171875 48.1875 -13.984375 \nQ 42 -20.796875 29.203125 -20.796875 \nQ 24.46875 -20.796875 20.265625 -20.09375 \nQ 16.0625 -19.390625 12.109375 -17.921875 \nL 12.109375 -9.1875 \nQ 16.0625 -11.328125 19.921875 -12.34375 \nQ 23.78125 -13.375 27.78125 -13.375 \nQ 36.625 -13.375 41.015625 -8.765625 \nQ 45.40625 -4.15625 45.40625 5.171875 \nL 45.40625 9.625 \nQ 42.625 4.78125 38.28125 2.390625 \nQ 33.9375 0 27.875 0 \nQ 17.828125 0 11.671875 7.65625 \nQ 5.515625 15.328125 5.515625 27.984375 \nQ 5.515625 40.671875 11.671875 48.328125 \nQ 17.828125 56 27.875 56 \nQ 33.9375 56 38.28125 53.609375 \nQ 42.625 51.21875 45.40625 46.390625 \nL 45.40625 54.6875 \nL 54.390625 54.6875 \nz\n\" id=\"DejaVuSans-103\"/>\n       <path d=\"M 50.984375 -16.609375 \nL 50.984375 -23.578125 \nL -0.984375 -23.578125 \nL -0.984375 -16.609375 \nz\n\" id=\"DejaVuSans-95\"/>\n       <path d=\"M 9.421875 75.984375 \nL 18.40625 75.984375 \nL 18.40625 0 \nL 9.421875 0 \nz\n\" id=\"DejaVuSans-108\"/>\n       <path d=\"M 30.609375 48.390625 \nQ 23.390625 48.390625 19.1875 42.75 \nQ 14.984375 37.109375 14.984375 27.296875 \nQ 14.984375 17.484375 19.15625 11.84375 \nQ 23.34375 6.203125 30.609375 6.203125 \nQ 37.796875 6.203125 41.984375 11.859375 \nQ 46.1875 17.53125 46.1875 27.296875 \nQ 46.1875 37.015625 41.984375 42.703125 \nQ 37.796875 48.390625 30.609375 48.390625 \nz\nM 30.609375 56 \nQ 42.328125 56 49.015625 48.375 \nQ 55.71875 40.765625 55.71875 27.296875 \nQ 55.71875 13.875 49.015625 6.21875 \nQ 42.328125 -1.421875 30.609375 -1.421875 \nQ 18.84375 -1.421875 12.171875 6.21875 \nQ 5.515625 13.875 5.515625 27.296875 \nQ 5.515625 40.765625 12.171875 48.375 \nQ 18.84375 56 30.609375 56 \nz\n\" id=\"DejaVuSans-111\"/>\n       <path d=\"M 44.28125 53.078125 \nL 44.28125 44.578125 \nQ 40.484375 46.53125 36.375 47.5 \nQ 32.28125 48.484375 27.875 48.484375 \nQ 21.1875 48.484375 17.84375 46.4375 \nQ 14.5 44.390625 14.5 40.28125 \nQ 14.5 37.15625 16.890625 35.375 \nQ 19.28125 33.59375 26.515625 31.984375 \nL 29.59375 31.296875 \nQ 39.15625 29.25 43.1875 25.515625 \nQ 47.21875 21.78125 47.21875 15.09375 \nQ 47.21875 7.46875 41.1875 3.015625 \nQ 35.15625 -1.421875 24.609375 -1.421875 \nQ 20.21875 -1.421875 15.453125 -0.5625 \nQ 10.6875 0.296875 5.421875 2 \nL 5.421875 11.28125 \nQ 10.40625 8.6875 15.234375 7.390625 \nQ 20.0625 6.109375 24.8125 6.109375 \nQ 31.15625 6.109375 34.5625 8.28125 \nQ 37.984375 10.453125 37.984375 14.40625 \nQ 37.984375 18.0625 35.515625 20.015625 \nQ 33.0625 21.96875 24.703125 23.78125 \nL 21.578125 24.515625 \nQ 13.234375 26.265625 9.515625 29.90625 \nQ 5.8125 33.546875 5.8125 39.890625 \nQ 5.8125 47.609375 11.28125 51.796875 \nQ 16.75 56 26.8125 56 \nQ 31.78125 56 36.171875 55.265625 \nQ 40.578125 54.546875 44.28125 53.078125 \nz\n\" id=\"DejaVuSans-115\"/>\n      </defs>\n      <use xlink:href=\"#DejaVuSans-116\"/>\n      <use x=\"39.208984\" xlink:href=\"#DejaVuSans-114\"/>\n      <use x=\"80.322266\" xlink:href=\"#DejaVuSans-97\"/>\n      <use x=\"141.601562\" xlink:href=\"#DejaVuSans-105\"/>\n      <use x=\"169.384766\" xlink:href=\"#DejaVuSans-110\"/>\n      <use x=\"232.763672\" xlink:href=\"#DejaVuSans-105\"/>\n      <use x=\"260.546875\" xlink:href=\"#DejaVuSans-110\"/>\n      <use x=\"323.925781\" xlink:href=\"#DejaVuSans-103\"/>\n      <use x=\"387.402344\" xlink:href=\"#DejaVuSans-95\"/>\n      <use x=\"437.402344\" xlink:href=\"#DejaVuSans-108\"/>\n      <use x=\"465.185547\" xlink:href=\"#DejaVuSans-111\"/>\n      <use x=\"526.367188\" xlink:href=\"#DejaVuSans-115\"/>\n      <use x=\"578.466797\" xlink:href=\"#DejaVuSans-115\"/>\n     </g>\n    </g>\n    <g id=\"line2d_21\">\n     <path d=\"M 365.953125 134.742188 \nL 385.953125 134.742188 \n\" style=\"fill:none;stroke:#ff7f0e;stroke-linecap:square;stroke-width:1.5;\"/>\n    </g>\n    <g id=\"line2d_22\"/>\n    <g id=\"text_16\">\n     <!-- validation_loss -->\n     <g transform=\"translate(393.953125 138.242188)scale(0.1 -0.1)\">\n      <defs>\n       <path d=\"M 2.984375 54.6875 \nL 12.5 54.6875 \nL 29.59375 8.796875 \nL 46.6875 54.6875 \nL 56.203125 54.6875 \nL 35.6875 0 \nL 23.484375 0 \nz\n\" id=\"DejaVuSans-118\"/>\n       <path d=\"M 45.40625 46.390625 \nL 45.40625 75.984375 \nL 54.390625 75.984375 \nL 54.390625 0 \nL 45.40625 0 \nL 45.40625 8.203125 \nQ 42.578125 3.328125 38.25 0.953125 \nQ 33.9375 -1.421875 27.875 -1.421875 \nQ 17.96875 -1.421875 11.734375 6.484375 \nQ 5.515625 14.40625 5.515625 27.296875 \nQ 5.515625 40.1875 11.734375 48.09375 \nQ 17.96875 56 27.875 56 \nQ 33.9375 56 38.25 53.625 \nQ 42.578125 51.265625 45.40625 46.390625 \nz\nM 14.796875 27.296875 \nQ 14.796875 17.390625 18.875 11.75 \nQ 22.953125 6.109375 30.078125 6.109375 \nQ 37.203125 6.109375 41.296875 11.75 \nQ 45.40625 17.390625 45.40625 27.296875 \nQ 45.40625 37.203125 41.296875 42.84375 \nQ 37.203125 48.484375 30.078125 48.484375 \nQ 22.953125 48.484375 18.875 42.84375 \nQ 14.796875 37.203125 14.796875 27.296875 \nz\n\" id=\"DejaVuSans-100\"/>\n      </defs>\n      <use xlink:href=\"#DejaVuSans-118\"/>\n      <use x=\"59.179688\" xlink:href=\"#DejaVuSans-97\"/>\n      <use x=\"120.458984\" xlink:href=\"#DejaVuSans-108\"/>\n      <use x=\"148.242188\" xlink:href=\"#DejaVuSans-105\"/>\n      <use x=\"176.025391\" xlink:href=\"#DejaVuSans-100\"/>\n      <use x=\"239.501953\" xlink:href=\"#DejaVuSans-97\"/>\n      <use x=\"300.78125\" xlink:href=\"#DejaVuSans-116\"/>\n      <use x=\"339.990234\" xlink:href=\"#DejaVuSans-105\"/>\n      <use x=\"367.773438\" xlink:href=\"#DejaVuSans-111\"/>\n      <use x=\"428.955078\" xlink:href=\"#DejaVuSans-110\"/>\n      <use x=\"492.333984\" xlink:href=\"#DejaVuSans-95\"/>\n      <use x=\"542.333984\" xlink:href=\"#DejaVuSans-108\"/>\n      <use x=\"570.117188\" xlink:href=\"#DejaVuSans-111\"/>\n      <use x=\"631.298828\" xlink:href=\"#DejaVuSans-115\"/>\n      <use x=\"683.398438\" xlink:href=\"#DejaVuSans-115\"/>\n     </g>\n    </g>\n    <g id=\"line2d_23\">\n     <path d=\"M 365.953125 149.698437 \nL 385.953125 149.698437 \n\" style=\"fill:none;stroke:#2ca02c;stroke-linecap:square;stroke-width:1.5;\"/>\n    </g>\n    <g id=\"line2d_24\"/>\n    <g id=\"text_17\">\n     <!-- training_acc -->\n     <g transform=\"translate(393.953125 153.198437)scale(0.1 -0.1)\">\n      <defs>\n       <path d=\"M 48.78125 52.59375 \nL 48.78125 44.1875 \nQ 44.96875 46.296875 41.140625 47.34375 \nQ 37.3125 48.390625 33.40625 48.390625 \nQ 24.65625 48.390625 19.8125 42.84375 \nQ 14.984375 37.3125 14.984375 27.296875 \nQ 14.984375 17.28125 19.8125 11.734375 \nQ 24.65625 6.203125 33.40625 6.203125 \nQ 37.3125 6.203125 41.140625 7.25 \nQ 44.96875 8.296875 48.78125 10.40625 \nL 48.78125 2.09375 \nQ 45.015625 0.34375 40.984375 -0.53125 \nQ 36.96875 -1.421875 32.421875 -1.421875 \nQ 20.0625 -1.421875 12.78125 6.34375 \nQ 5.515625 14.109375 5.515625 27.296875 \nQ 5.515625 40.671875 12.859375 48.328125 \nQ 20.21875 56 33.015625 56 \nQ 37.15625 56 41.109375 55.140625 \nQ 45.0625 54.296875 48.78125 52.59375 \nz\n\" id=\"DejaVuSans-99\"/>\n      </defs>\n      <use xlink:href=\"#DejaVuSans-116\"/>\n      <use x=\"39.208984\" xlink:href=\"#DejaVuSans-114\"/>\n      <use x=\"80.322266\" xlink:href=\"#DejaVuSans-97\"/>\n      <use x=\"141.601562\" xlink:href=\"#DejaVuSans-105\"/>\n      <use x=\"169.384766\" xlink:href=\"#DejaVuSans-110\"/>\n      <use x=\"232.763672\" xlink:href=\"#DejaVuSans-105\"/>\n      <use x=\"260.546875\" xlink:href=\"#DejaVuSans-110\"/>\n      <use x=\"323.925781\" xlink:href=\"#DejaVuSans-103\"/>\n      <use x=\"387.402344\" xlink:href=\"#DejaVuSans-95\"/>\n      <use x=\"437.402344\" xlink:href=\"#DejaVuSans-97\"/>\n      <use x=\"498.681641\" xlink:href=\"#DejaVuSans-99\"/>\n      <use x=\"553.662109\" xlink:href=\"#DejaVuSans-99\"/>\n     </g>\n    </g>\n    <g id=\"line2d_25\">\n     <path d=\"M 365.953125 164.654687 \nL 385.953125 164.654687 \n\" style=\"fill:none;stroke:#d62728;stroke-linecap:square;stroke-width:1.5;\"/>\n    </g>\n    <g id=\"line2d_26\"/>\n    <g id=\"text_18\">\n     <!-- validation_acc -->\n     <g transform=\"translate(393.953125 168.154687)scale(0.1 -0.1)\">\n      <use xlink:href=\"#DejaVuSans-118\"/>\n      <use x=\"59.179688\" xlink:href=\"#DejaVuSans-97\"/>\n      <use x=\"120.458984\" xlink:href=\"#DejaVuSans-108\"/>\n      <use x=\"148.242188\" xlink:href=\"#DejaVuSans-105\"/>\n      <use x=\"176.025391\" xlink:href=\"#DejaVuSans-100\"/>\n      <use x=\"239.501953\" xlink:href=\"#DejaVuSans-97\"/>\n      <use x=\"300.78125\" xlink:href=\"#DejaVuSans-116\"/>\n      <use x=\"339.990234\" xlink:href=\"#DejaVuSans-105\"/>\n      <use x=\"367.773438\" xlink:href=\"#DejaVuSans-111\"/>\n      <use x=\"428.955078\" xlink:href=\"#DejaVuSans-110\"/>\n      <use x=\"492.333984\" xlink:href=\"#DejaVuSans-95\"/>\n      <use x=\"542.333984\" xlink:href=\"#DejaVuSans-97\"/>\n      <use x=\"603.613281\" xlink:href=\"#DejaVuSans-99\"/>\n      <use x=\"658.59375\" xlink:href=\"#DejaVuSans-99\"/>\n     </g>\n    </g>\n   </g>\n  </g>\n </g>\n <defs>\n  <clipPath id=\"pd180c3afa7\">\n   <rect height=\"271.8\" width=\"446.4\" x=\"30.103125\" y=\"7.2\"/>\n  </clipPath>\n </defs>\n</svg>\n",
            "text/plain": "<Figure size 576x360 with 1 Axes>"
          },
          "metadata": {
            "needs_background": "light",
            "transient": {}
          },
          "output_type": "display_data"
        }
      ],
      "source": [
        "print(type(history.history))\n",
        "print(history.history.keys())\n",
        "\n",
        "import matplotlib.pyplot as plt\n",
        "\n",
        "plt.figure(figsize=(8, 5))\n",
        "plt.plot(history.history['loss'], label='training_loss')\n",
        "plt.plot(history.history['val_loss'], label='validation_loss')\n",
        "plt.plot(history.history['accuracy'], label='training_acc')\n",
        "plt.plot(history.history['val_accuracy'], label='validation_acc')\n",
        "plt.legend()\n",
        "plt.show()"
      ]
    },
    {
      "cell_type": "markdown",
      "metadata": {
        "id": "KPG4YEdh4AiH"
      },
      "source": [
        "# Import model and Test on unseen data"
      ]
    },
    {
      "cell_type": "code",
      "execution_count": 26,
      "metadata": {
        "id": "yDyk5ksCeDOK"
      },
      "outputs": [],
      "source": [
        "best_model = tf.keras.models.load_model('save_models/best_model.hdf5')\n",
        "best_model.compile(optimizer = tf.keras.optimizers.Nadam(learning_rate=0.0007), loss='categorical_crossentropy', metrics=['accuracy'])"
      ]
    },
    {
      "cell_type": "code",
      "execution_count": 31,
      "metadata": {
        "id": "6KsMjtRetqLL"
      },
      "outputs": [],
      "source": [
        "test_data_text = 'methyl methanoate'\n",
        "test_data_text_cut = 'meth|yl| |meth|an|oate'"
      ]
    },
    {
      "cell_type": "code",
      "execution_count": 32,
      "metadata": {
        "colab": {
          "base_uri": "https://localhost:8080/",
          "height": 151
        },
        "id": "WWj1_5XS30p_",
        "outputId": "3c112298-265f-46c5-9c61-83e978083095"
      },
      "outputs": [
        {
          "name": "stdout",
          "output_type": "stream",
          "text": [
            "[1 0 0 0 1 0 1 1 0 0 0 1 0 1 0 0 0]\n",
            "[1 0 0 0 1 0 1 1 0 0 0 1 0 1 0 0 0]\n",
            "\n",
            "Same = 17 , Not Same = 0\n"
          ]
        }
      ],
      "source": [
        "_, my_y = create_dataset(test_data_text_cut)\n",
        "myText_test = text_pred_preprocessing(test_data_text)\n",
        "\n",
        "pred_test_proba = best_model.predict(myText_test)\n",
        "\n",
        "pred_test = decode_label(pred_test_proba)\n",
        "pred_test[0] = 1\n",
        "my_y_decode = decode_label(my_y)\n",
        "\n",
        "print(pred_test)\n",
        "print(my_y_decode)\n",
        "\n",
        "# Count same item between y (label) and pred (prediction)\n",
        "elem_same = (pred_test == my_y_decode).sum()\n",
        "print(\"\\nSame =\",elem_same,\", Not Same =\",pred_test.shape[0]-elem_same)"
      ]
    },
    {
      "cell_type": "code",
      "execution_count": 33,
      "metadata": {
        "colab": {
          "base_uri": "https://localhost:8080/",
          "height": 70
        },
        "id": "jiGlram741Ne",
        "outputId": "c2c6be58-b055-4218-d889-5888a2742779"
      },
      "outputs": [
        {
          "name": "stdout",
          "output_type": "stream",
          "text": [
            "['meth', 'yl', ' ', 'meth', 'an', 'oate']\n",
            "meth|yl| |meth|an|oate\n"
          ]
        }
      ],
      "source": [
        "words = word_tokenize(test_data_text, pred_test)\n",
        "print(words)\n",
        "print('|'.join(words))"
      ]
    },
    {
      "cell_type": "markdown",
      "metadata": {
        "id": "e6CR383emWEt"
      },
      "source": [
        "# Function Confusion Matrix visualization"
      ]
    },
    {
      "cell_type": "markdown",
      "metadata": {
        "id": "PijmyACBmf0e"
      },
      "source": [
        "# Plot Confusion Matrix"
      ]
    },
    {
      "cell_type": "code",
      "execution_count": 34,
      "metadata": {
        "colab": {
          "base_uri": "https://localhost:8080/",
          "height": 337
        },
        "id": "WenTnLTpmp_4",
        "outputId": "9f8d8576-ee8f-46f2-cbe9-63e47d92e79a"
      },
      "outputs": [
        {
          "ename": "ModuleNotFoundError",
          "evalue": "No module named 'seaborn'",
          "output_type": "error",
          "traceback": [
            "\u001b[0;31m---------------------------------------------------------------------------\u001b[0m",
            "\u001b[0;31mModuleNotFoundError\u001b[0m                       Traceback (most recent call last)",
            "\u001b[0;32m<ipython-input-34-269b53e1349a>\u001b[0m in \u001b[0;36m<module>\u001b[0;34m\u001b[0m\n\u001b[0;32m----> 1\u001b[0;31m \u001b[0;32mfrom\u001b[0m \u001b[0mnami\u001b[0m\u001b[0;34m.\u001b[0m\u001b[0mvisualize\u001b[0m \u001b[0;32mimport\u001b[0m \u001b[0mplot_confusion_matrix\u001b[0m\u001b[0;34m\u001b[0m\u001b[0;34m\u001b[0m\u001b[0m\n\u001b[0m\u001b[1;32m      2\u001b[0m \u001b[0mlabels\u001b[0m \u001b[0;34m=\u001b[0m \u001b[0;34m[\u001b[0m\u001b[0;34m\"True Neg\"\u001b[0m\u001b[0;34m,\u001b[0m\u001b[0;34m\"False Pos\"\u001b[0m\u001b[0;34m,\u001b[0m\u001b[0;34m\"False Neg\"\u001b[0m\u001b[0;34m,\u001b[0m\u001b[0;34m\"True Pos\"\u001b[0m\u001b[0;34m]\u001b[0m\u001b[0;34m\u001b[0m\u001b[0;34m\u001b[0m\u001b[0m\n\u001b[1;32m      3\u001b[0m \u001b[0mcategories\u001b[0m \u001b[0;34m=\u001b[0m \u001b[0;34m[\u001b[0m\u001b[0;34m\"Zero\"\u001b[0m\u001b[0;34m,\u001b[0m \u001b[0;34m\"One\"\u001b[0m\u001b[0;34m]\u001b[0m\u001b[0;34m\u001b[0m\u001b[0;34m\u001b[0m\u001b[0m\n\u001b[1;32m      4\u001b[0m plot_confusion_matrix(tf.math.confusion_matrix(my_y_decode, pred_test, num_classes=2).numpy(), \n\u001b[1;32m      5\u001b[0m                       \u001b[0mgroup_names\u001b[0m\u001b[0;34m=\u001b[0m\u001b[0mlabels\u001b[0m\u001b[0;34m,\u001b[0m\u001b[0;34m\u001b[0m\u001b[0;34m\u001b[0m\u001b[0m\n",
            "\u001b[0;32m~/.virtualenvs/tf/lib/python3.8/site-packages/nami/visualize.py\u001b[0m in \u001b[0;36m<module>\u001b[0;34m\u001b[0m\n\u001b[1;32m      1\u001b[0m \u001b[0;32mimport\u001b[0m \u001b[0mnumpy\u001b[0m \u001b[0;32mas\u001b[0m \u001b[0mnp\u001b[0m\u001b[0;34m\u001b[0m\u001b[0;34m\u001b[0m\u001b[0m\n\u001b[0;32m----> 2\u001b[0;31m \u001b[0;32mimport\u001b[0m \u001b[0mseaborn\u001b[0m \u001b[0;32mas\u001b[0m \u001b[0msns\u001b[0m\u001b[0;34m\u001b[0m\u001b[0;34m\u001b[0m\u001b[0m\n\u001b[0m\u001b[1;32m      3\u001b[0m \u001b[0;32mimport\u001b[0m \u001b[0mmatplotlib\u001b[0m\u001b[0;34m.\u001b[0m\u001b[0mpyplot\u001b[0m \u001b[0;32mas\u001b[0m \u001b[0mplt\u001b[0m\u001b[0;34m\u001b[0m\u001b[0;34m\u001b[0m\u001b[0m\n\u001b[1;32m      4\u001b[0m def plot_confusion_matrix(cf,\n\u001b[1;32m      5\u001b[0m                           \u001b[0mgroup_names\u001b[0m\u001b[0;34m=\u001b[0m\u001b[0;34m[\u001b[0m\u001b[0;34m\"True Neg\"\u001b[0m\u001b[0;34m,\u001b[0m\u001b[0;34m\"False Pos\"\u001b[0m\u001b[0;34m,\u001b[0m\u001b[0;34m\"False Neg\"\u001b[0m\u001b[0;34m,\u001b[0m\u001b[0;34m\"True Pos\"\u001b[0m\u001b[0;34m]\u001b[0m\u001b[0;34m,\u001b[0m\u001b[0;34m\u001b[0m\u001b[0;34m\u001b[0m\u001b[0m\n",
            "\u001b[0;31mModuleNotFoundError\u001b[0m: No module named 'seaborn'"
          ]
        }
      ],
      "source": [
        "from nami.visualize import plot_confusion_matrix\r\n",
        "labels = [\"True Neg\",\"False Pos\",\"False Neg\",\"True Pos\"]\r\n",
        "categories = [\"Zero\", \"One\"]\r\n",
        "plot_confusion_matrix(tf.math.confusion_matrix(my_y_decode, pred_test, num_classes=2).numpy(), \r\n",
        "                      group_names=labels,\r\n",
        "                      categories=categories, cmap='YlGnBu')"
      ]
    },
    {
      "cell_type": "markdown",
      "metadata": {
        "id": "AIFvoxuOZE7J"
      },
      "source": [
        "## BLEU Score"
      ]
    },
    {
      "cell_type": "code",
      "execution_count": 30,
      "metadata": {
        "colab": {
          "base_uri": "https://localhost:8080/",
          "height": 54
        },
        "id": "k42mTNkqZyA2",
        "outputId": "7186287c-3356-4eb6-85b8-11c56171b62f"
      },
      "outputs": [
        {
          "name": "stdout",
          "output_type": "stream",
          "text": [
            "['4', '-', 'hydroxy', '-', '2', '-', 'meth', 'yl', '-', '3', '-', 'meth', 'yl', 'idene', '-', '6', '-', 'oxo', 'cyclo', 'hex', 'a', '-', '1', ',', '4', '-', 'di', 'ene', '-', '1', '-', 'carboxylic acid']\n"
          ]
        }
      ],
      "source": [
        "reference = test_data_text_cut.split('|')\n",
        "print(reference)"
      ]
    },
    {
      "cell_type": "code",
      "execution_count": 31,
      "metadata": {
        "colab": {
          "base_uri": "https://localhost:8080/",
          "height": 34
        },
        "id": "NTRwxpmRZZKh",
        "outputId": "c3665a2b-ea77-4c45-b0e5-0c33805ddf5e"
      },
      "outputs": [
        {
          "name": "stdout",
          "output_type": "stream",
          "text": [
            "0.8498644646741501\n"
          ]
        }
      ],
      "source": [
        "import nltk\n",
        "score = nltk.translate.bleu_score.sentence_bleu([reference],words)\n",
        "print(score)"
      ]
    }
  ],
  "metadata": {
    "accelerator": "GPU",
    "colab": {
      "collapsed_sections": [
        "e6CR383emWEt"
      ],
      "machine_shape": "hm",
      "name": "ORG_Chem_Word_Segmentation.ipynb",
      "provenance": [],
      "toc_visible": true
    },
    "kernelspec": {
      "display_name": "Python 3",
      "name": "python3"
    },
    "language_info": {
      "codemirror_mode": {
        "name": "ipython",
        "version": 3
      },
      "file_extension": ".py",
      "mimetype": "text/x-python",
      "name": "python",
      "nbconvert_exporter": "python",
      "pygments_lexer": "ipython3",
      "version": "3.8.5"
    }
  },
  "nbformat": 4,
  "nbformat_minor": 0
}