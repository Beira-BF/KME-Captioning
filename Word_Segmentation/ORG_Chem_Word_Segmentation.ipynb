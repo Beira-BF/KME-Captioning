{
  "nbformat": 4,
  "nbformat_minor": 0,
  "metadata": {
    "colab": {
      "name": "ORG_Chem_Word_Segmentation.ipynb",
      "provenance": [],
      "collapsed_sections": [],
      "machine_shape": "hm"
    },
    "kernelspec": {
      "name": "python3",
      "display_name": "Python 3"
    }
  },
  "cells": [
    {
      "cell_type": "markdown",
      "metadata": {
        "id": "B3OfNRQA3Gt8",
        "colab_type": "text"
      },
      "source": [
        "# Import Character Vocab\n"
      ]
    },
    {
      "cell_type": "code",
      "metadata": {
        "id": "WOlG2SQfrlOw",
        "colab_type": "code",
        "colab": {}
      },
      "source": [
        "import numpy as np\n",
        "import json\n",
        "import tensorflow as tf"
      ],
      "execution_count": 1,
      "outputs": []
    },
    {
      "cell_type": "code",
      "metadata": {
        "id": "Yq7h6WJTs89M",
        "colab_type": "code",
        "colab": {}
      },
      "source": [
        "with open('/content/drive/My Drive/files/vocab.json', 'r') as f:\n",
        "  CHAR_INDICES = json.load(f)"
      ],
      "execution_count": 2,
      "outputs": []
    },
    {
      "cell_type": "code",
      "metadata": {
        "id": "iKdOILCutjVM",
        "colab_type": "code",
        "colab": {
          "base_uri": "https://localhost:8080/",
          "height": 54
        },
        "outputId": "ec10e396-e3e8-486a-dd5b-1b6f070919c5"
      },
      "source": [
        "print(CHAR_INDICES)"
      ],
      "execution_count": 3,
      "outputs": [
        {
          "output_type": "stream",
          "text": [
            "{' ': 0, ',': 1, '-': 2, '0': 3, '1': 4, '2': 5, '3': 6, '4': 7, '5': 8, '6': 9, '7': 10, '8': 11, '9': 12, 'A': 13, 'B': 14, 'C': 15, 'D': 16, 'E': 17, 'F': 18, 'G': 19, 'H': 20, 'I': 21, 'J': 22, 'K': 23, 'L': 24, 'M': 25, 'N': 26, 'O': 27, 'P': 28, 'Q': 29, 'R': 30, 'S': 31, 'T': 32, 'U': 33, 'V': 34, 'W': 35, 'X': 36, 'Y': 37, 'Z': 38, 'a': 39, 'b': 40, 'c': 41, 'd': 42, 'e': 43, 'f': 44, 'g': 45, 'h': 46, 'i': 47, 'j': 48, 'k': 49, 'l': 50, 'm': 51, 'n': 52, 'o': 53, 'p': 54, 'q': 55, 'r': 56, 's': 57, 't': 58, 'u': 59, 'v': 60, 'w': 61, 'x': 62, 'y': 63, 'z': 64, '<pad>': 65, '<unk>': 66}\n"
          ],
          "name": "stdout"
        }
      ]
    },
    {
      "cell_type": "markdown",
      "metadata": {
        "id": "iGUQS25OVJIJ",
        "colab_type": "text"
      },
      "source": [
        "# Preprocessing text data"
      ]
    },
    {
      "cell_type": "code",
      "metadata": {
        "id": "IN2uPnKJdr0h",
        "colab_type": "code",
        "colab": {}
      },
      "source": [
        "look_back = 10"
      ],
      "execution_count": 4,
      "outputs": []
    },
    {
      "cell_type": "code",
      "metadata": {
        "id": "wYP03g3TrMXb",
        "colab_type": "code",
        "colab": {}
      },
      "source": [
        "def create_dataset(text, look_back = look_back):\n",
        "  X, y = [], []\n",
        "  text = '|' + text\n",
        "  data = [CHAR_INDICES['<pad>']] * look_back\n",
        "  for i in range(1, len(text)):\n",
        "    current_char = text[i]\n",
        "    before_char = text[i-1]\n",
        "\n",
        "    if current_char == '|':\n",
        "      continue\n",
        "    data = data[1:] + [CHAR_INDICES[current_char]]  # X data\n",
        "\n",
        "    target = 1 if before_char == '|' else 0  # y data\n",
        "    X.append(data)\n",
        "    y.append(target)\n",
        "  \n",
        "  return np.array(X), np.array(y)"
      ],
      "execution_count": 5,
      "outputs": []
    },
    {
      "cell_type": "code",
      "metadata": {
        "id": "LhL81QrDazGn",
        "colab_type": "code",
        "colab": {}
      },
      "source": [
        "def pred_preprocessing(text, sequence_len=10):\n",
        "  # create dataset\n",
        "  X = []\n",
        "  data = [CHAR_INDICES['<pad>']] * sequence_len\n",
        "  for char in text:\n",
        "    char = char if char in CHAR_INDICES else '<unk>'  # check char in dictionary\n",
        "    data = data[1:] + [CHAR_INDICES[char]]  # X data\n",
        "    X.append(data)\n",
        "  return np.array(X)"
      ],
      "execution_count": 6,
      "outputs": []
    },
    {
      "cell_type": "code",
      "metadata": {
        "id": "98YuegoQyZvQ",
        "colab_type": "code",
        "colab": {}
      },
      "source": [
        "def word_tokenize(text, class_):\n",
        "    cut_indexs = []\n",
        "    words = []\n",
        "\n",
        "    # boolean index of each word 1 if cut before\n",
        "    class_ = np.append(class_, 1)\n",
        "\n",
        "    # if y_label at i is 1 so add i (index) to cut_indexs\n",
        "    for i, value in enumerate(class_):\n",
        "      if value == 1:\n",
        "        cut_indexs.append(i)\n",
        "\n",
        "    # add word after cutting till before ext cutting\n",
        "    for i in range(len(cut_indexs)-1):\n",
        "      words.append(text[cut_indexs[i]:cut_indexs[i+1]])\n",
        "    \n",
        "    return words"
      ],
      "execution_count": 7,
      "outputs": []
    },
    {
      "cell_type": "code",
      "metadata": {
        "id": "zHyGGAJyz7FM",
        "colab_type": "code",
        "colab": {}
      },
      "source": [
        "with open('/content/drive/My Drive/files/Dictionary.json', 'r') as f1, open('/content/drive/My Drive/files/Dictionary_cut.json', 'r') as f2:\n",
        "    Dict = json.load(f1)\n",
        "    Dict_cut = json.load(f2)"
      ],
      "execution_count": 8,
      "outputs": []
    },
    {
      "cell_type": "code",
      "metadata": {
        "id": "rRbRE5NFtfcE",
        "colab_type": "code",
        "colab": {
          "base_uri": "https://localhost:8080/",
          "height": 302
        },
        "outputId": "3bc9cf04-0bc1-41d6-f428-33d77152ef66"
      },
      "source": [
        "for key, value in Dict.items():\n",
        "    print(key, len(value))\n",
        "print('-'*15)\n",
        "for key, value in Dict_cut.items():\n",
        "    print(key, len(value))"
      ],
      "execution_count": 9,
      "outputs": [
        {
          "output_type": "stream",
          "text": [
            "alkane 10\n",
            "cyclo_alkane 8\n",
            "alkene 25\n",
            "dialkene 69\n",
            "cyclo_alkene 8\n",
            "alkyne 9\n",
            "dialkyne 49\n",
            "cyclo_alkyne 8\n",
            "---------------\n",
            "alkane 10\n",
            "cyclo_alkane 8\n",
            "alkene 25\n",
            "dialkene 69\n",
            "cyclo_alkene 8\n",
            "alkyne 9\n",
            "dialkyne 49\n",
            "cyclo_alkyne 8\n"
          ],
          "name": "stdout"
        }
      ]
    },
    {
      "cell_type": "markdown",
      "metadata": {
        "id": "1YStOZHdVPt1",
        "colab_type": "text"
      },
      "source": [
        "# Create Dataset"
      ]
    },
    {
      "cell_type": "code",
      "metadata": {
        "id": "hTllUAldU6Sk",
        "colab_type": "code",
        "colab": {
          "base_uri": "https://localhost:8080/",
          "height": 34
        },
        "outputId": "ea867dda-33b6-43e1-d9ba-e1c087a78c31"
      },
      "source": [
        "last_key = list(Dict.keys())[-1]\n",
        "print(last_key)"
      ],
      "execution_count": 10,
      "outputs": [
        {
          "output_type": "stream",
          "text": [
            "cyclo_alkyne\n"
          ],
          "name": "stdout"
        }
      ]
    },
    {
      "cell_type": "code",
      "metadata": {
        "id": "2jUhDMYLT45h",
        "colab_type": "code",
        "colab": {
          "base_uri": "https://localhost:8080/",
          "height": 70
        },
        "outputId": "4ba291fe-96a8-4a8a-dbd4-b33654f0ca79"
      },
      "source": [
        "dataset_cut = ''\n",
        "for key, value in Dict_cut.items():\n",
        "    for name in value:\n",
        "        dataset_cut += name\n",
        "        if name != Dict_cut[last_key][-1]:\n",
        "            dataset_cut = dataset_cut + '| |'\n",
        "    #print(len(dataset_cut.replace('|','')))\n",
        "print(dataset_cut)\n",
        "print(len(dataset_cut.replace('|','')))"
      ],
      "execution_count": 11,
      "outputs": [
        {
          "output_type": "stream",
          "text": [
            "Meth|ane| |Eth|ane| |Prop|ane| |But|ane| |Pent|ane| |Hex|ane| |Hept|ane| |Oct|ane| |Non|ane| |Dec|ane| |Cyclo|prop|ane| |Cyclo|but|ane| |Cyclo|pent|ane| |Cyclo|hex|ane| |Cyclo|hept|ane| |Cyclo|oct|ane| |Cyclo|non|ane| |Cyclo|dec|ane| |Eth|ene| |Prop|ene| |But|ene| |But|-|2|-|ene| |Pent|ene| |Pent|-|2|-|ene| |Hex|ene| |Hex|-|2|-|ene| |Hex|-|3|-|ene| |Hept|ene| |Hept|-|2|-ene| |Hept|-|3|-|ene| |Oct|ene| |Oct|-|2|-|ene| |Oct|-|3|-|ene| |Oct|-|4|-|ene| |Non|ene| |Non|-|2|-|ene| |Non|-|3|-ene| |Non|-|4|-ene| |Dec|ene| |Dec|-|2|-|ene| |Dec|-|3|-|ene| |Dec|-|4|-|ene| |Dec|-|5|-|ene| |Prop|a|di|ene| |But|a|-|1|,|2|-|di|ene| |But|a|-|1|,|3|-|di|ene| |Pent|a|-|1|,|2|-|di|ene| |Pent|a|-|1|,|3|-|di|ene| |Pent|a|-|1|,|4|-|di|ene| |Pent|a|-|2|,|3|-|di|ene| |Hex|a|-|1|,|2|-|di|ene| |Hex|a|-|1|,|3|-|di|ene| |Hex|a|-|1|,|4|-|di|ene| |Hex|a|-|1|,|5|-|di|ene| |Hex|a|-|2|,|3|-|di|ene| |Hex|a|-|2|,|4|-|di|ene| |Hept|a|-|1|,|2|-|di|ene| |Hept|a|-|1|,|3|-|di|ene| |Hept|a|-|1|,|4|-|di|ene| |Hept|a|-|1|,|5|-|di|ene| |Hept|a|-|1|,|6|-|di|ene| |Hept|a|-|2|,|3|-|di|ene| |Hept|a|-|2|,|4|-|di|ene| |Hept|a|-|2|,|5|-|di|ene| |Hept|a|-|3|,|4|-|di|ene| |Oct|a|-|1|,|2|-|di|ene| ||Oct|a|-|1|,|3|-|di|ene| |Oct|a|-|1|,|4|-|di|ene| |Oct|a|-|1|,|5|-|di|ene| |Oct|a|-|1|,|6|-|di|ene| |Oct|a|-|2|,|3|-|di|ene| |Oct|a|-|2|,|4|-|di|ene| |Oct|a|-|2|,|5|-|di|ene| |Oct|a|-|2|,|6|-|di|ene| |Oct|a|-|3|,|4|-|di|ene| |Oct|a|-|3|,|5|-|di|ene| |Non|a|-|1|,|2|-|di|ene| |Non|a|-|1|,|3|-|di|ene| |Non|a|-|1|,|4|-|di|ene| |Non|a|-|1|,|5|-|di|ene| |Non|a|-|1|,|6|-|di|ene| |Non|a|-|1|,|7|-|di|ene| |Non|a|-|1|,|8|-|di|ene| |Non|a|-|2|,|3|-|di|ene| |Non|a|-|2|,|4|-|di|ene| |Non|a|-|2|,|5|-|di|ene| |Non|a|-|2|,|6|-|di|ene| |Non|a|-|2|,|7|-|di|ene| |Non|a|-|3|,|4|-|di|ene| |Non|a|-|3|,|5|-|di|ene| |Non|a|-|3|,|6|-|di|ene| |Non|a|-|4|,|5|-|di|ene| |Dec|a|-|1|,|2|-|di|ene| |Dec|a|-|1|,|3|-|di|ene| |Dec|a|-|1|,|4|-|di|ene| |Dec|a|-|1|,|5|-|di|ene| |Dec|a|-|1|,|6|-|di|ene| |Dec|a|-|1|,|7|-|di|ene| |Dec|a|-|1|,|8|-|di|ene| |Dec|a|-|1|,|9|-|di|ene| |Dec|a|-|2|,|3|-|di|ene| |Dec|a|-|2|,|4|-|di|ene| |Dec|a|-|2|,|5|-|di|ene| |Dec|a|-|2|,|6|-|di|ene| |Dec|a|-|2|,|7|-|di|ene| |Dec|a|-|2|,|8|-|di|ene| |Dec|a|-|3|,|4|-|di|ene| |Dec|a|-|3|,|5|-|di|ene| |Dec|a|-|3|,|6|-|di|ene| |Dec|a|-|3|,|7|-|di|ene| |Dec|a|-|4|,|5|-|di|ene| |Dec|a|-|4|,|6|-|di|ene| |Cyclo|prop|ene| |Cyclo|but|ene| |Cyclo|pent|ene| |Cyclo|hex|ene| |Cyclo|hept|ene| |Cyclo|oct|ene| |Cyclo|non|ene| |Cyclo|dec|ene| |Eth|yne| |Prop|yne| |But|yne| |Pent|yne| |Hex|yne| |Hept|yne| |Oct|yne| |Non|yne| |Dec|yne| |But|a|-|1|,|3|-|di|yne| |Pent|a|-|1|,|3|-|di|yne| |Pent|a|-|1|,|4|-|di|yne| |Hex|a|-|1|,|3|-|di|yne| |Hex|a|-|1|,|4|-|di|yne| |Hex|a|-|1|,|5|-|di|yne| |Hex|a|-|2|,|4|-|di|yne| |Hept|a|-|1|,|3|-|di|yne| |Hept|a|-|1|,|4|-|di|yne| |Hept|a|-|1|,|5|-|di|yne| |Hept|a|-|1|,|6|-|di|yne| |Hept|a|-|2|,|4|-|di|yne| |Hept|a|-|2|,|5|-|di|yne| |Oct|a|-|1|,|3|-|di|yne| |Oct|a|-|1|,|4|-|di|yne| |Oct|a|-|1|,|5|-|di|yne| |Oct|a|-|1|,|6|-|di|yne| |Oct|a|-|2|,|4|-|di|yne| |Oct|a|-|2|,|5|-|di|yne| |Oct|a|-|2|,|6|-|di|yne| |Oct|a|-|3|,|5|-|di|yne| |Non|a|-|1|,|3|-|di|yne| |Non|a|-|1|,|4|-|di|yne| |Non|a|-|1|,|5|-|di|yne| |Non|a|-|1|,|6|-|di|yne| |Non|a|-|1|,|7|-|di|yne| |Non|a|-|1|,|8|-|di|yne| |Non|a|-|2|,|4|-|di|yne| |Non|a|-|2|,|5|-|di|yne| |Non|a|-|2|,|6|-|di|yne| |Non|a|-|2|,|7|-|di|yne| |Non|a|-|3|,|5|-|di|yne| |Non|a|-|3|,|6|-|di|yne| |Dec|a|-|1|,|3|-|di|yne| |Dec|a|-|1|,|4|-|di|yne| |Dec|a|-|1|,|5|-|di|yne| |Dec|a|-|1|,|6|-|di|yne| |Dec|a|-|1|,|7|-|di|yne| |Dec|a|-|1|,|8|-|di|yne| |Dec|a|-|1|,|9|-|di|yne| |Dec|a|-|2|,|4|-|di|yne| |Dec|a|-|2|,|5|-|di|yne| |Dec|a|-|2|,|6|-|di|yne| |Dec|a|-|2|,|7|-|di|yne| |Dec|a|-|2|,|8|-|di|yne| |Dec|a|-|3|,|5|-|di|yne| |Dec|a|-|3|,|6|-|di|yne| |Dec|a|-|3|,|7|-|di|yne| |Dec|a|-|4|,|6|-|di|yne| |Cyclo|prop|yne| |Cyclo|but|yne| |Cyclo|pent|yne| |Cyclo|hex|yne| |Cyclo|hept|yne| |Cyclo|oct|yne| |Cyclo|non|yne| |Cyclo|dec|yne\n",
            "2452\n"
          ],
          "name": "stdout"
        }
      ]
    },
    {
      "cell_type": "code",
      "metadata": {
        "id": "6NiWUZwKUnqY",
        "colab_type": "code",
        "colab": {
          "base_uri": "https://localhost:8080/",
          "height": 70
        },
        "outputId": "1102a7d4-d35b-41ab-8fff-22226b333c93"
      },
      "source": [
        "dataset = \"\"\n",
        "for key, value in Dict.items():\n",
        "  for name in value:\n",
        "    dataset += name\n",
        "    if name != Dict[last_key][-1]:\n",
        "      dataset = dataset + ' '\n",
        "  #print(len(dataset.replace('|','')))\n",
        "print(dataset)\n",
        "print(len(dataset))"
      ],
      "execution_count": 12,
      "outputs": [
        {
          "output_type": "stream",
          "text": [
            "Methane Ethane Propane Butane Pentane Hexane Heptane Octane Nonane Decane Cyclopropane Cyclobutane Cyclopentane Cyclohexane Cycloheptane Cyclooctane Cyclononane Cyclodecane Ethene Propene Butene But-2-ene Pentene Pent-2-ene Hexene Hex-2-ene Hex-3-ene Heptene Hept-2-ene Hept-3-ene Octene Oct-2-ene Oct-3-ene Oct-4-ene Nonene Non-2-ene Non-3-ene Non-4-ene Decene Dec-2-ene Dec-3-ene Dec-4-ene Dec-5-ene Propadiene Buta-1,2-diene Buta-1,3-diene Penta-1,2-diene Penta-1,3-diene Penta-1,4-diene Penta-2,3-diene Hexa-1,2-diene Hexa-1,3-diene Hexa-1,4-diene Hexa-1,5-diene Hexa-2,3-diene Hexa-2,4-diene Hepta-1,2-diene Hepta-1,3-diene Hepta-1,4-diene Hepta-1,5-diene Hepta-1,6-diene Hepta-2,3-diene Hepta-2,4-diene Hepta-2,5-diene Hepta-3,4-diene Octa-1,2-diene Octa-1,3-diene Octa-1,4-diene Octa-1,5-diene Octa-1,6-diene Octa-2,3-diene Octa-2,4-diene Octa-2,5-diene Octa-2,6-diene Octa-3,4-diene Octa-3,5-diene Nona-1,2-diene Nona-1,3-diene Nona-1,4-diene Nona-1,5-diene Nona-1,6-diene Nona-1,7-diene Nona-1,8-diene Nona-2,3-diene Nona-2,4-diene Nona-2,5-diene Nona-2,6-diene Nona-2,7-diene Nona-3,4-diene Nona-3,5-diene Nona-3,6-diene Nona-4,5-diene Deca-1,2-diene Deca-1,3-diene Deca-1,4-diene Deca-1,5-diene Deca-1,6-diene Deca-1,7-diene Deca-1,8-diene Deca-1,9-diene Deca-2,3-diene Deca-2,4-diene Deca-2,5-diene Deca-2,6-diene Deca-2,7-diene Deca-2,8-diene Deca-3,4-diene Deca-3,5-diene Deca-3,6-diene Deca-3,7-diene Deca-4,5-diene Deca-4,6-diene Cyclopropene Cyclobutene Cyclopentene Cyclohexene Cycloheptene Cyclooctene Cyclononene Cyclodecene Ethyne Propyne Butyne Pentyne Hexyne Heptyne Octyne Nonyne Decyne Buta-1,3-diyne Penta-1,3-diyne Penta-1,4-diyne Hexa-1,3-diyne Hexa-1,4-diyne Hexa-1,5-diyne Hexa-2,4-diyne Hepta-1,3-diyne Hepta-1,4-diyne Hepta-1,5-diyne Hepta-1,6-diyne Hepta-2,4-diyne Hepta-2,5-diyne Octa-1,3-diyne Octa-1,4-diyne Octa-1,5-diyne Octa-1,6-diyne Octa-2,4-diyne Octa-2,5-diyne Octa-2,6-diyne Octa-3,5-diyne Nona-1,3-diyne Nona-1,4-diyne Nona-1,5-diyne Nona-1,6-diyne Nona-1,7-diyne Nona-1,8-diyne Nona-2,4-diyne Nona-2,5-diyne Nona-2,6-diyne Nona-2,7-diyne Nona-3,5-diyne Nona-3,6-diyne Deca-1,3-diyne Deca-1,4-diyne Deca-1,5-diyne Deca-1,6-diyne Deca-1,7-diyne Deca-1,8-diyne Deca-1,9-diyne Deca-2,4-diyne Deca-2,5-diyne Deca-2,6-diyne Deca-2,7-diyne Deca-2,8-diyne Deca-3,5-diyne Deca-3,6-diyne Deca-3,7-diyne Deca-4,6-diyne Cyclopropyne Cyclobutyne Cyclopentyne Cyclohexyne Cycloheptyne Cyclooctyne Cyclononyne Cyclodecyne\n",
            "2452\n"
          ],
          "name": "stdout"
        }
      ]
    },
    {
      "cell_type": "code",
      "metadata": {
        "id": "u2afRpduVvog",
        "colab_type": "code",
        "colab": {
          "base_uri": "https://localhost:8080/",
          "height": 50
        },
        "outputId": "99dde2e2-2f18-41f8-99dc-61b82193a5cf"
      },
      "source": [
        "X_train, y = create_dataset(dataset_cut)\n",
        "X_test = pred_preprocessing(dataset)\n",
        "print(X_train.shape, y.shape)\n",
        "print(X_test.shape)"
      ],
      "execution_count": 13,
      "outputs": [
        {
          "output_type": "stream",
          "text": [
            "(2452, 10) (2452,)\n",
            "(2452, 10)\n"
          ],
          "name": "stdout"
        }
      ]
    },
    {
      "cell_type": "code",
      "metadata": {
        "id": "ZLZO-FPGlzz_",
        "colab_type": "code",
        "colab": {}
      },
      "source": [
        "training_data = tf.data.Dataset.from_tensor_slices((X_train,y))\n",
        "training_data = training_data.batch(128)"
      ],
      "execution_count": 14,
      "outputs": []
    },
    {
      "cell_type": "markdown",
      "metadata": {
        "id": "4SxmThNeVVg4",
        "colab_type": "text"
      },
      "source": [
        "# Create Model"
      ]
    },
    {
      "cell_type": "markdown",
      "metadata": {
        "id": "1GK3s02l336w",
        "colab_type": "text"
      },
      "source": [
        "## Model Architecture"
      ]
    },
    {
      "cell_type": "code",
      "metadata": {
        "id": "yecuD8XIVXVn",
        "colab_type": "code",
        "colab": {}
      },
      "source": [
        "import tensorflow as tf\n",
        "from tensorflow.keras.layers import Bidirectional, LSTM, Dense, Embedding\n",
        "from tensorflow.keras.losses import BinaryCrossentropy\n",
        "from tensorflow.keras.optimizers import Adam\n",
        "from tensorflow.keras.models import Sequential"
      ],
      "execution_count": 15,
      "outputs": []
    },
    {
      "cell_type": "code",
      "metadata": {
        "id": "ZLVuON-cdnSQ",
        "colab_type": "code",
        "colab": {
          "base_uri": "https://localhost:8080/",
          "height": 34
        },
        "outputId": "89e1a22c-8454-4195-a0cc-7f63d5cd6cc4"
      },
      "source": [
        "_input_shape = (look_back, len(CHAR_INDICES))\n",
        "print(_input_shape[1])"
      ],
      "execution_count": 16,
      "outputs": [
        {
          "output_type": "stream",
          "text": [
            "67\n"
          ],
          "name": "stdout"
        }
      ]
    },
    {
      "cell_type": "code",
      "metadata": {
        "id": "A0jAOIBzdDYJ",
        "colab_type": "code",
        "colab": {}
      },
      "source": [
        "Model = Sequential(\n",
        "    [\n",
        "     Embedding(len(CHAR_INDICES), _input_shape[1]),\n",
        "     Bidirectional(LSTM(_input_shape[1]//2, return_sequences=False),\n",
        "                      merge_mode='sum',\n",
        "                      weights=None,\n",
        "                      input_shape=_input_shape),\n",
        "     Dense(_input_shape[1]//4),\n",
        "     Dense(1, activation='sigmoid')\n",
        "    ],\n",
        "    name='model'\n",
        ")"
      ],
      "execution_count": 17,
      "outputs": []
    },
    {
      "cell_type": "code",
      "metadata": {
        "id": "WifMOz_Kextr",
        "colab_type": "code",
        "colab": {
          "base_uri": "https://localhost:8080/",
          "height": 415
        },
        "outputId": "ac120972-913b-4f31-9938-c6620c1bbf68"
      },
      "source": [
        "tf.keras.utils.plot_model(Model, show_shapes=True, dpi=74, show_layer_names=False)"
      ],
      "execution_count": 18,
      "outputs": [
        {
          "output_type": "execute_result",
          "data": {
            "image/png": "[encoded data removed]",
            "text/plain": [
              "<IPython.core.display.Image object>"
            ]
          },
          "metadata": {
            "tags": []
          },
          "execution_count": 18
        }
      ]
    },
    {
      "cell_type": "markdown",
      "metadata": {
        "id": "QNzpxjEb38LI",
        "colab_type": "text"
      },
      "source": [
        "## Training Model"
      ]
    },
    {
      "cell_type": "code",
      "metadata": {
        "id": "uXJ10S4MfBgN",
        "colab_type": "code",
        "colab": {
          "base_uri": "https://localhost:8080/",
          "height": 370
        },
        "outputId": "33d88c5d-4351-4787-8f96-a291631be310"
      },
      "source": [
        "Model.compile(optimizer='Adam', loss='binary_crossentropy', metrics=['accuracy'])\n",
        "Model.fit(training_data, epochs=10)"
      ],
      "execution_count": 19,
      "outputs": [
        {
          "output_type": "stream",
          "text": [
            "Epoch 1/10\n",
            "20/20 [==============================] - 0s 10ms/step - loss: 0.6688 - accuracy: 0.5861\n",
            "Epoch 2/10\n",
            "20/20 [==============================] - 0s 10ms/step - loss: 0.5664 - accuracy: 0.7541\n",
            "Epoch 3/10\n",
            "20/20 [==============================] - 0s 10ms/step - loss: 0.4348 - accuracy: 0.7480\n",
            "Epoch 4/10\n",
            "20/20 [==============================] - 0s 9ms/step - loss: 0.3090 - accuracy: 0.8630\n",
            "Epoch 5/10\n",
            "20/20 [==============================] - 0s 9ms/step - loss: 0.1970 - accuracy: 0.9339\n",
            "Epoch 6/10\n",
            "20/20 [==============================] - 0s 9ms/step - loss: 0.1165 - accuracy: 0.9645\n",
            "Epoch 7/10\n",
            "20/20 [==============================] - 0s 10ms/step - loss: 0.0772 - accuracy: 0.9829\n",
            "Epoch 8/10\n",
            "20/20 [==============================] - 0s 9ms/step - loss: 0.0665 - accuracy: 0.9776\n",
            "Epoch 9/10\n",
            "20/20 [==============================] - 0s 10ms/step - loss: 0.0508 - accuracy: 0.9833\n",
            "Epoch 10/10\n",
            "20/20 [==============================] - 0s 10ms/step - loss: 0.0432 - accuracy: 0.9861\n"
          ],
          "name": "stdout"
        },
        {
          "output_type": "execute_result",
          "data": {
            "text/plain": [
              "<tensorflow.python.keras.callbacks.History at 0x7f887a264be0>"
            ]
          },
          "metadata": {
            "tags": []
          },
          "execution_count": 19
        }
      ]
    },
    {
      "cell_type": "code",
      "metadata": {
        "id": "_Ku7X6OamroD",
        "colab_type": "code",
        "colab": {
          "base_uri": "https://localhost:8080/",
          "height": 134
        },
        "outputId": "9d05974e-6a6a-42e0-83f8-2cb61ce980df"
      },
      "source": [
        "pred_proba = Model.predict(X_test)\n",
        "print(pred_proba.round(3))"
      ],
      "execution_count": 22,
      "outputs": [
        {
          "output_type": "stream",
          "text": [
            "[[0.926]\n",
            " [0.01 ]\n",
            " [0.001]\n",
            " ...\n",
            " [0.973]\n",
            " [0.037]\n",
            " [0.092]]\n"
          ],
          "name": "stdout"
        }
      ]
    },
    {
      "cell_type": "code",
      "metadata": {
        "id": "osFEsCKcqxYv",
        "colab_type": "code",
        "colab": {
          "base_uri": "https://localhost:8080/",
          "height": 67
        },
        "outputId": "45ad5fdc-15fc-4898-e687-36f1f8142084"
      },
      "source": [
        "pred = np.array([0 if i <= 0.5 else 1 for i in pred_proba])\n",
        "print(\"true:\", y)\n",
        "print(\"predict:\",pred)\n",
        "print(\"y:\",y.shape,\"ans:\",pred.shape)"
      ],
      "execution_count": 23,
      "outputs": [
        {
          "output_type": "stream",
          "text": [
            "true: [1 0 0 ... 1 0 0]\n",
            "predict: [1 0 0 ... 1 0 0]\n",
            "y: (2452,) ans: (2452,)\n"
          ],
          "name": "stdout"
        }
      ]
    },
    {
      "cell_type": "code",
      "metadata": {
        "id": "q21LstY_rRNp",
        "colab_type": "code",
        "colab": {
          "base_uri": "https://localhost:8080/",
          "height": 101
        },
        "outputId": "4adfde83-ec4a-46b5-97fc-64b1d20a277b"
      },
      "source": [
        "count = 0\n",
        "\n",
        "for i in range(y.shape[0]):\n",
        "  if pred[i] == y[i]:\n",
        "    count += 1\n",
        "print(\"True: \",count,\"False: \",pred.shape[0]-count)\n",
        "print(\"\\nConfusion Matrix:\")\n",
        "print(tf.math.confusion_matrix(y, pred, num_classes=2).numpy())"
      ],
      "execution_count": 30,
      "outputs": [
        {
          "output_type": "stream",
          "text": [
            "True:  2427 False:  25\n",
            "\n",
            "Confusion Matrix:\n",
            "[[1001    4]\n",
            " [  21 1426]]\n"
          ],
          "name": "stdout"
        }
      ]
    },
    {
      "cell_type": "markdown",
      "metadata": {
        "id": "KPG4YEdh4AiH",
        "colab_type": "text"
      },
      "source": [
        "## Test on unseen data"
      ]
    },
    {
      "cell_type": "code",
      "metadata": {
        "id": "6KsMjtRetqLL",
        "colab_type": "code",
        "colab": {}
      },
      "source": [
        "myText = \"Benzyl-N,2-dimethylpentan-3-aminoate\"\n",
        "myText_cut = \"Benz|yl|-|N|,|2|-|di|meth|yl|pent|an|-|3|-|amin|oate\""
      ],
      "execution_count": 25,
      "outputs": []
    },
    {
      "cell_type": "code",
      "metadata": {
        "id": "WWj1_5XS30p_",
        "colab_type": "code",
        "colab": {
          "base_uri": "https://localhost:8080/",
          "height": 151
        },
        "outputId": "29d2c419-abe0-40a5-f6d0-09c7a7d01fe3"
      },
      "source": [
        "myText_test, my_y = create_dataset(myText_cut)\n",
        "pred_test_proba = Model.predict(myText_test)\n",
        "\n",
        "pred_test = np.array([0 if i <= 0.5 else 1 for i in pred_test_proba])\n",
        "print(pred_test)\n",
        "print(my_y)\n",
        "\n",
        "count = 0\n",
        "for i in range(my_y.shape[0]):\n",
        "  if pred_test[i] == my_y[i]:\n",
        "    count += 1\n",
        "print(\"\\nTrue: \",count,\"False: \",pred_test.shape[0]-count)\n",
        "\n",
        "print(\"\\nConfusion Matrix:\")\n",
        "print(tf.math.confusion_matrix(my_y, pred_test, num_classes=2).numpy())"
      ],
      "execution_count": 35,
      "outputs": [
        {
          "output_type": "stream",
          "text": [
            "[1 0 0 0 0 0 1 1 1 1 1 1 0 1 0 0 1 1 0 0 0 0 0 1 0 1 1 1 1 1 0 0 0 1 0 0]\n",
            "[1 0 0 0 1 0 1 1 1 1 1 1 0 1 0 0 0 1 0 1 0 0 0 1 0 1 1 1 1 0 0 0 1 0 0 0]\n",
            "\n",
            "True:  30 False:  6\n",
            "\n",
            "Confusion Matrix:\n",
            "[[16  3]\n",
            " [ 3 14]]\n"
          ],
          "name": "stdout"
        }
      ]
    },
    {
      "cell_type": "code",
      "metadata": {
        "id": "jiGlram741Ne",
        "colab_type": "code",
        "colab": {
          "base_uri": "https://localhost:8080/",
          "height": 50
        },
        "outputId": "207ecdc7-48d0-4237-c9ed-8037944b4424"
      },
      "source": [
        "for i in range(y.shape[0]):\n",
        "  if pred[i] == y[i]:\n",
        "    count += 1\n",
        "print(\"True: \",count,\"False: \",pred.shape[0]-count)words = word_tokenize(myText, pred_test)\n",
        "print(words)\n",
        "print('|'.join(words))"
      ],
      "execution_count": 27,
      "outputs": [
        {
          "output_type": "stream",
          "text": [
            "['Benzyl', '-', 'N', ',', '2', '-', 'di', 'met', 'h', 'ylpent', 'an', '-', '3', '-', 'a', 'mino', 'ate']\n",
            "Benzyl|-|N|,|2|-|di|met|h|ylpent|an|-|3|-|a|mino|ate\n"
          ],
          "name": "stdout"
        }
      ]
    }
  ]
}