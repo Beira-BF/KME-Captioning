{
  "nbformat": 4,
  "nbformat_minor": 0,
  "metadata": {
    "colab": {
      "name": "ORG_Chem_Word_Segmentation.ipynb",
      "provenance": [],
      "collapsed_sections": [],
      "machine_shape": "hm"
    },
    "kernelspec": {
      "name": "Python 3.8.5 64-bit",
      "display_name": "Python 3.8.5 64-bit",
      "metadata": {
        "interpreter": {
          "hash": "767d51c1340bd893661ea55ea3124f6de3c7a262a8b4abca0554b478b1e2ff90"
        }
      }
    }
  },
  "cells": [
    {
      "cell_type": "markdown",
      "metadata": {
        "id": "B3OfNRQA3Gt8",
        "colab_type": "text"
      },
      "source": [
        "# Import Character Vocab\n"
      ]
    },
    {
      "cell_type": "code",
      "metadata": {
        "id": "WOlG2SQfrlOw",
        "colab_type": "code",
        "colab": {}
      },
      "source": [
        "import numpy as np\n",
        "import json\n",
        "import tensorflow as tf"
      ],
      "execution_count": 1,
      "outputs": []
    },
    {
      "cell_type": "code",
      "metadata": {
        "id": "Yq7h6WJTs89M",
        "colab_type": "code",
        "colab": {}
      },
      "source": [
        "with open('files/vocab.json', 'r') as f:\n",
        "  CHAR_INDICES = json.load(f)"
      ],
      "execution_count": 2,
      "outputs": []
    },
    {
      "cell_type": "code",
      "metadata": {
        "id": "iKdOILCutjVM",
        "colab_type": "code",
        "colab": {
          "base_uri": "https://localhost:8080/",
          "height": 54
        },
        "outputId": "ec10e396-e3e8-486a-dd5b-1b6f070919c5",
        "tags": []
      },
      "source": [
        "print(CHAR_INDICES)"
      ],
      "execution_count": 3,
      "outputs": [
        {
          "output_type": "stream",
          "name": "stdout",
          "text": [
            "{' ': 0, '(': 1, ')': 2, ',': 3, '-': 4, '0': 5, '1': 6, '2': 7, '3': 8, '4': 9, '5': 10, '6': 11, '7': 12, '8': 13, '9': 14, 'A': 15, 'B': 16, 'C': 17, 'D': 18, 'E': 19, 'F': 20, 'G': 21, 'H': 22, 'I': 23, 'J': 24, 'K': 25, 'L': 26, 'M': 27, 'N': 28, 'O': 29, 'P': 30, 'Q': 31, 'R': 32, 'S': 33, 'T': 34, 'U': 35, 'V': 36, 'W': 37, 'X': 38, 'Y': 39, 'Z': 40, 'a': 41, 'b': 42, 'c': 43, 'd': 44, 'e': 45, 'f': 46, 'g': 47, 'h': 48, 'i': 49, 'j': 50, 'k': 51, 'l': 52, 'm': 53, 'n': 54, 'o': 55, 'p': 56, 'q': 57, 'r': 58, 's': 59, 't': 60, 'u': 61, 'v': 62, 'w': 63, 'x': 64, 'y': 65, 'z': 66, '<pad>': 67, '<unk>': 68}\n"
          ]
        }
      ]
    },
    {
      "cell_type": "markdown",
      "metadata": {
        "id": "iGUQS25OVJIJ",
        "colab_type": "text"
      },
      "source": [
        "# Preprocessing text data"
      ]
    },
    {
      "cell_type": "code",
      "metadata": {
        "id": "IN2uPnKJdr0h",
        "colab_type": "code",
        "colab": {}
      },
      "source": [
        "look_back = 5"
      ],
      "execution_count": 4,
      "outputs": []
    },
    {
      "cell_type": "code",
      "metadata": {
        "id": "wYP03g3TrMXb",
        "colab_type": "code",
        "colab": {}
      },
      "source": [
        "def create_dataset(text, look_back = look_back):\n",
        "  \"\"\"\n",
        "  take text with label (text that being defined where to cut ('|')) \n",
        "  and encode text and make label\n",
        "  return preprocessed text & preprocessed label\n",
        "  \"\"\"\n",
        "  X, y = [], []\n",
        "  text = '|' + text\n",
        "  data = [CHAR_INDICES['<pad>']] * look_back\n",
        "  for i in range(1, len(text)):\n",
        "    current_char = text[i]\n",
        "    before_char = text[i-1]\n",
        "\n",
        "    if current_char == '|':\n",
        "      continue\n",
        "    data = data[1:] + [CHAR_INDICES[current_char]]  # X data\n",
        "\n",
        "    target = 1 if before_char == '|' else 0  # y data\n",
        "    X.append(data)\n",
        "    y.append(target)\n",
        "  \n",
        "  return np.array(X), tf.one_hot(y, 2)"
      ],
      "execution_count": 5,
      "outputs": []
    },
    {
      "cell_type": "code",
      "metadata": {
        "id": "LhL81QrDazGn",
        "colab_type": "code",
        "colab": {}
      },
      "source": [
        "def text_pred_preprocessing(text, sequence_len=look_back):\n",
        "  \"\"\"\n",
        "    take unseen (testing) text and encode it with CHAR_DICT\n",
        "    //It's like create_dataset() but not return label\n",
        "    return preprocessed text\n",
        "  \"\"\"\n",
        "  X = []\n",
        "  data = [CHAR_INDICES['<pad>']] * sequence_len\n",
        "  for char in text:\n",
        "    char = char if char in CHAR_INDICES else '<unk>'  # check char in dictionary\n",
        "    data = data[1:] + [CHAR_INDICES[char]]  # X data\n",
        "    X.append(data)\n",
        "  return np.array(X)"
      ],
      "execution_count": 6,
      "outputs": []
    },
    {
      "cell_type": "code",
      "metadata": {
        "id": "98YuegoQyZvQ",
        "colab_type": "code",
        "colab": {}
      },
      "source": [
        "def word_tokenize(text, class_):\n",
        "    cut_indexs = []\n",
        "    words = []\n",
        "\n",
        "    # boolean index of each word 1 if cut before\n",
        "    class_ = np.append(class_, 1)\n",
        "\n",
        "    # if y_label at i is 1 so add i (index) to cut_indexs\n",
        "    for i, value in enumerate(class_):\n",
        "      if value == 1:\n",
        "        cut_indexs.append(i)\n",
        "\n",
        "    # add word after cutting till before ext cutting\n",
        "    for i in range(len(cut_indexs)-1):\n",
        "      words.append(text[cut_indexs[i]:cut_indexs[i+1]])\n",
        "    \n",
        "    return words"
      ],
      "execution_count": 7,
      "outputs": []
    },
    {
      "cell_type": "code",
      "execution_count": 8,
      "metadata": {},
      "outputs": [],
      "source": [
        "def decode_label(y):\n",
        "  return tf.argmax(y, axis=-1).numpy()"
      ]
    },
    {
      "cell_type": "code",
      "metadata": {
        "id": "zHyGGAJyz7FM",
        "colab_type": "code",
        "colab": {}
      },
      "source": [
        "with open('files/Dictionary.json', 'r') as f1, open('files/Dictionary_cut.json', 'r') as f2:\n",
        "    Dict = json.load(f1)\n",
        "    Dict_cut = json.load(f2)"
      ],
      "execution_count": 9,
      "outputs": []
    },
    {
      "cell_type": "code",
      "metadata": {
        "id": "rRbRE5NFtfcE",
        "colab_type": "code",
        "colab": {
          "base_uri": "https://localhost:8080/",
          "height": 302
        },
        "outputId": "3bc9cf04-0bc1-41d6-f428-33d77152ef66",
        "tags": []
      },
      "source": [
        "total_text = 0\n",
        "\n",
        "for key, value in Dict.items():\n",
        "    print(key, len(value))\n",
        "    total_text += len(value)\n",
        "print('-'*15)\n",
        "for key, value in Dict_cut.items():\n",
        "    print(key, len(value))\n"
      ],
      "execution_count": 10,
      "outputs": [
        {
          "output_type": "stream",
          "name": "stdout",
          "text": [
            "alkane 10\nalkane_alkyl 30\ncyclo_alkane 8\ncyclo_alkane_alkyl 17\nalkene 25\nalkene_alkyl 15\ndialkene 69\ncyclo_alkene 8\ncyclo_alkene_alkyl 3\nalkyne 9\nalkyne_alkyl 9\ndialkyne 49\ncyclo_alkyne 8\nbenzene 12\nbenzene_alkyl 18\nbenzyl_phenyl 4\nalcohol 36\nether 21\naldehyde 33\nketone 23\ncarboxylic_acid 46\nester 17\namide 25\namine 22\nmixed 87\n---------------\nalkane 10\nalkane_alkyl 30\ncyclo_alkane 8\ncyclo_alkane_alkyl 17\nalkene 25\nalkene_alkyl 15\ndialkene 69\ncyclo_alkene 8\ncyclo_alkene_alkyl 3\nalkyne 9\nalkyne_alkyl 9\ndialkyne 49\ncyclo_alkyne 8\nbenz|ene 12\nbenzene_alkyl 18\nbenzyl_phenyl 4\nalcohol 36\nether 21\naldehyde 33\nketone 23\ncarboxylic_acid 46\nester 17\namide 25\namine 22\nmixed 87\n"
          ]
        }
      ]
    },
    {
      "cell_type": "code",
      "execution_count": 11,
      "metadata": {
        "tags": []
      },
      "outputs": [
        {
          "output_type": "stream",
          "name": "stdout",
          "text": [
            "key Dict: 25\nket Dict_cut: 25\nThere are 604 chemical in dataset\n"
          ]
        }
      ],
      "source": [
        "print('key Dict:',len(Dict.keys()))\n",
        "print('ket Dict_cut:',len(Dict_cut.keys()))\n",
        "print(f\"There are {total_text} chemical in dataset\")"
      ]
    },
    {
      "cell_type": "markdown",
      "metadata": {
        "id": "1YStOZHdVPt1",
        "colab_type": "text"
      },
      "source": [
        "# Create Dataset"
      ]
    },
    {
      "cell_type": "code",
      "execution_count": 12,
      "metadata": {
        "tags": []
      },
      "outputs": [
        {
          "output_type": "stream",
          "name": "stdout",
          "text": [
            "meth|ane| |eth|ane| |prop|ane| |but|ane| |pent|ane| |hex|ane| |hept|ane| |oct|ane| |non|ane| |dec|ane\n12183\n"
          ]
        }
      ],
      "source": [
        "dataset_cut_arr = []\n",
        "for _, value in Dict_cut.items():\n",
        "    dataset_cut_arr = np.append(dataset_cut_arr, value, axis=-1)\n",
        "\n",
        "print('| |'.join(dataset_cut_arr)[:101])\n",
        "print(len(' '.join(dataset_cut_arr).replace('|','')))"
      ]
    },
    {
      "cell_type": "code",
      "execution_count": 13,
      "metadata": {
        "tags": []
      },
      "outputs": [
        {
          "output_type": "stream",
          "name": "stdout",
          "text": [
            "methane ethane propane butane pentane hexane heptane octane nonane decane\n12183\n"
          ]
        }
      ],
      "source": [
        "dataset_arr = []\n",
        "for _, value in Dict.items():\n",
        "    dataset_arr = np.append(dataset_arr, value, axis=-1)\n",
        "\n",
        "print(' '.join(dataset_arr)[:73])\n",
        "print(len(' '.join(dataset_arr)))"
      ]
    },
    {
      "cell_type": "code",
      "execution_count": 14,
      "metadata": {
        "tags": []
      },
      "outputs": [
        {
          "output_type": "stream",
          "name": "stdout",
          "text": [
            "(513,)\n--------------------\nmeta-dimethylbenzene ortho-dimethylbenzene 2,2-dimethyl-3-propyloct\nmeta|-|di|meth|yl|benz|ene| |ortho|-|di|meth|yl|benz|ene| |2|,|2|-|di|meth|yl|-|3|-|prop|yl|oct|ane\n--------------------\nbuta-1,3-diene 2-methoxycarbonylbenzoic acid 4-methoxybenzenecarboxylic ac\nbut|a|-|1|,|3|-|di|ene| |2|-|meth|oxy|carbonyl|benz|oic acid| |4|-|meth|oxy|benz|ene|carboxylic acid| |4|-|meth|o\n"
          ]
        }
      ],
      "source": [
        "from sklearn.model_selection import train_test_split\n",
        "dataset_train_arr, dataset_val_arr, dataset_cut_train_arr, dataset_cut_val_arr = train_test_split(dataset_arr, dataset_cut_arr, test_size = 0.15, random_state = 3)\n",
        "\n",
        "dataset_train_text = ' '.join(dataset_train_arr)\n",
        "dataset_val_text = ' '.join(dataset_val_arr)\n",
        "dataset_cut_train_text = '| |'.join(dataset_cut_train_arr)\n",
        "dataset_cut_val_text = '| |'.join(dataset_cut_val_arr)\n",
        "\n",
        "print(dataset_train_arr.shape)\n",
        "print('-'*20)\n",
        "print(dataset_train_text[:67])\n",
        "print(dataset_cut_train_text[:99])\n",
        "print('-'*20)\n",
        "print(dataset_val_text[:74])\n",
        "print(dataset_cut_val_text[:113])"
      ]
    },
    {
      "cell_type": "code",
      "metadata": {
        "id": "u2afRpduVvog",
        "colab_type": "code",
        "colab": {
          "base_uri": "https://localhost:8080/",
          "height": 50
        },
        "outputId": "99dde2e2-2f18-41f8-99dc-61b82193a5cf",
        "tags": []
      },
      "source": [
        "X_train ,y_train = create_dataset(dataset_cut_train_text)\n",
        "X_val, y_val = create_dataset(dataset_cut_val_text)\n",
        "\n",
        "print(X_train.shape, y_train.shape)\n",
        "print(X_val.shape, y_val.shape)"
      ],
      "execution_count": 15,
      "outputs": [
        {
          "output_type": "stream",
          "name": "stdout",
          "text": [
            "(10320, 5) (10320, 2)\n(1862, 5) (1862, 2)\n"
          ]
        }
      ]
    },
    {
      "cell_type": "code",
      "metadata": {
        "id": "ZLZO-FPGlzz_",
        "colab_type": "code",
        "colab": {}
      },
      "source": [
        "training_data = tf.data.Dataset.from_tensor_slices((X_train,y_train))\n",
        "training_data = training_data.batch(128)\n",
        "\n",
        "validation_data = tf.data.Dataset.from_tensor_slices((X_val, y_val))\n",
        "validation_data = validation_data.batch(128)"
      ],
      "execution_count": 16,
      "outputs": []
    },
    {
      "cell_type": "markdown",
      "metadata": {
        "id": "4SxmThNeVVg4",
        "colab_type": "text"
      },
      "source": [
        "# Create Model"
      ]
    },
    {
      "cell_type": "markdown",
      "metadata": {
        "id": "1GK3s02l336w",
        "colab_type": "text"
      },
      "source": [
        "## Model Architecture"
      ]
    },
    {
      "cell_type": "code",
      "metadata": {
        "id": "yecuD8XIVXVn",
        "colab_type": "code",
        "colab": {}
      },
      "source": [
        "from tensorflow.keras.layers import Bidirectional, LSTM, Dense, Embedding, Dropout\n",
        "from tensorflow.keras.losses import BinaryCrossentropy\n",
        "from tensorflow.keras.optimizers import Adam\n",
        "from tensorflow.keras.models import Sequential"
      ],
      "execution_count": 17,
      "outputs": []
    },
    {
      "cell_type": "code",
      "metadata": {
        "id": "ZLVuON-cdnSQ",
        "colab_type": "code",
        "colab": {
          "base_uri": "https://localhost:8080/",
          "height": 34
        },
        "outputId": "89e1a22c-8454-4195-a0cc-7f63d5cd6cc4",
        "tags": []
      },
      "source": [
        "_input_shape = (look_back, len(CHAR_INDICES))\n",
        "print(_input_shape[1])"
      ],
      "execution_count": 18,
      "outputs": [
        {
          "output_type": "stream",
          "name": "stdout",
          "text": [
            "69\n"
          ]
        }
      ]
    },
    {
      "cell_type": "code",
      "metadata": {
        "id": "A0jAOIBzdDYJ",
        "colab_type": "code",
        "colab": {}
      },
      "source": [
        "Model = Sequential(\n",
        "    [\n",
        "     Embedding(_input_shape[1], len(CHAR_INDICES)),\n",
        "     Bidirectional(LSTM(_input_shape[1]//2, return_sequences=False),\n",
        "                      merge_mode='sum',\n",
        "                      weights=None),\n",
        "     Dense(_input_shape[1]//4),\n",
        "     Dense(2, activation='softmax')\n",
        "    ],\n",
        "    name='model'\n",
        ")"
      ],
      "execution_count": 19,
      "outputs": []
    },
    {
      "cell_type": "code",
      "metadata": {
        "id": "WifMOz_Kextr",
        "colab_type": "code",
        "colab": {
          "base_uri": "https://localhost:8080/",
          "height": 415
        },
        "outputId": "ac120972-913b-4f31-9938-c6620c1bbf68",
        "tags": []
      },
      "source": [
        "Model.summary()"
      ],
      "execution_count": 20,
      "outputs": [
        {
          "output_type": "stream",
          "name": "stdout",
          "text": [
            "Model: \"model\"\n_________________________________________________________________\nLayer (type)                 Output Shape              Param #   \n=================================================================\nembedding (Embedding)        (None, None, 69)          4761      \n_________________________________________________________________\nbidirectional (Bidirectional (None, 34)                28288     \n_________________________________________________________________\ndense (Dense)                (None, 17)                595       \n_________________________________________________________________\ndense_1 (Dense)              (None, 2)                 36        \n=================================================================\nTotal params: 33,680\nTrainable params: 33,680\nNon-trainable params: 0\n_________________________________________________________________\n"
          ]
        }
      ]
    },
    {
      "cell_type": "markdown",
      "metadata": {
        "id": "QNzpxjEb38LI",
        "colab_type": "text"
      },
      "source": [
        "## Training Model"
      ]
    },
    {
      "cell_type": "code",
      "metadata": {
        "id": "uXJ10S4MfBgN",
        "colab_type": "code",
        "colab": {
          "base_uri": "https://localhost:8080/",
          "height": 370
        },
        "outputId": "33d88c5d-4351-4787-8f96-a291631be310",
        "tags": []
      },
      "source": [
        "Model.compile(optimizer=tf.keras.optimizers.Nadam(learning_rate=0.0007), loss='categorical_crossentropy', metrics=['accuracy'])\n",
        "\n",
        "checkpoint_path = 'save_models/best_model.hdf5'\n",
        "checkpoint_callback = tf.keras.callbacks.ModelCheckpoint(\n",
        "    filepath=checkpoint_path,\n",
        "    monitor='val_accuracy',\n",
        "    mode='max',\n",
        "    verbose=0,\n",
        "    save_best_only=True\n",
        ")\n",
        "\n",
        "earlystop_callback = tf.keras.callbacks.EarlyStopping(\n",
        "    monitor='val_loss',\n",
        "    verbose=1,   \n",
        ")\n",
        "\n",
        "callback_list = [checkpoint_callback, earlystop_callback]\n",
        "history = Model.fit(training_data, validation_data=validation_data, epochs=500, callbacks=callback_list)"
      ],
      "execution_count": 21,
      "outputs": [
        {
          "output_type": "stream",
          "name": "stdout",
          "text": [
            "Epoch 1/500\n",
            "81/81 [==============================] - 1s 14ms/step - loss: 0.5089 - accuracy: 0.7601 - val_loss: 0.3215 - val_accuracy: 0.8641\n",
            "Epoch 2/500\n",
            "81/81 [==============================] - 1s 8ms/step - loss: 0.2734 - accuracy: 0.8948 - val_loss: 0.2188 - val_accuracy: 0.9114\n",
            "Epoch 3/500\n",
            "81/81 [==============================] - 1s 8ms/step - loss: 0.1900 - accuracy: 0.9245 - val_loss: 0.1399 - val_accuracy: 0.9474\n",
            "Epoch 4/500\n",
            "81/81 [==============================] - 1s 8ms/step - loss: 0.1416 - accuracy: 0.9507 - val_loss: 0.1078 - val_accuracy: 0.9672\n",
            "Epoch 5/500\n",
            "81/81 [==============================] - 1s 8ms/step - loss: 0.1122 - accuracy: 0.9654 - val_loss: 0.0860 - val_accuracy: 0.9758\n",
            "Epoch 6/500\n",
            "81/81 [==============================] - 1s 8ms/step - loss: 0.0895 - accuracy: 0.9752 - val_loss: 0.0690 - val_accuracy: 0.9812\n",
            "Epoch 7/500\n",
            "81/81 [==============================] - 1s 8ms/step - loss: 0.0735 - accuracy: 0.9801 - val_loss: 0.0576 - val_accuracy: 0.9850\n",
            "Epoch 8/500\n",
            "81/81 [==============================] - 1s 8ms/step - loss: 0.0626 - accuracy: 0.9830 - val_loss: 0.0499 - val_accuracy: 0.9866\n",
            "Epoch 9/500\n",
            "81/81 [==============================] - 1s 8ms/step - loss: 0.0544 - accuracy: 0.9853 - val_loss: 0.0442 - val_accuracy: 0.9882\n",
            "Epoch 10/500\n",
            "81/81 [==============================] - 1s 8ms/step - loss: 0.0476 - accuracy: 0.9874 - val_loss: 0.0398 - val_accuracy: 0.9898\n",
            "Epoch 11/500\n",
            "81/81 [==============================] - 1s 10ms/step - loss: 0.0417 - accuracy: 0.9896 - val_loss: 0.0362 - val_accuracy: 0.9903\n",
            "Epoch 12/500\n",
            "81/81 [==============================] - 1s 10ms/step - loss: 0.0366 - accuracy: 0.9917 - val_loss: 0.0336 - val_accuracy: 0.9914\n",
            "Epoch 13/500\n",
            "81/81 [==============================] - 1s 10ms/step - loss: 0.0323 - accuracy: 0.9929 - val_loss: 0.0319 - val_accuracy: 0.9957\n",
            "Epoch 14/500\n",
            "81/81 [==============================] - 1s 9ms/step - loss: 0.0286 - accuracy: 0.9939 - val_loss: 0.0309 - val_accuracy: 0.9952\n",
            "Epoch 15/500\n",
            "81/81 [==============================] - 1s 10ms/step - loss: 0.0254 - accuracy: 0.9950 - val_loss: 0.0302 - val_accuracy: 0.9952\n",
            "Epoch 16/500\n",
            "81/81 [==============================] - 1s 9ms/step - loss: 0.0228 - accuracy: 0.9953 - val_loss: 0.0298 - val_accuracy: 0.9946\n",
            "Epoch 17/500\n",
            "81/81 [==============================] - 1s 8ms/step - loss: 0.0207 - accuracy: 0.9958 - val_loss: 0.0295 - val_accuracy: 0.9957\n",
            "Epoch 18/500\n",
            "81/81 [==============================] - 1s 9ms/step - loss: 0.0188 - accuracy: 0.9963 - val_loss: 0.0293 - val_accuracy: 0.9962\n",
            "Epoch 19/500\n",
            "81/81 [==============================] - 1s 8ms/step - loss: 0.0172 - accuracy: 0.9966 - val_loss: 0.0292 - val_accuracy: 0.9962\n",
            "Epoch 20/500\n",
            "81/81 [==============================] - 1s 8ms/step - loss: 0.0158 - accuracy: 0.9969 - val_loss: 0.0291 - val_accuracy: 0.9962\n",
            "Epoch 21/500\n",
            "81/81 [==============================] - 1s 8ms/step - loss: 0.0145 - accuracy: 0.9969 - val_loss: 0.0291 - val_accuracy: 0.9962\n",
            "Epoch 22/500\n",
            "81/81 [==============================] - 1s 9ms/step - loss: 0.0134 - accuracy: 0.9969 - val_loss: 0.0291 - val_accuracy: 0.9962\n",
            "Epoch 23/500\n",
            "81/81 [==============================] - 1s 10ms/step - loss: 0.0126 - accuracy: 0.9972 - val_loss: 0.0290 - val_accuracy: 0.9962\n",
            "Epoch 24/500\n",
            "81/81 [==============================] - 1s 13ms/step - loss: 0.0119 - accuracy: 0.9974 - val_loss: 0.0288 - val_accuracy: 0.9962\n",
            "Epoch 25/500\n",
            "81/81 [==============================] - 1s 10ms/step - loss: 0.0114 - accuracy: 0.9974 - val_loss: 0.0285 - val_accuracy: 0.9962\n",
            "Epoch 26/500\n",
            "81/81 [==============================] - 1s 8ms/step - loss: 0.0109 - accuracy: 0.9974 - val_loss: 0.0282 - val_accuracy: 0.9968\n",
            "Epoch 27/500\n",
            "81/81 [==============================] - 1s 10ms/step - loss: 0.0105 - accuracy: 0.9973 - val_loss: 0.0278 - val_accuracy: 0.9968\n",
            "Epoch 28/500\n",
            "81/81 [==============================] - 1s 8ms/step - loss: 0.0102 - accuracy: 0.9973 - val_loss: 0.0274 - val_accuracy: 0.9968\n",
            "Epoch 29/500\n",
            "81/81 [==============================] - 1s 8ms/step - loss: 0.0099 - accuracy: 0.9974 - val_loss: 0.0270 - val_accuracy: 0.9968\n",
            "Epoch 30/500\n",
            "81/81 [==============================] - 1s 12ms/step - loss: 0.0096 - accuracy: 0.9974 - val_loss: 0.0266 - val_accuracy: 0.9968\n",
            "Epoch 31/500\n",
            "81/81 [==============================] - 1s 10ms/step - loss: 0.0093 - accuracy: 0.9974 - val_loss: 0.0262 - val_accuracy: 0.9968\n",
            "Epoch 32/500\n",
            "81/81 [==============================] - 1s 10ms/step - loss: 0.0091 - accuracy: 0.9974 - val_loss: 0.0258 - val_accuracy: 0.9973\n",
            "Epoch 33/500\n",
            "81/81 [==============================] - 1s 10ms/step - loss: 0.0089 - accuracy: 0.9974 - val_loss: 0.0254 - val_accuracy: 0.9973\n",
            "Epoch 34/500\n",
            "81/81 [==============================] - 1s 9ms/step - loss: 0.0087 - accuracy: 0.9974 - val_loss: 0.0250 - val_accuracy: 0.9973\n",
            "Epoch 35/500\n",
            "81/81 [==============================] - 1s 8ms/step - loss: 0.0085 - accuracy: 0.9974 - val_loss: 0.0246 - val_accuracy: 0.9973\n",
            "Epoch 36/500\n",
            "81/81 [==============================] - 1s 11ms/step - loss: 0.0083 - accuracy: 0.9975 - val_loss: 0.0243 - val_accuracy: 0.9973\n",
            "Epoch 37/500\n",
            "81/81 [==============================] - 1s 13ms/step - loss: 0.0082 - accuracy: 0.9975 - val_loss: 0.0240 - val_accuracy: 0.9973\n",
            "Epoch 38/500\n",
            "81/81 [==============================] - 1s 10ms/step - loss: 0.0080 - accuracy: 0.9976 - val_loss: 0.0237 - val_accuracy: 0.9973\n",
            "Epoch 39/500\n",
            "81/81 [==============================] - 1s 8ms/step - loss: 0.0079 - accuracy: 0.9976 - val_loss: 0.0234 - val_accuracy: 0.9973\n",
            "Epoch 40/500\n",
            "81/81 [==============================] - 1s 8ms/step - loss: 0.0078 - accuracy: 0.9977 - val_loss: 0.0231 - val_accuracy: 0.9973\n",
            "Epoch 41/500\n",
            "81/81 [==============================] - 1s 8ms/step - loss: 0.0077 - accuracy: 0.9977 - val_loss: 0.0228 - val_accuracy: 0.9973\n",
            "Epoch 42/500\n",
            "81/81 [==============================] - 1s 8ms/step - loss: 0.0076 - accuracy: 0.9977 - val_loss: 0.0226 - val_accuracy: 0.9973\n",
            "Epoch 43/500\n",
            "81/81 [==============================] - 1s 8ms/step - loss: 0.0075 - accuracy: 0.9977 - val_loss: 0.0223 - val_accuracy: 0.9973\n",
            "Epoch 44/500\n",
            "81/81 [==============================] - 1s 11ms/step - loss: 0.0074 - accuracy: 0.9977 - val_loss: 0.0220 - val_accuracy: 0.9973\n",
            "Epoch 45/500\n",
            "81/81 [==============================] - 1s 11ms/step - loss: 0.0074 - accuracy: 0.9978 - val_loss: 0.0218 - val_accuracy: 0.9973\n",
            "Epoch 46/500\n",
            "81/81 [==============================] - 1s 9ms/step - loss: 0.0073 - accuracy: 0.9978 - val_loss: 0.0215 - val_accuracy: 0.9973\n",
            "Epoch 47/500\n",
            "81/81 [==============================] - 1s 9ms/step - loss: 0.0072 - accuracy: 0.9978 - val_loss: 0.0213 - val_accuracy: 0.9973\n",
            "Epoch 48/500\n",
            "81/81 [==============================] - 1s 8ms/step - loss: 0.0072 - accuracy: 0.9979 - val_loss: 0.0211 - val_accuracy: 0.9973\n",
            "Epoch 49/500\n",
            "81/81 [==============================] - 1s 8ms/step - loss: 0.0071 - accuracy: 0.9979 - val_loss: 0.0209 - val_accuracy: 0.9973\n",
            "Epoch 50/500\n",
            "81/81 [==============================] - 1s 9ms/step - loss: 0.0070 - accuracy: 0.9979 - val_loss: 0.0207 - val_accuracy: 0.9973\n",
            "Epoch 51/500\n",
            "81/81 [==============================] - 1s 8ms/step - loss: 0.0070 - accuracy: 0.9979 - val_loss: 0.0204 - val_accuracy: 0.9979\n",
            "Epoch 52/500\n",
            "81/81 [==============================] - 1s 8ms/step - loss: 0.0069 - accuracy: 0.9979 - val_loss: 0.0202 - val_accuracy: 0.9979\n",
            "Epoch 53/500\n",
            "81/81 [==============================] - 1s 9ms/step - loss: 0.0069 - accuracy: 0.9979 - val_loss: 0.0201 - val_accuracy: 0.9979\n",
            "Epoch 54/500\n",
            "81/81 [==============================] - 1s 8ms/step - loss: 0.0069 - accuracy: 0.9979 - val_loss: 0.0199 - val_accuracy: 0.9979\n",
            "Epoch 55/500\n",
            "81/81 [==============================] - 1s 8ms/step - loss: 0.0068 - accuracy: 0.9979 - val_loss: 0.0197 - val_accuracy: 0.9979\n",
            "Epoch 56/500\n",
            "81/81 [==============================] - 1s 9ms/step - loss: 0.0068 - accuracy: 0.9979 - val_loss: 0.0195 - val_accuracy: 0.9979\n",
            "Epoch 57/500\n",
            "81/81 [==============================] - 1s 8ms/step - loss: 0.0067 - accuracy: 0.9979 - val_loss: 0.0194 - val_accuracy: 0.9979\n",
            "Epoch 58/500\n",
            "81/81 [==============================] - 1s 10ms/step - loss: 0.0067 - accuracy: 0.9979 - val_loss: 0.0192 - val_accuracy: 0.9979\n",
            "Epoch 59/500\n",
            "81/81 [==============================] - 1s 8ms/step - loss: 0.0067 - accuracy: 0.9979 - val_loss: 0.0191 - val_accuracy: 0.9979\n",
            "Epoch 60/500\n",
            "81/81 [==============================] - 1s 9ms/step - loss: 0.0066 - accuracy: 0.9979 - val_loss: 0.0189 - val_accuracy: 0.9979\n",
            "Epoch 61/500\n",
            "81/81 [==============================] - 1s 8ms/step - loss: 0.0066 - accuracy: 0.9980 - val_loss: 0.0188 - val_accuracy: 0.9979\n",
            "Epoch 62/500\n",
            "81/81 [==============================] - 1s 8ms/step - loss: 0.0066 - accuracy: 0.9980 - val_loss: 0.0186 - val_accuracy: 0.9979\n",
            "Epoch 63/500\n",
            "81/81 [==============================] - 1s 8ms/step - loss: 0.0065 - accuracy: 0.9980 - val_loss: 0.0185 - val_accuracy: 0.9979\n",
            "Epoch 64/500\n",
            "81/81 [==============================] - 1s 8ms/step - loss: 0.0065 - accuracy: 0.9980 - val_loss: 0.0184 - val_accuracy: 0.9979\n",
            "Epoch 65/500\n",
            "81/81 [==============================] - 1s 10ms/step - loss: 0.0065 - accuracy: 0.9980 - val_loss: 0.0183 - val_accuracy: 0.9979\n",
            "Epoch 66/500\n",
            "81/81 [==============================] - 1s 15ms/step - loss: 0.0065 - accuracy: 0.9980 - val_loss: 0.0182 - val_accuracy: 0.9979\n",
            "Epoch 67/500\n",
            "81/81 [==============================] - 1s 12ms/step - loss: 0.0064 - accuracy: 0.9980 - val_loss: 0.0181 - val_accuracy: 0.9979\n",
            "Epoch 68/500\n",
            "81/81 [==============================] - 1s 8ms/step - loss: 0.0064 - accuracy: 0.9980 - val_loss: 0.0179 - val_accuracy: 0.9979\n",
            "Epoch 69/500\n",
            "81/81 [==============================] - 1s 10ms/step - loss: 0.0064 - accuracy: 0.9979 - val_loss: 0.0178 - val_accuracy: 0.9979\n",
            "Epoch 70/500\n",
            "81/81 [==============================] - 1s 10ms/step - loss: 0.0064 - accuracy: 0.9979 - val_loss: 0.0178 - val_accuracy: 0.9979\n",
            "Epoch 71/500\n",
            "81/81 [==============================] - 1s 9ms/step - loss: 0.0063 - accuracy: 0.9979 - val_loss: 0.0177 - val_accuracy: 0.9979\n",
            "Epoch 72/500\n",
            "81/81 [==============================] - 1s 9ms/step - loss: 0.0063 - accuracy: 0.9979 - val_loss: 0.0176 - val_accuracy: 0.9979\n",
            "Epoch 73/500\n",
            "81/81 [==============================] - 1s 8ms/step - loss: 0.0063 - accuracy: 0.9979 - val_loss: 0.0175 - val_accuracy: 0.9979\n",
            "Epoch 74/500\n",
            "81/81 [==============================] - 1s 8ms/step - loss: 0.0063 - accuracy: 0.9979 - val_loss: 0.0174 - val_accuracy: 0.9979\n",
            "Epoch 75/500\n",
            "81/81 [==============================] - 1s 9ms/step - loss: 0.0062 - accuracy: 0.9979 - val_loss: 0.0173 - val_accuracy: 0.9979\n",
            "Epoch 76/500\n",
            "81/81 [==============================] - 1s 14ms/step - loss: 0.0062 - accuracy: 0.9980 - val_loss: 0.0173 - val_accuracy: 0.9979\n",
            "Epoch 77/500\n",
            "81/81 [==============================] - 1s 12ms/step - loss: 0.0062 - accuracy: 0.9980 - val_loss: 0.0172 - val_accuracy: 0.9979\n",
            "Epoch 78/500\n",
            "81/81 [==============================] - 1s 10ms/step - loss: 0.0062 - accuracy: 0.9980 - val_loss: 0.0171 - val_accuracy: 0.9979\n",
            "Epoch 79/500\n",
            "81/81 [==============================] - 1s 8ms/step - loss: 0.0061 - accuracy: 0.9980 - val_loss: 0.0171 - val_accuracy: 0.9979\n",
            "Epoch 80/500\n",
            "81/81 [==============================] - 1s 8ms/step - loss: 0.0061 - accuracy: 0.9980 - val_loss: 0.0170 - val_accuracy: 0.9979\n",
            "Epoch 81/500\n",
            "81/81 [==============================] - 1s 8ms/step - loss: 0.0061 - accuracy: 0.9980 - val_loss: 0.0170 - val_accuracy: 0.9973\n",
            "Epoch 82/500\n",
            "81/81 [==============================] - 1s 8ms/step - loss: 0.0061 - accuracy: 0.9980 - val_loss: 0.0169 - val_accuracy: 0.9973\n",
            "Epoch 83/500\n",
            "81/81 [==============================] - 1s 8ms/step - loss: 0.0060 - accuracy: 0.9980 - val_loss: 0.0169 - val_accuracy: 0.9968\n",
            "Epoch 84/500\n",
            "81/81 [==============================] - 1s 8ms/step - loss: 0.0060 - accuracy: 0.9980 - val_loss: 0.0169 - val_accuracy: 0.9968\n",
            "Epoch 85/500\n",
            "81/81 [==============================] - 1s 9ms/step - loss: 0.0060 - accuracy: 0.9980 - val_loss: 0.0168 - val_accuracy: 0.9968\n",
            "Epoch 86/500\n",
            "81/81 [==============================] - 1s 8ms/step - loss: 0.0060 - accuracy: 0.9980 - val_loss: 0.0168 - val_accuracy: 0.9968\n",
            "Epoch 87/500\n",
            "81/81 [==============================] - 1s 9ms/step - loss: 0.0059 - accuracy: 0.9980 - val_loss: 0.0168 - val_accuracy: 0.9968\n",
            "Epoch 88/500\n",
            "81/81 [==============================] - 1s 13ms/step - loss: 0.0059 - accuracy: 0.9981 - val_loss: 0.0168 - val_accuracy: 0.9968\n",
            "Epoch 89/500\n",
            "81/81 [==============================] - 1s 10ms/step - loss: 0.0059 - accuracy: 0.9981 - val_loss: 0.0168 - val_accuracy: 0.9968\n",
            "Epoch 00089: early stopping\n"
          ]
        }
      ]
    },
    {
      "cell_type": "code",
      "execution_count": 29,
      "metadata": {
        "tags": []
      },
      "outputs": [
        {
          "output_type": "stream",
          "name": "stdout",
          "text": [
            "<class 'dict'>\ndict_keys(['loss', 'accuracy', 'val_loss', 'val_accuracy'])\n"
          ]
        },
        {
          "output_type": "display_data",
          "data": {
            "text/plain": "<Figure size 576x360 with 1 Axes>",
            "image/svg+xml": "<?xml version=\"1.0\" encoding=\"utf-8\" standalone=\"no\"?>\n<!DOCTYPE svg PUBLIC \"-//W3C//DTD SVG 1.1//EN\"\n  \"http://www.w3.org/Graphics/SVG/1.1/DTD/svg11.dtd\">\n<!-- Created with matplotlib (https://matplotlib.org/) -->\n<svg height=\"302.878125pt\" version=\"1.1\" viewBox=\"0 0 483.703125 302.878125\" width=\"483.703125pt\" xmlns=\"http://www.w3.org/2000/svg\" xmlns:xlink=\"http://www.w3.org/1999/xlink\">\n <metadata>\n  <rdf:RDF xmlns:cc=\"http://creativecommons.org/ns#\" xmlns:dc=\"http://purl.org/dc/elements/1.1/\" xmlns:rdf=\"http://www.w3.org/1999/02/22-rdf-syntax-ns#\">\n   <cc:Work>\n    <dc:type rdf:resource=\"http://purl.org/dc/dcmitype/StillImage\"/>\n    <dc:date>2020-10-11T17:11:00.530681</dc:date>\n    <dc:format>image/svg+xml</dc:format>\n    <dc:creator>\n     <cc:Agent>\n      <dc:title>Matplotlib v3.3.2, https://matplotlib.org/</dc:title>\n     </cc:Agent>\n    </dc:creator>\n   </cc:Work>\n  </rdf:RDF>\n </metadata>\n <defs>\n  <style type=\"text/css\">*{stroke-linecap:butt;stroke-linejoin:round;}</style>\n </defs>\n <g id=\"figure_1\">\n  <g id=\"patch_1\">\n   <path d=\"M 0 302.878125 \nL 483.703125 302.878125 \nL 483.703125 0 \nL 0 0 \nz\n\" style=\"fill:none;\"/>\n  </g>\n  <g id=\"axes_1\">\n   <g id=\"patch_2\">\n    <path d=\"M 30.103125 279 \nL 476.503125 279 \nL 476.503125 7.2 \nL 30.103125 7.2 \nz\n\" style=\"fill:#ffffff;\"/>\n   </g>\n   <g id=\"matplotlib.axis_1\">\n    <g id=\"xtick_1\">\n     <g id=\"line2d_1\">\n      <defs>\n       <path d=\"M 0 0 \nL 0 3.5 \n\" id=\"m7ed814d2e3\" style=\"stroke:#000000;stroke-width:0.8;\"/>\n      </defs>\n      <g>\n       <use style=\"stroke:#000000;stroke-width:0.8;\" x=\"50.394034\" xlink:href=\"#m7ed814d2e3\" y=\"279\"/>\n      </g>\n     </g>\n     <g id=\"text_1\">\n      <!-- 0 -->\n      <g transform=\"translate(47.212784 293.598437)scale(0.1 -0.1)\">\n       <defs>\n        <path d=\"M 31.78125 66.40625 \nQ 24.171875 66.40625 20.328125 58.90625 \nQ 16.5 51.421875 16.5 36.375 \nQ 16.5 21.390625 20.328125 13.890625 \nQ 24.171875 6.390625 31.78125 6.390625 \nQ 39.453125 6.390625 43.28125 13.890625 \nQ 47.125 21.390625 47.125 36.375 \nQ 47.125 51.421875 43.28125 58.90625 \nQ 39.453125 66.40625 31.78125 66.40625 \nz\nM 31.78125 74.21875 \nQ 44.046875 74.21875 50.515625 64.515625 \nQ 56.984375 54.828125 56.984375 36.375 \nQ 56.984375 17.96875 50.515625 8.265625 \nQ 44.046875 -1.421875 31.78125 -1.421875 \nQ 19.53125 -1.421875 13.0625 8.265625 \nQ 6.59375 17.96875 6.59375 36.375 \nQ 6.59375 54.828125 13.0625 64.515625 \nQ 19.53125 74.21875 31.78125 74.21875 \nz\n\" id=\"DejaVuSans-48\"/>\n       </defs>\n       <use xlink:href=\"#DejaVuSans-48\"/>\n      </g>\n     </g>\n    </g>\n    <g id=\"xtick_2\">\n     <g id=\"line2d_2\">\n      <g>\n       <use style=\"stroke:#000000;stroke-width:0.8;\" x=\"142.625439\" xlink:href=\"#m7ed814d2e3\" y=\"279\"/>\n      </g>\n     </g>\n     <g id=\"text_2\">\n      <!-- 20 -->\n      <g transform=\"translate(136.262939 293.598437)scale(0.1 -0.1)\">\n       <defs>\n        <path d=\"M 19.1875 8.296875 \nL 53.609375 8.296875 \nL 53.609375 0 \nL 7.328125 0 \nL 7.328125 8.296875 \nQ 12.9375 14.109375 22.625 23.890625 \nQ 32.328125 33.6875 34.8125 36.53125 \nQ 39.546875 41.84375 41.421875 45.53125 \nQ 43.3125 49.21875 43.3125 52.78125 \nQ 43.3125 58.59375 39.234375 62.25 \nQ 35.15625 65.921875 28.609375 65.921875 \nQ 23.96875 65.921875 18.8125 64.3125 \nQ 13.671875 62.703125 7.8125 59.421875 \nL 7.8125 69.390625 \nQ 13.765625 71.78125 18.9375 73 \nQ 24.125 74.21875 28.421875 74.21875 \nQ 39.75 74.21875 46.484375 68.546875 \nQ 53.21875 62.890625 53.21875 53.421875 \nQ 53.21875 48.921875 51.53125 44.890625 \nQ 49.859375 40.875 45.40625 35.40625 \nQ 44.1875 33.984375 37.640625 27.21875 \nQ 31.109375 20.453125 19.1875 8.296875 \nz\n\" id=\"DejaVuSans-50\"/>\n       </defs>\n       <use xlink:href=\"#DejaVuSans-50\"/>\n       <use x=\"63.623047\" xlink:href=\"#DejaVuSans-48\"/>\n      </g>\n     </g>\n    </g>\n    <g id=\"xtick_3\">\n     <g id=\"line2d_3\">\n      <g>\n       <use style=\"stroke:#000000;stroke-width:0.8;\" x=\"234.856844\" xlink:href=\"#m7ed814d2e3\" y=\"279\"/>\n      </g>\n     </g>\n     <g id=\"text_3\">\n      <!-- 40 -->\n      <g transform=\"translate(228.494344 293.598437)scale(0.1 -0.1)\">\n       <defs>\n        <path d=\"M 37.796875 64.3125 \nL 12.890625 25.390625 \nL 37.796875 25.390625 \nz\nM 35.203125 72.90625 \nL 47.609375 72.90625 \nL 47.609375 25.390625 \nL 58.015625 25.390625 \nL 58.015625 17.1875 \nL 47.609375 17.1875 \nL 47.609375 0 \nL 37.796875 0 \nL 37.796875 17.1875 \nL 4.890625 17.1875 \nL 4.890625 26.703125 \nz\n\" id=\"DejaVuSans-52\"/>\n       </defs>\n       <use xlink:href=\"#DejaVuSans-52\"/>\n       <use x=\"63.623047\" xlink:href=\"#DejaVuSans-48\"/>\n      </g>\n     </g>\n    </g>\n    <g id=\"xtick_4\">\n     <g id=\"line2d_4\">\n      <g>\n       <use style=\"stroke:#000000;stroke-width:0.8;\" x=\"327.088249\" xlink:href=\"#m7ed814d2e3\" y=\"279\"/>\n      </g>\n     </g>\n     <g id=\"text_4\">\n      <!-- 60 -->\n      <g transform=\"translate(320.725749 293.598437)scale(0.1 -0.1)\">\n       <defs>\n        <path d=\"M 33.015625 40.375 \nQ 26.375 40.375 22.484375 35.828125 \nQ 18.609375 31.296875 18.609375 23.390625 \nQ 18.609375 15.53125 22.484375 10.953125 \nQ 26.375 6.390625 33.015625 6.390625 \nQ 39.65625 6.390625 43.53125 10.953125 \nQ 47.40625 15.53125 47.40625 23.390625 \nQ 47.40625 31.296875 43.53125 35.828125 \nQ 39.65625 40.375 33.015625 40.375 \nz\nM 52.59375 71.296875 \nL 52.59375 62.3125 \nQ 48.875 64.0625 45.09375 64.984375 \nQ 41.3125 65.921875 37.59375 65.921875 \nQ 27.828125 65.921875 22.671875 59.328125 \nQ 17.53125 52.734375 16.796875 39.40625 \nQ 19.671875 43.65625 24.015625 45.921875 \nQ 28.375 48.1875 33.59375 48.1875 \nQ 44.578125 48.1875 50.953125 41.515625 \nQ 57.328125 34.859375 57.328125 23.390625 \nQ 57.328125 12.15625 50.6875 5.359375 \nQ 44.046875 -1.421875 33.015625 -1.421875 \nQ 20.359375 -1.421875 13.671875 8.265625 \nQ 6.984375 17.96875 6.984375 36.375 \nQ 6.984375 53.65625 15.1875 63.9375 \nQ 23.390625 74.21875 37.203125 74.21875 \nQ 40.921875 74.21875 44.703125 73.484375 \nQ 48.484375 72.75 52.59375 71.296875 \nz\n\" id=\"DejaVuSans-54\"/>\n       </defs>\n       <use xlink:href=\"#DejaVuSans-54\"/>\n       <use x=\"63.623047\" xlink:href=\"#DejaVuSans-48\"/>\n      </g>\n     </g>\n    </g>\n    <g id=\"xtick_5\">\n     <g id=\"line2d_5\">\n      <g>\n       <use style=\"stroke:#000000;stroke-width:0.8;\" x=\"419.319654\" xlink:href=\"#m7ed814d2e3\" y=\"279\"/>\n      </g>\n     </g>\n     <g id=\"text_5\">\n      <!-- 80 -->\n      <g transform=\"translate(412.957154 293.598437)scale(0.1 -0.1)\">\n       <defs>\n        <path d=\"M 31.78125 34.625 \nQ 24.75 34.625 20.71875 30.859375 \nQ 16.703125 27.09375 16.703125 20.515625 \nQ 16.703125 13.921875 20.71875 10.15625 \nQ 24.75 6.390625 31.78125 6.390625 \nQ 38.8125 6.390625 42.859375 10.171875 \nQ 46.921875 13.96875 46.921875 20.515625 \nQ 46.921875 27.09375 42.890625 30.859375 \nQ 38.875 34.625 31.78125 34.625 \nz\nM 21.921875 38.8125 \nQ 15.578125 40.375 12.03125 44.71875 \nQ 8.5 49.078125 8.5 55.328125 \nQ 8.5 64.0625 14.71875 69.140625 \nQ 20.953125 74.21875 31.78125 74.21875 \nQ 42.671875 74.21875 48.875 69.140625 \nQ 55.078125 64.0625 55.078125 55.328125 \nQ 55.078125 49.078125 51.53125 44.71875 \nQ 48 40.375 41.703125 38.8125 \nQ 48.828125 37.15625 52.796875 32.3125 \nQ 56.78125 27.484375 56.78125 20.515625 \nQ 56.78125 9.90625 50.3125 4.234375 \nQ 43.84375 -1.421875 31.78125 -1.421875 \nQ 19.734375 -1.421875 13.25 4.234375 \nQ 6.78125 9.90625 6.78125 20.515625 \nQ 6.78125 27.484375 10.78125 32.3125 \nQ 14.796875 37.15625 21.921875 38.8125 \nz\nM 18.3125 54.390625 \nQ 18.3125 48.734375 21.84375 45.5625 \nQ 25.390625 42.390625 31.78125 42.390625 \nQ 38.140625 42.390625 41.71875 45.5625 \nQ 45.3125 48.734375 45.3125 54.390625 \nQ 45.3125 60.0625 41.71875 63.234375 \nQ 38.140625 66.40625 31.78125 66.40625 \nQ 25.390625 66.40625 21.84375 63.234375 \nQ 18.3125 60.0625 18.3125 54.390625 \nz\n\" id=\"DejaVuSans-56\"/>\n       </defs>\n       <use xlink:href=\"#DejaVuSans-56\"/>\n       <use x=\"63.623047\" xlink:href=\"#DejaVuSans-48\"/>\n      </g>\n     </g>\n    </g>\n   </g>\n   <g id=\"matplotlib.axis_2\">\n    <g id=\"ytick_1\">\n     <g id=\"line2d_6\">\n      <defs>\n       <path d=\"M 0 0 \nL -3.5 0 \n\" id=\"m128d647a11\" style=\"stroke:#000000;stroke-width:0.8;\"/>\n      </defs>\n      <g>\n       <use style=\"stroke:#000000;stroke-width:0.8;\" x=\"30.103125\" xlink:href=\"#m128d647a11\" y=\"268.10937\"/>\n      </g>\n     </g>\n     <g id=\"text_6\">\n      <!-- 0.0 -->\n      <g transform=\"translate(7.2 271.908589)scale(0.1 -0.1)\">\n       <defs>\n        <path d=\"M 10.6875 12.40625 \nL 21 12.40625 \nL 21 0 \nL 10.6875 0 \nz\n\" id=\"DejaVuSans-46\"/>\n       </defs>\n       <use xlink:href=\"#DejaVuSans-48\"/>\n       <use x=\"63.623047\" xlink:href=\"#DejaVuSans-46\"/>\n       <use x=\"95.410156\" xlink:href=\"#DejaVuSans-48\"/>\n      </g>\n     </g>\n    </g>\n    <g id=\"ytick_2\">\n     <g id=\"line2d_7\">\n      <g>\n       <use style=\"stroke:#000000;stroke-width:0.8;\" x=\"30.103125\" xlink:href=\"#m128d647a11\" y=\"218.301879\"/>\n      </g>\n     </g>\n     <g id=\"text_7\">\n      <!-- 0.2 -->\n      <g transform=\"translate(7.2 222.101098)scale(0.1 -0.1)\">\n       <use xlink:href=\"#DejaVuSans-48\"/>\n       <use x=\"63.623047\" xlink:href=\"#DejaVuSans-46\"/>\n       <use x=\"95.410156\" xlink:href=\"#DejaVuSans-50\"/>\n      </g>\n     </g>\n    </g>\n    <g id=\"ytick_3\">\n     <g id=\"line2d_8\">\n      <g>\n       <use style=\"stroke:#000000;stroke-width:0.8;\" x=\"30.103125\" xlink:href=\"#m128d647a11\" y=\"168.494388\"/>\n      </g>\n     </g>\n     <g id=\"text_8\">\n      <!-- 0.4 -->\n      <g transform=\"translate(7.2 172.293607)scale(0.1 -0.1)\">\n       <use xlink:href=\"#DejaVuSans-48\"/>\n       <use x=\"63.623047\" xlink:href=\"#DejaVuSans-46\"/>\n       <use x=\"95.410156\" xlink:href=\"#DejaVuSans-52\"/>\n      </g>\n     </g>\n    </g>\n    <g id=\"ytick_4\">\n     <g id=\"line2d_9\">\n      <g>\n       <use style=\"stroke:#000000;stroke-width:0.8;\" x=\"30.103125\" xlink:href=\"#m128d647a11\" y=\"118.686897\"/>\n      </g>\n     </g>\n     <g id=\"text_9\">\n      <!-- 0.6 -->\n      <g transform=\"translate(7.2 122.486116)scale(0.1 -0.1)\">\n       <use xlink:href=\"#DejaVuSans-48\"/>\n       <use x=\"63.623047\" xlink:href=\"#DejaVuSans-46\"/>\n       <use x=\"95.410156\" xlink:href=\"#DejaVuSans-54\"/>\n      </g>\n     </g>\n    </g>\n    <g id=\"ytick_5\">\n     <g id=\"line2d_10\">\n      <g>\n       <use style=\"stroke:#000000;stroke-width:0.8;\" x=\"30.103125\" xlink:href=\"#m128d647a11\" y=\"68.879406\"/>\n      </g>\n     </g>\n     <g id=\"text_10\">\n      <!-- 0.8 -->\n      <g transform=\"translate(7.2 72.678624)scale(0.1 -0.1)\">\n       <use xlink:href=\"#DejaVuSans-48\"/>\n       <use x=\"63.623047\" xlink:href=\"#DejaVuSans-46\"/>\n       <use x=\"95.410156\" xlink:href=\"#DejaVuSans-56\"/>\n      </g>\n     </g>\n    </g>\n    <g id=\"ytick_6\">\n     <g id=\"line2d_11\">\n      <g>\n       <use style=\"stroke:#000000;stroke-width:0.8;\" x=\"30.103125\" xlink:href=\"#m128d647a11\" y=\"19.071914\"/>\n      </g>\n     </g>\n     <g id=\"text_11\">\n      <!-- 1.0 -->\n      <g transform=\"translate(7.2 22.871133)scale(0.1 -0.1)\">\n       <defs>\n        <path d=\"M 12.40625 8.296875 \nL 28.515625 8.296875 \nL 28.515625 63.921875 \nL 10.984375 60.40625 \nL 10.984375 69.390625 \nL 28.421875 72.90625 \nL 38.28125 72.90625 \nL 38.28125 8.296875 \nL 54.390625 8.296875 \nL 54.390625 0 \nL 12.40625 0 \nz\n\" id=\"DejaVuSans-49\"/>\n       </defs>\n       <use xlink:href=\"#DejaVuSans-49\"/>\n       <use x=\"63.623047\" xlink:href=\"#DejaVuSans-46\"/>\n       <use x=\"95.410156\" xlink:href=\"#DejaVuSans-48\"/>\n      </g>\n     </g>\n    </g>\n   </g>\n   <g id=\"line2d_12\">\n    <path clip-path=\"url(#p82386d6219)\" d=\"M 50.394034 141.371867 \nL 55.005604 200.027812 \nL 59.617175 220.794967 \nL 64.228745 232.848569 \nL 68.840315 240.17823 \nL 73.451885 245.824037 \nL 78.063456 249.80731 \nL 82.675026 252.524317 \nL 87.286596 254.565372 \nL 91.898166 256.259412 \nL 96.509737 257.7337 \nL 101.121307 259.00154 \nL 105.732877 260.077058 \nL 110.344447 260.996832 \nL 114.956018 261.782485 \nL 119.567588 262.428537 \nL 124.179158 262.963245 \nL 128.790728 263.421698 \nL 133.402299 263.822942 \nL 138.013869 264.175881 \nL 142.625439 264.48769 \nL 147.237009 264.760777 \nL 151.84858 264.980676 \nL 156.46015 265.144384 \nL 161.07172 265.276332 \nL 165.68329 265.388107 \nL 170.294861 265.485423 \nL 174.906431 265.572167 \nL 179.518001 265.650773 \nL 184.129571 265.722566 \nL 188.741142 265.788171 \nL 193.352712 265.847902 \nL 197.964282 265.902037 \nL 202.575852 265.950979 \nL 207.187423 265.995262 \nL 211.798993 266.035501 \nL 216.410563 266.072272 \nL 221.022133 266.106059 \nL 225.633704 266.137212 \nL 230.245274 266.165963 \nL 234.856844 266.19247 \nL 239.468414 266.216867 \nL 244.079985 266.239296 \nL 248.691555 266.259929 \nL 253.303125 266.278942 \nL 257.914695 266.296517 \nL 262.526265 266.312816 \nL 267.137836 266.327987 \nL 271.749406 266.342159 \nL 276.360976 266.355442 \nL 280.972546 266.367932 \nL 285.584117 266.379715 \nL 290.195687 266.390861 \nL 294.807257 266.401438 \nL 299.418827 266.411501 \nL 304.030398 266.421102 \nL 308.641968 266.430288 \nL 313.253538 266.439099 \nL 317.865108 266.447572 \nL 322.476679 266.45574 \nL 327.088249 266.463634 \nL 331.699819 266.471284 \nL 336.311389 266.47871 \nL 340.92296 266.485938 \nL 345.53453 266.49299 \nL 350.1461 266.499884 \nL 354.75767 266.506638 \nL 359.369241 266.513269 \nL 363.980811 266.519793 \nL 368.592381 266.526226 \nL 373.203951 266.532582 \nL 377.815522 266.538873 \nL 382.427092 266.545114 \nL 387.038662 266.551316 \nL 391.650232 266.557493 \nL 396.261803 266.563655 \nL 400.873373 266.569814 \nL 405.484943 266.575978 \nL 410.096513 266.582159 \nL 414.708084 266.588363 \nL 419.319654 266.594597 \nL 423.931224 266.600865 \nL 428.542794 266.607171 \nL 433.154365 266.613512 \nL 437.765935 266.619883 \nL 442.377505 266.626276 \nL 446.989075 266.632682 \nL 451.600646 266.63908 \nL 456.212216 266.645455 \n\" style=\"fill:none;stroke:#1f77b4;stroke-linecap:square;stroke-width:1.5;\"/>\n   </g>\n   <g id=\"line2d_13\">\n    <path clip-path=\"url(#p82386d6219)\" d=\"M 50.394034 188.053275 \nL 55.005604 213.613237 \nL 59.617175 233.269628 \nL 64.228745 241.273685 \nL 68.840315 246.701424 \nL 73.451885 250.934303 \nL 78.063456 253.760826 \nL 82.675026 255.681218 \nL 87.286596 257.09974 \nL 91.898166 258.203655 \nL 96.509737 259.090299 \nL 101.121307 259.73677 \nL 105.732877 260.158386 \nL 110.344447 260.415805 \nL 114.956018 260.579569 \nL 119.567588 260.693153 \nL 124.179158 260.766751 \nL 128.790728 260.812105 \nL 133.402299 260.838279 \nL 138.013869 260.852347 \nL 142.625439 260.860192 \nL 147.237009 260.869666 \nL 151.84858 260.895318 \nL 156.46015 260.943765 \nL 161.07172 261.011568 \nL 165.68329 261.093572 \nL 170.294861 261.185502 \nL 174.906431 261.28392 \nL 179.518001 261.386162 \nL 184.129571 261.490065 \nL 188.741142 261.593688 \nL 193.352712 261.695227 \nL 197.964282 261.793185 \nL 202.575852 261.886589 \nL 207.187423 261.975043 \nL 211.798993 262.05864 \nL 216.410563 262.137818 \nL 221.022133 262.213214 \nL 225.633704 262.285567 \nL 230.245274 262.355576 \nL 234.856844 262.423801 \nL 239.468414 262.490575 \nL 244.079985 262.556001 \nL 248.691555 262.620011 \nL 253.303125 262.682453 \nL 257.914695 262.743164 \nL 262.526265 262.802011 \nL 267.137836 262.858902 \nL 271.749406 262.913797 \nL 276.360976 262.966697 \nL 280.972546 263.017626 \nL 285.584117 263.066635 \nL 290.195687 263.113778 \nL 294.807257 263.15912 \nL 299.418827 263.202731 \nL 304.030398 263.244677 \nL 308.641968 263.285026 \nL 313.253538 263.323841 \nL 317.865108 263.361186 \nL 322.476679 263.397116 \nL 327.088249 263.431687 \nL 331.699819 263.464953 \nL 336.311389 263.496955 \nL 340.92296 263.52774 \nL 345.53453 263.557342 \nL 350.1461 263.585795 \nL 354.75767 263.613125 \nL 359.369241 263.639356 \nL 363.980811 263.664505 \nL 368.592381 263.688583 \nL 373.203951 263.711599 \nL 377.815522 263.733552 \nL 382.427092 263.754438 \nL 387.038662 263.774254 \nL 391.650232 263.792982 \nL 396.261803 263.810596 \nL 400.873373 263.827079 \nL 405.484943 263.842395 \nL 410.096513 263.856504 \nL 414.708084 263.869372 \nL 419.319654 263.880945 \nL 423.931224 263.891171 \nL 428.542794 263.899998 \nL 433.154365 263.907364 \nL 437.765935 263.913216 \nL 442.377505 263.917506 \nL 446.989075 263.9202 \nL 451.600646 263.921294 \nL 456.212216 263.92082 \n\" style=\"fill:none;stroke:#ff7f0e;stroke-linecap:square;stroke-width:1.5;\"/>\n   </g>\n   <g id=\"line2d_14\">\n    <path clip-path=\"url(#p82386d6219)\" d=\"M 50.394034 78.821594 \nL 55.005604 45.278758 \nL 59.617175 37.870386 \nL 64.228745 31.354868 \nL 68.840315 27.686879 \nL 73.451885 25.249588 \nL 78.063456 24.018874 \nL 82.675026 23.294928 \nL 87.286596 22.739904 \nL 91.898166 22.209016 \nL 96.509737 21.653992 \nL 101.121307 21.147225 \nL 105.732877 20.833516 \nL 110.344447 20.592201 \nL 114.956018 20.326749 \nL 119.567588 20.230235 \nL 124.179158 20.10957 \nL 128.790728 19.988919 \nL 133.402299 19.916511 \nL 138.013869 19.844118 \nL 142.625439 19.844118 \nL 147.237009 19.844118 \nL 151.84858 19.771725 \nL 156.46015 19.723468 \nL 161.07172 19.723468 \nL 165.68329 19.723468 \nL 170.294861 19.747604 \nL 174.906431 19.747604 \nL 179.518001 19.723468 \nL 184.129571 19.723468 \nL 188.741142 19.723468 \nL 193.352712 19.723468 \nL 197.964282 19.723468 \nL 202.575852 19.723468 \nL 207.187423 19.723468 \nL 211.798993 19.699332 \nL 216.410563 19.699332 \nL 221.022133 19.675196 \nL 225.633704 19.675196 \nL 230.245274 19.651075 \nL 234.856844 19.651075 \nL 239.468414 19.651075 \nL 244.079985 19.651075 \nL 248.691555 19.651075 \nL 253.303125 19.626939 \nL 257.914695 19.626939 \nL 262.526265 19.626939 \nL 267.137836 19.602803 \nL 271.749406 19.602803 \nL 276.360976 19.602803 \nL 280.972546 19.602803 \nL 285.584117 19.602803 \nL 290.195687 19.602803 \nL 294.807257 19.602803 \nL 299.418827 19.602803 \nL 304.030398 19.602803 \nL 308.641968 19.602803 \nL 313.253538 19.602803 \nL 317.865108 19.602803 \nL 322.476679 19.602803 \nL 327.088249 19.578681 \nL 331.699819 19.578681 \nL 336.311389 19.578681 \nL 340.92296 19.578681 \nL 345.53453 19.578681 \nL 350.1461 19.578681 \nL 354.75767 19.578681 \nL 359.369241 19.578681 \nL 363.980811 19.602803 \nL 368.592381 19.602803 \nL 373.203951 19.602803 \nL 377.815522 19.602803 \nL 382.427092 19.602803 \nL 387.038662 19.602803 \nL 391.650232 19.602803 \nL 396.261803 19.578681 \nL 400.873373 19.578681 \nL 405.484943 19.578681 \nL 410.096513 19.578681 \nL 414.708084 19.578681 \nL 419.319654 19.578681 \nL 423.931224 19.578681 \nL 428.542794 19.578681 \nL 433.154365 19.578681 \nL 437.765935 19.578681 \nL 442.377505 19.578681 \nL 446.989075 19.578681 \nL 451.600646 19.554545 \nL 456.212216 19.554545 \n\" style=\"fill:none;stroke:#2ca02c;stroke-linecap:square;stroke-width:1.5;\"/>\n   </g>\n   <g id=\"line2d_15\">\n    <path clip-path=\"url(#p82386d6219)\" d=\"M 50.394034 52.909979 \nL 55.005604 41.14022 \nL 59.617175 32.179144 \nL 64.228745 27.230506 \nL 68.840315 25.090537 \nL 73.451885 23.753067 \nL 78.063456 22.816839 \nL 82.675026 22.415597 \nL 87.286596 22.014354 \nL 91.898166 21.613112 \nL 96.509737 21.479369 \nL 101.121307 21.211869 \nL 105.732877 20.141899 \nL 110.344447 20.275642 \nL 114.956018 20.275642 \nL 119.567588 20.409384 \nL 124.179158 20.141899 \nL 128.790728 20.008142 \nL 133.402299 20.008142 \nL 138.013869 20.008142 \nL 142.625439 20.008142 \nL 147.237009 20.008142 \nL 151.84858 20.008142 \nL 156.46015 20.008142 \nL 161.07172 20.008142 \nL 165.68329 19.874399 \nL 170.294861 19.874399 \nL 174.906431 19.874399 \nL 179.518001 19.874399 \nL 184.129571 19.874399 \nL 188.741142 19.874399 \nL 193.352712 19.740657 \nL 197.964282 19.740657 \nL 202.575852 19.740657 \nL 207.187423 19.740657 \nL 211.798993 19.740657 \nL 216.410563 19.740657 \nL 221.022133 19.740657 \nL 225.633704 19.740657 \nL 230.245274 19.740657 \nL 234.856844 19.740657 \nL 239.468414 19.740657 \nL 244.079985 19.740657 \nL 248.691555 19.740657 \nL 253.303125 19.740657 \nL 257.914695 19.740657 \nL 262.526265 19.740657 \nL 267.137836 19.740657 \nL 271.749406 19.740657 \nL 276.360976 19.740657 \nL 280.972546 19.606899 \nL 285.584117 19.606899 \nL 290.195687 19.606899 \nL 294.807257 19.606899 \nL 299.418827 19.606899 \nL 304.030398 19.606899 \nL 308.641968 19.606899 \nL 313.253538 19.606899 \nL 317.865108 19.606899 \nL 322.476679 19.606899 \nL 327.088249 19.606899 \nL 331.699819 19.606899 \nL 336.311389 19.606899 \nL 340.92296 19.606899 \nL 345.53453 19.606899 \nL 350.1461 19.606899 \nL 354.75767 19.606899 \nL 359.369241 19.606899 \nL 363.980811 19.606899 \nL 368.592381 19.606899 \nL 373.203951 19.606899 \nL 377.815522 19.606899 \nL 382.427092 19.606899 \nL 387.038662 19.606899 \nL 391.650232 19.606899 \nL 396.261803 19.606899 \nL 400.873373 19.606899 \nL 405.484943 19.606899 \nL 410.096513 19.606899 \nL 414.708084 19.606899 \nL 419.319654 19.740657 \nL 423.931224 19.740657 \nL 428.542794 19.874399 \nL 433.154365 19.874399 \nL 437.765935 19.874399 \nL 442.377505 19.874399 \nL 446.989075 19.874399 \nL 451.600646 19.874399 \nL 456.212216 19.874399 \n\" style=\"fill:none;stroke:#d62728;stroke-linecap:square;stroke-width:1.5;\"/>\n   </g>\n   <g id=\"patch_3\">\n    <path d=\"M 30.103125 279 \nL 30.103125 7.2 \n\" style=\"fill:none;stroke:#000000;stroke-linecap:square;stroke-linejoin:miter;stroke-width:0.8;\"/>\n   </g>\n   <g id=\"patch_4\">\n    <path d=\"M 476.503125 279 \nL 476.503125 7.2 \n\" style=\"fill:none;stroke:#000000;stroke-linecap:square;stroke-linejoin:miter;stroke-width:0.8;\"/>\n   </g>\n   <g id=\"patch_5\">\n    <path d=\"M 30.103125 279 \nL 476.503125 279 \n\" style=\"fill:none;stroke:#000000;stroke-linecap:square;stroke-linejoin:miter;stroke-width:0.8;\"/>\n   </g>\n   <g id=\"patch_6\">\n    <path d=\"M 30.103125 7.2 \nL 476.503125 7.2 \n\" style=\"fill:none;stroke:#000000;stroke-linecap:square;stroke-linejoin:miter;stroke-width:0.8;\"/>\n   </g>\n   <g id=\"legend_1\">\n    <g id=\"patch_7\">\n     <path d=\"M 363.953125 174.5125 \nL 469.503125 174.5125 \nQ 471.503125 174.5125 471.503125 172.5125 \nL 471.503125 113.6875 \nQ 471.503125 111.6875 469.503125 111.6875 \nL 363.953125 111.6875 \nQ 361.953125 111.6875 361.953125 113.6875 \nL 361.953125 172.5125 \nQ 361.953125 174.5125 363.953125 174.5125 \nz\n\" style=\"fill:#ffffff;opacity:0.8;stroke:#cccccc;stroke-linejoin:miter;\"/>\n    </g>\n    <g id=\"line2d_16\">\n     <path d=\"M 365.953125 119.785937 \nL 385.953125 119.785937 \n\" style=\"fill:none;stroke:#1f77b4;stroke-linecap:square;stroke-width:1.5;\"/>\n    </g>\n    <g id=\"line2d_17\"/>\n    <g id=\"text_12\">\n     <!-- training_loss -->\n     <g transform=\"translate(393.953125 123.285937)scale(0.1 -0.1)\">\n      <defs>\n       <path d=\"M 18.3125 70.21875 \nL 18.3125 54.6875 \nL 36.8125 54.6875 \nL 36.8125 47.703125 \nL 18.3125 47.703125 \nL 18.3125 18.015625 \nQ 18.3125 11.328125 20.140625 9.421875 \nQ 21.96875 7.515625 27.59375 7.515625 \nL 36.8125 7.515625 \nL 36.8125 0 \nL 27.59375 0 \nQ 17.1875 0 13.234375 3.875 \nQ 9.28125 7.765625 9.28125 18.015625 \nL 9.28125 47.703125 \nL 2.6875 47.703125 \nL 2.6875 54.6875 \nL 9.28125 54.6875 \nL 9.28125 70.21875 \nz\n\" id=\"DejaVuSans-116\"/>\n       <path d=\"M 41.109375 46.296875 \nQ 39.59375 47.171875 37.8125 47.578125 \nQ 36.03125 48 33.890625 48 \nQ 26.265625 48 22.1875 43.046875 \nQ 18.109375 38.09375 18.109375 28.8125 \nL 18.109375 0 \nL 9.078125 0 \nL 9.078125 54.6875 \nL 18.109375 54.6875 \nL 18.109375 46.1875 \nQ 20.953125 51.171875 25.484375 53.578125 \nQ 30.03125 56 36.53125 56 \nQ 37.453125 56 38.578125 55.875 \nQ 39.703125 55.765625 41.0625 55.515625 \nz\n\" id=\"DejaVuSans-114\"/>\n       <path d=\"M 34.28125 27.484375 \nQ 23.390625 27.484375 19.1875 25 \nQ 14.984375 22.515625 14.984375 16.5 \nQ 14.984375 11.71875 18.140625 8.90625 \nQ 21.296875 6.109375 26.703125 6.109375 \nQ 34.1875 6.109375 38.703125 11.40625 \nQ 43.21875 16.703125 43.21875 25.484375 \nL 43.21875 27.484375 \nz\nM 52.203125 31.203125 \nL 52.203125 0 \nL 43.21875 0 \nL 43.21875 8.296875 \nQ 40.140625 3.328125 35.546875 0.953125 \nQ 30.953125 -1.421875 24.3125 -1.421875 \nQ 15.921875 -1.421875 10.953125 3.296875 \nQ 6 8.015625 6 15.921875 \nQ 6 25.140625 12.171875 29.828125 \nQ 18.359375 34.515625 30.609375 34.515625 \nL 43.21875 34.515625 \nL 43.21875 35.40625 \nQ 43.21875 41.609375 39.140625 45 \nQ 35.0625 48.390625 27.6875 48.390625 \nQ 23 48.390625 18.546875 47.265625 \nQ 14.109375 46.140625 10.015625 43.890625 \nL 10.015625 52.203125 \nQ 14.9375 54.109375 19.578125 55.046875 \nQ 24.21875 56 28.609375 56 \nQ 40.484375 56 46.34375 49.84375 \nQ 52.203125 43.703125 52.203125 31.203125 \nz\n\" id=\"DejaVuSans-97\"/>\n       <path d=\"M 9.421875 54.6875 \nL 18.40625 54.6875 \nL 18.40625 0 \nL 9.421875 0 \nz\nM 9.421875 75.984375 \nL 18.40625 75.984375 \nL 18.40625 64.59375 \nL 9.421875 64.59375 \nz\n\" id=\"DejaVuSans-105\"/>\n       <path d=\"M 54.890625 33.015625 \nL 54.890625 0 \nL 45.90625 0 \nL 45.90625 32.71875 \nQ 45.90625 40.484375 42.875 44.328125 \nQ 39.84375 48.1875 33.796875 48.1875 \nQ 26.515625 48.1875 22.3125 43.546875 \nQ 18.109375 38.921875 18.109375 30.90625 \nL 18.109375 0 \nL 9.078125 0 \nL 9.078125 54.6875 \nL 18.109375 54.6875 \nL 18.109375 46.1875 \nQ 21.34375 51.125 25.703125 53.5625 \nQ 30.078125 56 35.796875 56 \nQ 45.21875 56 50.046875 50.171875 \nQ 54.890625 44.34375 54.890625 33.015625 \nz\n\" id=\"DejaVuSans-110\"/>\n       <path d=\"M 45.40625 27.984375 \nQ 45.40625 37.75 41.375 43.109375 \nQ 37.359375 48.484375 30.078125 48.484375 \nQ 22.859375 48.484375 18.828125 43.109375 \nQ 14.796875 37.75 14.796875 27.984375 \nQ 14.796875 18.265625 18.828125 12.890625 \nQ 22.859375 7.515625 30.078125 7.515625 \nQ 37.359375 7.515625 41.375 12.890625 \nQ 45.40625 18.265625 45.40625 27.984375 \nz\nM 54.390625 6.78125 \nQ 54.390625 -7.171875 48.1875 -13.984375 \nQ 42 -20.796875 29.203125 -20.796875 \nQ 24.46875 -20.796875 20.265625 -20.09375 \nQ 16.0625 -19.390625 12.109375 -17.921875 \nL 12.109375 -9.1875 \nQ 16.0625 -11.328125 19.921875 -12.34375 \nQ 23.78125 -13.375 27.78125 -13.375 \nQ 36.625 -13.375 41.015625 -8.765625 \nQ 45.40625 -4.15625 45.40625 5.171875 \nL 45.40625 9.625 \nQ 42.625 4.78125 38.28125 2.390625 \nQ 33.9375 0 27.875 0 \nQ 17.828125 0 11.671875 7.65625 \nQ 5.515625 15.328125 5.515625 27.984375 \nQ 5.515625 40.671875 11.671875 48.328125 \nQ 17.828125 56 27.875 56 \nQ 33.9375 56 38.28125 53.609375 \nQ 42.625 51.21875 45.40625 46.390625 \nL 45.40625 54.6875 \nL 54.390625 54.6875 \nz\n\" id=\"DejaVuSans-103\"/>\n       <path d=\"M 50.984375 -16.609375 \nL 50.984375 -23.578125 \nL -0.984375 -23.578125 \nL -0.984375 -16.609375 \nz\n\" id=\"DejaVuSans-95\"/>\n       <path d=\"M 9.421875 75.984375 \nL 18.40625 75.984375 \nL 18.40625 0 \nL 9.421875 0 \nz\n\" id=\"DejaVuSans-108\"/>\n       <path d=\"M 30.609375 48.390625 \nQ 23.390625 48.390625 19.1875 42.75 \nQ 14.984375 37.109375 14.984375 27.296875 \nQ 14.984375 17.484375 19.15625 11.84375 \nQ 23.34375 6.203125 30.609375 6.203125 \nQ 37.796875 6.203125 41.984375 11.859375 \nQ 46.1875 17.53125 46.1875 27.296875 \nQ 46.1875 37.015625 41.984375 42.703125 \nQ 37.796875 48.390625 30.609375 48.390625 \nz\nM 30.609375 56 \nQ 42.328125 56 49.015625 48.375 \nQ 55.71875 40.765625 55.71875 27.296875 \nQ 55.71875 13.875 49.015625 6.21875 \nQ 42.328125 -1.421875 30.609375 -1.421875 \nQ 18.84375 -1.421875 12.171875 6.21875 \nQ 5.515625 13.875 5.515625 27.296875 \nQ 5.515625 40.765625 12.171875 48.375 \nQ 18.84375 56 30.609375 56 \nz\n\" id=\"DejaVuSans-111\"/>\n       <path d=\"M 44.28125 53.078125 \nL 44.28125 44.578125 \nQ 40.484375 46.53125 36.375 47.5 \nQ 32.28125 48.484375 27.875 48.484375 \nQ 21.1875 48.484375 17.84375 46.4375 \nQ 14.5 44.390625 14.5 40.28125 \nQ 14.5 37.15625 16.890625 35.375 \nQ 19.28125 33.59375 26.515625 31.984375 \nL 29.59375 31.296875 \nQ 39.15625 29.25 43.1875 25.515625 \nQ 47.21875 21.78125 47.21875 15.09375 \nQ 47.21875 7.46875 41.1875 3.015625 \nQ 35.15625 -1.421875 24.609375 -1.421875 \nQ 20.21875 -1.421875 15.453125 -0.5625 \nQ 10.6875 0.296875 5.421875 2 \nL 5.421875 11.28125 \nQ 10.40625 8.6875 15.234375 7.390625 \nQ 20.0625 6.109375 24.8125 6.109375 \nQ 31.15625 6.109375 34.5625 8.28125 \nQ 37.984375 10.453125 37.984375 14.40625 \nQ 37.984375 18.0625 35.515625 20.015625 \nQ 33.0625 21.96875 24.703125 23.78125 \nL 21.578125 24.515625 \nQ 13.234375 26.265625 9.515625 29.90625 \nQ 5.8125 33.546875 5.8125 39.890625 \nQ 5.8125 47.609375 11.28125 51.796875 \nQ 16.75 56 26.8125 56 \nQ 31.78125 56 36.171875 55.265625 \nQ 40.578125 54.546875 44.28125 53.078125 \nz\n\" id=\"DejaVuSans-115\"/>\n      </defs>\n      <use xlink:href=\"#DejaVuSans-116\"/>\n      <use x=\"39.208984\" xlink:href=\"#DejaVuSans-114\"/>\n      <use x=\"80.322266\" xlink:href=\"#DejaVuSans-97\"/>\n      <use x=\"141.601562\" xlink:href=\"#DejaVuSans-105\"/>\n      <use x=\"169.384766\" xlink:href=\"#DejaVuSans-110\"/>\n      <use x=\"232.763672\" xlink:href=\"#DejaVuSans-105\"/>\n      <use x=\"260.546875\" xlink:href=\"#DejaVuSans-110\"/>\n      <use x=\"323.925781\" xlink:href=\"#DejaVuSans-103\"/>\n      <use x=\"387.402344\" xlink:href=\"#DejaVuSans-95\"/>\n      <use x=\"437.402344\" xlink:href=\"#DejaVuSans-108\"/>\n      <use x=\"465.185547\" xlink:href=\"#DejaVuSans-111\"/>\n      <use x=\"526.367188\" xlink:href=\"#DejaVuSans-115\"/>\n      <use x=\"578.466797\" xlink:href=\"#DejaVuSans-115\"/>\n     </g>\n    </g>\n    <g id=\"line2d_18\">\n     <path d=\"M 365.953125 134.742188 \nL 385.953125 134.742188 \n\" style=\"fill:none;stroke:#ff7f0e;stroke-linecap:square;stroke-width:1.5;\"/>\n    </g>\n    <g id=\"line2d_19\"/>\n    <g id=\"text_13\">\n     <!-- validation_loss -->\n     <g transform=\"translate(393.953125 138.242188)scale(0.1 -0.1)\">\n      <defs>\n       <path d=\"M 2.984375 54.6875 \nL 12.5 54.6875 \nL 29.59375 8.796875 \nL 46.6875 54.6875 \nL 56.203125 54.6875 \nL 35.6875 0 \nL 23.484375 0 \nz\n\" id=\"DejaVuSans-118\"/>\n       <path d=\"M 45.40625 46.390625 \nL 45.40625 75.984375 \nL 54.390625 75.984375 \nL 54.390625 0 \nL 45.40625 0 \nL 45.40625 8.203125 \nQ 42.578125 3.328125 38.25 0.953125 \nQ 33.9375 -1.421875 27.875 -1.421875 \nQ 17.96875 -1.421875 11.734375 6.484375 \nQ 5.515625 14.40625 5.515625 27.296875 \nQ 5.515625 40.1875 11.734375 48.09375 \nQ 17.96875 56 27.875 56 \nQ 33.9375 56 38.25 53.625 \nQ 42.578125 51.265625 45.40625 46.390625 \nz\nM 14.796875 27.296875 \nQ 14.796875 17.390625 18.875 11.75 \nQ 22.953125 6.109375 30.078125 6.109375 \nQ 37.203125 6.109375 41.296875 11.75 \nQ 45.40625 17.390625 45.40625 27.296875 \nQ 45.40625 37.203125 41.296875 42.84375 \nQ 37.203125 48.484375 30.078125 48.484375 \nQ 22.953125 48.484375 18.875 42.84375 \nQ 14.796875 37.203125 14.796875 27.296875 \nz\n\" id=\"DejaVuSans-100\"/>\n      </defs>\n      <use xlink:href=\"#DejaVuSans-118\"/>\n      <use x=\"59.179688\" xlink:href=\"#DejaVuSans-97\"/>\n      <use x=\"120.458984\" xlink:href=\"#DejaVuSans-108\"/>\n      <use x=\"148.242188\" xlink:href=\"#DejaVuSans-105\"/>\n      <use x=\"176.025391\" xlink:href=\"#DejaVuSans-100\"/>\n      <use x=\"239.501953\" xlink:href=\"#DejaVuSans-97\"/>\n      <use x=\"300.78125\" xlink:href=\"#DejaVuSans-116\"/>\n      <use x=\"339.990234\" xlink:href=\"#DejaVuSans-105\"/>\n      <use x=\"367.773438\" xlink:href=\"#DejaVuSans-111\"/>\n      <use x=\"428.955078\" xlink:href=\"#DejaVuSans-110\"/>\n      <use x=\"492.333984\" xlink:href=\"#DejaVuSans-95\"/>\n      <use x=\"542.333984\" xlink:href=\"#DejaVuSans-108\"/>\n      <use x=\"570.117188\" xlink:href=\"#DejaVuSans-111\"/>\n      <use x=\"631.298828\" xlink:href=\"#DejaVuSans-115\"/>\n      <use x=\"683.398438\" xlink:href=\"#DejaVuSans-115\"/>\n     </g>\n    </g>\n    <g id=\"line2d_20\">\n     <path d=\"M 365.953125 149.698437 \nL 385.953125 149.698437 \n\" style=\"fill:none;stroke:#2ca02c;stroke-linecap:square;stroke-width:1.5;\"/>\n    </g>\n    <g id=\"line2d_21\"/>\n    <g id=\"text_14\">\n     <!-- training_acc -->\n     <g transform=\"translate(393.953125 153.198437)scale(0.1 -0.1)\">\n      <defs>\n       <path d=\"M 48.78125 52.59375 \nL 48.78125 44.1875 \nQ 44.96875 46.296875 41.140625 47.34375 \nQ 37.3125 48.390625 33.40625 48.390625 \nQ 24.65625 48.390625 19.8125 42.84375 \nQ 14.984375 37.3125 14.984375 27.296875 \nQ 14.984375 17.28125 19.8125 11.734375 \nQ 24.65625 6.203125 33.40625 6.203125 \nQ 37.3125 6.203125 41.140625 7.25 \nQ 44.96875 8.296875 48.78125 10.40625 \nL 48.78125 2.09375 \nQ 45.015625 0.34375 40.984375 -0.53125 \nQ 36.96875 -1.421875 32.421875 -1.421875 \nQ 20.0625 -1.421875 12.78125 6.34375 \nQ 5.515625 14.109375 5.515625 27.296875 \nQ 5.515625 40.671875 12.859375 48.328125 \nQ 20.21875 56 33.015625 56 \nQ 37.15625 56 41.109375 55.140625 \nQ 45.0625 54.296875 48.78125 52.59375 \nz\n\" id=\"DejaVuSans-99\"/>\n      </defs>\n      <use xlink:href=\"#DejaVuSans-116\"/>\n      <use x=\"39.208984\" xlink:href=\"#DejaVuSans-114\"/>\n      <use x=\"80.322266\" xlink:href=\"#DejaVuSans-97\"/>\n      <use x=\"141.601562\" xlink:href=\"#DejaVuSans-105\"/>\n      <use x=\"169.384766\" xlink:href=\"#DejaVuSans-110\"/>\n      <use x=\"232.763672\" xlink:href=\"#DejaVuSans-105\"/>\n      <use x=\"260.546875\" xlink:href=\"#DejaVuSans-110\"/>\n      <use x=\"323.925781\" xlink:href=\"#DejaVuSans-103\"/>\n      <use x=\"387.402344\" xlink:href=\"#DejaVuSans-95\"/>\n      <use x=\"437.402344\" xlink:href=\"#DejaVuSans-97\"/>\n      <use x=\"498.681641\" xlink:href=\"#DejaVuSans-99\"/>\n      <use x=\"553.662109\" xlink:href=\"#DejaVuSans-99\"/>\n     </g>\n    </g>\n    <g id=\"line2d_22\">\n     <path d=\"M 365.953125 164.654687 \nL 385.953125 164.654687 \n\" style=\"fill:none;stroke:#d62728;stroke-linecap:square;stroke-width:1.5;\"/>\n    </g>\n    <g id=\"line2d_23\"/>\n    <g id=\"text_15\">\n     <!-- validation_acc -->\n     <g transform=\"translate(393.953125 168.154687)scale(0.1 -0.1)\">\n      <use xlink:href=\"#DejaVuSans-118\"/>\n      <use x=\"59.179688\" xlink:href=\"#DejaVuSans-97\"/>\n      <use x=\"120.458984\" xlink:href=\"#DejaVuSans-108\"/>\n      <use x=\"148.242188\" xlink:href=\"#DejaVuSans-105\"/>\n      <use x=\"176.025391\" xlink:href=\"#DejaVuSans-100\"/>\n      <use x=\"239.501953\" xlink:href=\"#DejaVuSans-97\"/>\n      <use x=\"300.78125\" xlink:href=\"#DejaVuSans-116\"/>\n      <use x=\"339.990234\" xlink:href=\"#DejaVuSans-105\"/>\n      <use x=\"367.773438\" xlink:href=\"#DejaVuSans-111\"/>\n      <use x=\"428.955078\" xlink:href=\"#DejaVuSans-110\"/>\n      <use x=\"492.333984\" xlink:href=\"#DejaVuSans-95\"/>\n      <use x=\"542.333984\" xlink:href=\"#DejaVuSans-97\"/>\n      <use x=\"603.613281\" xlink:href=\"#DejaVuSans-99\"/>\n      <use x=\"658.59375\" xlink:href=\"#DejaVuSans-99\"/>\n     </g>\n    </g>\n   </g>\n  </g>\n </g>\n <defs>\n  <clipPath id=\"p82386d6219\">\n   <rect height=\"271.8\" width=\"446.4\" x=\"30.103125\" y=\"7.2\"/>\n  </clipPath>\n </defs>\n</svg>\n",
            "image/png": "[encoded data removed]"
          },
          "metadata": {
            "needs_background": "light"
          }
        }
      ],
      "source": [
        "print(type(history.history))\n",
        "print(history.history.keys())\n",
        "\n",
        "import matplotlib.pyplot as plt\n",
        "\n",
        "plt.figure(figsize=(8, 5))\n",
        "plt.plot(history.history['loss'], label='training_loss')\n",
        "plt.plot(history.history['val_loss'], label='validation_loss')\n",
        "plt.plot(history.history['accuracy'], label='training_acc')\n",
        "plt.plot(history.history['val_accuracy'], label='validation_acc')\n",
        "plt.legend()\n",
        "plt.show()"
      ]
    },
    {
      "cell_type": "markdown",
      "metadata": {
        "id": "KPG4YEdh4AiH",
        "colab_type": "text"
      },
      "source": [
        "## load model & test on unseen data"
      ]
    },
    {
      "cell_type": "code",
      "execution_count": 23,
      "metadata": {
        "tags": []
      },
      "outputs": [],
      "source": [
        "best_model = tf.keras.models.load_model('save_models/best_model.hdf5')"
      ]
    },
    {
      "cell_type": "code",
      "metadata": {
        "id": "6KsMjtRetqLL",
        "colab_type": "code",
        "colab": {},
        "tags": []
      },
      "source": [
        " myText = \"3-(3,4-dihydroxyphenyl)prop-2-enoic acid\"\n",
        " myText_cut = \"3|-|(|3|,|4|-|di|hydroxy|phen|yl|)|prop|-|2|-|en|oic acid\"  "
      ],
      "execution_count": 24,
      "outputs": []
    },
    {
      "cell_type": "code",
      "metadata": {
        "id": "WWj1_5XS30p_",
        "colab_type": "code",
        "colab": {
          "base_uri": "https://localhost:8080/",
          "height": 151
        },
        "outputId": "29d2c419-abe0-40a5-f6d0-09c7a7d01fe3",
        "tags": []
      },
      "source": [
        "_, my_y = create_dataset(myText_cut)\n",
        "myText_test = text_pred_preprocessing(myText)\n",
        "\n",
        "pred_test_proba = best_model.predict(myText_test)\n",
        "\n",
        "pred_test = decode_label(pred_test_proba)\n",
        "my_y_decode = decode_label(my_y)\n",
        "\n",
        "print(pred_test)\n",
        "print(my_y_decode)\n",
        "\n",
        "# Count same item between y (label) and pred (prediction)\n",
        "elem_same = (pred_test == my_y_decode).sum()\n",
        "print(\"\\nSame =\",elem_same,\", Not Same =\",pred_test.shape[0]-elem_same)\n",
        "\n",
        "print(\"\\nConfusion Matrix:\")\n",
        "print(tf.math.confusion_matrix(my_y_decode, pred_test, num_classes=2).numpy())"
      ],
      "execution_count": 25,
      "outputs": [
        {
          "output_type": "stream",
          "name": "stdout",
          "text": [
            "[1 1 1 1 1 1 1 1 0 1 0 0 0 0 0 0 1 0 0 0 1 0 1 1 0 0 0 1 1 1 1 0 1 0 0 0 0\n 0 0 0]\n[1 1 1 1 1 1 1 1 0 1 0 0 0 0 0 0 1 0 0 0 1 0 1 1 0 0 0 1 1 1 1 0 1 0 0 0 0\n 0 0 0]\n\nSame = 40 , Not Same = 0\n\nConfusion Matrix:\n[[22  0]\n [ 0 18]]\n"
          ]
        }
      ]
    },
    {
      "cell_type": "code",
      "metadata": {
        "id": "jiGlram741Ne",
        "colab_type": "code",
        "colab": {
          "base_uri": "https://localhost:8080/",
          "height": 50
        },
        "outputId": "207ecdc7-48d0-4237-c9ed-8037944b4424",
        "tags": []
      },
      "source": [
        "words = word_tokenize(myText, pred_test)\n",
        "print(words)\n",
        "print('|'.join(words))"
      ],
      "execution_count": 26,
      "outputs": [
        {
          "output_type": "stream",
          "name": "stdout",
          "text": [
            "['3', '-', '(', '3', ',', '4', '-', 'di', 'hydroxy', 'phen', 'yl', ')', 'prop', '-', '2', '-', 'en', 'oic acid']\n3|-|(|3|,|4|-|di|hydroxy|phen|yl|)|prop|-|2|-|en|oic acid\n"
          ]
        }
      ]
    },
    {
      "cell_type": "code",
      "execution_count": 27,
      "metadata": {},
      "outputs": [],
      "source": [
        "import nltk\n",
        "reference = [myText_cut.split('|')]\n",
        "score = nltk.translate.bleu_score.sentence_bleu(reference,words)"
      ]
    },
    {
      "cell_type": "code",
      "execution_count": 28,
      "metadata": {
        "tags": []
      },
      "outputs": [
        {
          "output_type": "stream",
          "name": "stdout",
          "text": [
            "1.0\n"
          ]
        }
      ],
      "source": [
        "print(score)"
      ]
    }
  ]
}