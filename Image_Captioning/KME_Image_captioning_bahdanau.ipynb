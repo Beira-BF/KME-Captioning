{
  "nbformat": 4,
  "nbformat_minor": 0,
  "metadata": {
    "accelerator": "GPU",
    "colab": {
      "name": "KME_Image_captioning_bahdanau.ipynb",
      "provenance": [],
      "collapsed_sections": [],
      "toc_visible": true,
      "machine_shape": "hm",
      "authorship_tag": "ABX9TyN8zycjUX3Cxzgalxs2dX/i",
      "include_colab_link": true
    },
    "kernelspec": {
      "display_name": "Python 3",
      "name": "python3"
    },
    "widgets": {
      "application/vnd.jupyter.widget-state+json": {
        "1c515f7714624a86bd7953ce765d260e": {
          "model_module": "@jupyter-widgets/controls",
          "model_name": "HBoxModel",
          "state": {
            "_view_name": "HBoxView",
            "_dom_classes": [],
            "_model_name": "HBoxModel",
            "_view_module": "@jupyter-widgets/controls",
            "_model_module_version": "1.5.0",
            "_view_count": null,
            "_view_module_version": "1.5.0",
            "box_style": "",
            "layout": "IPY_MODEL_0b882a79f9ac409d9af3b32ca4d89c8c",
            "_model_module": "@jupyter-widgets/controls",
            "children": [
              "IPY_MODEL_a439badc29ff4a19abdd99461dccdeb1",
              "IPY_MODEL_f6173032839e429889a706bf9875b6a5"
            ]
          }
        },
        "0b882a79f9ac409d9af3b32ca4d89c8c": {
          "model_module": "@jupyter-widgets/base",
          "model_name": "LayoutModel",
          "state": {
            "_view_name": "LayoutView",
            "grid_template_rows": null,
            "right": null,
            "justify_content": null,
            "_view_module": "@jupyter-widgets/base",
            "overflow": null,
            "_model_module_version": "1.2.0",
            "_view_count": null,
            "flex_flow": null,
            "width": null,
            "min_width": null,
            "border": null,
            "align_items": null,
            "bottom": null,
            "_model_module": "@jupyter-widgets/base",
            "top": null,
            "grid_column": null,
            "overflow_y": null,
            "overflow_x": null,
            "grid_auto_flow": null,
            "grid_area": null,
            "grid_template_columns": null,
            "flex": null,
            "_model_name": "LayoutModel",
            "justify_items": null,
            "grid_row": null,
            "max_height": null,
            "align_content": null,
            "visibility": null,
            "align_self": null,
            "height": null,
            "min_height": null,
            "padding": null,
            "grid_auto_rows": null,
            "grid_gap": null,
            "max_width": null,
            "order": null,
            "_view_module_version": "1.2.0",
            "grid_template_areas": null,
            "object_position": null,
            "object_fit": null,
            "grid_auto_columns": null,
            "margin": null,
            "display": null,
            "left": null
          }
        },
        "a439badc29ff4a19abdd99461dccdeb1": {
          "model_module": "@jupyter-widgets/controls",
          "model_name": "FloatProgressModel",
          "state": {
            "_view_name": "ProgressView",
            "style": "IPY_MODEL_876b2a961628492f972f7febfc2791fa",
            "_dom_classes": [],
            "description": "100%",
            "_model_name": "FloatProgressModel",
            "bar_style": "success",
            "max": 137,
            "_view_module": "@jupyter-widgets/controls",
            "_model_module_version": "1.5.0",
            "value": 137,
            "_view_count": null,
            "_view_module_version": "1.5.0",
            "orientation": "horizontal",
            "min": 0,
            "description_tooltip": null,
            "_model_module": "@jupyter-widgets/controls",
            "layout": "IPY_MODEL_ac9ad78f29b644028cde26cb3e76f9af"
          }
        },
        "f6173032839e429889a706bf9875b6a5": {
          "model_module": "@jupyter-widgets/controls",
          "model_name": "HTMLModel",
          "state": {
            "_view_name": "HTMLView",
            "style": "IPY_MODEL_2fb60b86055a427dbc4395908fc39882",
            "_dom_classes": [],
            "description": "",
            "_model_name": "HTMLModel",
            "placeholder": "​",
            "_view_module": "@jupyter-widgets/controls",
            "_model_module_version": "1.5.0",
            "value": " 137/137 [00:30&lt;00:00,  4.47it/s]",
            "_view_count": null,
            "_view_module_version": "1.5.0",
            "description_tooltip": null,
            "_model_module": "@jupyter-widgets/controls",
            "layout": "IPY_MODEL_259ec97003864fb590688c36d9738dfe"
          }
        },
        "876b2a961628492f972f7febfc2791fa": {
          "model_module": "@jupyter-widgets/controls",
          "model_name": "ProgressStyleModel",
          "state": {
            "_view_name": "StyleView",
            "_model_name": "ProgressStyleModel",
            "description_width": "initial",
            "_view_module": "@jupyter-widgets/base",
            "_model_module_version": "1.5.0",
            "_view_count": null,
            "_view_module_version": "1.2.0",
            "bar_color": null,
            "_model_module": "@jupyter-widgets/controls"
          }
        },
        "ac9ad78f29b644028cde26cb3e76f9af": {
          "model_module": "@jupyter-widgets/base",
          "model_name": "LayoutModel",
          "state": {
            "_view_name": "LayoutView",
            "grid_template_rows": null,
            "right": null,
            "justify_content": null,
            "_view_module": "@jupyter-widgets/base",
            "overflow": null,
            "_model_module_version": "1.2.0",
            "_view_count": null,
            "flex_flow": null,
            "width": null,
            "min_width": null,
            "border": null,
            "align_items": null,
            "bottom": null,
            "_model_module": "@jupyter-widgets/base",
            "top": null,
            "grid_column": null,
            "overflow_y": null,
            "overflow_x": null,
            "grid_auto_flow": null,
            "grid_area": null,
            "grid_template_columns": null,
            "flex": null,
            "_model_name": "LayoutModel",
            "justify_items": null,
            "grid_row": null,
            "max_height": null,
            "align_content": null,
            "visibility": null,
            "align_self": null,
            "height": null,
            "min_height": null,
            "padding": null,
            "grid_auto_rows": null,
            "grid_gap": null,
            "max_width": null,
            "order": null,
            "_view_module_version": "1.2.0",
            "grid_template_areas": null,
            "object_position": null,
            "object_fit": null,
            "grid_auto_columns": null,
            "margin": null,
            "display": null,
            "left": null
          }
        },
        "2fb60b86055a427dbc4395908fc39882": {
          "model_module": "@jupyter-widgets/controls",
          "model_name": "DescriptionStyleModel",
          "state": {
            "_view_name": "StyleView",
            "_model_name": "DescriptionStyleModel",
            "description_width": "",
            "_view_module": "@jupyter-widgets/base",
            "_model_module_version": "1.5.0",
            "_view_count": null,
            "_view_module_version": "1.2.0",
            "_model_module": "@jupyter-widgets/controls"
          }
        },
        "259ec97003864fb590688c36d9738dfe": {
          "model_module": "@jupyter-widgets/base",
          "model_name": "LayoutModel",
          "state": {
            "_view_name": "LayoutView",
            "grid_template_rows": null,
            "right": null,
            "justify_content": null,
            "_view_module": "@jupyter-widgets/base",
            "overflow": null,
            "_model_module_version": "1.2.0",
            "_view_count": null,
            "flex_flow": null,
            "width": null,
            "min_width": null,
            "border": null,
            "align_items": null,
            "bottom": null,
            "_model_module": "@jupyter-widgets/base",
            "top": null,
            "grid_column": null,
            "overflow_y": null,
            "overflow_x": null,
            "grid_auto_flow": null,
            "grid_area": null,
            "grid_template_columns": null,
            "flex": null,
            "_model_name": "LayoutModel",
            "justify_items": null,
            "grid_row": null,
            "max_height": null,
            "align_content": null,
            "visibility": null,
            "align_self": null,
            "height": null,
            "min_height": null,
            "padding": null,
            "grid_auto_rows": null,
            "grid_gap": null,
            "max_width": null,
            "order": null,
            "_view_module_version": "1.2.0",
            "grid_template_areas": null,
            "object_position": null,
            "object_fit": null,
            "grid_auto_columns": null,
            "margin": null,
            "display": null,
            "left": null
          }
        }
      }
    }
  },
  "cells": [
    {
      "cell_type": "markdown",
      "metadata": {
        "id": "view-in-github",
        "colab_type": "text"
      },
      "source": [
        "<a href=\"https://colab.research.google.com/github/namirinz/YSC21-AI_KME/blob/master/Image_Captioning/KME_Image_captioning_bahdanau.ipynb\" target=\"_parent\"><img src=\"https://colab.research.google.com/assets/colab-badge.svg\" alt=\"Open In Colab\"/></a>"
      ]
    },
    {
      "cell_type": "markdown",
      "metadata": {
        "id": "98HDu9wqWh4Y"
      },
      "source": [
        "# Import Library"
      ]
    },
    {
      "cell_type": "code",
      "metadata": {
        "id": "mmgjZzBxcEoT",
        "outputId": "1351d735-a3e6-484e-8a02-117a429c4665",
        "colab": {
          "base_uri": "https://localhost:8080/"
        }
      },
      "source": [
        "!pip install nami --upgrade\n",
        "!rm -rf .keras"
      ],
      "execution_count": 1,
      "outputs": [
        {
          "output_type": "stream",
          "text": [
            "Requirement already up-to-date: nami in /usr/local/lib/python3.6/dist-packages (1.2.1.12)\n",
            "Requirement already satisfied, skipping upgrade: numpy in /usr/local/lib/python3.6/dist-packages (from nami) (1.18.5)\n",
            "Requirement already satisfied, skipping upgrade: opencv-python in /usr/local/lib/python3.6/dist-packages (from nami) (4.1.2.30)\n",
            "Requirement already satisfied, skipping upgrade: bs4 in /usr/local/lib/python3.6/dist-packages (from nami) (0.0.1)\n",
            "Requirement already satisfied, skipping upgrade: matplotlib in /usr/local/lib/python3.6/dist-packages (from nami) (3.2.2)\n",
            "Requirement already satisfied, skipping upgrade: tensorflow in /usr/local/lib/python3.6/dist-packages (from nami) (2.3.0)\n",
            "Requirement already satisfied, skipping upgrade: seaborn in /usr/local/lib/python3.6/dist-packages (from nami) (0.11.0)\n",
            "Requirement already satisfied, skipping upgrade: cupy-cuda101 in /usr/local/lib/python3.6/dist-packages (from nami) (7.4.0)\n",
            "Requirement already satisfied, skipping upgrade: beautifulsoup4 in /usr/local/lib/python3.6/dist-packages (from bs4->nami) (4.6.3)\n",
            "Requirement already satisfied, skipping upgrade: cycler>=0.10 in /usr/local/lib/python3.6/dist-packages (from matplotlib->nami) (0.10.0)\n",
            "Requirement already satisfied, skipping upgrade: kiwisolver>=1.0.1 in /usr/local/lib/python3.6/dist-packages (from matplotlib->nami) (1.3.1)\n",
            "Requirement already satisfied, skipping upgrade: python-dateutil>=2.1 in /usr/local/lib/python3.6/dist-packages (from matplotlib->nami) (2.8.1)\n",
            "Requirement already satisfied, skipping upgrade: pyparsing!=2.0.4,!=2.1.2,!=2.1.6,>=2.0.1 in /usr/local/lib/python3.6/dist-packages (from matplotlib->nami) (2.4.7)\n",
            "Requirement already satisfied, skipping upgrade: astunparse==1.6.3 in /usr/local/lib/python3.6/dist-packages (from tensorflow->nami) (1.6.3)\n",
            "Requirement already satisfied, skipping upgrade: google-pasta>=0.1.8 in /usr/local/lib/python3.6/dist-packages (from tensorflow->nami) (0.2.0)\n",
            "Requirement already satisfied, skipping upgrade: six>=1.12.0 in /usr/local/lib/python3.6/dist-packages (from tensorflow->nami) (1.15.0)\n",
            "Requirement already satisfied, skipping upgrade: protobuf>=3.9.2 in /usr/local/lib/python3.6/dist-packages (from tensorflow->nami) (3.12.4)\n",
            "Requirement already satisfied, skipping upgrade: tensorboard<3,>=2.3.0 in /usr/local/lib/python3.6/dist-packages (from tensorflow->nami) (2.3.0)\n",
            "Requirement already satisfied, skipping upgrade: termcolor>=1.1.0 in /usr/local/lib/python3.6/dist-packages (from tensorflow->nami) (1.1.0)\n",
            "Requirement already satisfied, skipping upgrade: grpcio>=1.8.6 in /usr/local/lib/python3.6/dist-packages (from tensorflow->nami) (1.33.2)\n",
            "Requirement already satisfied, skipping upgrade: opt-einsum>=2.3.2 in /usr/local/lib/python3.6/dist-packages (from tensorflow->nami) (3.3.0)\n",
            "Requirement already satisfied, skipping upgrade: keras-preprocessing<1.2,>=1.1.1 in /usr/local/lib/python3.6/dist-packages (from tensorflow->nami) (1.1.2)\n",
            "Requirement already satisfied, skipping upgrade: tensorflow-estimator<2.4.0,>=2.3.0 in /usr/local/lib/python3.6/dist-packages (from tensorflow->nami) (2.3.0)\n",
            "Requirement already satisfied, skipping upgrade: gast==0.3.3 in /usr/local/lib/python3.6/dist-packages (from tensorflow->nami) (0.3.3)\n",
            "Requirement already satisfied, skipping upgrade: h5py<2.11.0,>=2.10.0 in /usr/local/lib/python3.6/dist-packages (from tensorflow->nami) (2.10.0)\n",
            "Requirement already satisfied, skipping upgrade: wheel>=0.26 in /usr/local/lib/python3.6/dist-packages (from tensorflow->nami) (0.35.1)\n",
            "Requirement already satisfied, skipping upgrade: scipy==1.4.1 in /usr/local/lib/python3.6/dist-packages (from tensorflow->nami) (1.4.1)\n",
            "Requirement already satisfied, skipping upgrade: absl-py>=0.7.0 in /usr/local/lib/python3.6/dist-packages (from tensorflow->nami) (0.10.0)\n",
            "Requirement already satisfied, skipping upgrade: wrapt>=1.11.1 in /usr/local/lib/python3.6/dist-packages (from tensorflow->nami) (1.12.1)\n",
            "Requirement already satisfied, skipping upgrade: pandas>=0.23 in /usr/local/lib/python3.6/dist-packages (from seaborn->nami) (1.1.4)\n",
            "Requirement already satisfied, skipping upgrade: fastrlock>=0.3 in /usr/local/lib/python3.6/dist-packages (from cupy-cuda101->nami) (0.5)\n",
            "Requirement already satisfied, skipping upgrade: setuptools in /usr/local/lib/python3.6/dist-packages (from protobuf>=3.9.2->tensorflow->nami) (50.3.2)\n",
            "Requirement already satisfied, skipping upgrade: tensorboard-plugin-wit>=1.6.0 in /usr/local/lib/python3.6/dist-packages (from tensorboard<3,>=2.3.0->tensorflow->nami) (1.7.0)\n",
            "Requirement already satisfied, skipping upgrade: markdown>=2.6.8 in /usr/local/lib/python3.6/dist-packages (from tensorboard<3,>=2.3.0->tensorflow->nami) (3.3.3)\n",
            "Requirement already satisfied, skipping upgrade: requests<3,>=2.21.0 in /usr/local/lib/python3.6/dist-packages (from tensorboard<3,>=2.3.0->tensorflow->nami) (2.23.0)\n",
            "Requirement already satisfied, skipping upgrade: werkzeug>=0.11.15 in /usr/local/lib/python3.6/dist-packages (from tensorboard<3,>=2.3.0->tensorflow->nami) (1.0.1)\n",
            "Requirement already satisfied, skipping upgrade: google-auth-oauthlib<0.5,>=0.4.1 in /usr/local/lib/python3.6/dist-packages (from tensorboard<3,>=2.3.0->tensorflow->nami) (0.4.2)\n",
            "Requirement already satisfied, skipping upgrade: google-auth<2,>=1.6.3 in /usr/local/lib/python3.6/dist-packages (from tensorboard<3,>=2.3.0->tensorflow->nami) (1.17.2)\n",
            "Requirement already satisfied, skipping upgrade: pytz>=2017.2 in /usr/local/lib/python3.6/dist-packages (from pandas>=0.23->seaborn->nami) (2018.9)\n",
            "Requirement already satisfied, skipping upgrade: importlib-metadata; python_version < \"3.8\" in /usr/local/lib/python3.6/dist-packages (from markdown>=2.6.8->tensorboard<3,>=2.3.0->tensorflow->nami) (2.0.0)\n",
            "Requirement already satisfied, skipping upgrade: chardet<4,>=3.0.2 in /usr/local/lib/python3.6/dist-packages (from requests<3,>=2.21.0->tensorboard<3,>=2.3.0->tensorflow->nami) (3.0.4)\n",
            "Requirement already satisfied, skipping upgrade: certifi>=2017.4.17 in /usr/local/lib/python3.6/dist-packages (from requests<3,>=2.21.0->tensorboard<3,>=2.3.0->tensorflow->nami) (2020.6.20)\n",
            "Requirement already satisfied, skipping upgrade: idna<3,>=2.5 in /usr/local/lib/python3.6/dist-packages (from requests<3,>=2.21.0->tensorboard<3,>=2.3.0->tensorflow->nami) (2.10)\n",
            "Requirement already satisfied, skipping upgrade: urllib3!=1.25.0,!=1.25.1,<1.26,>=1.21.1 in /usr/local/lib/python3.6/dist-packages (from requests<3,>=2.21.0->tensorboard<3,>=2.3.0->tensorflow->nami) (1.24.3)\n",
            "Requirement already satisfied, skipping upgrade: requests-oauthlib>=0.7.0 in /usr/local/lib/python3.6/dist-packages (from google-auth-oauthlib<0.5,>=0.4.1->tensorboard<3,>=2.3.0->tensorflow->nami) (1.3.0)\n",
            "Requirement already satisfied, skipping upgrade: pyasn1-modules>=0.2.1 in /usr/local/lib/python3.6/dist-packages (from google-auth<2,>=1.6.3->tensorboard<3,>=2.3.0->tensorflow->nami) (0.2.8)\n",
            "Requirement already satisfied, skipping upgrade: cachetools<5.0,>=2.0.0 in /usr/local/lib/python3.6/dist-packages (from google-auth<2,>=1.6.3->tensorboard<3,>=2.3.0->tensorflow->nami) (4.1.1)\n",
            "Requirement already satisfied, skipping upgrade: rsa<5,>=3.1.4; python_version >= \"3\" in /usr/local/lib/python3.6/dist-packages (from google-auth<2,>=1.6.3->tensorboard<3,>=2.3.0->tensorflow->nami) (4.6)\n",
            "Requirement already satisfied, skipping upgrade: zipp>=0.5 in /usr/local/lib/python3.6/dist-packages (from importlib-metadata; python_version < \"3.8\"->markdown>=2.6.8->tensorboard<3,>=2.3.0->tensorflow->nami) (3.4.0)\n",
            "Requirement already satisfied, skipping upgrade: oauthlib>=3.0.0 in /usr/local/lib/python3.6/dist-packages (from requests-oauthlib>=0.7.0->google-auth-oauthlib<0.5,>=0.4.1->tensorboard<3,>=2.3.0->tensorflow->nami) (3.1.0)\n",
            "Requirement already satisfied, skipping upgrade: pyasn1<0.5.0,>=0.4.6 in /usr/local/lib/python3.6/dist-packages (from pyasn1-modules>=0.2.1->google-auth<2,>=1.6.3->tensorboard<3,>=2.3.0->tensorflow->nami) (0.4.8)\n"
          ],
          "name": "stdout"
        }
      ]
    },
    {
      "cell_type": "code",
      "metadata": {
        "id": "ibP6ZhLe2OLb",
        "outputId": "35a6769b-ab21-4212-ece3-772a4d6b0a70",
        "colab": {
          "base_uri": "https://localhost:8080/"
        }
      },
      "source": [
        "import nami\n",
        "import time\n",
        "import tensorflow as tf\n",
        "import numpy as np\n",
        "import matplotlib.pyplot as plt"
      ],
      "execution_count": 2,
      "outputs": [
        {
          "output_type": "stream",
          "text": [
            "WARNING:tensorflow:No training configuration found in the save file, so the model was *not* compiled. Compile it manually.\n"
          ],
          "name": "stdout"
        }
      ]
    },
    {
      "cell_type": "code",
      "metadata": {
        "id": "PcQmKlaFWJfl",
        "outputId": "aeb0a9f1-e9fa-46ea-c150-4efa94255229",
        "colab": {
          "base_uri": "https://localhost:8080/"
        }
      },
      "source": [
        "!nvidia-smi"
      ],
      "execution_count": 3,
      "outputs": [
        {
          "output_type": "stream",
          "text": [
            "Mon Nov 16 12:01:31 2020       \n",
            "+-----------------------------------------------------------------------------+\n",
            "| NVIDIA-SMI 455.32.00    Driver Version: 418.67       CUDA Version: 10.1     |\n",
            "|-------------------------------+----------------------+----------------------+\n",
            "| GPU  Name        Persistence-M| Bus-Id        Disp.A | Volatile Uncorr. ECC |\n",
            "| Fan  Temp  Perf  Pwr:Usage/Cap|         Memory-Usage | GPU-Util  Compute M. |\n",
            "|                               |                      |               MIG M. |\n",
            "|===============================+======================+======================|\n",
            "|   0  Tesla V100-SXM2...  Off  | 00000000:00:04.0 Off |                    0 |\n",
            "| N/A   36C    P0    39W / 300W |    445MiB / 16130MiB |      0%      Default |\n",
            "|                               |                      |                 ERR! |\n",
            "+-------------------------------+----------------------+----------------------+\n",
            "                                                                               \n",
            "+-----------------------------------------------------------------------------+\n",
            "| Processes:                                                                  |\n",
            "|  GPU   GI   CI        PID   Type   Process name                  GPU Memory |\n",
            "|        ID   ID                                                   Usage      |\n",
            "|=============================================================================|\n",
            "|  No running processes found                                                 |\n",
            "+-----------------------------------------------------------------------------+\n"
          ],
          "name": "stdout"
        }
      ]
    },
    {
      "cell_type": "markdown",
      "metadata": {
        "id": "D3OZ60WKS_2J"
      },
      "source": [
        "# Import Dataset"
      ]
    },
    {
      "cell_type": "code",
      "metadata": {
        "id": "no6jTjXRybya",
        "outputId": "210a164e-e3c5-4340-a2fb-7ad506b90118",
        "colab": {
          "base_uri": "https://localhost:8080/"
        }
      },
      "source": [
        "from nami.datasets.kme import load_data\n",
        "(image_train, caption_train), (image_test, caption_test) = load_data()\n",
        "print(image_train.shape, caption_train.shape)\n",
        "print(image_test.shape, caption_test.shape)"
      ],
      "execution_count": 4,
      "outputs": [
        {
          "output_type": "stream",
          "text": [
            "(545, 224, 224, 3) (545,)\n",
            "(137, 224, 224, 3) (137,)\n"
          ],
          "name": "stdout"
        }
      ]
    },
    {
      "cell_type": "markdown",
      "metadata": {
        "id": "pPLbdlU6Gx9C"
      },
      "source": [
        "## Preprocessing Dataset"
      ]
    },
    {
      "cell_type": "code",
      "metadata": {
        "id": "y5gTGNYMyxli",
        "outputId": "9ab36967-dd03-44bb-ea46-12a141fc6eea",
        "colab": {
          "base_uri": "https://localhost:8080/"
        }
      },
      "source": [
        "from nami.AI.kme_tokenize import Tokenizer\n",
        "tokenizer = Tokenizer()"
      ],
      "execution_count": 5,
      "outputs": [
        {
          "output_type": "stream",
          "text": [
            "WARNING:tensorflow:No training configuration found in the save file, so the model was *not* compiled. Compile it manually.\n"
          ],
          "name": "stdout"
        }
      ]
    },
    {
      "cell_type": "code",
      "metadata": {
        "id": "KgLyaziC3BjH"
      },
      "source": [
        "tokenizer.fit_on_texts(caption_train)"
      ],
      "execution_count": 6,
      "outputs": []
    },
    {
      "cell_type": "code",
      "metadata": {
        "id": "lxMVqe8NzOw7"
      },
      "source": [
        "text2seq_train = tokenizer.text_to_sequences(caption_train)\n",
        "seq2text_train = tokenizer.sequences_to_text(text2seq_train)"
      ],
      "execution_count": 7,
      "outputs": []
    },
    {
      "cell_type": "code",
      "metadata": {
        "id": "6o-tetUXCKCT"
      },
      "source": [
        "text2seq_test = tokenizer.text_to_sequences(caption_test)\n",
        "seq2text_test = tokenizer.sequences_to_text(text2seq_test)"
      ],
      "execution_count": 8,
      "outputs": []
    },
    {
      "cell_type": "code",
      "metadata": {
        "id": "8rewziwELo4L",
        "outputId": "d5eed0da-f6b4-4e68-9da8-0b8405ccbb89",
        "colab": {
          "base_uri": "https://localhost:8080/"
        }
      },
      "source": [
        "text2seq_train.shape"
      ],
      "execution_count": 9,
      "outputs": [
        {
          "output_type": "execute_result",
          "data": {
            "text/plain": [
              "(545, 32)"
            ]
          },
          "metadata": {
            "tags": []
          },
          "execution_count": 9
        }
      ]
    },
    {
      "cell_type": "markdown",
      "metadata": {
        "id": "1iLyXdq5G7PF"
      },
      "source": [
        "## Hyperparameter"
      ]
    },
    {
      "cell_type": "code",
      "metadata": {
        "id": "XOfOtlXP0Pi2"
      },
      "source": [
        "BATCH_SIZE = 32\n",
        "BUFFER_SIZE = 1000\n",
        "units = 512\n",
        "vocab_size = len(tokenizer.word2index)\n",
        "\n",
        "num_steps_train = len(image_train) // BATCH_SIZE\n",
        "num_steps_test = len(image_test) // BATCH_SIZE\n",
        "\n",
        "max_length_train = text2seq_train.shape[1]\n",
        "max_length_test = text2seq_test.shape[1]\n",
        "\n",
        "encoding_size = 256 # Determines dimension of the encodings of images"
      ],
      "execution_count": 10,
      "outputs": []
    },
    {
      "cell_type": "markdown",
      "metadata": {
        "id": "5UuRrG8VG0mQ"
      },
      "source": [
        "## tf.data.Dataset"
      ]
    },
    {
      "cell_type": "code",
      "metadata": {
        "id": "q-KAWWSGdP2r"
      },
      "source": [
        "import random\n",
        "from tensorflow.keras.preprocessing.image import random_rotation, random_channel_shift\n",
        "\n",
        "def rescale_fn(image, label):\n",
        "  image = tf.cast(image, tf.float32)\n",
        "  return tf.keras.applications.xception.preprocess_input(image), tf.cast(label, tf.float32)\n",
        "\n",
        "def prob_fn():\n",
        "  prob = np.random.uniform(size=1)\n",
        "  return prob[0]\n",
        "\n",
        "def augment_fn(image, label):\n",
        "  image, label = rescale_fn(image, label)\n",
        "  image = tf.image.random_flip_left_right(image)\n",
        "  image = tf.image.random_flip_up_down(image)\n",
        "  image = tf.image.rot90(image, tf.random.uniform(shape=[], minval=0, maxval=4, dtype=tf.int32))\n",
        "  \n",
        "  # Add some noise\n",
        "  gnoise = tf.random.normal(shape=tf.shape(image), mean=0.0, stddev=0.11, dtype=tf.float32)\n",
        "  image = tf.add(image, gnoise)\n",
        "  \n",
        "  return image, tf.cast(label, tf.float32)"
      ],
      "execution_count": 11,
      "outputs": []
    },
    {
      "cell_type": "code",
      "metadata": {
        "id": "hQ8od5frhCKA"
      },
      "source": [
        "with tf.device('/cpu:0'):\n",
        "  dataset = tf.data.Dataset.from_tensor_slices((image_train, text2seq_train)).map(\n",
        "      augment_fn, num_parallel_calls = tf.data.experimental.AUTOTUNE\n",
        "  ).shuffle(\n",
        "    len(image_train)\n",
        "  ).repeat(2).batch(\n",
        "      BATCH_SIZE, drop_remainder = True\n",
        "  ).cache(      \n",
        "  ).prefetch(\n",
        "      tf.data.experimental.AUTOTUNE\n",
        ")"
      ],
      "execution_count": 12,
      "outputs": []
    },
    {
      "cell_type": "code",
      "metadata": {
        "id": "opYkmjZhIsVL"
      },
      "source": [
        "with tf.device('/cpu:0'):\n",
        "  dataset_val = tf.data.Dataset.from_tensor_slices((image_test, text2seq_test)).map(\n",
        "      rescale_fn, num_parallel_calls = tf.data.experimental.AUTOTUNE\n",
        "  ).shuffle(\n",
        "    len(image_test)\n",
        "  ).batch(\n",
        "      BATCH_SIZE, drop_remainder = True\n",
        "  ).cache(      \n",
        "  ).prefetch(\n",
        "      tf.data.experimental.AUTOTUNE\n",
        ")\n"
      ],
      "execution_count": 13,
      "outputs": []
    },
    {
      "cell_type": "markdown",
      "metadata": {
        "id": "7fInbaEc0YuH"
      },
      "source": [
        "# Model Architecture"
      ]
    },
    {
      "cell_type": "markdown",
      "metadata": {
        "id": "ol55Gzssxh4M"
      },
      "source": [
        "## EfficientNetB7 "
      ]
    },
    {
      "cell_type": "code",
      "metadata": {
        "id": "rU_AonVPxgdJ"
      },
      "source": [
        "from tensorflow.keras.applications import xception\n",
        "\n",
        "pret_model = xception.Xception(include_top = False, weights='imagenet', input_shape=(224, 224, 3))\n",
        "# Output shape = [batch_size, 7, 7, 2560]"
      ],
      "execution_count": 14,
      "outputs": []
    },
    {
      "cell_type": "code",
      "metadata": {
        "id": "QtC-PnOLX5H7",
        "outputId": "5f675418-bfcb-4712-98f1-eb9646c9b89f",
        "colab": {
          "base_uri": "https://localhost:8080/"
        }
      },
      "source": [
        "pret_model.summary()"
      ],
      "execution_count": 15,
      "outputs": [
        {
          "output_type": "stream",
          "text": [
            "Model: \"xception\"\n",
            "__________________________________________________________________________________________________\n",
            "Layer (type)                    Output Shape         Param #     Connected to                     \n",
            "==================================================================================================\n",
            "input_1 (InputLayer)            [(None, 224, 224, 3) 0                                            \n",
            "__________________________________________________________________________________________________\n",
            "block1_conv1 (Conv2D)           (None, 111, 111, 32) 864         input_1[0][0]                    \n",
            "__________________________________________________________________________________________________\n",
            "block1_conv1_bn (BatchNormaliza (None, 111, 111, 32) 128         block1_conv1[0][0]               \n",
            "__________________________________________________________________________________________________\n",
            "block1_conv1_act (Activation)   (None, 111, 111, 32) 0           block1_conv1_bn[0][0]            \n",
            "__________________________________________________________________________________________________\n",
            "block1_conv2 (Conv2D)           (None, 109, 109, 64) 18432       block1_conv1_act[0][0]           \n",
            "__________________________________________________________________________________________________\n",
            "block1_conv2_bn (BatchNormaliza (None, 109, 109, 64) 256         block1_conv2[0][0]               \n",
            "__________________________________________________________________________________________________\n",
            "block1_conv2_act (Activation)   (None, 109, 109, 64) 0           block1_conv2_bn[0][0]            \n",
            "__________________________________________________________________________________________________\n",
            "block2_sepconv1 (SeparableConv2 (None, 109, 109, 128 8768        block1_conv2_act[0][0]           \n",
            "__________________________________________________________________________________________________\n",
            "block2_sepconv1_bn (BatchNormal (None, 109, 109, 128 512         block2_sepconv1[0][0]            \n",
            "__________________________________________________________________________________________________\n",
            "block2_sepconv2_act (Activation (None, 109, 109, 128 0           block2_sepconv1_bn[0][0]         \n",
            "__________________________________________________________________________________________________\n",
            "block2_sepconv2 (SeparableConv2 (None, 109, 109, 128 17536       block2_sepconv2_act[0][0]        \n",
            "__________________________________________________________________________________________________\n",
            "block2_sepconv2_bn (BatchNormal (None, 109, 109, 128 512         block2_sepconv2[0][0]            \n",
            "__________________________________________________________________________________________________\n",
            "conv2d (Conv2D)                 (None, 55, 55, 128)  8192        block1_conv2_act[0][0]           \n",
            "__________________________________________________________________________________________________\n",
            "block2_pool (MaxPooling2D)      (None, 55, 55, 128)  0           block2_sepconv2_bn[0][0]         \n",
            "__________________________________________________________________________________________________\n",
            "batch_normalization (BatchNorma (None, 55, 55, 128)  512         conv2d[0][0]                     \n",
            "__________________________________________________________________________________________________\n",
            "add (Add)                       (None, 55, 55, 128)  0           block2_pool[0][0]                \n",
            "                                                                 batch_normalization[0][0]        \n",
            "__________________________________________________________________________________________________\n",
            "block3_sepconv1_act (Activation (None, 55, 55, 128)  0           add[0][0]                        \n",
            "__________________________________________________________________________________________________\n",
            "block3_sepconv1 (SeparableConv2 (None, 55, 55, 256)  33920       block3_sepconv1_act[0][0]        \n",
            "__________________________________________________________________________________________________\n",
            "block3_sepconv1_bn (BatchNormal (None, 55, 55, 256)  1024        block3_sepconv1[0][0]            \n",
            "__________________________________________________________________________________________________\n",
            "block3_sepconv2_act (Activation (None, 55, 55, 256)  0           block3_sepconv1_bn[0][0]         \n",
            "__________________________________________________________________________________________________\n",
            "block3_sepconv2 (SeparableConv2 (None, 55, 55, 256)  67840       block3_sepconv2_act[0][0]        \n",
            "__________________________________________________________________________________________________\n",
            "block3_sepconv2_bn (BatchNormal (None, 55, 55, 256)  1024        block3_sepconv2[0][0]            \n",
            "__________________________________________________________________________________________________\n",
            "conv2d_1 (Conv2D)               (None, 28, 28, 256)  32768       add[0][0]                        \n",
            "__________________________________________________________________________________________________\n",
            "block3_pool (MaxPooling2D)      (None, 28, 28, 256)  0           block3_sepconv2_bn[0][0]         \n",
            "__________________________________________________________________________________________________\n",
            "batch_normalization_1 (BatchNor (None, 28, 28, 256)  1024        conv2d_1[0][0]                   \n",
            "__________________________________________________________________________________________________\n",
            "add_1 (Add)                     (None, 28, 28, 256)  0           block3_pool[0][0]                \n",
            "                                                                 batch_normalization_1[0][0]      \n",
            "__________________________________________________________________________________________________\n",
            "block4_sepconv1_act (Activation (None, 28, 28, 256)  0           add_1[0][0]                      \n",
            "__________________________________________________________________________________________________\n",
            "block4_sepconv1 (SeparableConv2 (None, 28, 28, 728)  188672      block4_sepconv1_act[0][0]        \n",
            "__________________________________________________________________________________________________\n",
            "block4_sepconv1_bn (BatchNormal (None, 28, 28, 728)  2912        block4_sepconv1[0][0]            \n",
            "__________________________________________________________________________________________________\n",
            "block4_sepconv2_act (Activation (None, 28, 28, 728)  0           block4_sepconv1_bn[0][0]         \n",
            "__________________________________________________________________________________________________\n",
            "block4_sepconv2 (SeparableConv2 (None, 28, 28, 728)  536536      block4_sepconv2_act[0][0]        \n",
            "__________________________________________________________________________________________________\n",
            "block4_sepconv2_bn (BatchNormal (None, 28, 28, 728)  2912        block4_sepconv2[0][0]            \n",
            "__________________________________________________________________________________________________\n",
            "conv2d_2 (Conv2D)               (None, 14, 14, 728)  186368      add_1[0][0]                      \n",
            "__________________________________________________________________________________________________\n",
            "block4_pool (MaxPooling2D)      (None, 14, 14, 728)  0           block4_sepconv2_bn[0][0]         \n",
            "__________________________________________________________________________________________________\n",
            "batch_normalization_2 (BatchNor (None, 14, 14, 728)  2912        conv2d_2[0][0]                   \n",
            "__________________________________________________________________________________________________\n",
            "add_2 (Add)                     (None, 14, 14, 728)  0           block4_pool[0][0]                \n",
            "                                                                 batch_normalization_2[0][0]      \n",
            "__________________________________________________________________________________________________\n",
            "block5_sepconv1_act (Activation (None, 14, 14, 728)  0           add_2[0][0]                      \n",
            "__________________________________________________________________________________________________\n",
            "block5_sepconv1 (SeparableConv2 (None, 14, 14, 728)  536536      block5_sepconv1_act[0][0]        \n",
            "__________________________________________________________________________________________________\n",
            "block5_sepconv1_bn (BatchNormal (None, 14, 14, 728)  2912        block5_sepconv1[0][0]            \n",
            "__________________________________________________________________________________________________\n",
            "block5_sepconv2_act (Activation (None, 14, 14, 728)  0           block5_sepconv1_bn[0][0]         \n",
            "__________________________________________________________________________________________________\n",
            "block5_sepconv2 (SeparableConv2 (None, 14, 14, 728)  536536      block5_sepconv2_act[0][0]        \n",
            "__________________________________________________________________________________________________\n",
            "block5_sepconv2_bn (BatchNormal (None, 14, 14, 728)  2912        block5_sepconv2[0][0]            \n",
            "__________________________________________________________________________________________________\n",
            "block5_sepconv3_act (Activation (None, 14, 14, 728)  0           block5_sepconv2_bn[0][0]         \n",
            "__________________________________________________________________________________________________\n",
            "block5_sepconv3 (SeparableConv2 (None, 14, 14, 728)  536536      block5_sepconv3_act[0][0]        \n",
            "__________________________________________________________________________________________________\n",
            "block5_sepconv3_bn (BatchNormal (None, 14, 14, 728)  2912        block5_sepconv3[0][0]            \n",
            "__________________________________________________________________________________________________\n",
            "add_3 (Add)                     (None, 14, 14, 728)  0           block5_sepconv3_bn[0][0]         \n",
            "                                                                 add_2[0][0]                      \n",
            "__________________________________________________________________________________________________\n",
            "block6_sepconv1_act (Activation (None, 14, 14, 728)  0           add_3[0][0]                      \n",
            "__________________________________________________________________________________________________\n",
            "block6_sepconv1 (SeparableConv2 (None, 14, 14, 728)  536536      block6_sepconv1_act[0][0]        \n",
            "__________________________________________________________________________________________________\n",
            "block6_sepconv1_bn (BatchNormal (None, 14, 14, 728)  2912        block6_sepconv1[0][0]            \n",
            "__________________________________________________________________________________________________\n",
            "block6_sepconv2_act (Activation (None, 14, 14, 728)  0           block6_sepconv1_bn[0][0]         \n",
            "__________________________________________________________________________________________________\n",
            "block6_sepconv2 (SeparableConv2 (None, 14, 14, 728)  536536      block6_sepconv2_act[0][0]        \n",
            "__________________________________________________________________________________________________\n",
            "block6_sepconv2_bn (BatchNormal (None, 14, 14, 728)  2912        block6_sepconv2[0][0]            \n",
            "__________________________________________________________________________________________________\n",
            "block6_sepconv3_act (Activation (None, 14, 14, 728)  0           block6_sepconv2_bn[0][0]         \n",
            "__________________________________________________________________________________________________\n",
            "block6_sepconv3 (SeparableConv2 (None, 14, 14, 728)  536536      block6_sepconv3_act[0][0]        \n",
            "__________________________________________________________________________________________________\n",
            "block6_sepconv3_bn (BatchNormal (None, 14, 14, 728)  2912        block6_sepconv3[0][0]            \n",
            "__________________________________________________________________________________________________\n",
            "add_4 (Add)                     (None, 14, 14, 728)  0           block6_sepconv3_bn[0][0]         \n",
            "                                                                 add_3[0][0]                      \n",
            "__________________________________________________________________________________________________\n",
            "block7_sepconv1_act (Activation (None, 14, 14, 728)  0           add_4[0][0]                      \n",
            "__________________________________________________________________________________________________\n",
            "block7_sepconv1 (SeparableConv2 (None, 14, 14, 728)  536536      block7_sepconv1_act[0][0]        \n",
            "__________________________________________________________________________________________________\n",
            "block7_sepconv1_bn (BatchNormal (None, 14, 14, 728)  2912        block7_sepconv1[0][0]            \n",
            "__________________________________________________________________________________________________\n",
            "block7_sepconv2_act (Activation (None, 14, 14, 728)  0           block7_sepconv1_bn[0][0]         \n",
            "__________________________________________________________________________________________________\n",
            "block7_sepconv2 (SeparableConv2 (None, 14, 14, 728)  536536      block7_sepconv2_act[0][0]        \n",
            "__________________________________________________________________________________________________\n",
            "block7_sepconv2_bn (BatchNormal (None, 14, 14, 728)  2912        block7_sepconv2[0][0]            \n",
            "__________________________________________________________________________________________________\n",
            "block7_sepconv3_act (Activation (None, 14, 14, 728)  0           block7_sepconv2_bn[0][0]         \n",
            "__________________________________________________________________________________________________\n",
            "block7_sepconv3 (SeparableConv2 (None, 14, 14, 728)  536536      block7_sepconv3_act[0][0]        \n",
            "__________________________________________________________________________________________________\n",
            "block7_sepconv3_bn (BatchNormal (None, 14, 14, 728)  2912        block7_sepconv3[0][0]            \n",
            "__________________________________________________________________________________________________\n",
            "add_5 (Add)                     (None, 14, 14, 728)  0           block7_sepconv3_bn[0][0]         \n",
            "                                                                 add_4[0][0]                      \n",
            "__________________________________________________________________________________________________\n",
            "block8_sepconv1_act (Activation (None, 14, 14, 728)  0           add_5[0][0]                      \n",
            "__________________________________________________________________________________________________\n",
            "block8_sepconv1 (SeparableConv2 (None, 14, 14, 728)  536536      block8_sepconv1_act[0][0]        \n",
            "__________________________________________________________________________________________________\n",
            "block8_sepconv1_bn (BatchNormal (None, 14, 14, 728)  2912        block8_sepconv1[0][0]            \n",
            "__________________________________________________________________________________________________\n",
            "block8_sepconv2_act (Activation (None, 14, 14, 728)  0           block8_sepconv1_bn[0][0]         \n",
            "__________________________________________________________________________________________________\n",
            "block8_sepconv2 (SeparableConv2 (None, 14, 14, 728)  536536      block8_sepconv2_act[0][0]        \n",
            "__________________________________________________________________________________________________\n",
            "block8_sepconv2_bn (BatchNormal (None, 14, 14, 728)  2912        block8_sepconv2[0][0]            \n",
            "__________________________________________________________________________________________________\n",
            "block8_sepconv3_act (Activation (None, 14, 14, 728)  0           block8_sepconv2_bn[0][0]         \n",
            "__________________________________________________________________________________________________\n",
            "block8_sepconv3 (SeparableConv2 (None, 14, 14, 728)  536536      block8_sepconv3_act[0][0]        \n",
            "__________________________________________________________________________________________________\n",
            "block8_sepconv3_bn (BatchNormal (None, 14, 14, 728)  2912        block8_sepconv3[0][0]            \n",
            "__________________________________________________________________________________________________\n",
            "add_6 (Add)                     (None, 14, 14, 728)  0           block8_sepconv3_bn[0][0]         \n",
            "                                                                 add_5[0][0]                      \n",
            "__________________________________________________________________________________________________\n",
            "block9_sepconv1_act (Activation (None, 14, 14, 728)  0           add_6[0][0]                      \n",
            "__________________________________________________________________________________________________\n",
            "block9_sepconv1 (SeparableConv2 (None, 14, 14, 728)  536536      block9_sepconv1_act[0][0]        \n",
            "__________________________________________________________________________________________________\n",
            "block9_sepconv1_bn (BatchNormal (None, 14, 14, 728)  2912        block9_sepconv1[0][0]            \n",
            "__________________________________________________________________________________________________\n",
            "block9_sepconv2_act (Activation (None, 14, 14, 728)  0           block9_sepconv1_bn[0][0]         \n",
            "__________________________________________________________________________________________________\n",
            "block9_sepconv2 (SeparableConv2 (None, 14, 14, 728)  536536      block9_sepconv2_act[0][0]        \n",
            "__________________________________________________________________________________________________\n",
            "block9_sepconv2_bn (BatchNormal (None, 14, 14, 728)  2912        block9_sepconv2[0][0]            \n",
            "__________________________________________________________________________________________________\n",
            "block9_sepconv3_act (Activation (None, 14, 14, 728)  0           block9_sepconv2_bn[0][0]         \n",
            "__________________________________________________________________________________________________\n",
            "block9_sepconv3 (SeparableConv2 (None, 14, 14, 728)  536536      block9_sepconv3_act[0][0]        \n",
            "__________________________________________________________________________________________________\n",
            "block9_sepconv3_bn (BatchNormal (None, 14, 14, 728)  2912        block9_sepconv3[0][0]            \n",
            "__________________________________________________________________________________________________\n",
            "add_7 (Add)                     (None, 14, 14, 728)  0           block9_sepconv3_bn[0][0]         \n",
            "                                                                 add_6[0][0]                      \n",
            "__________________________________________________________________________________________________\n",
            "block10_sepconv1_act (Activatio (None, 14, 14, 728)  0           add_7[0][0]                      \n",
            "__________________________________________________________________________________________________\n",
            "block10_sepconv1 (SeparableConv (None, 14, 14, 728)  536536      block10_sepconv1_act[0][0]       \n",
            "__________________________________________________________________________________________________\n",
            "block10_sepconv1_bn (BatchNorma (None, 14, 14, 728)  2912        block10_sepconv1[0][0]           \n",
            "__________________________________________________________________________________________________\n",
            "block10_sepconv2_act (Activatio (None, 14, 14, 728)  0           block10_sepconv1_bn[0][0]        \n",
            "__________________________________________________________________________________________________\n",
            "block10_sepconv2 (SeparableConv (None, 14, 14, 728)  536536      block10_sepconv2_act[0][0]       \n",
            "__________________________________________________________________________________________________\n",
            "block10_sepconv2_bn (BatchNorma (None, 14, 14, 728)  2912        block10_sepconv2[0][0]           \n",
            "__________________________________________________________________________________________________\n",
            "block10_sepconv3_act (Activatio (None, 14, 14, 728)  0           block10_sepconv2_bn[0][0]        \n",
            "__________________________________________________________________________________________________\n",
            "block10_sepconv3 (SeparableConv (None, 14, 14, 728)  536536      block10_sepconv3_act[0][0]       \n",
            "__________________________________________________________________________________________________\n",
            "block10_sepconv3_bn (BatchNorma (None, 14, 14, 728)  2912        block10_sepconv3[0][0]           \n",
            "__________________________________________________________________________________________________\n",
            "add_8 (Add)                     (None, 14, 14, 728)  0           block10_sepconv3_bn[0][0]        \n",
            "                                                                 add_7[0][0]                      \n",
            "__________________________________________________________________________________________________\n",
            "block11_sepconv1_act (Activatio (None, 14, 14, 728)  0           add_8[0][0]                      \n",
            "__________________________________________________________________________________________________\n",
            "block11_sepconv1 (SeparableConv (None, 14, 14, 728)  536536      block11_sepconv1_act[0][0]       \n",
            "__________________________________________________________________________________________________\n",
            "block11_sepconv1_bn (BatchNorma (None, 14, 14, 728)  2912        block11_sepconv1[0][0]           \n",
            "__________________________________________________________________________________________________\n",
            "block11_sepconv2_act (Activatio (None, 14, 14, 728)  0           block11_sepconv1_bn[0][0]        \n",
            "__________________________________________________________________________________________________\n",
            "block11_sepconv2 (SeparableConv (None, 14, 14, 728)  536536      block11_sepconv2_act[0][0]       \n",
            "__________________________________________________________________________________________________\n",
            "block11_sepconv2_bn (BatchNorma (None, 14, 14, 728)  2912        block11_sepconv2[0][0]           \n",
            "__________________________________________________________________________________________________\n",
            "block11_sepconv3_act (Activatio (None, 14, 14, 728)  0           block11_sepconv2_bn[0][0]        \n",
            "__________________________________________________________________________________________________\n",
            "block11_sepconv3 (SeparableConv (None, 14, 14, 728)  536536      block11_sepconv3_act[0][0]       \n",
            "__________________________________________________________________________________________________\n",
            "block11_sepconv3_bn (BatchNorma (None, 14, 14, 728)  2912        block11_sepconv3[0][0]           \n",
            "__________________________________________________________________________________________________\n",
            "add_9 (Add)                     (None, 14, 14, 728)  0           block11_sepconv3_bn[0][0]        \n",
            "                                                                 add_8[0][0]                      \n",
            "__________________________________________________________________________________________________\n",
            "block12_sepconv1_act (Activatio (None, 14, 14, 728)  0           add_9[0][0]                      \n",
            "__________________________________________________________________________________________________\n",
            "block12_sepconv1 (SeparableConv (None, 14, 14, 728)  536536      block12_sepconv1_act[0][0]       \n",
            "__________________________________________________________________________________________________\n",
            "block12_sepconv1_bn (BatchNorma (None, 14, 14, 728)  2912        block12_sepconv1[0][0]           \n",
            "__________________________________________________________________________________________________\n",
            "block12_sepconv2_act (Activatio (None, 14, 14, 728)  0           block12_sepconv1_bn[0][0]        \n",
            "__________________________________________________________________________________________________\n",
            "block12_sepconv2 (SeparableConv (None, 14, 14, 728)  536536      block12_sepconv2_act[0][0]       \n",
            "__________________________________________________________________________________________________\n",
            "block12_sepconv2_bn (BatchNorma (None, 14, 14, 728)  2912        block12_sepconv2[0][0]           \n",
            "__________________________________________________________________________________________________\n",
            "block12_sepconv3_act (Activatio (None, 14, 14, 728)  0           block12_sepconv2_bn[0][0]        \n",
            "__________________________________________________________________________________________________\n",
            "block12_sepconv3 (SeparableConv (None, 14, 14, 728)  536536      block12_sepconv3_act[0][0]       \n",
            "__________________________________________________________________________________________________\n",
            "block12_sepconv3_bn (BatchNorma (None, 14, 14, 728)  2912        block12_sepconv3[0][0]           \n",
            "__________________________________________________________________________________________________\n",
            "add_10 (Add)                    (None, 14, 14, 728)  0           block12_sepconv3_bn[0][0]        \n",
            "                                                                 add_9[0][0]                      \n",
            "__________________________________________________________________________________________________\n",
            "block13_sepconv1_act (Activatio (None, 14, 14, 728)  0           add_10[0][0]                     \n",
            "__________________________________________________________________________________________________\n",
            "block13_sepconv1 (SeparableConv (None, 14, 14, 728)  536536      block13_sepconv1_act[0][0]       \n",
            "__________________________________________________________________________________________________\n",
            "block13_sepconv1_bn (BatchNorma (None, 14, 14, 728)  2912        block13_sepconv1[0][0]           \n",
            "__________________________________________________________________________________________________\n",
            "block13_sepconv2_act (Activatio (None, 14, 14, 728)  0           block13_sepconv1_bn[0][0]        \n",
            "__________________________________________________________________________________________________\n",
            "block13_sepconv2 (SeparableConv (None, 14, 14, 1024) 752024      block13_sepconv2_act[0][0]       \n",
            "__________________________________________________________________________________________________\n",
            "block13_sepconv2_bn (BatchNorma (None, 14, 14, 1024) 4096        block13_sepconv2[0][0]           \n",
            "__________________________________________________________________________________________________\n",
            "conv2d_3 (Conv2D)               (None, 7, 7, 1024)   745472      add_10[0][0]                     \n",
            "__________________________________________________________________________________________________\n",
            "block13_pool (MaxPooling2D)     (None, 7, 7, 1024)   0           block13_sepconv2_bn[0][0]        \n",
            "__________________________________________________________________________________________________\n",
            "batch_normalization_3 (BatchNor (None, 7, 7, 1024)   4096        conv2d_3[0][0]                   \n",
            "__________________________________________________________________________________________________\n",
            "add_11 (Add)                    (None, 7, 7, 1024)   0           block13_pool[0][0]               \n",
            "                                                                 batch_normalization_3[0][0]      \n",
            "__________________________________________________________________________________________________\n",
            "block14_sepconv1 (SeparableConv (None, 7, 7, 1536)   1582080     add_11[0][0]                     \n",
            "__________________________________________________________________________________________________\n",
            "block14_sepconv1_bn (BatchNorma (None, 7, 7, 1536)   6144        block14_sepconv1[0][0]           \n",
            "__________________________________________________________________________________________________\n",
            "block14_sepconv1_act (Activatio (None, 7, 7, 1536)   0           block14_sepconv1_bn[0][0]        \n",
            "__________________________________________________________________________________________________\n",
            "block14_sepconv2 (SeparableConv (None, 7, 7, 2048)   3159552     block14_sepconv1_act[0][0]       \n",
            "__________________________________________________________________________________________________\n",
            "block14_sepconv2_bn (BatchNorma (None, 7, 7, 2048)   8192        block14_sepconv2[0][0]           \n",
            "__________________________________________________________________________________________________\n",
            "block14_sepconv2_act (Activatio (None, 7, 7, 2048)   0           block14_sepconv2_bn[0][0]        \n",
            "==================================================================================================\n",
            "Total params: 20,861,480\n",
            "Trainable params: 20,806,952\n",
            "Non-trainable params: 54,528\n",
            "__________________________________________________________________________________________________\n"
          ],
          "name": "stdout"
        }
      ]
    },
    {
      "cell_type": "markdown",
      "metadata": {
        "id": "aazr7LcA0dyB"
      },
      "source": [
        "## CNN Encoder (Encoder output of feature extraction)"
      ]
    },
    {
      "cell_type": "code",
      "metadata": {
        "id": "udyXipGt2lxw"
      },
      "source": [
        "from tensorflow.keras.models import Sequential\n",
        "encoder = Sequential([\n",
        "    pret_model,\n",
        "    #tf.keras.layers.Dropout(0.4),\n",
        "    tf.keras.layers.Dense(encoding_size,activation='relu',name=\"encoding_layer\"),\n",
        "    tf.keras.layers.Reshape(target_shape=(7 * 7, encoding_size))\n",
        "], name= \"CNN_feature_extraction\")"
      ],
      "execution_count": 16,
      "outputs": []
    },
    {
      "cell_type": "code",
      "metadata": {
        "id": "7Y0oKVTt5r6k",
        "outputId": "69d811a4-292a-42fe-d2d0-800cc6c82151",
        "colab": {
          "base_uri": "https://localhost:8080/"
        }
      },
      "source": [
        "encoder.summary()"
      ],
      "execution_count": 17,
      "outputs": [
        {
          "output_type": "stream",
          "text": [
            "Model: \"CNN_feature_extraction\"\n",
            "_________________________________________________________________\n",
            "Layer (type)                 Output Shape              Param #   \n",
            "=================================================================\n",
            "xception (Functional)        (None, 7, 7, 2048)        20861480  \n",
            "_________________________________________________________________\n",
            "encoding_layer (Dense)       (None, 7, 7, 256)         524544    \n",
            "_________________________________________________________________\n",
            "reshape (Reshape)            (None, 49, 256)           0         \n",
            "=================================================================\n",
            "Total params: 21,386,024\n",
            "Trainable params: 21,331,496\n",
            "Non-trainable params: 54,528\n",
            "_________________________________________________________________\n"
          ],
          "name": "stdout"
        }
      ]
    },
    {
      "cell_type": "markdown",
      "metadata": {
        "id": "zTEesLiT0aha"
      },
      "source": [
        "## Bahdanau Attention (Class)"
      ]
    },
    {
      "cell_type": "code",
      "metadata": {
        "id": "JHEvh2P2fsmc"
      },
      "source": [
        "from tensorflow.keras.layers import Dense, Embedding, GRU"
      ],
      "execution_count": 18,
      "outputs": []
    },
    {
      "cell_type": "code",
      "metadata": {
        "id": "82Ete2lReXM8"
      },
      "source": [
        "def create_attention(features, hidden):\n",
        "  # features(CNN_encoder output) shape == (batch_size, 25, embedding_dim)\n",
        "  # hidden shape == (batch_size, hidden_size)\n",
        "  \n",
        "  # hidden_with_time_axis shape == (batch_size, 1, hidden_size)\n",
        "  hidden_with_time_axis = tf.expand_dims(hidden, 1)\n",
        "\n",
        "  # attention_hidden_layer shape == (batch_size, 25, units)\n",
        "  attention_hidden_layer = tf.nn.tanh( Dense(units)(features) + Dense(units)(hidden_with_time_axis) )\n",
        "  \n",
        "  # score shape == (batch_size, 25, 1)\n",
        "  # This gives you an unnormalized score for each image feature.\n",
        "  score = tf.keras.layers.Dense(1)(attention_hidden_layer)\n",
        "\n",
        "    # attention_weights shape == (batch_size, 25, 1)\n",
        "  attention_weights = tf.nn.softmax(score, axis=1)\n",
        "\n",
        "  # context_vector shape after sum == (batch_size, hidden_size)\n",
        "  context_vector = attention_weights * features\n",
        "  context_vector = tf.reduce_sum(context_vector, axis=1)\n",
        "\n",
        "  return context_vector, attention_weights"
      ],
      "execution_count": 19,
      "outputs": []
    },
    {
      "cell_type": "code",
      "metadata": {
        "id": "GNWzLFBSfTJ1"
      },
      "source": [
        "def create_decoder():\n",
        "  features = tf.keras.layers.Input((49, 256))\n",
        "  dec_input= tf.keras.layers.Input((1))\n",
        "  hidden = tf.keras.layers.Input((units))\n",
        "\n",
        "  context_vector, attention_weights = create_attention(features, hidden)\n",
        "  \n",
        "  # x shape after passing through embedding == (batch_size, 1, encoding_size) \n",
        "  x = Embedding(vocab_size, encoding_size)(dec_input)\n",
        "  \n",
        "  # x shape after concatenation == (batch_size, 1, encoding_size + hidden_size)\n",
        "  x = tf.concat([tf.expand_dims(context_vector, 1), x], axis=-1)\n",
        "\n",
        "  output, state = GRU(units,return_sequences=True,return_state=True,recurrent_initializer='glorot_uniform')(x, initial_state=[hidden])\n",
        "  \n",
        "  # shape == (batch_size, max_length, hidden_size)\n",
        "  x = Dense(units)(output)\n",
        "\n",
        "  # x shape == (batch_size * max_length, hidden_size)\n",
        "  x = tf.reshape(x, (-1, x.shape[2]))\n",
        "\n",
        "  output = Dense(vocab_size)(x)\n",
        "\n",
        "  return tf.keras.models.Model([features, dec_input, hidden], [output, state, attention_weights])\n",
        "\n",
        "def reset_state(batch_size):\n",
        "  return tf.zeros((batch_size, units))"
      ],
      "execution_count": 20,
      "outputs": []
    },
    {
      "cell_type": "code",
      "metadata": {
        "id": "i7zN9nfjhEnu",
        "outputId": "dec061bc-6e02-4d6f-9861-8426d118d853",
        "colab": {
          "base_uri": "https://localhost:8080/",
          "height": 958
        }
      },
      "source": [
        "decoder = create_decoder()\n",
        "tf.keras.utils.plot_model(decoder, show_shapes=True, dpi = 49)"
      ],
      "execution_count": 21,
      "outputs": [
        {
          "output_type": "execute_result",
          "data": {
            "image/png": "[encoded data removed]",
            "text/plain": [
              "<IPython.core.display.Image object>"
            ]
          },
          "metadata": {
            "tags": []
          },
          "execution_count": 21
        }
      ]
    },
    {
      "cell_type": "code",
      "metadata": {
        "id": "E8-2XyVK0SkU",
        "outputId": "812f4037-d49c-463d-d7c9-0c7734bd9c88",
        "colab": {
          "base_uri": "https://localhost:8080/",
          "height": 126
        }
      },
      "source": [
        "\"\"\"\n",
        "class BahdanauAttention(tf.keras.Model):\n",
        "  def __init__(self, units):\n",
        "    super(BahdanauAttention, self).__init__()\n",
        "    self.W1 = tf.keras.layers.Dense(units)\n",
        "    self.W2 = tf.keras.layers.Dense(units)\n",
        "    self.V = tf.keras.layers.Dense(1)\n",
        "\n",
        "  def call(self, features, hidden):\n",
        "    # features(CNN_encoder output) shape == (batch_size, 25, embedding_dim)\n",
        "\n",
        "    # hidden shape == (batch_size, hidden_size)\n",
        "    # hidden_with_time_axis shape == (batch_size, 1, hidden_size)\n",
        "    hidden_with_time_axis = tf.expand_dims(hidden, 1)\n",
        "\n",
        "    # attention_hidden_layer shape == (batch_size, 25, units)\n",
        "    attention_hidden_layer = (tf.nn.tanh(self.W1(features) +\n",
        "                                         self.W2(hidden_with_time_axis)))\n",
        "\n",
        "    # score shape == (batch_size, 25, 1)\n",
        "    # This gives you an unnormalized score for each image feature.\n",
        "    score = self.V(attention_hidden_layer)\n",
        "\n",
        "    # attention_weights shape == (batch_size, 25, 1)\n",
        "    attention_weights = tf.nn.softmax(score, axis=1)\n",
        "\n",
        "    # context_vector shape after sum == (batch_size, hidden_size)\n",
        "    context_vector = attention_weights * features\n",
        "    context_vector = tf.reduce_sum(context_vector, axis=1)\n",
        "\n",
        "    return context_vector, attention_weights\n",
        "\"\"\""
      ],
      "execution_count": 22,
      "outputs": [
        {
          "output_type": "execute_result",
          "data": {
            "application/vnd.google.colaboratory.intrinsic+json": {
              "type": "string"
            },
            "text/plain": [
              "'\\nclass BahdanauAttention(tf.keras.Model):\\n  def __init__(self, units):\\n    super(BahdanauAttention, self).__init__()\\n    self.W1 = tf.keras.layers.Dense(units)\\n    self.W2 = tf.keras.layers.Dense(units)\\n    self.V = tf.keras.layers.Dense(1)\\n\\n  def call(self, features, hidden):\\n    # features(CNN_encoder output) shape == (batch_size, 25, embedding_dim)\\n\\n    # hidden shape == (batch_size, hidden_size)\\n    # hidden_with_time_axis shape == (batch_size, 1, hidden_size)\\n    hidden_with_time_axis = tf.expand_dims(hidden, 1)\\n\\n    # attention_hidden_layer shape == (batch_size, 25, units)\\n    attention_hidden_layer = (tf.nn.tanh(self.W1(features) +\\n                                         self.W2(hidden_with_time_axis)))\\n\\n    # score shape == (batch_size, 25, 1)\\n    # This gives you an unnormalized score for each image feature.\\n    score = self.V(attention_hidden_layer)\\n\\n    # attention_weights shape == (batch_size, 25, 1)\\n    attention_weights = tf.nn.softmax(score, axis=1)\\n\\n    # context_vector shape after sum == (batch_size, hidden_size)\\n    context_vector = attention_weights * features\\n    context_vector = tf.reduce_sum(context_vector, axis=1)\\n\\n    return context_vector, attention_weights\\n'"
            ]
          },
          "metadata": {
            "tags": []
          },
          "execution_count": 22
        }
      ]
    },
    {
      "cell_type": "markdown",
      "metadata": {
        "id": "_Hnse-3Y0iwO"
      },
      "source": [
        "## RNN Decoder (Class)\n"
      ]
    },
    {
      "cell_type": "code",
      "metadata": {
        "id": "EGCCBEF_0Udu",
        "outputId": "eaa7be13-e0b3-4eab-dc22-1ef9fc330915",
        "colab": {
          "base_uri": "https://localhost:8080/",
          "height": 126
        }
      },
      "source": [
        "\"\"\"\n",
        "class RNN_Decoder(tf.keras.Model):\n",
        "  def __init__(self, encoding_size, units, vocab_size):\n",
        "    super(RNN_Decoder, self).__init__()\n",
        "    self.units = units\n",
        "\n",
        "    self.embedding = tf.keras.layers.Embedding(vocab_size, encoding_size)\n",
        "    self.gru = tf.keras.layers.GRU(self.units,\n",
        "                                   return_sequences=True,\n",
        "                                   return_state=True,\n",
        "                                   recurrent_initializer='glorot_uniform')\n",
        "    self.fc1 = tf.keras.layers.Dense(self.units)\n",
        "    self.fc2 = tf.keras.layers.Dense(vocab_size)\n",
        "\n",
        "    self.attention = BahdanauAttention(self.units)\n",
        "\n",
        "  def __call__(self,features, x, hidden):\n",
        "    # defining attention as a separate model\n",
        "    context_vector, attention_weights = self.attention(features, hidden)\n",
        "\n",
        "    # x shape after passing through embedding == (batch_size, 1, encoding_size)\n",
        "    x = self.embedding(x)\n",
        "\n",
        "    # x shape after concatenation == (batch_size, 1, encoding_size + hidden_size)\n",
        "    x = tf.concat([tf.expand_dims(context_vector, 1), x], axis=-1)\n",
        "\n",
        "    # passing the concatenated vector to the GRU\n",
        "    output, state = self.gru(x, initial_state=[hidden])\n",
        "\n",
        "    # shape == (batch_size, max_length, hidden_size)\n",
        "    x = self.fc1(output)\n",
        "\n",
        "    # x shape == (batch_size * max_length, hidden_size)\n",
        "    x = tf.reshape(x, (-1, x.shape[2]))\n",
        "\n",
        "    # output shape == (batch_size * max_length, vocab)\n",
        "    x = self.fc2(x)\n",
        "\n",
        "    return x, state, attention_weights\n",
        "\n",
        "  def reset_state(self, batch_size):\n",
        "    return tf.zeros((batch_size, self.units))\n",
        "\"\"\""
      ],
      "execution_count": 23,
      "outputs": [
        {
          "output_type": "execute_result",
          "data": {
            "application/vnd.google.colaboratory.intrinsic+json": {
              "type": "string"
            },
            "text/plain": [
              "\"\\nclass RNN_Decoder(tf.keras.Model):\\n  def __init__(self, encoding_size, units, vocab_size):\\n    super(RNN_Decoder, self).__init__()\\n    self.units = units\\n\\n    self.embedding = tf.keras.layers.Embedding(vocab_size, encoding_size)\\n    self.gru = tf.keras.layers.GRU(self.units,\\n                                   return_sequences=True,\\n                                   return_state=True,\\n                                   recurrent_initializer='glorot_uniform')\\n    self.fc1 = tf.keras.layers.Dense(self.units)\\n    self.fc2 = tf.keras.layers.Dense(vocab_size)\\n\\n    self.attention = BahdanauAttention(self.units)\\n\\n  def __call__(self,features, x, hidden):\\n    # defining attention as a separate model\\n    context_vector, attention_weights = self.attention(features, hidden)\\n\\n    # x shape after passing through embedding == (batch_size, 1, encoding_size)\\n    x = self.embedding(x)\\n\\n    # x shape after concatenation == (batch_size, 1, encoding_size + hidden_size)\\n    x = tf.concat([tf.expand_dims(context_vector, 1), x], axis=-1)\\n\\n    # passing the concatenated vector to the GRU\\n    output, state = self.gru(x, initial_state=[hidden])\\n\\n    # shape == (batch_size, max_length, hidden_size)\\n    x = self.fc1(output)\\n\\n    # x shape == (batch_size * max_length, hidden_size)\\n    x = tf.reshape(x, (-1, x.shape[2]))\\n\\n    # output shape == (batch_size * max_length, vocab)\\n    x = self.fc2(x)\\n\\n    return x, state, attention_weights\\n\\n  def reset_state(self, batch_size):\\n    return tf.zeros((batch_size, self.units))\\n\""
            ]
          },
          "metadata": {
            "tags": []
          },
          "execution_count": 23
        }
      ]
    },
    {
      "cell_type": "code",
      "metadata": {
        "id": "KujkH67p4spS"
      },
      "source": [
        "#decoder = RNN_Decoder(encoding_size = encoding_size, units = units, vocab_size = vocab_size)"
      ],
      "execution_count": 24,
      "outputs": []
    },
    {
      "cell_type": "code",
      "metadata": {
        "id": "IxCRIuDQXt5k"
      },
      "source": [
        "#model =  ImageBahda(encoder = encoder, decoder = decoder)"
      ],
      "execution_count": 25,
      "outputs": []
    },
    {
      "cell_type": "markdown",
      "metadata": {
        "id": "LjpUOwLaRmtX"
      },
      "source": [
        "# Custom Loss Function\n"
      ]
    },
    {
      "cell_type": "code",
      "metadata": {
        "id": "TBXu_antcBIE"
      },
      "source": [
        "from tensorflow.keras.optimizers import Adam, Nadam\n",
        "\n",
        "opt = Adam(learning_rate=0.0003)"
      ],
      "execution_count": 26,
      "outputs": []
    },
    {
      "cell_type": "code",
      "metadata": {
        "id": "K8sbBjnGTkmd"
      },
      "source": [
        "def loss_fn(real, pred):\n",
        "  # Word Loss\n",
        "\n",
        "  real_onehot = tf.one_hot(tf.cast(real, tf.uint8), vocab_size)\n",
        "\n",
        "  loss_object = tf.keras.losses.CategoricalCrossentropy(from_logits=True, reduction = 'none', label_smoothing=0.2)\n",
        "  mask = tf.math.logical_not(tf.math.equal(real, 0))\n",
        "  loss_ = loss_object(real_onehot, pred)\n",
        "\n",
        "  mask = tf.cast(mask, dtype=loss_.dtype)\n",
        "  loss_ *= mask\n",
        "\n",
        "  # EOS Loss\n",
        "  loss_object2 = tf.keras.losses.BinaryCrossentropy(from_logits=True, label_smoothing=0.2)\n",
        "\n",
        "  end_token = tokenizer.word2index['<end>']\n",
        "  pred_id = tf.math.argmax(pred, axis=-1)\n",
        "\n",
        "  real_eos = tf.cast(tf.math.equal(real, end_token), dtype=tf.float32)\n",
        "  pred_eos = tf.cast(tf.math.equal(pred_id, end_token), dtype=tf.float32)\n",
        "\n",
        "  loss_2 = loss_object2(real_eos, pred_eos)\n",
        "\n",
        "  return tf.reduce_mean(loss_) + loss_2 "
      ],
      "execution_count": 27,
      "outputs": []
    },
    {
      "cell_type": "markdown",
      "metadata": {
        "id": "weWxn-SyOJyd"
      },
      "source": [
        "# Metrics"
      ]
    },
    {
      "cell_type": "code",
      "metadata": {
        "id": "jMZ9Cwp6OK6T"
      },
      "source": [
        "train_acc = tf.keras.metrics.SparseCategoricalAccuracy(name='train_accuracy')\n",
        "val_acc = tf.keras.metrics.SparseCategoricalAccuracy(name='val_accuracy')"
      ],
      "execution_count": 28,
      "outputs": []
    },
    {
      "cell_type": "markdown",
      "metadata": {
        "id": "Ok31T2yuWmLU"
      },
      "source": [
        "# Sub Class Model"
      ]
    },
    {
      "cell_type": "code",
      "metadata": {
        "id": "lHPmMMSzWnmU"
      },
      "source": [
        "class ImageBahda(tf.keras.Model):\n",
        "  def __init__(self, encoder, decoder, max_length_train, max_length_test):\n",
        "    super().__init__()\n",
        "    self.encoder = encoder\n",
        "    self.decoder = decoder\n",
        "    self.hidden_state = None\n",
        "    self.decoder_input = None\n",
        "    self.max_length_train = max_length_train\n",
        "    self.max_length_test = max_length_test\n",
        "    self.total_loss = 0.0\n",
        "\n",
        "  def compile(self, loss_fn, opt, metrics):\n",
        "    super().compile()\n",
        "    self.loss_fn = loss_fn\n",
        "    self.opt = opt\n",
        "    self.train_acc, self.val_acc = metrics\n",
        "\n",
        "\n",
        "  def train_step(self, input):\n",
        "    img_tensor, target = input\n",
        "    batch_size = BATCH_SIZE\n",
        "    #print(tf.shape(img_tensor))\n",
        "    self.hidden_state = reset_state(batch_size = batch_size)\n",
        "    self.decoder_input = tf.expand_dims([tokenizer.word2index['<start>']] * batch_size, 1)\n",
        "    loss = 0\n",
        "  \n",
        "    with tf.GradientTape() as tape:\n",
        "      img_feature = self.encoder(img_tensor)\n",
        "      \n",
        "      for i in range(1, target.shape[1]):\n",
        "        # passing the features through the decoder\n",
        "        predictions, self.hidden_state, _ = self.decoder([img_feature, self.decoder_input, self.hidden_state])\n",
        "        loss += self.loss_fn(target[:,i], predictions)\n",
        "        # using teacher forcing\n",
        "        self.decoder_input = tf.expand_dims(target[:, i], 1)\n",
        "        # Metrics\n",
        "        self.train_acc.update_state(target[:, i], predictions)\n",
        "\n",
        "    gradient = tape.gradient(loss, self.encoder.trainable_variables + self.decoder.trainable_variables) \n",
        "    self.opt.apply_gradients(zip(gradient, self.encoder.trainable_variables + self.decoder.trainable_variables))\n",
        "    \n",
        "    return {'loss': loss / target.shape[1], 'acc' : self.train_acc.result()}\n",
        "\n",
        "  def test_step(self, input):\n",
        "    img_tensor, target = input\n",
        "    batch_size = BATCH_SIZE\n",
        "    #print(batch_size)\n",
        "\n",
        "    self.hidden_state = reset_state(batch_size = batch_size)\n",
        "    self.decoder_input = tf.expand_dims([tokenizer.word2index['<start>']] * batch_size, 1)\n",
        "    loss = 0\n",
        "\n",
        "    with tf.GradientTape() as tape:  \n",
        "      img_feature = self.encoder(img_tensor)\n",
        "\n",
        "      for i in range(1, self.max_length_test):\n",
        "        predictions, self.hidden_state, _ = decoder([img_feature, self.decoder_input, self.hidden_state])\n",
        "        loss += self.loss_fn(target[:,i], predictions)\n",
        "          \n",
        "        self.decoder_input = tf.expand_dims(target[:, i], 1)\n",
        "\n",
        "        self.val_acc.update_state(target[:, i], predictions)\n",
        "\n",
        "    return {'loss': loss/self.max_length_test, 'acc': self.val_acc.result()}\n",
        "\n",
        "  @property\n",
        "  def metrics(self):\n",
        "    return [self.train_acc, self.val_acc]"
      ],
      "execution_count": 29,
      "outputs": []
    },
    {
      "cell_type": "code",
      "metadata": {
        "id": "WE5ZU66rqZhF"
      },
      "source": [
        "Model = ImageBahda(\n",
        "    encoder = encoder, decoder = decoder,\n",
        "    max_length_train = max_length_train, max_length_test = max_length_test\n",
        ")"
      ],
      "execution_count": 30,
      "outputs": []
    },
    {
      "cell_type": "code",
      "metadata": {
        "id": "jhHpfsNPrjPW"
      },
      "source": [
        "Model.compile(\n",
        "    loss_fn = loss_fn,\n",
        "    opt = opt,\n",
        "    metrics = [train_acc, val_acc]\n",
        ")"
      ],
      "execution_count": 31,
      "outputs": []
    },
    {
      "cell_type": "code",
      "metadata": {
        "id": "7afJ4MWvfj-7"
      },
      "source": [
        "checkpoint = tf.keras.callbacks.EarlyStopping(monitor='val_loss', patience = 5, restore_best_weights=True, mode='min')\n",
        "reduce_lr = tf.keras.callbacks.ReduceLROnPlateau(monitor='val_loss', factor=0.1, patience=2, verbose=1)\n",
        "\n",
        "callback_list = [checkpoint, reduce_lr]"
      ],
      "execution_count": 32,
      "outputs": []
    },
    {
      "cell_type": "code",
      "metadata": {
        "id": "hp_0eAPBGrI4",
        "outputId": "d45dc19b-bdec-4310-956f-b634a0e5620c",
        "colab": {
          "base_uri": "https://localhost:8080/"
        }
      },
      "source": [
        "Model.fit(dataset, validation_data = (dataset_val), epochs = 50, callbacks=callback_list)"
      ],
      "execution_count": 33,
      "outputs": [
        {
          "output_type": "stream",
          "text": [
            "Epoch 1/50\n",
            "34/34 [==============================] - 25s 746ms/step - loss: 2.1702 - acc: 0.0737 - val_loss: 2.1491 - val_acc: 0.0848\n",
            "Epoch 2/50\n",
            "34/34 [==============================] - 11s 327ms/step - loss: 2.1624 - acc: 0.0962 - val_loss: 2.0660 - val_acc: 0.1266\n",
            "Epoch 3/50\n",
            "34/34 [==============================] - 11s 327ms/step - loss: 1.9996 - acc: 0.1537 - val_loss: 1.7417 - val_acc: 0.1549\n",
            "Epoch 4/50\n",
            "34/34 [==============================] - 11s 327ms/step - loss: 1.8198 - acc: 0.1860 - val_loss: 1.6667 - val_acc: 0.1652\n",
            "Epoch 5/50\n",
            "34/34 [==============================] - 11s 328ms/step - loss: 1.7065 - acc: 0.2066 - val_loss: 1.6518 - val_acc: 0.1751\n",
            "Epoch 6/50\n",
            "34/34 [==============================] - 11s 328ms/step - loss: 1.6004 - acc: 0.2191 - val_loss: 1.6096 - val_acc: 0.1744\n",
            "Epoch 7/50\n",
            "34/34 [==============================] - 11s 325ms/step - loss: 1.5668 - acc: 0.2307 - val_loss: 1.6182 - val_acc: 0.1953\n",
            "Epoch 8/50\n",
            "34/34 [==============================] - ETA: 0s - loss: 1.5400 - acc: 0.2396\n",
            "Epoch 00008: ReduceLROnPlateau reducing learning rate to 0.00010000000474974513.\n",
            "34/34 [==============================] - 11s 327ms/step - loss: 1.5403 - acc: 0.2396 - val_loss: 1.6636 - val_acc: 0.1926\n",
            "Epoch 9/50\n",
            "34/34 [==============================] - 11s 330ms/step - loss: 1.5299 - acc: 0.2528 - val_loss: 1.5747 - val_acc: 0.1861\n",
            "Epoch 10/50\n",
            "34/34 [==============================] - 11s 328ms/step - loss: 1.4964 - acc: 0.2601 - val_loss: 1.5684 - val_acc: 0.1882\n",
            "Epoch 11/50\n",
            "34/34 [==============================] - 11s 324ms/step - loss: 1.4901 - acc: 0.2711 - val_loss: 1.5718 - val_acc: 0.1974\n",
            "Epoch 12/50\n",
            "34/34 [==============================] - ETA: 0s - loss: 1.4786 - acc: 0.2793\n",
            "Epoch 00012: ReduceLROnPlateau reducing learning rate to 1.0000000474974514e-05.\n",
            "34/34 [==============================] - 11s 324ms/step - loss: 1.4777 - acc: 0.2793 - val_loss: 1.6010 - val_acc: 0.1903\n",
            "Epoch 13/50\n",
            "34/34 [==============================] - 11s 325ms/step - loss: 1.4641 - acc: 0.2870 - val_loss: 1.6005 - val_acc: 0.1926\n",
            "Epoch 14/50\n",
            "34/34 [==============================] - ETA: 0s - loss: 1.4486 - acc: 0.2924\n",
            "Epoch 00014: ReduceLROnPlateau reducing learning rate to 1.0000000656873453e-06.\n",
            "34/34 [==============================] - 11s 325ms/step - loss: 1.4487 - acc: 0.2924 - val_loss: 1.5967 - val_acc: 0.2054\n",
            "Epoch 15/50\n",
            "34/34 [==============================] - 11s 327ms/step - loss: 1.4220 - acc: 0.3034 - val_loss: 1.6299 - val_acc: 0.2105\n"
          ],
          "name": "stdout"
        },
        {
          "output_type": "execute_result",
          "data": {
            "text/plain": [
              "<tensorflow.python.keras.callbacks.History at 0x7feb55580ac8>"
            ]
          },
          "metadata": {
            "tags": []
          },
          "execution_count": 33
        }
      ]
    },
    {
      "cell_type": "code",
      "metadata": {
        "id": "PrBRMTuba3sE",
        "outputId": "c86781fd-f823-494f-ae9e-5ed267624265",
        "colab": {
          "base_uri": "https://localhost:8080/"
        }
      },
      "source": [
        "Model.encoder.save('encoder_model.h5', include_optimizer=False)\n",
        "Model.decoder.save('decoder_model.h5', include_optimizer=False)\n",
        "\n",
        "encoder = tf.keras.models.load_model('encoder_model.h5')\n",
        "decoder = tf.keras.models.load_model('decoder_model.h5')"
      ],
      "execution_count": 34,
      "outputs": [
        {
          "output_type": "stream",
          "text": [
            "WARNING:tensorflow:No training configuration found in the save file, so the model was *not* compiled. Compile it manually.\n",
            "WARNING:tensorflow:No training configuration found in the save file, so the model was *not* compiled. Compile it manually.\n"
          ],
          "name": "stdout"
        }
      ]
    },
    {
      "cell_type": "code",
      "metadata": {
        "id": "Dziw2CVcpLHn",
        "outputId": "80b80177-92f7-4a84-ed9b-c1e0fc63be26",
        "colab": {
          "base_uri": "https://localhost:8080/"
        }
      },
      "source": [
        "img = tf.keras.applications.xception.preprocess_input(image_test[0])\n",
        "print(np.min(img), np.max(img))"
      ],
      "execution_count": 35,
      "outputs": [
        {
          "output_type": "stream",
          "text": [
            "-0.5686275 1.0\n"
          ],
          "name": "stdout"
        }
      ]
    },
    {
      "cell_type": "markdown",
      "metadata": {
        "id": "sgrLUIu6bT0p"
      },
      "source": [
        "# Caption It"
      ]
    },
    {
      "cell_type": "code",
      "metadata": {
        "id": "t7gdLxCTa7y7"
      },
      "source": [
        "attention_features_shape = 49\n",
        "features_shape = 2560\n",
        "max_test_length = max\n",
        "def evaluate(image, max_length):\n",
        "    attention_plot = np.zeros((max_length, attention_features_shape))\n",
        "\n",
        "    hidden_state = reset_state(batch_size = 1)\n",
        "\n",
        "    image = tf.reshape(image, shape=(1,image.shape[0],image.shape[1],image.shape[2]))\n",
        "    image = tf.keras.applications.xception.preprocess_input( tf.cast(image, tf.float32) )\n",
        "    features = encoder( image )\n",
        "\n",
        "    dec_input = tf.expand_dims([tokenizer.word2index['<start>']], 0)\n",
        "    result = []\n",
        "\n",
        "    for i in range(max_length): # *\n",
        "\n",
        "        predictions, hidden_state, attention_weights = decoder([features, dec_input, hidden_state])\n",
        "\n",
        "        attention_plot[i] = tf.reshape(attention_weights, (-1, )).numpy()\n",
        "\n",
        "        predicted_id = np.argmax(predictions, axis=-1)[0]\n",
        "\n",
        "        result.append(tokenizer.index2word[predicted_id])\n",
        "\n",
        "        if tokenizer.index2word[predicted_id] == '<end>':\n",
        "            return result, attention_plot\n",
        "\n",
        "        dec_input = tf.expand_dims([predicted_id], 0)\n",
        "\n",
        "    attention_plot = attention_plot[:len(result), :]\n",
        "    return result, attention_plot"
      ],
      "execution_count": 36,
      "outputs": []
    },
    {
      "cell_type": "code",
      "metadata": {
        "id": "UHKG7crObEX2"
      },
      "source": [
        "def plot_attention(image, result, attention_plot):\n",
        "\n",
        "    fig = plt.figure(figsize=(10, 10))\n",
        "    fig.suptitle(''.join(result[:-1]), fontsize=22, y = 1.03)\n",
        "    len_result = len(result)\n",
        "    for l in range(len_result):\n",
        "        temp_att = np.resize(attention_plot[l], (8, 8))\n",
        "        ax = fig.add_subplot(len_result//2, len_result//2, l+1)\n",
        "        ax.set_title(result[l])\n",
        "        img = ax.imshow(image)\n",
        "        ax.imshow(temp_att, cmap='gray', alpha=0.6, extent=img.get_extent())\n",
        "    \n",
        "    plt.tight_layout()\n",
        "    plt.show()"
      ],
      "execution_count": 37,
      "outputs": []
    },
    {
      "cell_type": "code",
      "metadata": {
        "id": "t5HFrSo3bFVz",
        "outputId": "25330767-eeba-4913-f9a1-5f7f9edd4802",
        "colab": {
          "base_uri": "https://localhost:8080/",
          "height": 379
        }
      },
      "source": [
        "# captions on the validation set\n",
        "result, attention_plot = evaluate(image_test[55], max_length_test)\n",
        "\n",
        "print ('Real Caption:', caption_test[55])\n",
        "print ('Prediction Caption:', ''.join(result[:-1]))\n",
        "\n",
        "plot_attention(image_test[55], result, attention_plot)"
      ],
      "execution_count": 50,
      "outputs": [
        {
          "output_type": "stream",
          "text": [
            "Real Caption: octa-2,4-diene\n",
            "Prediction Caption: hepta-2,4-diene\n"
          ],
          "name": "stdout"
        },
        {
          "output_type": "display_data",
          "data": {
            "image/png": "[encoded data removed]",
            "text/plain": [
              "<Figure size 720x720 with 10 Axes>"
            ]
          },
          "metadata": {
            "tags": [],
            "needs_background": "light"
          }
        }
      ]
    },
    {
      "cell_type": "code",
      "metadata": {
        "id": "nzzqRpLo_eS8"
      },
      "source": [
        "import nltk\n",
        "from nltk.translate.bleu_score import sentence_bleu, SmoothingFunction"
      ],
      "execution_count": 39,
      "outputs": []
    },
    {
      "cell_type": "code",
      "metadata": {
        "id": "THlCsGgodpIh",
        "outputId": "5506af61-e023-4a8d-880d-76763d7248f0",
        "colab": {
          "base_uri": "https://localhost:8080/"
        }
      },
      "source": [
        "from nami.AI.kme_tokenize import Segmentation\n",
        "kme_segment = Segmentation()"
      ],
      "execution_count": 40,
      "outputs": [
        {
          "output_type": "stream",
          "text": [
            "WARNING:tensorflow:No training configuration found in the save file, so the model was *not* compiled. Compile it manually.\n"
          ],
          "name": "stdout"
        }
      ]
    },
    {
      "cell_type": "code",
      "metadata": {
        "id": "T5BFz2Xb_wlR",
        "outputId": "71c4535f-bd2e-4a1d-91a2-ceaacad4be29",
        "colab": {
          "base_uri": "https://localhost:8080/",
          "height": 67,
          "referenced_widgets": [
            "1c515f7714624a86bd7953ce765d260e",
            "0b882a79f9ac409d9af3b32ca4d89c8c",
            "a439badc29ff4a19abdd99461dccdeb1",
            "f6173032839e429889a706bf9875b6a5",
            "876b2a961628492f972f7febfc2791fa",
            "ac9ad78f29b644028cde26cb3e76f9af",
            "2fb60b86055a427dbc4395908fc39882",
            "259ec97003864fb590688c36d9738dfe"
          ]
        }
      },
      "source": [
        "best_score = {}\n",
        "chencherry = SmoothingFunction()\n",
        "from tqdm.notebook import trange\n",
        "for i in trange(len(image_test)):\n",
        "  word_arr, _ = evaluate(image_test[i], max_length_test)\n",
        "  real_word,_ = kme_segment.word_segmentation(caption_test[i])\n",
        "\n",
        "  score = sentence_bleu([real_word], word_arr[:-1], smoothing_function = chencherry.method4)\n",
        "  best_score[i] = score\n",
        "  #print(f\"{i} | {score:.4f}\", end=' ')\n",
        "  #print(''.join(word_arr[:-1]), end=' : ')\n",
        "  #print(caption_test[i])"
      ],
      "execution_count": 41,
      "outputs": [
        {
          "output_type": "display_data",
          "data": {
            "application/vnd.jupyter.widget-view+json": {
              "model_id": "1c515f7714624a86bd7953ce765d260e",
              "version_minor": 0,
              "version_major": 2
            },
            "text/plain": [
              "HBox(children=(FloatProgress(value=0.0, max=137.0), HTML(value='')))"
            ]
          },
          "metadata": {
            "tags": []
          }
        },
        {
          "output_type": "stream",
          "text": [
            "\n"
          ],
          "name": "stdout"
        }
      ]
    },
    {
      "cell_type": "code",
      "metadata": {
        "id": "pGdfgXepitIQ"
      },
      "source": [
        "sort_best_score = sorted(best_score.items(), key=lambda x: x[1], reverse=True)"
      ],
      "execution_count": 42,
      "outputs": []
    },
    {
      "cell_type": "markdown",
      "metadata": {
        "id": "KRdbYfguXkqV"
      },
      "source": [
        "# BLEU SCORE"
      ]
    },
    {
      "cell_type": "code",
      "metadata": {
        "id": "G_Fr8cmRglBR",
        "outputId": "1e5ffc6b-9212-43b0-c5b0-905e93d7ddfb",
        "colab": {
          "base_uri": "https://localhost:8080/"
        }
      },
      "source": [
        "for i in range(100):\n",
        "  print(sort_best_score[i][0], sort_best_score[i][1])"
      ],
      "execution_count": 43,
      "outputs": [
        {
          "output_type": "stream",
          "text": [
            "55 0.8633400213704505\n",
            "119 0.8633400213704505\n",
            "108 0.6606328636027614\n",
            "46 0.6032482383565995\n",
            "80 0.5969491792019646\n",
            "130 0.570282226440554\n",
            "26 0.4548019047027907\n",
            "12 0.43167001068522526\n",
            "13 0.43167001068522526\n",
            "110 0.43167001068522526\n",
            "112 0.43167001068522526\n",
            "125 0.43167001068522526\n",
            "28 0.42818185319516083\n",
            "0 0.393884992777205\n",
            "129 0.3934995962231127\n",
            "11 0.392814650900513\n",
            "53 0.392814650900513\n",
            "61 0.3893181523576895\n",
            "134 0.38498150077635496\n",
            "54 0.38095304346290776\n",
            "67 0.3807134866446316\n",
            "10 0.360056585428503\n",
            "115 0.360056585428503\n",
            "48 0.3549481056010053\n",
            "88 0.3521998780372244\n",
            "101 0.34846944887433073\n",
            "4 0.3310878611259884\n",
            "18 0.3258798048281462\n",
            "7 0.3206576286528781\n",
            "102 0.31569611706824424\n",
            "92 0.31312356650271234\n",
            "97 0.31312356650271234\n",
            "103 0.31312356650271234\n",
            "128 0.31312356650271234\n",
            "132 0.30483335667394\n",
            "123 0.301164459337964\n",
            "21 0.28807456767504735\n",
            "23 0.28684188448849735\n",
            "25 0.28684188448849735\n",
            "39 0.28684188448849735\n",
            "75 0.28684188448849735\n",
            "79 0.28684188448849735\n",
            "113 0.28684188448849735\n",
            "133 0.28684188448849735\n",
            "118 0.28650723815426243\n",
            "87 0.28145006032744296\n",
            "37 0.28012362176895805\n",
            "56 0.2790159393585827\n",
            "71 0.2790159393585827\n",
            "43 0.2784931874429588\n",
            "5 0.27323755823222096\n",
            "124 0.26824982050388396\n",
            "63 0.2667622194254959\n",
            "16 0.26385980660916253\n",
            "20 0.2630501434025343\n",
            "86 0.2620796772330101\n",
            "82 0.2591909015430299\n",
            "109 0.25916711346124927\n",
            "104 0.2572013901952304\n",
            "106 0.2571617277192737\n",
            "122 0.2539372741287818\n",
            "47 0.25275756019527384\n",
            "1 0.24435718535490406\n",
            "91 0.24022458822956688\n",
            "96 0.23796564142073365\n",
            "17 0.2355549493734042\n",
            "105 0.23447772819736\n",
            "30 0.23430351561914084\n",
            "116 0.23363495449621072\n",
            "27 0.23287896954139942\n",
            "76 0.22741221234802106\n",
            "65 0.22696247869490327\n",
            "121 0.22527135786968613\n",
            "8 0.22277411682906492\n",
            "15 0.22277411682906492\n",
            "59 0.22197111016987706\n",
            "89 0.22141179722338475\n",
            "126 0.2152959298672331\n",
            "57 0.2130484964540072\n",
            "52 0.21099261895175328\n",
            "93 0.2100764814243859\n",
            "22 0.20971578714271888\n",
            "50 0.20731467560330663\n",
            "44 0.2044800736021839\n",
            "74 0.20122993930116373\n",
            "34 0.19953087735062713\n",
            "51 0.19913749124569236\n",
            "107 0.19694692641710707\n",
            "14 0.1969244213551724\n",
            "69 0.1969244213551724\n",
            "32 0.19280335295279522\n",
            "111 0.18693159143202892\n",
            "81 0.18665471083173696\n",
            "90 0.18665471083173696\n",
            "66 0.18586502462067778\n",
            "49 0.18557819854739144\n",
            "98 0.18391739091431492\n",
            "40 0.17891824483308585\n",
            "3 0.17445195156993135\n",
            "77 0.1738454941294607\n"
          ],
          "name": "stdout"
        }
      ]
    },
    {
      "cell_type": "code",
      "metadata": {
        "id": "ykvavi2yubU6",
        "outputId": "c98bf6e7-0162-4bcb-b67a-d6df2679421c",
        "colab": {
          "base_uri": "https://localhost:8080/",
          "height": 305
        }
      },
      "source": [
        "print(caption_test[0])\n",
        "plt.imshow(image_test[0])"
      ],
      "execution_count": 44,
      "outputs": [
        {
          "output_type": "stream",
          "text": [
            "deca-4,6-diene\n"
          ],
          "name": "stdout"
        },
        {
          "output_type": "execute_result",
          "data": {
            "text/plain": [
              "<matplotlib.image.AxesImage at 0x7fe7a48a48d0>"
            ]
          },
          "metadata": {
            "tags": []
          },
          "execution_count": 44
        },
        {
          "output_type": "display_data",
          "data": {
            "image/png": "[encoded data removed]",
            "text/plain": [
              "<Figure size 432x288 with 1 Axes>"
            ]
          },
          "metadata": {
            "tags": [],
            "needs_background": "light"
          }
        }
      ]
    },
    {
      "cell_type": "code",
      "metadata": {
        "id": "K0A6xXn8jXvn",
        "outputId": "4ebc2c3e-1740-41c8-9ea8-0cfe770e334f",
        "colab": {
          "base_uri": "https://localhost:8080/",
          "height": 1000
        }
      },
      "source": [
        "# captions on the validation set\n",
        "result, attention_plot = evaluate(image_test[19], max_length_test)\n",
        "\n",
        "print ('Real Caption:', caption_test[19])\n",
        "print ('Prediction Caption:', ''.join(result[:-1]))\n",
        "plt.imshow(image_test[19])\n",
        "plt.show()\n",
        "plot_attention(image_test[19], result, attention_plot)\n"
      ],
      "execution_count": 45,
      "outputs": [
        {
          "output_type": "stream",
          "text": [
            "Real Caption: N-(2-hydroxyethyl)dodecanamide\n",
            "Prediction Caption: hexanamide\n"
          ],
          "name": "stdout"
        },
        {
          "output_type": "display_data",
          "data": {
            "image/png": "[encoded data removed]",
            "text/plain": [
              "<Figure size 432x288 with 1 Axes>"
            ]
          },
          "metadata": {
            "tags": [],
            "needs_background": "light"
          }
        },
        {
          "output_type": "display_data",
          "data": {
            "image/png": "[encoded data removed]",
            "text/plain": [
              "<Figure size 720x720 with 4 Axes>"
            ]
          },
          "metadata": {
            "tags": [],
            "needs_background": "light"
          }
        }
      ]
    },
    {
      "cell_type": "code",
      "metadata": {
        "id": "F2VqchWGkIj_",
        "outputId": "aebc564b-9508-4c01-b898-a9287503feed",
        "colab": {
          "base_uri": "https://localhost:8080/",
          "height": 631
        }
      },
      "source": [
        "# captions on the validation set\n",
        "result, attention_plot = evaluate(image_test[25], max_length_test)\n",
        "\n",
        "print ('Real Caption:', caption_test[25])\n",
        "print ('Prediction Caption:', ''.join(result[:-1]))\n",
        "plt.imshow(image_test[25])\n",
        "plt.show()\n",
        "plot_attention(image_test[25], result, attention_plot)\n"
      ],
      "execution_count": 46,
      "outputs": [
        {
          "output_type": "stream",
          "text": [
            "Real Caption: nona-1,3-diene\n",
            "Prediction Caption: octa-2,4-diene\n"
          ],
          "name": "stdout"
        },
        {
          "output_type": "display_data",
          "data": {
            "image/png": "[encoded data removed]",
            "text/plain": [
              "<Figure size 432x288 with 1 Axes>"
            ]
          },
          "metadata": {
            "tags": [],
            "needs_background": "light"
          }
        },
        {
          "output_type": "display_data",
          "data": {
            "image/png": "[encoded data removed]",
            "text/plain": [
              "<Figure size 720x720 with 10 Axes>"
            ]
          },
          "metadata": {
            "tags": [],
            "needs_background": "light"
          }
        }
      ]
    },
    {
      "cell_type": "code",
      "metadata": {
        "id": "ie0KAl7UkM5A",
        "outputId": "f59a6251-5b87-4118-d00a-165eb7185fbb",
        "colab": {
          "base_uri": "https://localhost:8080/",
          "height": 539
        }
      },
      "source": [
        "# captions on the validation set\n",
        "result, attention_plot = evaluate(image_train[98], max_length_train)\n",
        "\n",
        "print ('Real Caption:', caption_train[98])\n",
        "print ('Prediction Caption:', ''.join(result[:-1]))\n",
        "plt.imshow(image_train[98])\n",
        "plt.show()\n",
        "plot_attention(image_train[98], result, attention_plot)\n"
      ],
      "execution_count": 47,
      "outputs": [
        {
          "output_type": "stream",
          "text": [
            "Real Caption: 2,3-dihydro-1,4-benzodioxine-3-carboxylic acid\n",
            "Prediction Caption: 2-methyl-4-methyl-4-methyl-1,4-benzodioxine\n"
          ],
          "name": "stdout"
        },
        {
          "output_type": "display_data",
          "data": {
            "image/png": "[encoded data removed]",
            "text/plain": [
              "<Figure size 432x288 with 1 Axes>"
            ]
          },
          "metadata": {
            "tags": [],
            "needs_background": "light"
          }
        },
        {
          "output_type": "display_data",
          "data": {
            "image/png": "[encoded data removed]",
            "text/plain": [
              "<Figure size 720x720 with 23 Axes>"
            ]
          },
          "metadata": {
            "tags": [],
            "needs_background": "light"
          }
        }
      ]
    },
    {
      "cell_type": "code",
      "metadata": {
        "id": "oHKTc464fv-Q",
        "outputId": "e6ae130d-b5e0-4060-c1ec-1885bcede579",
        "colab": {
          "base_uri": "https://localhost:8080/",
          "height": 287
        }
      },
      "source": [
        "plt.imshow(image_train[0,:,:,0], cmap='gray')"
      ],
      "execution_count": 48,
      "outputs": [
        {
          "output_type": "execute_result",
          "data": {
            "text/plain": [
              "<matplotlib.image.AxesImage at 0x7fe7a3bbacf8>"
            ]
          },
          "metadata": {
            "tags": []
          },
          "execution_count": 48
        },
        {
          "output_type": "display_data",
          "data": {
            "image/png": "[encoded data removed]",
            "text/plain": [
              "<Figure size 432x288 with 1 Axes>"
            ]
          },
          "metadata": {
            "tags": [],
            "needs_background": "light"
          }
        }
      ]
    },
    {
      "cell_type": "code",
      "metadata": {
        "id": "70FEtZlMkPVu",
        "outputId": "a44263ae-10eb-4648-cb26-e9c21e078fa5",
        "colab": {
          "base_uri": "https://localhost:8080/",
          "height": 1000
        }
      },
      "source": [
        "# captions on the validation set\n",
        "result, attention_plot = evaluate(image_test[100], max_length_test)\n",
        "\n",
        "print ('Real Caption:', caption_test[100])\n",
        "print ('Prediction Caption:', ''.join(result[:-1]))\n",
        "plt.imshow(image_test[100])\n",
        "plt.show()\n",
        "plot_attention(image_test[100], result, attention_plot)\n"
      ],
      "execution_count": 49,
      "outputs": [
        {
          "output_type": "stream",
          "text": [
            "Real Caption: cycloheptene\n",
            "Prediction Caption: benzene\n"
          ],
          "name": "stdout"
        },
        {
          "output_type": "display_data",
          "data": {
            "image/png": "[encoded data removed]",
            "text/plain": [
              "<Figure size 432x288 with 1 Axes>"
            ]
          },
          "metadata": {
            "tags": [],
            "needs_background": "light"
          }
        },
        {
          "output_type": "error",
          "ename": "ValueError",
          "evalue": "ignored",
          "traceback": [
            "\u001b[0;31m---------------------------------------------------------------------------\u001b[0m",
            "\u001b[0;31mValueError\u001b[0m                                Traceback (most recent call last)",
            "\u001b[0;32m<ipython-input-49-9ec382cc9592>\u001b[0m in \u001b[0;36m<module>\u001b[0;34m()\u001b[0m\n\u001b[1;32m      6\u001b[0m \u001b[0mplt\u001b[0m\u001b[0;34m.\u001b[0m\u001b[0mimshow\u001b[0m\u001b[0;34m(\u001b[0m\u001b[0mimage_test\u001b[0m\u001b[0;34m[\u001b[0m\u001b[0;36m100\u001b[0m\u001b[0;34m]\u001b[0m\u001b[0;34m)\u001b[0m\u001b[0;34m\u001b[0m\u001b[0;34m\u001b[0m\u001b[0m\n\u001b[1;32m      7\u001b[0m \u001b[0mplt\u001b[0m\u001b[0;34m.\u001b[0m\u001b[0mshow\u001b[0m\u001b[0;34m(\u001b[0m\u001b[0;34m)\u001b[0m\u001b[0;34m\u001b[0m\u001b[0;34m\u001b[0m\u001b[0m\n\u001b[0;32m----> 8\u001b[0;31m \u001b[0mplot_attention\u001b[0m\u001b[0;34m(\u001b[0m\u001b[0mimage_test\u001b[0m\u001b[0;34m[\u001b[0m\u001b[0;36m100\u001b[0m\u001b[0;34m]\u001b[0m\u001b[0;34m,\u001b[0m \u001b[0mresult\u001b[0m\u001b[0;34m,\u001b[0m \u001b[0mattention_plot\u001b[0m\u001b[0;34m)\u001b[0m\u001b[0;34m\u001b[0m\u001b[0;34m\u001b[0m\u001b[0m\n\u001b[0m",
            "\u001b[0;32m<ipython-input-37-18e8a6153e0f>\u001b[0m in \u001b[0;36mplot_attention\u001b[0;34m(image, result, attention_plot)\u001b[0m\n\u001b[1;32m      6\u001b[0m     \u001b[0;32mfor\u001b[0m \u001b[0ml\u001b[0m \u001b[0;32min\u001b[0m \u001b[0mrange\u001b[0m\u001b[0;34m(\u001b[0m\u001b[0mlen_result\u001b[0m\u001b[0;34m)\u001b[0m\u001b[0;34m:\u001b[0m\u001b[0;34m\u001b[0m\u001b[0;34m\u001b[0m\u001b[0m\n\u001b[1;32m      7\u001b[0m         \u001b[0mtemp_att\u001b[0m \u001b[0;34m=\u001b[0m \u001b[0mnp\u001b[0m\u001b[0;34m.\u001b[0m\u001b[0mresize\u001b[0m\u001b[0;34m(\u001b[0m\u001b[0mattention_plot\u001b[0m\u001b[0;34m[\u001b[0m\u001b[0ml\u001b[0m\u001b[0;34m]\u001b[0m\u001b[0;34m,\u001b[0m \u001b[0;34m(\u001b[0m\u001b[0;36m8\u001b[0m\u001b[0;34m,\u001b[0m \u001b[0;36m8\u001b[0m\u001b[0;34m)\u001b[0m\u001b[0;34m)\u001b[0m\u001b[0;34m\u001b[0m\u001b[0;34m\u001b[0m\u001b[0m\n\u001b[0;32m----> 8\u001b[0;31m         \u001b[0max\u001b[0m \u001b[0;34m=\u001b[0m \u001b[0mfig\u001b[0m\u001b[0;34m.\u001b[0m\u001b[0madd_subplot\u001b[0m\u001b[0;34m(\u001b[0m\u001b[0mlen_result\u001b[0m\u001b[0;34m//\u001b[0m\u001b[0;36m2\u001b[0m\u001b[0;34m,\u001b[0m \u001b[0mlen_result\u001b[0m\u001b[0;34m//\u001b[0m\u001b[0;36m2\u001b[0m\u001b[0;34m,\u001b[0m \u001b[0ml\u001b[0m\u001b[0;34m+\u001b[0m\u001b[0;36m1\u001b[0m\u001b[0;34m)\u001b[0m\u001b[0;34m\u001b[0m\u001b[0;34m\u001b[0m\u001b[0m\n\u001b[0m\u001b[1;32m      9\u001b[0m         \u001b[0max\u001b[0m\u001b[0;34m.\u001b[0m\u001b[0mset_title\u001b[0m\u001b[0;34m(\u001b[0m\u001b[0mresult\u001b[0m\u001b[0;34m[\u001b[0m\u001b[0ml\u001b[0m\u001b[0;34m]\u001b[0m\u001b[0;34m)\u001b[0m\u001b[0;34m\u001b[0m\u001b[0;34m\u001b[0m\u001b[0m\n\u001b[1;32m     10\u001b[0m         \u001b[0mimg\u001b[0m \u001b[0;34m=\u001b[0m \u001b[0max\u001b[0m\u001b[0;34m.\u001b[0m\u001b[0mimshow\u001b[0m\u001b[0;34m(\u001b[0m\u001b[0mimage\u001b[0m\u001b[0;34m)\u001b[0m\u001b[0;34m\u001b[0m\u001b[0;34m\u001b[0m\u001b[0m\n",
            "\u001b[0;32m/usr/local/lib/python3.6/dist-packages/matplotlib/figure.py\u001b[0m in \u001b[0;36madd_subplot\u001b[0;34m(self, *args, **kwargs)\u001b[0m\n\u001b[1;32m   1417\u001b[0m                     \u001b[0mself\u001b[0m\u001b[0;34m.\u001b[0m\u001b[0m_axstack\u001b[0m\u001b[0;34m.\u001b[0m\u001b[0mremove\u001b[0m\u001b[0;34m(\u001b[0m\u001b[0max\u001b[0m\u001b[0;34m)\u001b[0m\u001b[0;34m\u001b[0m\u001b[0;34m\u001b[0m\u001b[0m\n\u001b[1;32m   1418\u001b[0m \u001b[0;34m\u001b[0m\u001b[0m\n\u001b[0;32m-> 1419\u001b[0;31m             \u001b[0ma\u001b[0m \u001b[0;34m=\u001b[0m \u001b[0msubplot_class_factory\u001b[0m\u001b[0;34m(\u001b[0m\u001b[0mprojection_class\u001b[0m\u001b[0;34m)\u001b[0m\u001b[0;34m(\u001b[0m\u001b[0mself\u001b[0m\u001b[0;34m,\u001b[0m \u001b[0;34m*\u001b[0m\u001b[0margs\u001b[0m\u001b[0;34m,\u001b[0m \u001b[0;34m**\u001b[0m\u001b[0mkwargs\u001b[0m\u001b[0;34m)\u001b[0m\u001b[0;34m\u001b[0m\u001b[0;34m\u001b[0m\u001b[0m\n\u001b[0m\u001b[1;32m   1420\u001b[0m \u001b[0;34m\u001b[0m\u001b[0m\n\u001b[1;32m   1421\u001b[0m         \u001b[0;32mreturn\u001b[0m \u001b[0mself\u001b[0m\u001b[0;34m.\u001b[0m\u001b[0m_add_axes_internal\u001b[0m\u001b[0;34m(\u001b[0m\u001b[0mkey\u001b[0m\u001b[0;34m,\u001b[0m \u001b[0ma\u001b[0m\u001b[0;34m)\u001b[0m\u001b[0;34m\u001b[0m\u001b[0;34m\u001b[0m\u001b[0m\n",
            "\u001b[0;32m/usr/local/lib/python3.6/dist-packages/matplotlib/axes/_subplots.py\u001b[0m in \u001b[0;36m__init__\u001b[0;34m(self, fig, *args, **kwargs)\u001b[0m\n\u001b[1;32m     64\u001b[0m                 \u001b[0;32mif\u001b[0m \u001b[0mnum\u001b[0m \u001b[0;34m<\u001b[0m \u001b[0;36m1\u001b[0m \u001b[0;32mor\u001b[0m \u001b[0mnum\u001b[0m \u001b[0;34m>\u001b[0m \u001b[0mrows\u001b[0m\u001b[0;34m*\u001b[0m\u001b[0mcols\u001b[0m\u001b[0;34m:\u001b[0m\u001b[0;34m\u001b[0m\u001b[0;34m\u001b[0m\u001b[0m\n\u001b[1;32m     65\u001b[0m                     raise ValueError(\n\u001b[0;32m---> 66\u001b[0;31m                         f\"num must be 1 <= num <= {rows*cols}, not {num}\")\n\u001b[0m\u001b[1;32m     67\u001b[0m                 self._subplotspec = GridSpec(\n\u001b[1;32m     68\u001b[0m                         rows, cols, figure=self.figure)[int(num) - 1]\n",
            "\u001b[0;31mValueError\u001b[0m: num must be 1 <= num <= 1, not 2"
          ]
        },
        {
          "output_type": "display_data",
          "data": {
            "image/png": "[encoded data removed]",
            "text/plain": [
              "<Figure size 720x720 with 1 Axes>"
            ]
          },
          "metadata": {
            "tags": [],
            "needs_background": "light"
          }
        }
      ]
    }
  ]
}