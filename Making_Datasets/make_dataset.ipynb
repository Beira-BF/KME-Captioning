{
 "cells": [
  {
   "cell_type": "code",
   "execution_count": 8,
   "metadata": {},
   "outputs": [],
   "source": [
    "import pandas as pd\n",
    "import numpy as np\n",
    "import json"
   ]
  },
  {
   "cell_type": "code",
   "execution_count": 9,
   "metadata": {},
   "outputs": [],
   "source": [
    "arr_iupac_name = []\n",
    "with open('database/Dict_segment.json') as f1:\n",
    "  d = json.load(f1)\n",
    "  for key in d.keys():\n",
    "    arr_iupac_name = np.concatenate((arr_iupac_name, d[key]))\n",
    "\n",
    "arr_cid = []\n",
    "with open('database/Dict_segment_cid.json') as f1:\n",
    "  d = json.load(f1)\n",
    "  for key in d.keys():\n",
    "    arr_cid = np.concatenate((arr_cid, d[key]))\n",
    "  arr_cid = arr_cid.astype(np.uint8)\n",
    "\n",
    "arr_iupac_cut = []\n",
    "with open('database/Dict_segment_cut.json') as f1:\n",
    "  d = json.load(f1)\n",
    "  for key in d.keys():\n",
    "    arr_iupac_cut = np.concatenate((arr_iupac_cut, d[key]))"
   ]
  },
  {
   "cell_type": "code",
   "execution_count": 10,
   "metadata": {},
   "outputs": [
    {
     "name": "stdout",
     "output_type": "stream",
     "text": [
      "(8200,) ['(2S)-2-[(4-hydroxyphenyl)methyl]-3-methylidenepent-4-enoic acid'\n",
      " '[4-(carboxymethyl)phenyl]oxidanium']\n",
      "(8200,) ['(|2|S)|-|2|-|[|(|4|-|hydroxy|phen|yl|)|meth|yl|]|-|3|-|meth|yl|idene|pent|-|4|-|en|oic acid'\n",
      " '[|4|-|(|carboxy|meth|yl|)|phen|yl|]|oxidanium']\n",
      "(8200,) [154546822 154550731]\n"
     ]
    }
   ],
   "source": [
    "import os\n",
    "dir_iupac_name = 'database/iupac_name/'\n",
    "dir_iupac_cut = 'database/iupac_cut/'\n",
    "dir_cid = 'database/cid/'\n",
    "\n",
    "for file in os.listdir(dir_iupac_name):\n",
    "  with open(dir_iupac_name+file, 'r') as f:\n",
    "    d = json.load(f)\n",
    "  arr_iupac_name = np.concatenate((arr_iupac_name, d['values']))\n",
    "print(arr_iupac_name.shape, arr_iupac_name[-2:])\n",
    "\n",
    "for file in os.listdir(dir_iupac_cut):\n",
    "  with open(dir_iupac_cut+file, 'r') as f:\n",
    "    d = json.load(f)\n",
    "  arr_iupac_cut = np.concatenate((arr_iupac_cut, d['values']))\n",
    "print(arr_iupac_cut.shape, arr_iupac_cut[-2:])\n",
    "\n",
    "for file in os.listdir(dir_cid):\n",
    "  with open(dir_cid+file, 'r') as f:\n",
    "    d = json.load(f)\n",
    "  arr_cid = np.concatenate((arr_cid, d['values']))\n",
    "print(arr_cid.shape, arr_cid[-2:])"
   ]
  },
  {
   "cell_type": "code",
   "execution_count": 11,
   "metadata": {},
   "outputs": [],
   "source": [
    "df = pd.DataFrame(list(zip(arr_cid, arr_iupac_name, arr_iupac_cut)), columns=['cid', 'iupacname', 'label'])"
   ]
  },
  {
   "cell_type": "code",
   "execution_count": 12,
   "metadata": {},
   "outputs": [
    {
     "name": "stdout",
     "output_type": "stream",
     "text": [
      "<class 'pandas.core.frame.DataFrame'>\n",
      "RangeIndex: 8200 entries, 0 to 8199\n",
      "Data columns (total 3 columns):\n",
      " #   Column     Non-Null Count  Dtype \n",
      "---  ------     --------------  ----- \n",
      " 0   cid        8200 non-null   int64 \n",
      " 1   iupacname  8200 non-null   object\n",
      " 2   label      8200 non-null   object\n",
      "dtypes: int64(1), object(2)\n",
      "memory usage: 192.3+ KB\n"
     ]
    }
   ],
   "source": [
    "df.info()"
   ]
  },
  {
   "cell_type": "code",
   "execution_count": 13,
   "metadata": {},
   "outputs": [
    {
     "data": {
      "text/html": "<div>\n<style scoped>\n    .dataframe tbody tr th:only-of-type {\n        vertical-align: middle;\n    }\n\n    .dataframe tbody tr th {\n        vertical-align: top;\n    }\n\n    .dataframe thead th {\n        text-align: right;\n    }\n</style>\n<table border=\"1\" class=\"dataframe\">\n  <thead>\n    <tr style=\"text-align: right;\">\n      <th></th>\n      <th>cid</th>\n      <th>iupacname</th>\n      <th>label</th>\n    </tr>\n  </thead>\n  <tbody>\n    <tr>\n      <th>8195</th>\n      <td>154262256</td>\n      <td>1-(4-hydroxyphenyl)heptan-3-one</td>\n      <td>1|-|(|4|-|hydroxy|phen|yl|)|hept|an|-|3|-|one</td>\n    </tr>\n    <tr>\n      <th>8196</th>\n      <td>154265009</td>\n      <td>3-(4-hydroxyphenyl)-2-silyloxypropanoate</td>\n      <td>3|-|(|4|-|hydroxy|phen|yl|)|-|2|-|silyloxy|pro...</td>\n    </tr>\n    <tr>\n      <th>8197</th>\n      <td>154364721</td>\n      <td>8-(4-hydroxyphenyl)octanoate</td>\n      <td>8|-|(|4|-|hydroxy|phen|yl|)|oct|an|oate</td>\n    </tr>\n    <tr>\n      <th>8198</th>\n      <td>154546822</td>\n      <td>(2S)-2-[(4-hydroxyphenyl)methyl]-3-methylidene...</td>\n      <td>(|2|S)|-|2|-|[|(|4|-|hydroxy|phen|yl|)|meth|yl...</td>\n    </tr>\n    <tr>\n      <th>8199</th>\n      <td>154550731</td>\n      <td>[4-(carboxymethyl)phenyl]oxidanium</td>\n      <td>[|4|-|(|carboxy|meth|yl|)|phen|yl|]|oxidanium</td>\n    </tr>\n  </tbody>\n</table>\n</div>",
      "text/plain": "            cid                                          iupacname  \\\n8195  154262256                    1-(4-hydroxyphenyl)heptan-3-one   \n8196  154265009           3-(4-hydroxyphenyl)-2-silyloxypropanoate   \n8197  154364721                       8-(4-hydroxyphenyl)octanoate   \n8198  154546822  (2S)-2-[(4-hydroxyphenyl)methyl]-3-methylidene...   \n8199  154550731                 [4-(carboxymethyl)phenyl]oxidanium   \n\n                                                  label  \n8195      1|-|(|4|-|hydroxy|phen|yl|)|hept|an|-|3|-|one  \n8196  3|-|(|4|-|hydroxy|phen|yl|)|-|2|-|silyloxy|pro...  \n8197            8|-|(|4|-|hydroxy|phen|yl|)|oct|an|oate  \n8198  (|2|S)|-|2|-|[|(|4|-|hydroxy|phen|yl|)|meth|yl...  \n8199      [|4|-|(|carboxy|meth|yl|)|phen|yl|]|oxidanium  "
     },
     "execution_count": 13,
     "metadata": {},
     "output_type": "execute_result"
    }
   ],
   "source": [
    "df.tail()"
   ]
  },
  {
   "cell_type": "code",
   "execution_count": 14,
   "metadata": {},
   "outputs": [],
   "source": [
    "from sklearn.model_selection import train_test_split\n",
    "\n",
    "train_df, all_val_df = train_test_split(df, test_size = 0.3, shuffle = True)\n",
    "\n",
    "val_df, test_df = train_test_split(all_val_df, test_size = 0.5, shuffle = True)\n",
    "\n",
    "# Train 70, Val 15, Test 15"
   ]
  },
  {
   "cell_type": "code",
   "execution_count": 15,
   "metadata": {},
   "outputs": [
    {
     "name": "stdout",
     "output_type": "stream",
     "text": [
      "5740 1230 1230\n"
     ]
    }
   ],
   "source": [
    "print(len(train_df), len(val_df), len(test_df))"
   ]
  },
  {
   "cell_type": "code",
   "execution_count": 16,
   "metadata": {},
   "outputs": [
    {
     "data": {
      "text/html": "<div>\n<style scoped>\n    .dataframe tbody tr th:only-of-type {\n        vertical-align: middle;\n    }\n\n    .dataframe tbody tr th {\n        vertical-align: top;\n    }\n\n    .dataframe thead th {\n        text-align: right;\n    }\n</style>\n<table border=\"1\" class=\"dataframe\">\n  <thead>\n    <tr style=\"text-align: right;\">\n      <th></th>\n      <th>cid</th>\n      <th>iupacname</th>\n      <th>label</th>\n    </tr>\n  </thead>\n  <tbody>\n    <tr>\n      <th>7088</th>\n      <td>135185445</td>\n      <td>(E)-3-(5-hydroxy-6-methoxypyridin-2-yl)prop-2-...</td>\n      <td>(|E|)|-|3|-|(|5|-|hydroxy|-|6|-|meth|oxy|pyrid...</td>\n    </tr>\n    <tr>\n      <th>254</th>\n      <td>122</td>\n      <td>octa-1,3-diyne</td>\n      <td>oct|a|-|1|,|3|-|di|yne</td>\n    </tr>\n    <tr>\n      <th>7411</th>\n      <td>140252542</td>\n      <td>2-(7-oxabicyclo[2.2.1]hept-2-ene-1-carbonyloxy...</td>\n      <td>2|-|(|7|-|oxa|bicyclo|[|2.2|.1|]|hept|-|2|-|en...</td>\n    </tr>\n    <tr>\n      <th>853</th>\n      <td>101</td>\n      <td>4-(carboxymethyl)benzoic acid</td>\n      <td>4|-|(|carboxy|meth|yl|)|benz|oic acid</td>\n    </tr>\n    <tr>\n      <th>5600</th>\n      <td>64981906</td>\n      <td>1-[(3-methylphenyl)methyl]cyclopropane-1-carbo...</td>\n      <td>1|-|[|(|3|-|meth|yl|phen|yl|)|meth|yl|]|cyclo|...</td>\n    </tr>\n  </tbody>\n</table>\n</div>",
      "text/plain": "            cid                                          iupacname  \\\n7088  135185445  (E)-3-(5-hydroxy-6-methoxypyridin-2-yl)prop-2-...   \n254         122                                     octa-1,3-diyne   \n7411  140252542  2-(7-oxabicyclo[2.2.1]hept-2-ene-1-carbonyloxy...   \n853         101                      4-(carboxymethyl)benzoic acid   \n5600   64981906  1-[(3-methylphenyl)methyl]cyclopropane-1-carbo...   \n\n                                                  label  \n7088  (|E|)|-|3|-|(|5|-|hydroxy|-|6|-|meth|oxy|pyrid...  \n254                              oct|a|-|1|,|3|-|di|yne  \n7411  2|-|(|7|-|oxa|bicyclo|[|2.2|.1|]|hept|-|2|-|en...  \n853               4|-|(|carboxy|meth|yl|)|benz|oic acid  \n5600  1|-|[|(|3|-|meth|yl|phen|yl|)|meth|yl|]|cyclo|...  "
     },
     "execution_count": 16,
     "metadata": {},
     "output_type": "execute_result"
    }
   ],
   "source": [
    "train_df.head()"
   ]
  },
  {
   "cell_type": "code",
   "execution_count": 17,
   "metadata": {},
   "outputs": [],
   "source": [
    "train_df.to_csv('dataframe/df_train.csv', index=False)\n",
    "val_df.to_csv('dataframe/df_val.csv', index=False)\n",
    "test_df.to_csv('dataframe/df_test.csv', index=False)"
   ]
  },
  {
   "cell_type": "code",
   "execution_count": 18,
   "metadata": {},
   "outputs": [],
   "source": [
    " np.savetxt(\"cid.txt\", arr_cid, fmt=\"%s\")"
   ]
  },
  {
   "cell_type": "code",
   "execution_count": 21,
   "metadata": {},
   "outputs": [
    {
     "data": {
      "text/html": "<div>\n<style scoped>\n    .dataframe tbody tr th:only-of-type {\n        vertical-align: middle;\n    }\n\n    .dataframe tbody tr th {\n        vertical-align: top;\n    }\n\n    .dataframe thead th {\n        text-align: right;\n    }\n</style>\n<table border=\"1\" class=\"dataframe\">\n  <thead>\n    <tr style=\"text-align: right;\">\n      <th></th>\n      <th>cid</th>\n      <th>iupacname</th>\n      <th>label</th>\n    </tr>\n  </thead>\n  <tbody>\n    <tr>\n      <th>0</th>\n      <td>135185445</td>\n      <td>(E)-3-(5-hydroxy-6-methoxypyridin-2-yl)prop-2-...</td>\n      <td>(|E|)|-|3|-|(|5|-|hydroxy|-|6|-|meth|oxy|pyrid...</td>\n    </tr>\n    <tr>\n      <th>1</th>\n      <td>122</td>\n      <td>octa-1,3-diyne</td>\n      <td>oct|a|-|1|,|3|-|di|yne</td>\n    </tr>\n    <tr>\n      <th>2</th>\n      <td>140252542</td>\n      <td>2-(7-oxabicyclo[2.2.1]hept-2-ene-1-carbonyloxy...</td>\n      <td>2|-|(|7|-|oxa|bicyclo|[|2.2|.1|]|hept|-|2|-|en...</td>\n    </tr>\n    <tr>\n      <th>3</th>\n      <td>101</td>\n      <td>4-(carboxymethyl)benzoic acid</td>\n      <td>4|-|(|carboxy|meth|yl|)|benz|oic acid</td>\n    </tr>\n    <tr>\n      <th>4</th>\n      <td>64981906</td>\n      <td>1-[(3-methylphenyl)methyl]cyclopropane-1-carbo...</td>\n      <td>1|-|[|(|3|-|meth|yl|phen|yl|)|meth|yl|]|cyclo|...</td>\n    </tr>\n  </tbody>\n</table>\n</div>",
      "text/plain": "         cid                                          iupacname  \\\n0  135185445  (E)-3-(5-hydroxy-6-methoxypyridin-2-yl)prop-2-...   \n1        122                                     octa-1,3-diyne   \n2  140252542  2-(7-oxabicyclo[2.2.1]hept-2-ene-1-carbonyloxy...   \n3        101                      4-(carboxymethyl)benzoic acid   \n4   64981906  1-[(3-methylphenyl)methyl]cyclopropane-1-carbo...   \n\n                                               label  \n0  (|E|)|-|3|-|(|5|-|hydroxy|-|6|-|meth|oxy|pyrid...  \n1                             oct|a|-|1|,|3|-|di|yne  \n2  2|-|(|7|-|oxa|bicyclo|[|2.2|.1|]|hept|-|2|-|en...  \n3              4|-|(|carboxy|meth|yl|)|benz|oic acid  \n4  1|-|[|(|3|-|meth|yl|phen|yl|)|meth|yl|]|cyclo|...  "
     },
     "execution_count": 21,
     "metadata": {},
     "output_type": "execute_result"
    }
   ],
   "source": [
    "pd.read_csv('dataframe/df_train.csv').head()"
   ]
  }
 ],
 "metadata": {
  "kernelspec": {
   "display_name": "Python 3",
   "language": "python",
   "name": "python3"
  },
  "language_info": {
   "codemirror_mode": {
    "name": "ipython",
    "version": 3
   },
   "file_extension": ".py",
   "mimetype": "text/x-python",
   "name": "python",
   "nbconvert_exporter": "python",
   "pygments_lexer": "ipython3",
   "version": "3.8.5"
  },
  "orig_nbformat": 2
 },
 "nbformat": 4,
 "nbformat_minor": 2
}