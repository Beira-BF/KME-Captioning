{
 "cells": [
  {
   "cell_type": "code",
   "execution_count": 1,
   "metadata": {},
   "outputs": [],
   "source": [
    "import pandas as pd\n",
    "import numpy as np\n",
    "import json"
   ]
  },
  {
   "cell_type": "code",
   "execution_count": 2,
   "metadata": {},
   "outputs": [],
   "source": [
    "arr_iupac_name = []\n",
    "with open('database/Dict_segment.json') as f1:\n",
    "  d = json.load(f1)\n",
    "  for key in d.keys():\n",
    "    arr_iupac_name = np.concatenate((arr_iupac_name, d[key]))\n",
    "\n",
    "arr_cid = []\n",
    "with open('database/Dict_segment_cid.json') as f1:\n",
    "  d = json.load(f1)\n",
    "  for key in d.keys():\n",
    "    arr_cid = np.concatenate((arr_cid, d[key]))\n",
    "  arr_cid = arr_cid.astype(np.uint8)\n",
    "\n",
    "arr_iupac_cut = []\n",
    "with open('database/Dict_segment_cut.json') as f1:\n",
    "  d = json.load(f1)\n",
    "  for key in d.keys():\n",
    "    arr_iupac_cut = np.concatenate((arr_iupac_cut, d[key]))"
   ]
  },
  {
   "cell_type": "code",
   "execution_count": 3,
   "metadata": {},
   "outputs": [
    {
     "name": "stdout",
     "output_type": "stream",
     "text": [
      "(8200,) ['(2S)-2-[(4-hydroxyphenyl)methyl]-3-methylidenepent-4-enoic acid'\n",
      " '[4-(carboxymethyl)phenyl]oxidanium']\n",
      "(8200,) ['(|2|S)|-|2|-|[|(|4|-|hydroxy|phen|yl|)|meth|yl|]|-|3|-|meth|yl|idene|pent|-|4|-|en|oic acid'\n",
      " '[|4|-|(|carboxy|meth|yl|)|phen|yl|]|oxidanium']\n",
      "(8200,) [154546822 154550731]\n"
     ]
    }
   ],
   "source": [
    "import os\n",
    "dir_iupac_name = 'database/iupac_name/'\n",
    "dir_iupac_cut = 'database/iupac_cut/'\n",
    "dir_cid = 'database/cid/'\n",
    "\n",
    "for file in os.listdir(dir_iupac_name):\n",
    "  with open(dir_iupac_name+file, 'r') as f:\n",
    "    d = json.load(f)\n",
    "  arr_iupac_name = np.concatenate((arr_iupac_name, d['values']))\n",
    "print(arr_iupac_name.shape, arr_iupac_name[-2:])\n",
    "\n",
    "for file in os.listdir(dir_iupac_cut):\n",
    "  with open(dir_iupac_cut+file, 'r') as f:\n",
    "    d = json.load(f)\n",
    "  arr_iupac_cut = np.concatenate((arr_iupac_cut, d['values']))\n",
    "print(arr_iupac_cut.shape, arr_iupac_cut[-2:])\n",
    "\n",
    "for file in os.listdir(dir_cid):\n",
    "  with open(dir_cid+file, 'r') as f:\n",
    "    d = json.load(f)\n",
    "  arr_cid = np.concatenate((arr_cid, d['values']))\n",
    "print(arr_cid.shape, arr_cid[-2:])"
   ]
  },
  {
   "cell_type": "code",
   "execution_count": 4,
   "metadata": {},
   "outputs": [],
   "source": [
    "df = pd.DataFrame(list(zip(arr_cid, arr_iupac_name, arr_iupac_cut)), columns=['cid', 'iupacname', 'label'])\n",
    "df.drop_duplicates(inplace=True)"
   ]
  },
  {
   "cell_type": "code",
   "execution_count": 5,
   "metadata": {},
   "outputs": [
    {
     "name": "stdout",
     "output_type": "stream",
     "text": [
      "<class 'pandas.core.frame.DataFrame'>\n",
      "Int64Index: 8193 entries, 0 to 8199\n",
      "Data columns (total 3 columns):\n",
      " #   Column     Non-Null Count  Dtype \n",
      "---  ------     --------------  ----- \n",
      " 0   cid        8193 non-null   int64 \n",
      " 1   iupacname  8193 non-null   object\n",
      " 2   label      8193 non-null   object\n",
      "dtypes: int64(1), object(2)\n",
      "memory usage: 256.0+ KB\n"
     ]
    }
   ],
   "source": [
    "df.info()"
   ]
  },
  {
   "cell_type": "code",
   "execution_count": 6,
   "metadata": {},
   "outputs": [
    {
     "data": {
      "text/html": "<div>\n<style scoped>\n    .dataframe tbody tr th:only-of-type {\n        vertical-align: middle;\n    }\n\n    .dataframe tbody tr th {\n        vertical-align: top;\n    }\n\n    .dataframe thead th {\n        text-align: right;\n    }\n</style>\n<table border=\"1\" class=\"dataframe\">\n  <thead>\n    <tr style=\"text-align: right;\">\n      <th></th>\n      <th>cid</th>\n      <th>iupacname</th>\n      <th>label</th>\n    </tr>\n  </thead>\n  <tbody>\n    <tr>\n      <th>8195</th>\n      <td>154262256</td>\n      <td>1-(4-hydroxyphenyl)heptan-3-one</td>\n      <td>1|-|(|4|-|hydroxy|phen|yl|)|hept|an|-|3|-|one</td>\n    </tr>\n    <tr>\n      <th>8196</th>\n      <td>154265009</td>\n      <td>3-(4-hydroxyphenyl)-2-silyloxypropanoate</td>\n      <td>3|-|(|4|-|hydroxy|phen|yl|)|-|2|-|silyloxy|pro...</td>\n    </tr>\n    <tr>\n      <th>8197</th>\n      <td>154364721</td>\n      <td>8-(4-hydroxyphenyl)octanoate</td>\n      <td>8|-|(|4|-|hydroxy|phen|yl|)|oct|an|oate</td>\n    </tr>\n    <tr>\n      <th>8198</th>\n      <td>154546822</td>\n      <td>(2S)-2-[(4-hydroxyphenyl)methyl]-3-methylidene...</td>\n      <td>(|2|S)|-|2|-|[|(|4|-|hydroxy|phen|yl|)|meth|yl...</td>\n    </tr>\n    <tr>\n      <th>8199</th>\n      <td>154550731</td>\n      <td>[4-(carboxymethyl)phenyl]oxidanium</td>\n      <td>[|4|-|(|carboxy|meth|yl|)|phen|yl|]|oxidanium</td>\n    </tr>\n  </tbody>\n</table>\n</div>",
      "text/plain": "            cid                                          iupacname  \\\n8195  154262256                    1-(4-hydroxyphenyl)heptan-3-one   \n8196  154265009           3-(4-hydroxyphenyl)-2-silyloxypropanoate   \n8197  154364721                       8-(4-hydroxyphenyl)octanoate   \n8198  154546822  (2S)-2-[(4-hydroxyphenyl)methyl]-3-methylidene...   \n8199  154550731                 [4-(carboxymethyl)phenyl]oxidanium   \n\n                                                  label  \n8195      1|-|(|4|-|hydroxy|phen|yl|)|hept|an|-|3|-|one  \n8196  3|-|(|4|-|hydroxy|phen|yl|)|-|2|-|silyloxy|pro...  \n8197            8|-|(|4|-|hydroxy|phen|yl|)|oct|an|oate  \n8198  (|2|S)|-|2|-|[|(|4|-|hydroxy|phen|yl|)|meth|yl...  \n8199      [|4|-|(|carboxy|meth|yl|)|phen|yl|]|oxidanium  "
     },
     "execution_count": 6,
     "metadata": {},
     "output_type": "execute_result"
    }
   ],
   "source": [
    "df.tail()"
   ]
  },
  {
   "cell_type": "code",
   "execution_count": 7,
   "metadata": {},
   "outputs": [],
   "source": [
    "from sklearn.model_selection import train_test_split\n",
    "\n",
    "train_df, all_val_df = train_test_split(df, test_size = 0.3, shuffle = True)\n",
    "\n",
    "val_df, test_df = train_test_split(all_val_df, test_size = 0.5, shuffle = True)\n",
    "\n",
    "# Train 70, Val 15, Test 15"
   ]
  },
  {
   "cell_type": "code",
   "execution_count": 8,
   "metadata": {},
   "outputs": [
    {
     "name": "stdout",
     "output_type": "stream",
     "text": [
      "5735 1229 1229\n"
     ]
    }
   ],
   "source": [
    "print(len(train_df), len(val_df), len(test_df))"
   ]
  },
  {
   "cell_type": "code",
   "execution_count": 9,
   "metadata": {},
   "outputs": [],
   "source": [
    "train_df.reset_index(inplace=True)\n",
    "val_df.reset_index(inplace=True)\n",
    "test_df.reset_index(inplace=True)"
   ]
  },
  {
   "cell_type": "code",
   "execution_count": 10,
   "metadata": {},
   "outputs": [],
   "source": [
    "train_df['file_names'] = train_df['cid'].astype(str)+'.png'\n",
    "val_df['file_names'] = val_df['cid'].astype(str)+'.png'\n",
    "test_df['file_names'] = test_df['cid'].astype(str)+'.png'"
   ]
  },
  {
   "cell_type": "code",
   "execution_count": 11,
   "metadata": {},
   "outputs": [],
   "source": [
    "train_df.to_csv('dataframe/df_train.csv', index=False)\n",
    "val_df.to_csv('dataframe/df_val.csv', index=False)\n",
    "test_df.to_csv('dataframe/df_test.csv', index=False)"
   ]
  },
  {
   "cell_type": "code",
   "execution_count": 12,
   "metadata": {},
   "outputs": [],
   "source": [
    " np.savetxt(\"cid.txt\", arr_cid, fmt=\"%s\")"
   ]
  },
  {
   "cell_type": "code",
   "execution_count": 13,
   "metadata": {},
   "outputs": [
    {
     "data": {
      "text/html": "<div>\n<style scoped>\n    .dataframe tbody tr th:only-of-type {\n        vertical-align: middle;\n    }\n\n    .dataframe tbody tr th {\n        vertical-align: top;\n    }\n\n    .dataframe thead th {\n        text-align: right;\n    }\n</style>\n<table border=\"1\" class=\"dataframe\">\n  <thead>\n    <tr style=\"text-align: right;\">\n      <th></th>\n      <th>index</th>\n      <th>cid</th>\n      <th>iupacname</th>\n      <th>label</th>\n      <th>file_names</th>\n    </tr>\n  </thead>\n  <tbody>\n    <tr>\n      <th>0</th>\n      <td>5401</td>\n      <td>57240352</td>\n      <td>3-(3-chlorocyclopentyl)propanoic acid</td>\n      <td>3|-|(|3|-|chloro|cyclo|pent|yl|)|prop|an|oic acid</td>\n      <td>57240352.png</td>\n    </tr>\n    <tr>\n      <th>1</th>\n      <td>5245</td>\n      <td>54334288</td>\n      <td>2-cyano-3-[4-(ethylamino)phenyl]prop-2-enoic acid</td>\n      <td>2|-|cyano|-|3|-|[|4|-|(|eth|yl|amino|)|phen|yl...</td>\n      <td>54334288.png</td>\n    </tr>\n    <tr>\n      <th>2</th>\n      <td>2295</td>\n      <td>12497509</td>\n      <td>2-propan-2-yloxysulfanyloxypropane</td>\n      <td>2|-|prop|an|-|2|-|yl|oxy|sulfan|yl|oxy|prop|ane</td>\n      <td>12497509.png</td>\n    </tr>\n    <tr>\n      <th>3</th>\n      <td>2908</td>\n      <td>12335</td>\n      <td>1-iodopentane</td>\n      <td>1|-|iodo|pent|ane</td>\n      <td>12335.png</td>\n    </tr>\n    <tr>\n      <th>4</th>\n      <td>7052</td>\n      <td>134883755</td>\n      <td>(2Z)-2-(1-phenylethoxyimino)acetic acid</td>\n      <td>(|2|Z)|-|2|-|(|1|-|phen|yl|eth|oxyimino|)|acet...</td>\n      <td>134883755.png</td>\n    </tr>\n  </tbody>\n</table>\n</div>",
      "text/plain": "   index        cid                                          iupacname  \\\n0   5401   57240352              3-(3-chlorocyclopentyl)propanoic acid   \n1   5245   54334288  2-cyano-3-[4-(ethylamino)phenyl]prop-2-enoic acid   \n2   2295   12497509                 2-propan-2-yloxysulfanyloxypropane   \n3   2908      12335                                      1-iodopentane   \n4   7052  134883755            (2Z)-2-(1-phenylethoxyimino)acetic acid   \n\n                                               label     file_names  \n0  3|-|(|3|-|chloro|cyclo|pent|yl|)|prop|an|oic acid   57240352.png  \n1  2|-|cyano|-|3|-|[|4|-|(|eth|yl|amino|)|phen|yl...   54334288.png  \n2    2|-|prop|an|-|2|-|yl|oxy|sulfan|yl|oxy|prop|ane   12497509.png  \n3                                  1|-|iodo|pent|ane      12335.png  \n4  (|2|Z)|-|2|-|(|1|-|phen|yl|eth|oxyimino|)|acet...  134883755.png  "
     },
     "execution_count": 13,
     "metadata": {},
     "output_type": "execute_result"
    }
   ],
   "source": [
    "pd.read_csv('dataframe/df_train.csv').head()"
   ]
  },
  {
   "cell_type": "markdown",
   "metadata": {},
   "source": [
    "# Make Tokenize Label\n"
   ]
  },
  {
   "cell_type": "code",
   "execution_count": 14,
   "metadata": {},
   "outputs": [],
   "source": [
    "import tensorflow as tf\n",
    "physical_devices = tf.config.list_physical_devices('GPU') \n",
    "tf.config.experimental.set_memory_growth(physical_devices[0], True)"
   ]
  },
  {
   "cell_type": "code",
   "execution_count": 15,
   "metadata": {},
   "outputs": [
    {
     "name": "stderr",
     "output_type": "stream",
     "text": [
      "100%|██████████| 5735/5735 [03:10<00:00, 30.07it/s]\n"
     ]
    }
   ],
   "source": [
    "from nami.AI.kme_tokenize import Tokenizer\n",
    "\n",
    "tokenizer = Tokenizer()\n",
    "tokenizer.fit_on_texts(train_df['iupacname'].values)"
   ]
  },
  {
   "cell_type": "markdown",
   "metadata": {},
   "source": [
    "## Save tokenizer state"
   ]
  },
  {
   "cell_type": "code",
   "execution_count": 16,
   "metadata": {},
   "outputs": [],
   "source": [
    "import json\n",
    "\n",
    "with open('../Image_Captioning/tokenizer/index2word.json', 'w') as f1:\n",
    "  json.dump(tokenizer.index2word, f1)\n",
    "\n",
    "with open('../Image_Captioning/tokenizer/longest_sentences.json', 'w') as f2:\n",
    "  json.dump(tokenizer.longest_sentences, f2)\n",
    "\n",
    "with open('../Image_Captioning/tokenizer/num_words.json', 'w') as f3:\n",
    "  json.dump(tokenizer.num_words, f3)\n",
    "\n",
    "with open('../Image_Captioning/tokenizer/word2count.json', 'w') as f4:\n",
    "  json.dump(tokenizer.word2count, f4)\n",
    "\n",
    "with open('../Image_Captioning/tokenizer/word2index.json', 'w') as f5:\n",
    "  json.dump(tokenizer.word2index, f5)"
   ]
  },
  {
   "cell_type": "code",
   "execution_count": 17,
   "metadata": {},
   "outputs": [
    {
     "name": "stderr",
     "output_type": "stream",
     "text": [
      "100%|██████████| 5735/5735 [03:09<00:00, 30.33it/s]\n",
      "100%|██████████| 1229/1229 [00:40<00:00, 30.47it/s]\n",
      "100%|██████████| 1229/1229 [00:40<00:00, 30.33it/s]\n"
     ]
    }
   ],
   "source": [
    "seq_train = tokenizer.text_to_sequences(train_df['iupacname'].values)\n",
    "seq_val = tokenizer.text_to_sequences(val_df['iupacname'].values)\n",
    "seq_test = tokenizer.text_to_sequences(test_df['iupacname'].values)"
   ]
  },
  {
   "cell_type": "code",
   "execution_count": 18,
   "metadata": {},
   "outputs": [
    {
     "data": {
      "text/plain": "(5735, 67)"
     },
     "execution_count": 18,
     "metadata": {},
     "output_type": "execute_result"
    }
   ],
   "source": [
    "seq_train.shape"
   ]
  },
  {
   "cell_type": "code",
   "execution_count": 19,
   "metadata": {},
   "outputs": [
    {
     "data": {
      "text/html": "<div>\n<style scoped>\n    .dataframe tbody tr th:only-of-type {\n        vertical-align: middle;\n    }\n\n    .dataframe tbody tr th {\n        vertical-align: top;\n    }\n\n    .dataframe thead th {\n        text-align: right;\n    }\n</style>\n<table border=\"1\" class=\"dataframe\">\n  <thead>\n    <tr style=\"text-align: right;\">\n      <th></th>\n      <th>label1</th>\n      <th>label2</th>\n      <th>label3</th>\n      <th>label4</th>\n      <th>label5</th>\n      <th>label6</th>\n      <th>label7</th>\n      <th>label8</th>\n      <th>label9</th>\n      <th>label10</th>\n      <th>...</th>\n      <th>label58</th>\n      <th>label59</th>\n      <th>label60</th>\n      <th>label61</th>\n      <th>label62</th>\n      <th>label63</th>\n      <th>label64</th>\n      <th>label65</th>\n      <th>label66</th>\n      <th>label67</th>\n    </tr>\n  </thead>\n  <tbody>\n    <tr>\n      <th>0</th>\n      <td>1</td>\n      <td>4</td>\n      <td>5</td>\n      <td>71</td>\n      <td>5</td>\n      <td>39</td>\n      <td>5</td>\n      <td>36</td>\n      <td>10</td>\n      <td>73</td>\n      <td>...</td>\n      <td>0</td>\n      <td>0</td>\n      <td>0</td>\n      <td>0</td>\n      <td>0</td>\n      <td>0</td>\n      <td>0</td>\n      <td>0</td>\n      <td>0</td>\n      <td>0</td>\n    </tr>\n    <tr>\n      <th>1</th>\n      <td>1</td>\n      <td>4</td>\n      <td>5</td>\n      <td>6</td>\n      <td>18</td>\n      <td>5</td>\n      <td>40</td>\n      <td>21</td>\n      <td>10</td>\n      <td>11</td>\n      <td>...</td>\n      <td>0</td>\n      <td>0</td>\n      <td>0</td>\n      <td>0</td>\n      <td>0</td>\n      <td>0</td>\n      <td>0</td>\n      <td>0</td>\n      <td>0</td>\n      <td>0</td>\n    </tr>\n    <tr>\n      <th>2</th>\n      <td>1</td>\n      <td>4</td>\n      <td>5</td>\n      <td>48</td>\n      <td>10</td>\n      <td>5</td>\n      <td>4</td>\n      <td>5</td>\n      <td>12</td>\n      <td>13</td>\n      <td>...</td>\n      <td>0</td>\n      <td>0</td>\n      <td>0</td>\n      <td>0</td>\n      <td>0</td>\n      <td>0</td>\n      <td>0</td>\n      <td>0</td>\n      <td>0</td>\n      <td>0</td>\n    </tr>\n    <tr>\n      <th>3</th>\n      <td>1</td>\n      <td>15</td>\n      <td>5</td>\n      <td>17</td>\n      <td>15</td>\n      <td>5</td>\n      <td>6</td>\n      <td>18</td>\n      <td>5</td>\n      <td>40</td>\n      <td>...</td>\n      <td>0</td>\n      <td>0</td>\n      <td>0</td>\n      <td>0</td>\n      <td>0</td>\n      <td>0</td>\n      <td>0</td>\n      <td>0</td>\n      <td>0</td>\n      <td>0</td>\n    </tr>\n    <tr>\n      <th>4</th>\n      <td>1</td>\n      <td>4</td>\n      <td>5</td>\n      <td>8</td>\n      <td>37</td>\n      <td>74</td>\n      <td>5</td>\n      <td>27</td>\n      <td>33</td>\n      <td>18</td>\n      <td>...</td>\n      <td>0</td>\n      <td>0</td>\n      <td>0</td>\n      <td>0</td>\n      <td>0</td>\n      <td>0</td>\n      <td>0</td>\n      <td>0</td>\n      <td>0</td>\n      <td>0</td>\n    </tr>\n  </tbody>\n</table>\n<p>5 rows × 67 columns</p>\n</div>",
      "text/plain": "   label1  label2  label3  label4  label5  label6  label7  label8  label9  \\\n0       1       4       5      71       5      39       5      36      10   \n1       1       4       5       6      18       5      40      21      10   \n2       1       4       5      48      10       5       4       5      12   \n3       1      15       5      17      15       5       6      18       5   \n4       1       4       5       8      37      74       5      27      33   \n\n   label10  ...  label58  label59  label60  label61  label62  label63  \\\n0       73  ...        0        0        0        0        0        0   \n1       11  ...        0        0        0        0        0        0   \n2       13  ...        0        0        0        0        0        0   \n3       40  ...        0        0        0        0        0        0   \n4       18  ...        0        0        0        0        0        0   \n\n   label64  label65  label66  label67  \n0        0        0        0        0  \n1        0        0        0        0  \n2        0        0        0        0  \n3        0        0        0        0  \n4        0        0        0        0  \n\n[5 rows x 67 columns]"
     },
     "execution_count": 19,
     "metadata": {},
     "output_type": "execute_result"
    }
   ],
   "source": [
    "new_col = [f'label{i}' for i in range(1, seq_train.shape[1]+1)]\n",
    "\n",
    "seq_train_df = pd.DataFrame(seq_train, columns=new_col)\n",
    "seq_val_df = pd.DataFrame(seq_val, columns=new_col)\n",
    "seq_test_df = pd.DataFrame(seq_test, columns=new_col)\n",
    "\n",
    "seq_val_df.head()"
   ]
  },
  {
   "cell_type": "code",
   "execution_count": 20,
   "metadata": {},
   "outputs": [],
   "source": [
    "train_df_concat = pd.concat([train_df.drop(['index', 'label'], axis=1), seq_train_df], axis=1)\n",
    "val_df_concat = pd.concat([val_df.drop(['index', 'label'], axis=1), seq_val_df], axis=1)\n",
    "test_df_concat = pd.concat([test_df.drop(['index', 'label'], axis=1), seq_test_df], axis=1)"
   ]
  },
  {
   "cell_type": "code",
   "execution_count": 21,
   "metadata": {},
   "outputs": [
    {
     "data": {
      "text/html": "<div>\n<style scoped>\n    .dataframe tbody tr th:only-of-type {\n        vertical-align: middle;\n    }\n\n    .dataframe tbody tr th {\n        vertical-align: top;\n    }\n\n    .dataframe thead th {\n        text-align: right;\n    }\n</style>\n<table border=\"1\" class=\"dataframe\">\n  <thead>\n    <tr style=\"text-align: right;\">\n      <th></th>\n      <th>cid</th>\n      <th>iupacname</th>\n      <th>file_names</th>\n      <th>label1</th>\n      <th>label2</th>\n      <th>label3</th>\n      <th>label4</th>\n      <th>label5</th>\n      <th>label6</th>\n      <th>label7</th>\n      <th>...</th>\n      <th>label58</th>\n      <th>label59</th>\n      <th>label60</th>\n      <th>label61</th>\n      <th>label62</th>\n      <th>label63</th>\n      <th>label64</th>\n      <th>label65</th>\n      <th>label66</th>\n      <th>label67</th>\n    </tr>\n  </thead>\n  <tbody>\n    <tr>\n      <th>0</th>\n      <td>142150505</td>\n      <td>3-fluoro-6-methylhepta-1,5-diene</td>\n      <td>142150505.png</td>\n      <td>1</td>\n      <td>4</td>\n      <td>5</td>\n      <td>71</td>\n      <td>5</td>\n      <td>39</td>\n      <td>5</td>\n      <td>...</td>\n      <td>0</td>\n      <td>0</td>\n      <td>0</td>\n      <td>0</td>\n      <td>0</td>\n      <td>0</td>\n      <td>0</td>\n      <td>0</td>\n      <td>0</td>\n      <td>0</td>\n    </tr>\n    <tr>\n      <th>1</th>\n      <td>135151766</td>\n      <td>3-(4-hydroxyphenyl)-2-iodo-2-[iodo(methyl)amin...</td>\n      <td>135151766.png</td>\n      <td>1</td>\n      <td>4</td>\n      <td>5</td>\n      <td>6</td>\n      <td>18</td>\n      <td>5</td>\n      <td>40</td>\n      <td>...</td>\n      <td>0</td>\n      <td>0</td>\n      <td>0</td>\n      <td>0</td>\n      <td>0</td>\n      <td>0</td>\n      <td>0</td>\n      <td>0</td>\n      <td>0</td>\n      <td>0</td>\n    </tr>\n    <tr>\n      <th>2</th>\n      <td>141954814</td>\n      <td>3-butyl-3-propan-2-yldioxirane</td>\n      <td>141954814.png</td>\n      <td>1</td>\n      <td>4</td>\n      <td>5</td>\n      <td>48</td>\n      <td>10</td>\n      <td>5</td>\n      <td>4</td>\n      <td>...</td>\n      <td>0</td>\n      <td>0</td>\n      <td>0</td>\n      <td>0</td>\n      <td>0</td>\n      <td>0</td>\n      <td>0</td>\n      <td>0</td>\n      <td>0</td>\n      <td>0</td>\n    </tr>\n    <tr>\n      <th>3</th>\n      <td>150902331</td>\n      <td>2-[2-(4-hydroxyphenyl)ethyl]-4-methylpentanoic...</td>\n      <td>150902331.png</td>\n      <td>1</td>\n      <td>15</td>\n      <td>5</td>\n      <td>17</td>\n      <td>15</td>\n      <td>5</td>\n      <td>6</td>\n      <td>...</td>\n      <td>0</td>\n      <td>0</td>\n      <td>0</td>\n      <td>0</td>\n      <td>0</td>\n      <td>0</td>\n      <td>0</td>\n      <td>0</td>\n      <td>0</td>\n      <td>0</td>\n    </tr>\n    <tr>\n      <th>4</th>\n      <td>54225191</td>\n      <td>3-cyclohexa-1,4-dien-1-yl-2-methoxyprop-2-enoi...</td>\n      <td>54225191.png</td>\n      <td>1</td>\n      <td>4</td>\n      <td>5</td>\n      <td>8</td>\n      <td>37</td>\n      <td>74</td>\n      <td>5</td>\n      <td>...</td>\n      <td>0</td>\n      <td>0</td>\n      <td>0</td>\n      <td>0</td>\n      <td>0</td>\n      <td>0</td>\n      <td>0</td>\n      <td>0</td>\n      <td>0</td>\n      <td>0</td>\n    </tr>\n  </tbody>\n</table>\n<p>5 rows × 70 columns</p>\n</div>",
      "text/plain": "         cid                                          iupacname  \\\n0  142150505                   3-fluoro-6-methylhepta-1,5-diene   \n1  135151766  3-(4-hydroxyphenyl)-2-iodo-2-[iodo(methyl)amin...   \n2  141954814                     3-butyl-3-propan-2-yldioxirane   \n3  150902331  2-[2-(4-hydroxyphenyl)ethyl]-4-methylpentanoic...   \n4   54225191  3-cyclohexa-1,4-dien-1-yl-2-methoxyprop-2-enoi...   \n\n      file_names  label1  label2  label3  label4  label5  label6  label7  ...  \\\n0  142150505.png       1       4       5      71       5      39       5  ...   \n1  135151766.png       1       4       5       6      18       5      40  ...   \n2  141954814.png       1       4       5      48      10       5       4  ...   \n3  150902331.png       1      15       5      17      15       5       6  ...   \n4   54225191.png       1       4       5       8      37      74       5  ...   \n\n   label58  label59  label60  label61  label62  label63  label64  label65  \\\n0        0        0        0        0        0        0        0        0   \n1        0        0        0        0        0        0        0        0   \n2        0        0        0        0        0        0        0        0   \n3        0        0        0        0        0        0        0        0   \n4        0        0        0        0        0        0        0        0   \n\n   label66  label67  \n0        0        0  \n1        0        0  \n2        0        0  \n3        0        0  \n4        0        0  \n\n[5 rows x 70 columns]"
     },
     "execution_count": 21,
     "metadata": {},
     "output_type": "execute_result"
    }
   ],
   "source": [
    "val_df_concat.head()"
   ]
  },
  {
   "cell_type": "code",
   "execution_count": 22,
   "metadata": {},
   "outputs": [
    {
     "data": {
      "text/html": "<div>\n<style scoped>\n    .dataframe tbody tr th:only-of-type {\n        vertical-align: middle;\n    }\n\n    .dataframe tbody tr th {\n        vertical-align: top;\n    }\n\n    .dataframe thead th {\n        text-align: right;\n    }\n</style>\n<table border=\"1\" class=\"dataframe\">\n  <thead>\n    <tr style=\"text-align: right;\">\n      <th></th>\n      <th>cid</th>\n      <th>iupacname</th>\n      <th>file_names</th>\n      <th>label1</th>\n      <th>label2</th>\n      <th>label3</th>\n      <th>label4</th>\n      <th>label5</th>\n      <th>label6</th>\n      <th>label7</th>\n      <th>...</th>\n      <th>label58</th>\n      <th>label59</th>\n      <th>label60</th>\n      <th>label61</th>\n      <th>label62</th>\n      <th>label63</th>\n      <th>label64</th>\n      <th>label65</th>\n      <th>label66</th>\n      <th>label67</th>\n    </tr>\n  </thead>\n  <tbody>\n    <tr>\n      <th>0</th>\n      <td>140977828</td>\n      <td>2-(4-hydroxyphenyl)-N-(methoxymethyl)acetamide</td>\n      <td>140977828.png</td>\n      <td>1</td>\n      <td>15</td>\n      <td>5</td>\n      <td>6</td>\n      <td>18</td>\n      <td>5</td>\n      <td>40</td>\n      <td>...</td>\n      <td>0</td>\n      <td>0</td>\n      <td>0</td>\n      <td>0</td>\n      <td>0</td>\n      <td>0</td>\n      <td>0</td>\n      <td>0</td>\n      <td>0</td>\n      <td>0</td>\n    </tr>\n    <tr>\n      <th>1</th>\n      <td>121370299</td>\n      <td>[2-bicyclo[2.2.1]heptanyl(chloro)methyl] hydro...</td>\n      <td>121370299.png</td>\n      <td>1</td>\n      <td>17</td>\n      <td>15</td>\n      <td>5</td>\n      <td>159</td>\n      <td>17</td>\n      <td>160</td>\n      <td>...</td>\n      <td>0</td>\n      <td>0</td>\n      <td>0</td>\n      <td>0</td>\n      <td>0</td>\n      <td>0</td>\n      <td>0</td>\n      <td>0</td>\n      <td>0</td>\n      <td>0</td>\n    </tr>\n    <tr>\n      <th>2</th>\n      <td>12992914</td>\n      <td>(1S,2R)-2-cyclohexylcyclopropane-1-carboxylic ...</td>\n      <td>12992914.png</td>\n      <td>1</td>\n      <td>6</td>\n      <td>27</td>\n      <td>49</td>\n      <td>33</td>\n      <td>119</td>\n      <td>11</td>\n      <td>...</td>\n      <td>0</td>\n      <td>0</td>\n      <td>0</td>\n      <td>0</td>\n      <td>0</td>\n      <td>0</td>\n      <td>0</td>\n      <td>0</td>\n      <td>0</td>\n      <td>0</td>\n    </tr>\n    <tr>\n      <th>3</th>\n      <td>140975190</td>\n      <td>2-(4,4-dichloro-2-methylcyclohexa-1,5-dien-1-y...</td>\n      <td>140975190.png</td>\n      <td>1</td>\n      <td>15</td>\n      <td>5</td>\n      <td>6</td>\n      <td>18</td>\n      <td>33</td>\n      <td>18</td>\n      <td>...</td>\n      <td>0</td>\n      <td>0</td>\n      <td>0</td>\n      <td>0</td>\n      <td>0</td>\n      <td>0</td>\n      <td>0</td>\n      <td>0</td>\n      <td>0</td>\n      <td>0</td>\n    </tr>\n    <tr>\n      <th>4</th>\n      <td>92171143</td>\n      <td>(4R)-4-methylhex-1-ene</td>\n      <td>92171143.png</td>\n      <td>1</td>\n      <td>6</td>\n      <td>18</td>\n      <td>57</td>\n      <td>5</td>\n      <td>18</td>\n      <td>5</td>\n      <td>...</td>\n      <td>0</td>\n      <td>0</td>\n      <td>0</td>\n      <td>0</td>\n      <td>0</td>\n      <td>0</td>\n      <td>0</td>\n      <td>0</td>\n      <td>0</td>\n      <td>0</td>\n    </tr>\n  </tbody>\n</table>\n<p>5 rows × 70 columns</p>\n</div>",
      "text/plain": "         cid                                          iupacname  \\\n0  140977828     2-(4-hydroxyphenyl)-N-(methoxymethyl)acetamide   \n1  121370299  [2-bicyclo[2.2.1]heptanyl(chloro)methyl] hydro...   \n2   12992914  (1S,2R)-2-cyclohexylcyclopropane-1-carboxylic ...   \n3  140975190  2-(4,4-dichloro-2-methylcyclohexa-1,5-dien-1-y...   \n4   92171143                             (4R)-4-methylhex-1-ene   \n\n      file_names  label1  label2  label3  label4  label5  label6  label7  ...  \\\n0  140977828.png       1      15       5       6      18       5      40  ...   \n1  121370299.png       1      17      15       5     159      17     160  ...   \n2   12992914.png       1       6      27      49      33     119      11  ...   \n3  140975190.png       1      15       5       6      18      33      18  ...   \n4   92171143.png       1       6      18      57       5      18       5  ...   \n\n   label58  label59  label60  label61  label62  label63  label64  label65  \\\n0        0        0        0        0        0        0        0        0   \n1        0        0        0        0        0        0        0        0   \n2        0        0        0        0        0        0        0        0   \n3        0        0        0        0        0        0        0        0   \n4        0        0        0        0        0        0        0        0   \n\n   label66  label67  \n0        0        0  \n1        0        0  \n2        0        0  \n3        0        0  \n4        0        0  \n\n[5 rows x 70 columns]"
     },
     "execution_count": 22,
     "metadata": {},
     "output_type": "execute_result"
    }
   ],
   "source": [
    "test_df_concat.head()"
   ]
  },
  {
   "cell_type": "code",
   "execution_count": 23,
   "metadata": {},
   "outputs": [],
   "source": [
    "train_df_concat.to_csv('dataframe/df_train_label.csv', index=False)\n",
    "val_df_concat.to_csv('dataframe/df_val_label.csv', index=False)\n",
    "test_df_concat.to_csv('dataframe/df_test_label.csv', index=False)"
   ]
  }
 ],
 "metadata": {
  "kernelspec": {
   "display_name": "Python 3",
   "language": "python",
   "name": "python3"
  },
  "language_info": {
   "codemirror_mode": {
    "name": "ipython",
    "version": 3
   },
   "file_extension": ".py",
   "mimetype": "text/x-python",
   "name": "python",
   "nbconvert_exporter": "python",
   "pygments_lexer": "ipython3",
   "version": "3.8.5"
  },
  "orig_nbformat": 2
 },
 "nbformat": 4,
 "nbformat_minor": 2
}