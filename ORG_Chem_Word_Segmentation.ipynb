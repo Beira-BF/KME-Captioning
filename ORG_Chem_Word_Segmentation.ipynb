{
  "nbformat": 4,
  "nbformat_minor": 0,
  "metadata": {
    "colab": {
      "name": "ORG_Chem_Word_Segmentation.ipynb",
      "provenance": [],
      "collapsed_sections": []
    },
    "kernelspec": {
      "name": "python3",
      "display_name": "Python 3"
    }
  },
  "cells": [
    {
      "cell_type": "code",
      "metadata": {
        "id": "WOlG2SQfrlOw",
        "colab_type": "code",
        "colab": {}
      },
      "source": [
        "import numpy as np"
      ],
      "execution_count": 129,
      "outputs": []
    },
    {
      "cell_type": "code",
      "metadata": {
        "id": "Yq7h6WJTs89M",
        "colab_type": "code",
        "colab": {}
      },
      "source": [
        "import json\n",
        "with open('vocab.json', 'r') as f:\n",
        "  CHAR_INDICES = json.load(f)"
      ],
      "execution_count": 130,
      "outputs": []
    },
    {
      "cell_type": "code",
      "metadata": {
        "id": "iKdOILCutjVM",
        "colab_type": "code",
        "colab": {
          "base_uri": "https://localhost:8080/",
          "height": 54
        },
        "outputId": "5f419e0b-2845-4baa-ff15-393f49bbca96"
      },
      "source": [
        "print(CHAR_INDICES)"
      ],
      "execution_count": 131,
      "outputs": [
        {
          "output_type": "stream",
          "text": [
            "{' ': 0, ',': 1, '-': 2, '0': 3, '1': 4, '2': 5, '3': 6, '4': 7, '5': 8, '6': 9, '7': 10, '8': 11, '9': 12, 'A': 13, 'B': 14, 'C': 15, 'D': 16, 'E': 17, 'F': 18, 'G': 19, 'H': 20, 'I': 21, 'J': 22, 'K': 23, 'L': 24, 'M': 25, 'N': 26, 'O': 27, 'P': 28, 'Q': 29, 'R': 30, 'S': 31, 'T': 32, 'U': 33, 'V': 34, 'W': 35, 'X': 36, 'Y': 37, 'Z': 38, 'a': 39, 'b': 40, 'c': 41, 'd': 42, 'e': 43, 'f': 44, 'g': 45, 'h': 46, 'i': 47, 'j': 48, 'k': 49, 'l': 50, 'm': 51, 'n': 52, 'o': 53, 'p': 54, 'q': 55, 'r': 56, 's': 57, 't': 58, 'u': 59, 'v': 60, 'w': 61, 'x': 62, 'y': 63, 'z': 64, '<pad>': 65, '<unk>': 66}\n"
          ],
          "name": "stdout"
        }
      ]
    },
    {
      "cell_type": "code",
      "metadata": {
        "id": "kon6PxNGZ2X-",
        "colab_type": "code",
        "colab": {}
      },
      "source": [
        ""
      ],
      "execution_count": 132,
      "outputs": []
    },
    {
      "cell_type": "code",
      "metadata": {
        "id": "wYP03g3TrMXb",
        "colab_type": "code",
        "colab": {}
      },
      "source": [
        "def create_dataset(text, look_back=10):\n",
        "  X, y = [], []\n",
        "  text = '|' + text\n",
        "  data = [CHAR_INDICES['<pad>']] * look_back\n",
        "  for i in range(1, len(text)):\n",
        "    current_char = text[i]\n",
        "    before_char = text[i-1]\n",
        "\n",
        "    if current_char == '|':\n",
        "      continue\n",
        "    data = data[1:] + [CHAR_INDICES[current_char]]  # X data\n",
        "\n",
        "    target = 1 if before_char == '|' else 0  # y data\n",
        "    X.append(data)\n",
        "    y.append(target)\n",
        "  y[-1] = 1  # end text is '|'\n",
        "  return X, y"
      ],
      "execution_count": 133,
      "outputs": []
    },
    {
      "cell_type": "code",
      "metadata": {
        "id": "MeUsgKd8rXf1",
        "colab_type": "code",
        "colab": {
          "base_uri": "https://localhost:8080/",
          "height": 154
        },
        "outputId": "00da66f0-9d94-4006-a33b-7502c56a2ba1"
      },
      "source": [
        "X, y = create_dataset(str1_cut)\n",
        "print('X', len(X))\n",
        "print(X)\n",
        "print(np.array(X).shape)\n",
        "print('-'*10)\n",
        "print('y', len(y))\n",
        "print(y)\n",
        "print(np.array(y).shape)"
      ],
      "execution_count": 134,
      "outputs": [
        {
          "output_type": "stream",
          "text": [
            "X 77\n",
            "[[65, 65, 65, 65, 65, 65, 65, 65, 65, 40], [65, 65, 65, 65, 65, 65, 65, 65, 40, 43], [65, 65, 65, 65, 65, 65, 65, 40, 43, 52], [65, 65, 65, 65, 65, 65, 40, 43, 52, 64], [65, 65, 65, 65, 65, 40, 43, 52, 64, 63], [65, 65, 65, 65, 40, 43, 52, 64, 63, 50], [65, 65, 65, 40, 43, 52, 64, 63, 50, 2], [65, 65, 40, 43, 52, 64, 63, 50, 2, 26], [65, 40, 43, 52, 64, 63, 50, 2, 26, 1], [40, 43, 52, 64, 63, 50, 2, 26, 1, 5], [43, 52, 64, 63, 50, 2, 26, 1, 5, 2], [52, 64, 63, 50, 2, 26, 1, 5, 2, 42], [64, 63, 50, 2, 26, 1, 5, 2, 42, 47], [63, 50, 2, 26, 1, 5, 2, 42, 47, 51], [50, 2, 26, 1, 5, 2, 42, 47, 51, 43], [2, 26, 1, 5, 2, 42, 47, 51, 43, 58], [26, 1, 5, 2, 42, 47, 51, 43, 58, 46], [1, 5, 2, 42, 47, 51, 43, 58, 46, 63], [5, 2, 42, 47, 51, 43, 58, 46, 63, 50], [2, 42, 47, 51, 43, 58, 46, 63, 50, 54], [42, 47, 51, 43, 58, 46, 63, 50, 54, 43], [47, 51, 43, 58, 46, 63, 50, 54, 43, 52], [51, 43, 58, 46, 63, 50, 54, 43, 52, 58], [43, 58, 46, 63, 50, 54, 43, 52, 58, 39], [58, 46, 63, 50, 54, 43, 52, 58, 39, 52], [46, 63, 50, 54, 43, 52, 58, 39, 52, 2], [63, 50, 54, 43, 52, 58, 39, 52, 2, 6], [50, 54, 43, 52, 58, 39, 52, 2, 6, 2], [54, 43, 52, 58, 39, 52, 2, 6, 2, 39], [43, 52, 58, 39, 52, 2, 6, 2, 39, 51], [52, 58, 39, 52, 2, 6, 2, 39, 51, 47], [58, 39, 52, 2, 6, 2, 39, 51, 47, 52], [39, 52, 2, 6, 2, 39, 51, 47, 52, 53], [52, 2, 6, 2, 39, 51, 47, 52, 53, 39], [2, 6, 2, 39, 51, 47, 52, 53, 39, 58], [6, 2, 39, 51, 47, 52, 53, 39, 58, 43], [2, 39, 51, 47, 52, 53, 39, 58, 43, 0], [39, 51, 47, 52, 53, 39, 58, 43, 0, 6], [51, 47, 52, 53, 39, 58, 43, 0, 6, 1], [47, 52, 53, 39, 58, 43, 0, 6, 1, 7], [52, 53, 39, 58, 43, 0, 6, 1, 7, 1], [53, 39, 58, 43, 0, 6, 1, 7, 1, 7], [39, 58, 43, 0, 6, 1, 7, 1, 7, 1], [58, 43, 0, 6, 1, 7, 1, 7, 1, 8], [43, 0, 6, 1, 7, 1, 7, 1, 8, 2], [0, 6, 1, 7, 1, 7, 1, 8, 2, 58], [6, 1, 7, 1, 7, 1, 8, 2, 58, 43], [1, 7, 1, 7, 1, 8, 2, 58, 43, 58], [7, 1, 7, 1, 8, 2, 58, 43, 58, 56], [1, 7, 1, 8, 2, 58, 43, 58, 56, 39], [7, 1, 8, 2, 58, 43, 58, 56, 39, 51], [1, 8, 2, 58, 43, 58, 56, 39, 51, 43], [8, 2, 58, 43, 58, 56, 39, 51, 43, 58], [2, 58, 43, 58, 56, 39, 51, 43, 58, 46], [58, 43, 58, 56, 39, 51, 43, 58, 46, 63], [43, 58, 56, 39, 51, 43, 58, 46, 63, 50], [58, 56, 39, 51, 43, 58, 46, 63, 50, 41], [56, 39, 51, 43, 58, 46, 63, 50, 41, 63], [39, 51, 43, 58, 46, 63, 50, 41, 63, 41], [51, 43, 58, 46, 63, 50, 41, 63, 41, 50], [43, 58, 46, 63, 50, 41, 63, 41, 50, 53], [58, 46, 63, 50, 41, 63, 41, 50, 53, 46], [46, 63, 50, 41, 63, 41, 50, 53, 46, 43], [63, 50, 41, 63, 41, 50, 53, 46, 43, 62], [50, 41, 63, 41, 50, 53, 46, 43, 62, 39], [41, 63, 41, 50, 53, 46, 43, 62, 39, 2], [63, 41, 50, 53, 46, 43, 62, 39, 2, 5], [41, 50, 53, 46, 43, 62, 39, 2, 5, 1], [50, 53, 46, 43, 62, 39, 2, 5, 1, 8], [53, 46, 43, 62, 39, 2, 5, 1, 8, 2], [46, 43, 62, 39, 2, 5, 1, 8, 2, 42], [43, 62, 39, 2, 5, 1, 8, 2, 42, 47], [62, 39, 2, 5, 1, 8, 2, 42, 47, 43], [39, 2, 5, 1, 8, 2, 42, 47, 43, 52], [2, 5, 1, 8, 2, 42, 47, 43, 52, 53], [5, 1, 8, 2, 42, 47, 43, 52, 53, 52], [1, 8, 2, 42, 47, 43, 52, 53, 52, 43]]\n",
            "(77, 10)\n",
            "----------\n",
            "y 77\n",
            "[1, 0, 0, 0, 1, 0, 1, 1, 1, 1, 1, 1, 0, 1, 0, 0, 0, 1, 0, 1, 0, 0, 0, 1, 0, 1, 1, 1, 1, 0, 0, 0, 1, 0, 0, 0, 1, 1, 1, 1, 1, 1, 1, 1, 1, 1, 0, 0, 0, 0, 1, 0, 0, 0, 1, 0, 1, 0, 0, 0, 0, 1, 0, 0, 0, 1, 1, 1, 1, 1, 1, 0, 1, 0, 1, 0, 1]\n",
            "(77,)\n"
          ],
          "name": "stdout"
        }
      ]
    },
    {
      "cell_type": "code",
      "metadata": {
        "id": "98YuegoQyZvQ",
        "colab_type": "code",
        "colab": {}
      },
      "source": [
        "def word_tokenize(text):\n",
        "    class_ = y\n",
        "    #for i, value in enumerate(class_):\n",
        "      #print(i,value)\n",
        "      #if value == 1:\n",
        "        #print(i)\n",
        "    cut_indexs = [i for i, value in enumerate(class_) if value == 1]\n",
        "    #print(cut_indexs)\n",
        "    #print(\"-\"*15)\n",
        "    #for i in range(len(cut_indexs)-1):\n",
        "      #print(i, text[cut_indexs[i]], text[cut_indexs[i+1]])\n",
        "      #print(text[cut_indexs[i]:cut_indexs[i+1]])\n",
        "    words = [text[cut_indexs[i]:cut_indexs[i+1]] for i in range(len(cut_indexs)-1)]\n",
        "    return words"
      ],
      "execution_count": 138,
      "outputs": []
    },
    {
      "cell_type": "code",
      "metadata": {
        "id": "zHyGGAJyz7FM",
        "colab_type": "code",
        "colab": {
          "base_uri": "https://localhost:8080/",
          "height": 54
        },
        "outputId": "1b7ff118-9cdf-4b43-acff-e52deff3fede"
      },
      "source": [
        "print(word_tokenize(str1))"
      ],
      "execution_count": 139,
      "outputs": [
        {
          "output_type": "stream",
          "text": [
            "['benz', 'yl', '-', 'N', ',', '2', '-', 'di', 'meth', 'yl', 'pent', 'an', '-', '3', '-', 'amin', 'oate', ' ', '3', ',', '4', ',', '4', ',', '5', '-', 'tetra', 'meth', 'yl', 'cyclo', 'hexa', '-', '2', ',', '5', '-', 'di', 'en', 'on']\n"
          ],
          "name": "stdout"
        }
      ]
    }
  ]
}